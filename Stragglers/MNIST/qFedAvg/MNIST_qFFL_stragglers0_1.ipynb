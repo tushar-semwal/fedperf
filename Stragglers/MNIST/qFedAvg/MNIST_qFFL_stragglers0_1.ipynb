{
  "nbformat": 4,
  "nbformat_minor": 0,
  "metadata": {
    "accelerator": "GPU",
    "colab": {
      "name": "MNIST_qFFL_stragglers0_1.ipynb",
      "provenance": [],
      "collapsed_sections": [],
      "machine_shape": "hm"
    },
    "kernelspec": {
      "display_name": "Python 3",
      "name": "python3"
    }
  },
  "cells": [
    {
      "cell_type": "code",
      "metadata": {
        "id": "0iaf_Ccaq_4Y"
      },
      "source": [
        "#!pip install torchvision==0.8.0"
      ],
      "execution_count": 1,
      "outputs": []
    },
    {
      "cell_type": "code",
      "metadata": {
        "id": "AD8zc_5Lpdcu",
        "colab": {
          "base_uri": "https://localhost:8080/"
        },
        "outputId": "0e2d6bf9-f0d5-4e5e-c35c-89fd265bc20f"
      },
      "source": [
        "from google.colab import drive\n",
        "drive.mount('/gdrive')\n",
        "%cd /gdrive"
      ],
      "execution_count": 2,
      "outputs": [
        {
          "output_type": "stream",
          "text": [
            "Drive already mounted at /gdrive; to attempt to forcibly remount, call drive.mount(\"/gdrive\", force_remount=True).\n",
            "/gdrive\n"
          ],
          "name": "stdout"
        }
      ]
    },
    {
      "cell_type": "code",
      "metadata": {
        "id": "DLLNM9X2JbQ8",
        "colab": {
          "base_uri": "https://localhost:8080/"
        },
        "outputId": "4337b9cf-3df1-45d3-8c88-cdc96a6d8998"
      },
      "source": [
        "%load_ext tensorboard\n",
        "import os\n",
        "import numpy as np\n",
        "import matplotlib\n",
        "import matplotlib.pyplot as plt\n",
        "import copy\n",
        "import random\n",
        "import time\n",
        "\n",
        "import torch\n",
        "import torch.nn as nn\n",
        "import torch.nn.functional as F\n",
        "\n",
        "from torch.utils.data import Dataset, DataLoader\n",
        "from torch.utils.tensorboard import SummaryWriter\n",
        "from torchvision import transforms, utils, datasets\n",
        "from torchsummary import summary\n",
        "from sklearn.metrics import f1_score\n",
        "\n",
        "\n",
        "\n",
        "# Check assigned GPU\n",
        "gpu_info = !nvidia-smi\n",
        "gpu_info = '\\n'.join(gpu_info)\n",
        "if gpu_info.find('failed') >= 0:\n",
        "  print('Select the Runtime > \"Change runtime type\" menu to enable a GPU accelerator, ')\n",
        "  print('and then re-execute this cell.')\n",
        "else:\n",
        "  print(gpu_info)\n",
        "\n",
        "# set manual seed for reproducibility\n",
        "seed = 42\n",
        "\n",
        "# general reproducibility\n",
        "random.seed(seed)\n",
        "np.random.seed(seed)\n",
        "torch.manual_seed(seed)\n",
        "\n",
        "# gpu training specific\n",
        "torch.backends.cudnn.deterministic = True\n",
        "torch.backends.cudnn.benchmark = False"
      ],
      "execution_count": 25,
      "outputs": [
        {
          "output_type": "stream",
          "text": [
            "The tensorboard extension is already loaded. To reload it, use:\n",
            "  %reload_ext tensorboard\n",
            "Tue Apr 20 05:53:44 2021       \n",
            "+-----------------------------------------------------------------------------+\n",
            "| NVIDIA-SMI 460.67       Driver Version: 460.32.03    CUDA Version: 11.2     |\n",
            "|-------------------------------+----------------------+----------------------+\n",
            "| GPU  Name        Persistence-M| Bus-Id        Disp.A | Volatile Uncorr. ECC |\n",
            "| Fan  Temp  Perf  Pwr:Usage/Cap|         Memory-Usage | GPU-Util  Compute M. |\n",
            "|                               |                      |               MIG M. |\n",
            "|===============================+======================+======================|\n",
            "|   0  Tesla T4            Off  | 00000000:00:04.0 Off |                    0 |\n",
            "| N/A   46C    P0    27W /  70W |   1088MiB / 15109MiB |      0%      Default |\n",
            "|                               |                      |                  N/A |\n",
            "+-------------------------------+----------------------+----------------------+\n",
            "                                                                               \n",
            "+-----------------------------------------------------------------------------+\n",
            "| Processes:                                                                  |\n",
            "|  GPU   GI   CI        PID   Type   Process name                  GPU Memory |\n",
            "|        ID   ID                                                   Usage      |\n",
            "|=============================================================================|\n",
            "+-----------------------------------------------------------------------------+\n"
          ],
          "name": "stdout"
        }
      ]
    },
    {
      "cell_type": "markdown",
      "metadata": {
        "id": "NY4eWzGiL6Mj"
      },
      "source": [
        "## Load the MNIST Dataset"
      ]
    },
    {
      "cell_type": "code",
      "metadata": {
        "id": "tiaxWFmTGVBq",
        "colab": {
          "base_uri": "https://localhost:8080/",
          "height": 54
        },
        "outputId": "e600230f-fabe-4042-d171-c17f9ac2ee04"
      },
      "source": [
        "'''\n",
        "from six.moves import urllib\n",
        "opener = urllib.request.build_opener()\n",
        "opener.addheaders = [('User-agent', 'Mozilla/5.0')]\n",
        "urllib.request.install_opener(opener)\n",
        "'''"
      ],
      "execution_count": 4,
      "outputs": [
        {
          "output_type": "execute_result",
          "data": {
            "application/vnd.google.colaboratory.intrinsic+json": {
              "type": "string"
            },
            "text/plain": [
              "\"\\nfrom six.moves import urllib\\nopener = urllib.request.build_opener()\\nopener.addheaders = [('User-agent', 'Mozilla/5.0')]\\nurllib.request.install_opener(opener)\\n\""
            ]
          },
          "metadata": {
            "tags": []
          },
          "execution_count": 4
        }
      ]
    },
    {
      "cell_type": "code",
      "metadata": {
        "id": "G649tjTXLL8F",
        "colab": {
          "base_uri": "https://localhost:8080/",
          "height": 90
        },
        "outputId": "9e4500a0-56cd-4a30-8c33-6e563541223d"
      },
      "source": [
        "'''\n",
        "# create transforms\n",
        "# We will just convert to tensor and normalize since no special transforms are mentioned in the paper\n",
        "transforms_mnist = transforms.Compose([\n",
        "                                       transforms.ToTensor(),\n",
        "                                       transforms.Normalize((0.1307,), (0.3081,))\n",
        "                                       ])\n",
        "\n",
        "mnist_data_train = datasets.MNIST('../data/mnist/', train=True, download=True, transform=transforms_mnist)\n",
        "mnist_data_test = datasets.MNIST('../data/mnist/', train=False, download=True, transform=transforms_mnist)\n",
        "'''"
      ],
      "execution_count": 5,
      "outputs": [
        {
          "output_type": "execute_result",
          "data": {
            "application/vnd.google.colaboratory.intrinsic+json": {
              "type": "string"
            },
            "text/plain": [
              "\"\\n# create transforms\\n# We will just convert to tensor and normalize since no special transforms are mentioned in the paper\\ntransforms_mnist = transforms.Compose([\\n                                       transforms.ToTensor(),\\n                                       transforms.Normalize((0.1307,), (0.3081,))\\n                                       ])\\n\\nmnist_data_train = datasets.MNIST('../data/mnist/', train=True, download=True, transform=transforms_mnist)\\nmnist_data_test = datasets.MNIST('../data/mnist/', train=False, download=True, transform=transforms_mnist)\\n\""
            ]
          },
          "metadata": {
            "tags": []
          },
          "execution_count": 5
        }
      ]
    },
    {
      "cell_type": "code",
      "metadata": {
        "id": "HVgZ5TetqEEP",
        "colab": {
          "base_uri": "https://localhost:8080/"
        },
        "outputId": "366acf15-aa74-4f64-c17c-93cdadbd74e4"
      },
      "source": [
        "!wget www.di.ens.fr/~lelarge/MNIST.tar.gz\n",
        "!tar -zxvf MNIST.tar.gz\n",
        "\n",
        "from torchvision.datasets import MNIST\n",
        "\n",
        "transforms_mnist = transforms.Compose([\n",
        "                                       transforms.ToTensor(),\n",
        "                                       transforms.Normalize((0.1307,), (0.3081,))\n",
        "                                       ])\n",
        "\n",
        "mnist_data_train = MNIST(root = '../data/mnist/', train=True, download=True, transform=transforms_mnist)\n",
        "mnist_data_test = MNIST(root = '../data/mnist/', train=False, download=True, transform=transforms_mnist)"
      ],
      "execution_count": 6,
      "outputs": [
        {
          "output_type": "stream",
          "text": [
            "--2021-04-20 05:51:10--  http://www.di.ens.fr/~lelarge/MNIST.tar.gz\n",
            "Resolving www.di.ens.fr (www.di.ens.fr)... 129.199.99.14\n",
            "Connecting to www.di.ens.fr (www.di.ens.fr)|129.199.99.14|:80... connected.\n",
            "HTTP request sent, awaiting response... 302 Found\n",
            "Location: https://www.di.ens.fr/~lelarge/MNIST.tar.gz [following]\n",
            "--2021-04-20 05:51:11--  https://www.di.ens.fr/~lelarge/MNIST.tar.gz\n",
            "Connecting to www.di.ens.fr (www.di.ens.fr)|129.199.99.14|:443... connected.\n",
            "HTTP request sent, awaiting response... 200 OK\n",
            "Length: unspecified [application/x-gzip]\n",
            "MNIST.tar.gz: Operation not supported\n",
            "\n",
            "Cannot write to ‘MNIST.tar.gz’ (Success).\n",
            "tar (child): MNIST.tar.gz: Cannot open: No such file or directory\n",
            "tar (child): Error is not recoverable: exiting now\n",
            "tar: Child returned status 2\n",
            "tar: Error is not recoverable: exiting now\n"
          ],
          "name": "stdout"
        }
      ]
    },
    {
      "cell_type": "code",
      "metadata": {
        "id": "dm9usjn2vFkL",
        "colab": {
          "base_uri": "https://localhost:8080/"
        },
        "outputId": "531de29d-e4fd-4ed1-c720-29771c06d192"
      },
      "source": [
        "classes = np.array(list(mnist_data_train.class_to_idx.values()))\n",
        "classes_test = np.array(list(mnist_data_test.class_to_idx.values()))\n",
        "num_classes = len(classes_test)\n",
        "print(\"Classes: {} \\tType: {}\".format(classes, type(classes)))\n",
        "print(\"Classes Test: {} \\tType: {}\".format(classes_test, type(classes)))\n"
      ],
      "execution_count": 7,
      "outputs": [
        {
          "output_type": "stream",
          "text": [
            "Classes: [0 1 2 3 4 5 6 7 8 9] \tType: <class 'numpy.ndarray'>\n",
            "Classes Test: [0 1 2 3 4 5 6 7 8 9] \tType: <class 'numpy.ndarray'>\n"
          ],
          "name": "stdout"
        }
      ]
    },
    {
      "cell_type": "code",
      "metadata": {
        "id": "9lvJt3Ofv2SO",
        "colab": {
          "base_uri": "https://localhost:8080/"
        },
        "outputId": "681fd176-f861-4537-f7e6-35b771f661b7"
      },
      "source": [
        "print(\"Image Shape: {}\".format(mnist_data_train.data[0].size()))"
      ],
      "execution_count": 8,
      "outputs": [
        {
          "output_type": "stream",
          "text": [
            "Image Shape: torch.Size([28, 28])\n"
          ],
          "name": "stdout"
        }
      ]
    },
    {
      "cell_type": "markdown",
      "metadata": {
        "id": "jCOONkg-zV7Y"
      },
      "source": [
        "## Visualize Data"
      ]
    },
    {
      "cell_type": "code",
      "metadata": {
        "id": "R9MK03TZw6Qs"
      },
      "source": [
        "def imshow(img):\n",
        "\timg = img/2 + 0.5 #unnormalize the image\n",
        "\tplt.imshow(img, cmap='gray') # convert from tensor to image"
      ],
      "execution_count": 9,
      "outputs": []
    },
    {
      "cell_type": "code",
      "metadata": {
        "id": "gMJ0Kx4Kw-_H"
      },
      "source": [
        "def visualize(dataset):\n",
        "  figure = plt.figure(figsize=(25,4))\n",
        "  for i in range(20):\n",
        "    axis = figure.add_subplot(2, 20/2, i+1, xticks=[], yticks=[])\n",
        "    data = dataset.data[i]\n",
        "    data = data.numpy()\n",
        "\n",
        "    target = dataset.targets[i]\n",
        "    target = target.numpy()\n",
        "    imshow(data)\n",
        "    axis.set_title(target)\n"
      ],
      "execution_count": 10,
      "outputs": []
    },
    {
      "cell_type": "code",
      "metadata": {
        "id": "8bPOwKg10Ro7",
        "colab": {
          "base_uri": "https://localhost:8080/",
          "height": 219
        },
        "outputId": "1e4abfca-509d-447a-fc9b-ac153d0cb7c7"
      },
      "source": [
        "visualize(mnist_data_train)"
      ],
      "execution_count": 11,
      "outputs": [
        {
          "output_type": "display_data",
          "data": {
            "image/png": "[encoded data removed]",
            "text/plain": [
              "<Figure size 1800x288 with 20 Axes>"
            ]
          },
          "metadata": {
            "tags": []
          }
        }
      ]
    },
    {
      "cell_type": "code",
      "metadata": {
        "id": "RKoh5Cf70UYu",
        "colab": {
          "base_uri": "https://localhost:8080/",
          "height": 219
        },
        "outputId": "dc3d7e70-2b67-493a-cec3-f864a2378ef6"
      },
      "source": [
        "visualize(mnist_data_test)"
      ],
      "execution_count": 12,
      "outputs": [
        {
          "output_type": "display_data",
          "data": {
            "image/png": "[encoded data removed]",
            "text/plain": [
              "<Figure size 1800x288 with 20 Axes>"
            ]
          },
          "metadata": {
            "tags": []
          }
        }
      ]
    },
    {
      "cell_type": "markdown",
      "metadata": {
        "id": "ctjRsETiO1qO"
      },
      "source": [
        "## Partitioning the Data (IID and non-IID)"
      ]
    },
    {
      "cell_type": "code",
      "metadata": {
        "id": "3_v8lyrgO5dD"
      },
      "source": [
        "def iid_partition(dataset, clients):\n",
        "  \"\"\"\n",
        "  I.I.D paritioning of data over clients\n",
        "  Shuffle the data\n",
        "  Split it between clients\n",
        "  \n",
        "  params:\n",
        "    - dataset (torch.utils.Dataset): Dataset containing the MNIST Images\n",
        "    - clients (int): Number of Clients to split the data between\n",
        "\n",
        "  returns:\n",
        "    - Dictionary of image indexes for each client\n",
        "  \"\"\"\n",
        "\n",
        "  num_items_per_client = int(len(dataset)/clients)\n",
        "  client_dict = {}\n",
        "  image_idxs = [i for i in range(len(dataset))]\n",
        "  #data_labels = dataset.targets.numpy()\n",
        "  #print(data_labels)\n",
        "\n",
        "  for i in range(clients):\n",
        "    x = np.random.choice(image_idxs, num_items_per_client, replace=False)\n",
        "    client_dict[i] = set(x)\n",
        "    image_idxs = list(set(image_idxs) - client_dict[i])\n",
        "  '''\n",
        "  #print(len(client_dict))\n",
        "  #random.randrange()\n",
        "  n = []\n",
        "  cli = list(range(clients))\n",
        "  for i in range(int(M*clients)):\n",
        "    new = np.random.choice(cli)\n",
        "    n.append(new)\n",
        "    cli.remove(new)\n",
        "  #n = np.random.choice(range(clients), int(0.1*clients), replace=False)\n",
        "  #n = list(n)\n",
        "  print(n)\n",
        "  for i in n:\n",
        "    j = 0\n",
        "    while j < int(W*num_items_per_client):\n",
        "      l = list(client_dict[i])\n",
        "      newl = dataset.targets[int(l[j])].item()\n",
        "      dataset.targets[int(l[j])] = torch.Tensor([(newl+1)%10])\n",
        "\n",
        "      j += 1\n",
        "\n",
        "  print(dataset.targets)\n",
        "  \n",
        "  c = 0\n",
        "  for i in dataset.targets:\n",
        "    if i == torch.Tensor([1]):\n",
        "      c += 1\n",
        "  print(c)\n",
        "  \n",
        "  '''\n",
        "  return client_dict\n"
      ],
      "execution_count": 13,
      "outputs": []
    },
    {
      "cell_type": "code",
      "metadata": {
        "id": "4zMdliGMQoSl"
      },
      "source": [
        "def non_iid_partition(dataset, clients, total_shards, shards_size, num_shards_per_client):\n",
        "  \"\"\"\n",
        "  non I.I.D parititioning of data over clients\n",
        "  Sort the data by the digit label\n",
        "  Divide the data into N shards of size S\n",
        "  Each of the clients will get X shards\n",
        "\n",
        "  params:\n",
        "    - dataset (torch.utils.Dataset): Dataset containing the MNIST Images\n",
        "    - clients (int): Number of Clients to split the data between\n",
        "    - total_shards (int): Number of shards to partition the data in\n",
        "    - shards_size (int): Size of each shard \n",
        "    - num_shards_per_client (int): Number of shards of size shards_size that each client receives\n",
        "\n",
        "  returns:\n",
        "    - Dictionary of image indexes for each client\n",
        "  \"\"\"\n",
        "  \n",
        "  shard_idxs = [i for i in range(total_shards)]\n",
        "  client_dict = {i: np.array([], dtype='int64') for i in range(clients)}\n",
        "  idxs = np.arange(len(dataset))\n",
        "  data_labels = dataset.targets.numpy()\n",
        "\n",
        "  \n",
        "  #print(data_labels)\n",
        "  # sort the labels\n",
        "  label_idxs = np.vstack((idxs, data_labels))\n",
        "  label_idxs = label_idxs[:, label_idxs[1,:].argsort()]\n",
        "  idxs = label_idxs[0,:]\n",
        "  #print(idxs)\n",
        "  #print(len(idxs))\n",
        "\n",
        "  # divide the data into total_shards of size shards_size\n",
        "  # assign num_shards_per_client to each client\n",
        "  for i in range(clients):\n",
        "    rand_set = set(np.random.choice(shard_idxs, num_shards_per_client, replace=False))\n",
        "    shard_idxs = list(set(shard_idxs) - rand_set)\n",
        "\n",
        "    for rand in rand_set:\n",
        "      client_dict[i] = np.concatenate((client_dict[i], idxs[rand*shards_size:(rand+1)*shards_size]), axis=0)\n",
        "  \n",
        "    #print(client_dict)\n",
        "  '''\n",
        "  n = []\n",
        "  cli = list(range(clients))\n",
        "  for i in range(int(0.5*clients)):\n",
        "    new = np.random.choice(cli)\n",
        "    n.append(new)\n",
        "    cli.remove(new)\n",
        "  #n = np.random.choice(range(clients), int(0.1*clients), replace=False)\n",
        "  #n = list(n)\n",
        "  print(n)\n",
        "  for i in n:\n",
        "    j = 0\n",
        "    while j < int(0.8*num_shards_per_client):\n",
        "      l = list(client_dict[i])\n",
        "      print(l)\n",
        "      newl = dataset.targets[int(l[j])].item()\n",
        "      dataset.targets[int(l[j])] = torch.Tensor([1])  #(newl+1)% 10\n",
        "\n",
        "      j += 1\n",
        "\n",
        "  print(dataset.targets)\n",
        "\n",
        "  \n",
        "  \n",
        "  M = 0.1\n",
        "  for n in range(M*K):\n",
        "    ran = random.randint(0, K)\n",
        "    for x in data_dict:\n",
        "      print(len(data_dict[x]))\n",
        "      #for i in range(0.5*len(data_dict[x])):\n",
        "\n",
        "  \n",
        "  '''\n",
        "  return client_dict\n",
        "\n",
        "\n",
        "\n"
      ],
      "execution_count": 14,
      "outputs": []
    },
    {
      "cell_type": "markdown",
      "metadata": {
        "id": "PTfxv8kFoGAy"
      },
      "source": [
        "## Models"
      ]
    },
    {
      "cell_type": "code",
      "metadata": {
        "id": "CvoDNFKbZST5"
      },
      "source": [
        "class MNIST_2NN(nn.Module):\n",
        "  \"\"\"\n",
        "  A simple multilayer-perceptron with 2-hidden layers with 200 units each\n",
        "  using ReLu activations\n",
        "\n",
        "  Total Expected Params: 199,210\n",
        "  \"\"\"\n",
        "  def __init__(self):\n",
        "    super(MNIST_2NN, self).__init__()\n",
        "\n",
        "    self.fc1 = nn.Linear(28*28, 200)\n",
        "    self.fc2 = nn.Linear(200, 200)\n",
        "    self.fc3 = nn.Linear(200, 10)\n",
        "\n",
        "  def forward(self, x):\n",
        "    x = torch.flatten(x, 1)\n",
        "    x = F.relu(self.fc1(x))\n",
        "    x = F.relu(self.fc2(x))\n",
        "    out = self.fc3(x)\n",
        "\n",
        "    return x"
      ],
      "execution_count": 15,
      "outputs": []
    },
    {
      "cell_type": "code",
      "metadata": {
        "id": "ut1hZ8x3qYPZ"
      },
      "source": [
        "class MNIST_CNN(nn.Module):\n",
        "  \"\"\"\n",
        "  CNN with two 5x5 convolution lauers(the first with 32 channels, second with 64,\n",
        "  each followed with 2x2 max pooling), a fully connected layer with 512 uunits and \n",
        "  ReLu activation, and the final Softmax output layer\n",
        "\n",
        "  Total Expected Params: 1,663,370\n",
        "  \"\"\"\n",
        "  def __init__(self):\n",
        "    super(MNIST_CNN, self).__init__()\n",
        "\n",
        "    self.conv1 = nn.Conv2d(1, 32, kernel_size=5)\n",
        "    self.conv2 = nn.Conv2d(32, 64, kernel_size=5)\n",
        "    \n",
        "    self.pool = nn.MaxPool2d(2,2)\n",
        "    self.dropout = nn.Dropout(p=0.2)\n",
        "\n",
        "    self.fc1 = nn.Linear(1024, 512)\n",
        "    self.out = nn.Linear(512, 10)\n",
        "\n",
        "  def forward(self, x):\n",
        "    x = self.pool(F.relu(self.conv1(x)))\n",
        "    x = self.pool(F.relu(self.conv2(x)))\n",
        "    x = self.dropout(x)\n",
        "    x = torch.flatten(x, 1)\n",
        "    x = F.relu(self.fc1(x))\n",
        "    x = self.out(x)\n",
        "    out = F.log_softmax(x, dim=1)\n",
        "\n",
        "    return out"
      ],
      "execution_count": 16,
      "outputs": []
    },
    {
      "cell_type": "markdown",
      "metadata": {
        "id": "uVv4HA9HuLtr"
      },
      "source": [
        "### Print Model Summaries"
      ]
    },
    {
      "cell_type": "code",
      "metadata": {
        "id": "I5oTH710sJEt",
        "colab": {
          "base_uri": "https://localhost:8080/"
        },
        "outputId": "c30c7a25-1fba-432e-acd2-df8dc3fadb51"
      },
      "source": [
        "mnist_mlp = MNIST_2NN()\n",
        "mnist_cnn = MNIST_CNN()\n",
        "\n",
        "if torch.cuda.is_available():\n",
        "  mnist_mlp.cuda()\n",
        "  mnist_cnn.cuda()\n",
        "\n",
        "print(\"MNIST MLP SUMMARY\")\n",
        "print(summary(mnist_mlp, (28,28)))\n",
        "\n",
        "print(\"\\nMNIST CNN SUMMARY\")\n",
        "print(summary(mnist_cnn, (1, 28,28)))"
      ],
      "execution_count": 17,
      "outputs": [
        {
          "output_type": "stream",
          "text": [
            "MNIST MLP SUMMARY\n",
            "----------------------------------------------------------------\n",
            "        Layer (type)               Output Shape         Param #\n",
            "================================================================\n",
            "            Linear-1                  [-1, 200]         157,000\n",
            "            Linear-2                  [-1, 200]          40,200\n",
            "            Linear-3                   [-1, 10]           2,010\n",
            "================================================================\n",
            "Total params: 199,210\n",
            "Trainable params: 199,210\n",
            "Non-trainable params: 0\n",
            "----------------------------------------------------------------\n",
            "Input size (MB): 0.00\n",
            "Forward/backward pass size (MB): 0.00\n",
            "Params size (MB): 0.76\n",
            "Estimated Total Size (MB): 0.77\n",
            "----------------------------------------------------------------\n",
            "None\n",
            "\n",
            "MNIST CNN SUMMARY\n",
            "----------------------------------------------------------------\n",
            "        Layer (type)               Output Shape         Param #\n",
            "================================================================\n",
            "            Conv2d-1           [-1, 32, 24, 24]             832\n",
            "         MaxPool2d-2           [-1, 32, 12, 12]               0\n",
            "            Conv2d-3             [-1, 64, 8, 8]          51,264\n",
            "         MaxPool2d-4             [-1, 64, 4, 4]               0\n",
            "           Dropout-5             [-1, 64, 4, 4]               0\n",
            "            Linear-6                  [-1, 512]         524,800\n",
            "            Linear-7                   [-1, 10]           5,130\n",
            "================================================================\n",
            "Total params: 582,026\n",
            "Trainable params: 582,026\n",
            "Non-trainable params: 0\n",
            "----------------------------------------------------------------\n",
            "Input size (MB): 0.00\n",
            "Forward/backward pass size (MB): 0.23\n",
            "Params size (MB): 2.22\n",
            "Estimated Total Size (MB): 2.45\n",
            "----------------------------------------------------------------\n",
            "None\n"
          ],
          "name": "stdout"
        }
      ]
    },
    {
      "cell_type": "markdown",
      "metadata": {
        "id": "gf_8XEXa-gZ7"
      },
      "source": [
        "## qFFL"
      ]
    },
    {
      "cell_type": "markdown",
      "metadata": {
        "id": "L-aNdQsQ-Kvp"
      },
      "source": [
        "### Local Training (Client Update)\n",
        "\n",
        "Local training for the model on client side"
      ]
    },
    {
      "cell_type": "code",
      "metadata": {
        "id": "oX6OsQyO-Gz7"
      },
      "source": [
        "class CustomDataset(Dataset):\n",
        "  def __init__(self, dataset, idxs):\n",
        "      self.dataset = dataset\n",
        "      self.idxs = list(idxs)\n",
        "\n",
        "  def __len__(self):\n",
        "      return len(self.idxs)\n",
        "\n",
        "  def __getitem__(self, item):\n",
        "      image, label = self.dataset[self.idxs[item]]\n",
        "      return image, label\n",
        "\n",
        "\n",
        "class ClientUpdate(object):\n",
        "  def __init__(self, dataset, batch_size, learning_rate, epochs, idxs, q=None):\n",
        "    if hasattr(dataset, 'dataloader'):\n",
        "        self.train_loader = dataset.dataloader(batch_size=batch_size, shuffle=True)\n",
        "    else:\n",
        "        self.train_loader = DataLoader(CustomDataset(dataset, idxs), batch_size=batch_size, shuffle=True)\n",
        "\n",
        "    self.learning_rate = learning_rate\n",
        "    self.epochs = epochs\n",
        "    self.q = q\n",
        "    if not self.q:\n",
        "        # TODO: Client itself adjust fairness \n",
        "        pass\n",
        "    self.mu = 1e-10\n",
        "\n",
        "  def train(self, model):\n",
        "    criterion = nn.CrossEntropyLoss()\n",
        "    optimizer = torch.optim.SGD(model.parameters(), lr=self.learning_rate, momentum=0.5)\n",
        "\n",
        "    e_loss = []\n",
        "\n",
        "    model_weights = copy.deepcopy(model.state_dict())\n",
        "    for epoch in range(1, self.epochs+1):\n",
        "\n",
        "      train_loss = 0.0\n",
        "\n",
        "      model.train()\n",
        "      # for data, labels in tqdm(self.train_loader):\n",
        "      for data, labels in self.train_loader:\n",
        "\n",
        "        if torch.cuda.is_available():\n",
        "          data, labels = data.cuda(), labels.cuda()\n",
        "\n",
        "        # clear the gradients\n",
        "        optimizer.zero_grad()\n",
        "        # make a forward pass\n",
        "        output = model(data)\n",
        "        # calculate the loss\n",
        "        loss = criterion(output, labels)\n",
        "        # do a backwards pass\n",
        "        loss.backward()\n",
        "        # perform a single optimization step\n",
        "        optimizer.step()\n",
        "        # update training loss\n",
        "        train_loss += loss.item()*data.size(0)\n",
        "\n",
        "      # average losses\n",
        "      train_loss = train_loss/len(self.train_loader.dataset)\n",
        "      e_loss.append(train_loss)\n",
        "\n",
        "\n",
        "    total_loss = sum(e_loss)/len(e_loss)\n",
        "\n",
        "    # delta weights\n",
        "    model_weights_new = copy.deepcopy(model.state_dict())\n",
        "    L = 1.0 / self.learning_rate\n",
        "\n",
        "    delta_weights, delta, h = {}, {}, {}\n",
        "    loss_q = np.float_power(total_loss + self.mu, self.q)\n",
        "    # updating the global weights\n",
        "    for k in model_weights_new.keys():\n",
        "      delta_weights[k] = (model_weights[k] - model_weights_new[k]) * L\n",
        "      delta[k] =  loss_q * delta_weights[k]\n",
        "      # Estimation of the local Lipchitz constant\n",
        "      h[k] = (self.q * np.float_power(total_loss + self.mu, self.q - 1) * torch.pow(torch.norm(delta_weights[k]), 2)) + (L * loss_q)\n",
        "\n",
        "    return delta, h, total_loss"
      ],
      "execution_count": 18,
      "outputs": []
    },
    {
      "cell_type": "markdown",
      "metadata": {
        "id": "Ukgh1DVHE2Ds"
      },
      "source": [
        "### Server Side Training\n",
        "\n",
        "Following Algorithm 1 from the paper"
      ]
    },
    {
      "cell_type": "code",
      "metadata": {
        "id": "1NF1e33BgpeL"
      },
      "source": [
        "def client_sampling(n, m, weights=None, with_replace=False):\n",
        "    pk = None\n",
        "    if weights:\n",
        "        total_weights = np.sum(np.asarray(weights))\n",
        "        pk = [w * 1.0 / total_weights for w in weights]\n",
        "\n",
        "    return np.random.choice(range(n), m, replace=with_replace, p=pk)"
      ],
      "execution_count": 19,
      "outputs": []
    },
    {
      "cell_type": "code",
      "metadata": {
        "id": "wy-ZMPVGwhkM"
      },
      "source": [
        "def training(model, rounds, batch_size, lr, ds, ds_test, data_dict, C, K, E, q, sampling, plt_title, plt_color, S=0.1):\n",
        "  \"\"\"\n",
        "  Function implements the Federated Averaging Algorithm from the FedAvg paper.\n",
        "  Specifically, this function is used for the server side training and weight update\n",
        "\n",
        "  Params:\n",
        "    - model:           PyTorch model to train\n",
        "    - rounds:          Number of communication rounds for the client update\n",
        "    - batch_size:      Batch size for client update training\n",
        "    - lr:              Learning rate used for client update training\n",
        "    - ds:              Dataset used for training\n",
        "    - ds_test:         Dataset used for testing\n",
        "    - data_dict:       Type of data partition used for training (IID or non-IID)\n",
        "    - C:               Fraction of clients randomly chosen to perform computation on each round\n",
        "    - K:               Total number of clients\n",
        "    - E:               Number of training passes each client makes over its local dataset per round\n",
        "    - tb_writer_name:  Directory name to save the tensorboard logs\n",
        "  Returns:\n",
        "    - model:           Trained model on the server\n",
        "  \"\"\"\n",
        "\n",
        "  # global model weights\n",
        "  global_weights = model.state_dict()\n",
        "\n",
        "  # training loss\n",
        "  # train_accuracy = []\n",
        "  train_loss = []\n",
        "  test_accuracy = []\n",
        "  test_loss = []\n",
        "  f1_macro = []\n",
        "  f1_weighted = []\n",
        "\n",
        "  # client weights by total samples\n",
        "  p_k = None\n",
        "  if sampling == 'weighted':\n",
        "    p_k = [len(data_dict[c]) for c in data_dict] if ds else [len(data_dict[c]['train_ds']) for c in data_dict]\n",
        "\n",
        "  # Time log\n",
        "  start_time = time.time()\n",
        "\n",
        "  users_id = list(data_dict.keys())\n",
        "\n",
        "  for curr_round in range(1, rounds+1):\n",
        "    deltas, hs, local_loss = [], [], []\n",
        "\n",
        "    m = max(int(C*K), 1)    \n",
        "    S_t = client_sampling(K, m, weights=p_k, with_replace=False)\n",
        "\n",
        "    print('Round: {} Picking {}/{} clients: {}'.format(curr_round, m, K, S_t))\n",
        "\n",
        "    global_weights = model.state_dict()\n",
        "\n",
        "    #S_t = S_t[]\n",
        "    \n",
        "\n",
        "    for k in range(len(S_t)):\n",
        "      key = users_id[k]\n",
        "      ds_ = ds if ds else data_dict[key]['train_ds']\n",
        "      idxs = data_dict[key] if ds else None\n",
        "      local_update = ClientUpdate(dataset=ds_, batch_size=batch_size, learning_rate=lr, epochs=E, idxs=idxs, q=q)\n",
        "      if k >= int(m*S):\n",
        "        break\n",
        "      delta_k, h_k, loss = local_update.train(model=copy.deepcopy(model))\n",
        "\n",
        "      deltas.append(copy.deepcopy(delta_k))\n",
        "      hs.append(copy.deepcopy(h_k))\n",
        "      local_loss.append(copy.deepcopy(loss))\n",
        "\n",
        "    # Perform qFedAvg\n",
        "    h_sum = copy.deepcopy(hs[0])\n",
        "    delta_sum = copy.deepcopy(deltas[0])\n",
        "    \n",
        "    for k in h_sum.keys():\n",
        "        for i in range(1, len(hs)):\n",
        "            h_sum[k] += hs[i][k]\n",
        "            delta_sum[k] += deltas[i][k]\n",
        "\n",
        "    new_weights = {}\n",
        "    for k in delta_sum.keys():\n",
        "        for i in range(len(deltas)):\n",
        "            new_weights[k] = delta_sum[k] / h_sum[k]\n",
        "\n",
        "    # Updating global model weights\n",
        "    for k in global_weights.keys():\n",
        "        global_weights[k] -= new_weights[k]\n",
        "\n",
        "    # move the updated weights to our model state dict\n",
        "    model.load_state_dict(global_weights)\n",
        "\n",
        "    # loss\n",
        "    loss_avg = sum(local_loss) / len(local_loss)\n",
        "    print('Round: {}... \\tAverage Loss: {}'.format(curr_round, round(loss_avg, 3)))\n",
        "    train_loss.append(loss_avg)\n",
        "\n",
        "    # test\n",
        "    test_criterion = nn.CrossEntropyLoss()\n",
        "    test_accuracy_current, test_loss_current, f1_macro_current, f1_weighted_current =  testing(copy.deepcopy(model), ds_test, 128, test_criterion, num_classes, classes_test)\n",
        "    test_accuracy.append(test_accuracy_current)\n",
        "    test_loss.append(test_loss_current)\n",
        "    f1_macro.append(f1_macro_current)\n",
        "    f1_weighted.append(f1_weighted_current)\n",
        "\n",
        "  end_time = time.time()\n",
        "  path = '/gdrive/My Drive/FedPerf/MNIST/qFFL/Stragglers/0.1/'\n",
        "  \n",
        "  fig, ax = plt.subplots()\n",
        "  x_axis = np.arange(1, rounds+1)\n",
        "  y_axis = np.array(train_loss)\n",
        "  ax.plot(x_axis, y_axis, 'tab:'+plt_color)\n",
        "\n",
        "  ax.set(xlabel='Number of Rounds', ylabel='Train Loss',\n",
        "       title=plt_title)\n",
        "  ax.grid()\n",
        "  fig.savefig(path+plt_title+'_Train_loss.jpg', format='jpg')\n",
        "  plt.show()\n",
        "\n",
        "  fig, ax = plt.subplots()\n",
        "  x_axis = np.arange(1, rounds+1)\n",
        "  y_axis = np.array(test_loss)\n",
        "  ax.plot(x_axis, y_axis, 'tab:'+plt_color)\n",
        "\n",
        "  ax.set(xlabel='Number of Rounds', ylabel='Test Loss',\n",
        "       title=plt_title)\n",
        "  ax.grid()\n",
        "  fig.savefig(path+plt_title+'_Test_loss.jpg', format='jpg')\n",
        "  plt.show()\n",
        "\n",
        "  fig, ax = plt.subplots()\n",
        "  x_axis = np.arange(1, rounds+1)\n",
        "  y_axis = np.array(test_accuracy)\n",
        "  ax.plot(x_axis, y_axis, 'tab:'+plt_color)\n",
        "\n",
        "  ax.set(xlabel='Number of Rounds', ylabel='Test Accuracy',\n",
        "       title=plt_title)\n",
        "  ax.grid()\n",
        "  fig.savefig(path+plt_title+'_Test_Accuracy.jpg', format='jpg')\n",
        "  plt.show()\n",
        "\n",
        "  fig, ax = plt.subplots()\n",
        "  x_axis = np.arange(1, rounds+1)\n",
        "  y_axis = np.array(f1_macro)\n",
        "  ax.plot(x_axis, y_axis, 'tab:'+plt_color)\n",
        "\n",
        "  ax.set(xlabel='Number of Rounds', ylabel='F1 Macro',\n",
        "       title=plt_title)\n",
        "  ax.grid()\n",
        "  fig.savefig(path+plt_title+'_F1_Marco.jpg', format='jpg')\n",
        "  plt.show()\n",
        "\n",
        "  fig, ax = plt.subplots()\n",
        "  x_axis = np.arange(1, rounds+1)\n",
        "  y_axis = np.array(f1_weighted)\n",
        "  ax.plot(x_axis, y_axis, 'tab:'+plt_color)\n",
        "\n",
        "  ax.set(xlabel='Number of Rounds', ylabel='F1 Weighted',\n",
        "       title=plt_title)\n",
        "  ax.grid()\n",
        "  fig.savefig(path+plt_title+'_F1_Weighted.jpg', format='jpg')\n",
        "  plt.show()\n",
        "\n",
        "  print(\"Training Done!\")\n",
        "  print(\"Total time taken to Train: {}\\n\\n\".format(end_time-start_time))\n",
        "  \n",
        "  return model, train_loss, test_accuracy, test_loss, f1_macro, f1_weighted"
      ],
      "execution_count": 29,
      "outputs": []
    },
    {
      "cell_type": "code",
      "metadata": {
        "id": "4rlVnP4gu_Bm"
      },
      "source": [
        "path = '/gdrive/My Drive/FedPerf/MNIST/qFFL/Stragglers/0.1/'"
      ],
      "execution_count": 30,
      "outputs": []
    },
    {
      "cell_type": "markdown",
      "metadata": {
        "id": "tUYyb4T-uXmF"
      },
      "source": [
        "## Testing Loop"
      ]
    },
    {
      "cell_type": "code",
      "metadata": {
        "id": "uCcIZmO5uan9"
      },
      "source": [
        "def testing(model, dataset, bs, criterion, num_classes, classes, print_info=False):\n",
        "  #test loss \n",
        "  test_loss = 0.0\n",
        "  y_true, y_hat = None, None\n",
        "\n",
        "  correct_class = list(0 for i in range(num_classes))\n",
        "  total_class = list(0 for i in range(num_classes))\n",
        "\n",
        "  if hasattr(dataset, 'dataloader'):\n",
        "    test_loader = dataset.dataloader(batch_size=bs, shuffle=False)\n",
        "  else:\n",
        "    test_loader = DataLoader(dataset, batch_size=bs, shuffle=False)\n",
        "\n",
        "  l = len(test_loader)\n",
        "\n",
        "  model.eval()\n",
        "  for i, (data, labels) in enumerate(test_loader):\n",
        "\n",
        "    if torch.cuda.is_available():\n",
        "      data, labels = data.cuda(), labels.cuda()\n",
        "\n",
        "    output = model(data)\n",
        "    loss = criterion(output, labels)\n",
        "    test_loss += loss.item()*data.size(0)\n",
        "\n",
        "    _, pred = torch.max(output, dim=1)\n",
        "\n",
        "    # For F1Score\n",
        "    y_true = np.append(y_true, labels.data.view_as(pred).cpu().numpy()) if i != 0 else labels.data.view_as(pred).cpu().numpy()\n",
        "    y_hat = np.append(y_hat, pred.cpu().numpy()) if i != 0 else pred.cpu().numpy()\n",
        "\n",
        "    correct_tensor = pred.eq(labels.data.view_as(pred))\n",
        "    correct = np.squeeze(correct_tensor.numpy()) if not torch.cuda.is_available() else np.squeeze(correct_tensor.cpu().numpy())\n",
        "\n",
        "    for i, lbl in enumerate(labels.data):\n",
        "      try:\n",
        "        correct_class[lbl.item()] += correct[i]\n",
        "        total_class[lbl.item()] += 1\n",
        "      except:\n",
        "          print('Error', lbl, i)\n",
        "    \n",
        "  # avg test loss\n",
        "  test_loss = test_loss/len(test_loader.dataset)\n",
        "  test_accuracy = 100. * np.sum(correct_class) / np.sum(total_class)\n",
        "  # Avg F1 Score\n",
        "  f1_macro = f1_score(y_true, y_hat, average='macro')\n",
        "  # F1-Score -> weigthed to consider class imbalance\n",
        "  f1_weighted =  f1_score(y_true, y_hat, average='weighted')\n",
        "\n",
        "  if print_info:\n",
        "    print(\"Test Loss: {:.6f}\\n\".format(test_loss))\n",
        "\n",
        "    for i in range(10):\n",
        "      if total_class[i]>0:\n",
        "        print('Test Accuracy of %5s: %2d%% (%2d/%2d)' % \n",
        "              (classes[i], 100 * correct_class[i] / total_class[i],\n",
        "              np.sum(correct_class[i]), np.sum(total_class[i])))\n",
        "      else:\n",
        "        print('Test Accuracy of %5s: N/A (no training examples)' % (classes[i]))\n",
        "\n",
        "    print('\\nFinal Test  Accuracy: {:.3f} ({}/{})'.format(\n",
        "          100. * np.sum(correct_class) / np.sum(total_class),\n",
        "          np.sum(correct_class), np.sum(total_class)))\n",
        "\n",
        "    print(\"F1 Score: {:.6f} (macro) {:.6f} (weighted) %\\n\".format(f1_macro, f1_weighted))\n",
        "  \n",
        "  return test_accuracy, test_loss, f1_macro, f1_weighted"
      ],
      "execution_count": 31,
      "outputs": []
    },
    {
      "cell_type": "code",
      "metadata": {
        "id": "ItAQ9mnluy_D"
      },
      "source": [
        "log_dict = {}\n",
        "NUM_REPEAT = 1"
      ],
      "execution_count": 32,
      "outputs": []
    },
    {
      "cell_type": "markdown",
      "metadata": {
        "id": "z_jifdzniuhm"
      },
      "source": [
        "# MNIST MLP on IID"
      ]
    },
    {
      "cell_type": "markdown",
      "metadata": {
        "id": "uh-te0Od2XGO"
      },
      "source": [
        "### Train"
      ]
    },
    {
      "cell_type": "code",
      "metadata": {
        "id": "UmpWmKOQixVV",
        "colab": {
          "base_uri": "https://localhost:8080/",
          "height": 1000
        },
        "outputId": "83d9f464-c4f9-4d22-9b8c-c98bfd1b6916"
      },
      "source": [
        "train_loss_multiple_runs = [None] * NUM_REPEAT\n",
        "test_accuracy_multiple_runs = [None] * NUM_REPEAT\n",
        "test_loss_multiple_runs = [None] * NUM_REPEAT\n",
        "f1_macro_multiple_runs = [None] * NUM_REPEAT\n",
        "f1_weighted_multiple_runs = [None] * NUM_REPEAT\n",
        "\n",
        "for exp_num in range(NUM_REPEAT):\n",
        "  print(\"Experiment Run Number: \", exp_num)\n",
        "\n",
        "  # number of training rounds\n",
        "  rounds = 50\n",
        "  # client fraction\n",
        "  C = 0.5\n",
        "  # number of clients\n",
        "  K = 100\n",
        "  # number of training passes on local dataset for each round\n",
        "  E = 5\n",
        "  # batch size\n",
        "  batch_size = 10\n",
        "  # learning Rate\n",
        "  lr=0.05\n",
        "  # fairness\n",
        "  q = 0.001\n",
        "  # sampling\n",
        "  # sampling = 'uniform'\n",
        "  sampling = 'weighted'\n",
        "  # dict containing different type of data partition\n",
        "  data_dict = iid_partition(mnist_data_train, 100)\n",
        "  # load model\n",
        "  mnist_mlp = MNIST_2NN()\n",
        "\n",
        "  if torch.cuda.is_available():\n",
        "    mnist_mlp.cuda()\n",
        "\n",
        "  mnist_mlp_iid_trained, train_loss, test_accuracy, test_loss, f1_macro, f1_weighted = training(mnist_mlp, rounds, batch_size, lr, mnist_data_train, mnist_data_test, data_dict, C, K, E, q, sampling, \"MNIST MLP on IID Dataset\", \"orange\")\n",
        "  \n",
        "  train_loss_multiple_runs[exp_num] = train_loss\n",
        "  test_accuracy_multiple_runs[exp_num] = test_accuracy\n",
        "  test_loss_multiple_runs[exp_num] = test_loss\n",
        "  f1_macro_multiple_runs[exp_num] = f1_macro\n",
        "  f1_weighted_multiple_runs[exp_num] = f1_weighted\n",
        "\n",
        "  criterion = nn.CrossEntropyLoss()\n",
        "  acc, loss, f1_macro, f1_weighted = testing(mnist_mlp_iid_trained, mnist_data_test, 128, criterion, num_classes, classes_test, True)"
      ],
      "execution_count": 33,
      "outputs": [
        {
          "output_type": "stream",
          "text": [
            "Experiment Run Number:  0\n",
            "Round: 1 Picking 50/100 clients: [41 84 38 65 61 12 36  7 80 62 98 30 14 48 68 53 28 37 55  2  4 71 52 47\n",
            " 96 69 54 91 86 19 81 78 83 20 57 95 40 79 76 89 77 72 29 58 10 45 74 23\n",
            " 18 24]\n",
            "Round: 1... \tAverage Loss: 0.667\n",
            "Round: 2 Picking 50/100 clients: [65 28  7 78 95 39 50 41 77  4 35 12 51 36 47 97  5 24 13 21 64  9 66 92\n",
            " 23 91 82 79 86 96 37 15 20 17 85 83 57 59 53 32 54 90 42 71 22 56 81 10\n",
            " 72 11]\n",
            "Round: 2... \tAverage Loss: 0.188\n",
            "Round: 3 Picking 50/100 clients: [70  8 21 84 96 71  4 61 39 63  3 50 56 12 33 30 32 14 37 48 51 35 31 15\n",
            " 57 89  1 23 52 49 43 26 22 72  2 54 73 75 74 92 45 17 69 10 41 16 47 20\n",
            " 86  5]\n",
            "Round: 3... \tAverage Loss: 0.124\n",
            "Round: 4 Picking 50/100 clients: [76 91 60 32 56 71 43 96 80  8 62 83 48 13 90 15 85 57 20 77 33 28 44 42\n",
            " 35 41 72 78  4 25 18 53 39 30 95  6 84 93 59 23 66 89 70 68 61 63  7  0\n",
            " 92 74]\n",
            "Round: 4... \tAverage Loss: 0.1\n",
            "Round: 5 Picking 50/100 clients: [78 29 86 80 90 74 34  1 66 82 13 23 14 77  3 64 22  8 28 25 61 39 15 59\n",
            " 33 94 73 58 40  9 10 99 92 21  0 85 98 75 65 18 69 95 60 24 38 26 87 79\n",
            " 46  7]\n",
            "Round: 5... \tAverage Loss: 0.076\n",
            "Round: 6 Picking 50/100 clients: [39 74 55 61 53 79 48 65 20  6 84 66 26 88 75  2 73 96 13 87 25 71 67 35\n",
            " 23 76 14 91 15 42 83 37 82 60 56 80 34 38 45  8 90 94 92 47 28 85 27 43\n",
            "  3 58]\n",
            "Round: 6... \tAverage Loss: 0.066\n",
            "Round: 7 Picking 50/100 clients: [43  2 68 53 45 15 37 92 97 73 82 34 70 25 39 65 26 48 49 41 85 69 24 64\n",
            " 91  5 10 83  0 60 80 52 36 44 88  8 46 63 12 89  7 31 54  1 56 94 75 32\n",
            " 16 55]\n",
            "Round: 7... \tAverage Loss: 0.054\n",
            "Round: 8 Picking 50/100 clients: [81 38 76 21 11 78 30 70 42 47 18 26 61 82 13 59 40 44 14 85 73 33 96  8\n",
            " 35 95  0 17 51  1 53 32 52 71  3 86 91 46 72 65 56 50 37 75 16 77 99 62\n",
            " 39  9]\n",
            "Round: 8... \tAverage Loss: 0.046\n",
            "Round: 9 Picking 50/100 clients: [46 22  3 55 48 87 50 33 24 72  2 76 49  8 35 92  7 61 41 57 12 21 25 77\n",
            " 96 29 14 68 95 73 45 98 83 69 78 89 42 27 44 26 79 23 32 74  5 16 58 84\n",
            "  6 93]\n",
            "Round: 9... \tAverage Loss: 0.032\n",
            "Round: 10 Picking 50/100 clients: [89  7  6 14 42 81 49 76 27 72 39 85 29 71 22  4  3 88 62 24 69 74 59 19\n",
            "  1 36 28 70  5 94 45 56 92 80 44 13 43 53 17 46 63 37 10 67 83 93 23 97\n",
            " 99 31]\n",
            "Round: 10... \tAverage Loss: 0.028\n",
            "Round: 11 Picking 50/100 clients: [33 58 28 95 93 49 46 67 47 65 89 98 25 82 70 39 84 52  8 88 68 62  0 92\n",
            " 71 87 16 41  6 51 48 80 19 35 29 21 15 78 12 73 69 60 11 59 94 10 50  4\n",
            " 72 54]\n",
            "Round: 11... \tAverage Loss: 0.028\n",
            "Round: 12 Picking 50/100 clients: [98 76  7 54 22 60 34 71 93 32 66 83 27 72 47 43 92 35 77 38  3 96 86 91\n",
            " 94 99 56 64 70 36 78 30 39 80 11  4 18 89 87 24 29 28 33  6 10 20 68 49\n",
            "  9 19]\n",
            "Round: 12... \tAverage Loss: 0.022\n",
            "Round: 13 Picking 50/100 clients: [68 85 78 45 48  2 70 38 72 24 67 21 86 50 73 25 22 40 46 55 88 43 36 44\n",
            " 54 62 76 33 99 56 71  5 42 35 27 81  1 13 37 26 84 96 34 31 69 93 63 59\n",
            " 16  6]\n",
            "Round: 13... \tAverage Loss: 0.016\n",
            "Round: 14 Picking 50/100 clients: [32  6 48 95 16 47 88 38 59 31 19 75 53 56 85 87  8 46 99 41 63 73 15  9\n",
            " 58 45 49  5 81 21 70  1 33  2 18 67 36 94 50 71 80 78 26 69 60 65 42 66\n",
            " 84 91]\n",
            "Round: 14... \tAverage Loss: 0.01\n",
            "Round: 15 Picking 50/100 clients: [31 39 34 42 47 26 90 20 54 18 30 50 97 73 94 59 96 60 76 72 69 88 17 38\n",
            " 10 77 98 74 65 82 44  0 91 48 15 25 99 29 24 79 68 53 46 81 64 43  6 37\n",
            " 66 89]\n",
            "Round: 15... \tAverage Loss: 0.008\n",
            "Round: 16 Picking 50/100 clients: [25 47 38  2 74 35 30 88 54 87 67 31 13 82 96 89 23 16 75 65 45 36 62 34\n",
            "  3 73 32 15 37 61 97 50 85 24 83 57 95 64 46 72 60 68 71 39 91 79 49 44\n",
            " 22 11]\n",
            "Round: 16... \tAverage Loss: 0.008\n",
            "Round: 17 Picking 50/100 clients: [64 70  7 68 38 26 32  6 63 47 10 28 57 58 40 45 62 44 67 39 11 20 51 13\n",
            " 86 90 84 85 77 87 69 74 65 76 82 19  9 93 78 22 36 53 41 33 80 79 12 66\n",
            " 30 29]\n",
            "Round: 17... \tAverage Loss: 0.007\n",
            "Round: 18 Picking 50/100 clients: [ 9  4 99  5  0 37 53 88 57 55 12 47  3 19 65 67 43 62  7 32 29 95 54 44\n",
            " 93 73 22 71 38 84 60 96 63 39 14 23 78 68 33 79 17 97 25 69 46 18 74 90\n",
            " 28 27]\n",
            "Round: 18... \tAverage Loss: 0.004\n",
            "Round: 19 Picking 50/100 clients: [91 52 77 68 95 16 79 99  0 25  7 33 31 73 96 38 61 45 89 78 71 26 24 42\n",
            " 14 86 58 65 60  5  1 70 12 34 64  3 90 84 18 59 72 62 74  9 76 44  2 98\n",
            " 81 57]\n",
            "Round: 19... \tAverage Loss: 0.004\n",
            "Round: 20 Picking 50/100 clients: [90  8 47 94  1 80 53 15 29 12 16 14 87  9 37 36 60 62 41  5 66 31 55 18\n",
            " 61 70 68 98 64 23 11 96 25 27 85 52 46 91 50 49 84 79  6 97 81 99 48  2\n",
            " 33 75]\n",
            "Round: 20... \tAverage Loss: 0.004\n",
            "Round: 21 Picking 50/100 clients: [26 94 82 77 17 24 38 87 88 15 20 81 72 51 91 13  6 74 55 61 80 35 71 52\n",
            " 12 93 59 63 43 73 46 44 22 14 50 96 58  3 16 65 27 48 53 76 57 30  7 31\n",
            " 89  4]\n",
            "Round: 21... \tAverage Loss: 0.003\n",
            "Round: 22 Picking 50/100 clients: [34 35 97 12 25 60 67 82 11 94 26 13 86  7 88 18 45 53 95 36 15 44 79 19\n",
            " 87 14 76 48 29 50  9 27 65 54 99 56 75 21 39 78 84 64 73 38 85  6 63 23\n",
            " 61 66]\n",
            "Round: 22... \tAverage Loss: 0.002\n",
            "Round: 23 Picking 50/100 clients: [44 17 57  7 70 96 15 39 53 90  1 91 81 38 12 89 50 99  3 58 16  0 93  4\n",
            "  5 77 43 75 45 71 83 41 61 30 26  8 87 69 35  6 21 52 86 51 19 48 62 40\n",
            " 73 33]\n",
            "Round: 23... \tAverage Loss: 0.003\n",
            "Round: 24 Picking 50/100 clients: [88 32 92  0 85 45 47 40 11 89 84 37 69 43 56 36 81 44 64 57 23 15 63 93\n",
            " 30 20 76 25 52 62  9  2 95 58 28  6 71 91 29 67 55 31 13 54 34 51 24  1\n",
            " 90 50]\n",
            "Round: 24... \tAverage Loss: 0.002\n",
            "Round: 25 Picking 50/100 clients: [95 36 25 69 30 96 35 48 59 28 89 93 74  6 16 14 18 92  5 34 56 61 54 60\n",
            " 41  9 85 76 50 75 37 66 43 99 19 87 55 10 70 44 51 11 24 67 79 97 81 31\n",
            " 90 64]\n",
            "Round: 25... \tAverage Loss: 0.002\n",
            "Round: 26 Picking 50/100 clients: [ 3 30 66 17 42  2 11 34 39 68 18 54 19 36 25 97 84  0 24  9 46 27 48 26\n",
            " 56 67 33 13 37 38 93 92 14 89 79 23 75 40 90 76 45 86 96 10 85  4 12 88\n",
            " 15 57]\n",
            "Round: 26... \tAverage Loss: 0.002\n",
            "Round: 27 Picking 50/100 clients: [96 86 13 55 94 50 16 66 39 27 22 18 51  2 44 38  6 79 73 40 92 31 68 35\n",
            " 57 81 93 25 14 11 75 87 53 77 56 48 12 15 65 72 43 95 63 30 32 97 23 91\n",
            " 88 74]\n",
            "Round: 27... \tAverage Loss: 0.002\n",
            "Round: 28 Picking 50/100 clients: [85 82 10 18 52 71 55 37 97  5 65 25 39 53 43 74 96 69 91 72 64 40 88 30\n",
            " 32 45  2  6 80 75  9 56 67 87 49 54 73 70  4 34 35 79 50 42 77 44 19 81\n",
            "  0 98]\n",
            "Round: 28... \tAverage Loss: 0.001\n",
            "Round: 29 Picking 50/100 clients: [34  1 15 64 86 21 74 50 89 93 80  3 30 94 66 11 44 17 22 71 18 82 43 67\n",
            "  8  2 65 79 54 77 35 27 60 20 63 81  0 14 78  9 57 38  6 90 52 36 96 40\n",
            " 58 76]\n",
            "Round: 29... \tAverage Loss: 0.001\n",
            "Round: 30 Picking 50/100 clients: [21 83 64 50 73 93 77 75 59  9 28 67 90 29 19 62 96 24 94 86 17 60 39 30\n",
            " 18 54 88 58 71 12 61 89 82 38 32 42 46 97  5 66 76 48 25 51 65 87 72 16\n",
            " 56 69]\n",
            "Round: 30... \tAverage Loss: 0.001\n",
            "Round: 31 Picking 50/100 clients: [22  2 47 46 71 45 73 23 93 19 64 11 85 10 72 21 74 66 44 86 88 97 90 70\n",
            " 27 16 65 15 17 12 79 42 52 53 25  9 33 34 78 24 84 57 60 98 50 82 13 89\n",
            " 96 36]\n",
            "Round: 31... \tAverage Loss: 0.001\n",
            "Round: 32 Picking 50/100 clients: [75 65 93  5 54 53 90 99 19 56 58 18 80  4  8 73 91 20 26 78 77 10 92 69\n",
            " 40 57 72 64 66 83 47  1 48 63 15 31 98 42 35 17 96  9 67 70 39 27 30 22\n",
            " 16 81]\n",
            "Round: 32... \tAverage Loss: 0.001\n",
            "Round: 33 Picking 50/100 clients: [31 51 95  9 76 48 59 90 75 96 21  6  0 33 94 69 40 79 18 72 30 60 28 14\n",
            " 44 34 73  5 38 70  8 53  7 27 55 39 58 47  2 35  3 61 45 19 36 17 11 49\n",
            " 88 29]\n",
            "Round: 33... \tAverage Loss: 0.001\n",
            "Round: 34 Picking 50/100 clients: [46 26  4 47 38 75 54 82 77 74  2 76 10  7 14 19 16 18 98 58 71 66 80 23\n",
            " 24 94 91 37 99 73 22 63 11 60 17 67 35 61 53 45 88 44 39 72 70 33  9 92\n",
            " 30 13]\n",
            "Round: 34... \tAverage Loss: 0.001\n",
            "Round: 35 Picking 50/100 clients: [67 90 65 73 40  0 34 52 23 39 42 74 72 95 64  1 18 56 32 28 59 29 17 84\n",
            " 66 70  2 55 22 10 31  7  6 54 79 25 19 78  4 33 69 99 93 35 98 81 62 49\n",
            " 51 76]\n",
            "Round: 35... \tAverage Loss: 0.001\n",
            "Round: 36 Picking 50/100 clients: [12 33 28 61 85 79 40 36 86 56 75  4 78 29 66 63 38 26 54 82 25  5 55 95\n",
            "  9 19 80 50 73 15 93 22 69 43 77 39 64 46 35 70 34 32 48  3 10 83 24 37\n",
            " 92 62]\n",
            "Round: 36... \tAverage Loss: 0.001\n",
            "Round: 37 Picking 50/100 clients: [51 13  3  5 78 76 15 90 67 92 20  7 65 24 97 91  9 86 46 77 61  6 33 70\n",
            " 28 38 17 66 85 87 42 36 32  4 49 21 74 54 10 50 82 93  2 88 44 95 68 11\n",
            " 16 26]\n",
            "Round: 37... \tAverage Loss: 0.001\n",
            "Round: 38 Picking 50/100 clients: [20 12 11 44 63 48 90 14  1 13 38  9 23 65 75 69  7 83 68 91 60 53 22 72\n",
            " 89 95 52 64 61 51 98 47 32  4 15 21 97 25 67 70 18 30 82 26 73 80 96 77\n",
            " 88 36]\n",
            "Round: 38... \tAverage Loss: 0.001\n",
            "Round: 39 Picking 50/100 clients: [76 36  0 59 53  3 43 80 49 98 34  1 57 89 92 69 32 75 67 77 17 71 27 52\n",
            " 20 13 58  6 55 25 46 41 64 23  5 18 93 82 61 37 51 38 62 44 68 94 29 95\n",
            " 16 90]\n",
            "Round: 39... \tAverage Loss: 0.001\n",
            "Round: 40 Picking 50/100 clients: [68 46 27 25  1 49 31 96 15 67  7 79 72 83 39 92 77 50 52 97 12 65 88 13\n",
            " 53 63 45 24 66 11  4 71 61 10 85 44 18 42 56 76 14 48 29 22 19 81 59 43\n",
            "  2  8]\n",
            "Round: 40... \tAverage Loss: 0.001\n",
            "Round: 41 Picking 50/100 clients: [73 57 17 72 16 95 70 71  5 75 48 31  4 30 80 99 40 18 87 33 39 69 24 14\n",
            " 35 36 22 34 53 43 25 61 28 12 21 68  7 79 44 52 89 45  1 94 82 63 88 15\n",
            " 49 38]\n",
            "Round: 41... \tAverage Loss: 0.001\n",
            "Round: 42 Picking 50/100 clients: [86  3 78 64 80 74 28 43  1 97 65 90 87 89 44 58 66 54 16 18 72 42 92 47\n",
            "  7 40  0 32 67  4 49 17 50 99 22 46 81 31 60 10 94 52 73 57 33 63 25 69\n",
            " 79 85]\n",
            "Round: 42... \tAverage Loss: 0.001\n",
            "Round: 43 Picking 50/100 clients: [73 59  5 33 62 83  2 20 70 25 54 52 12 55 15 23 17 37 31 76 36 90 92 67\n",
            " 34 81 22 40 85  0 32 66 39 10 56 45 29 48 97 80 43 68 46 21 19 63 96 50\n",
            " 13 26]\n",
            "Round: 43... \tAverage Loss: 0.001\n",
            "Round: 44 Picking 50/100 clients: [15 24  2 66 37 42 18  1 63 85 64 78 25  8 28 56 96 34 11 51 29 57 80 69\n",
            " 50 65  6  0 31 81 30 73  3 23 86 14 10 48 87  5 12 99 59 68 27 70 83 53\n",
            " 76 92]\n",
            "Round: 44... \tAverage Loss: 0.001\n",
            "Round: 45 Picking 50/100 clients: [38 25 43 39 52  7 99 42 16 92 33 27 30 81 31 88 97 62 65  2  8 96 50 13\n",
            " 55  6 72 15 61 87 66 12 44 94 64 86 18 20 47 34 71 90 75 57 63 29 80 58\n",
            " 32 10]\n",
            "Round: 45... \tAverage Loss: 0.001\n",
            "Round: 46 Picking 50/100 clients: [45 60 84  8 14 63 49 44 37 61 64 97 66 10 30 62 81  3 34 82 48 69 54 28\n",
            " 31 91 39 27 67 68 22 72 80 92  2  9  1 77 93 38 53 35  4 42 41 99 43 98\n",
            " 21 51]\n",
            "Round: 46... \tAverage Loss: 0.001\n",
            "Round: 47 Picking 50/100 clients: [67 92 37 79 53 16 34 85  3 54 82 65  6 24 86  5 91 22 83 19 25 36 59 77\n",
            " 90 41  9 60 56 21 87 14 30 13 32 64  7 57 99  2 93 50 84 28 11 43 78 96\n",
            "  0 12]\n",
            "Round: 47... \tAverage Loss: 0.001\n",
            "Round: 48 Picking 50/100 clients: [39 66  2 95 35 87 72 56 80  3 84 62 10 98 68 11 65 29 14 76 46 36 41 44\n",
            " 20 89  8  1 52 92 23 78 27 82 83 30  9 86 63 96 37 90 73 26 24 71  6 18\n",
            " 13 94]\n",
            "Round: 48... \tAverage Loss: 0.001\n",
            "Round: 49 Picking 50/100 clients: [46  1  2 35 15 13 95 18 40 69 92 25 72 10 93 36 80 86 56 83  6 75 77 98\n",
            "  5 70 51 16 44 81 88 30  9 59 67 84 34 65 41 29 62  0 47 71 14 66 99 43\n",
            " 23 91]\n",
            "Round: 49... \tAverage Loss: 0.001\n",
            "Round: 50 Picking 50/100 clients: [34 69 67 87 88 73 80 97 32 64 63 38 35 58 14 16 89 93 53 39 25 74  7 29\n",
            "  9 86 15 77 96 70 91 26 27  2 92 31 71  8 21  5 85 49 55 68 66 62 13 50\n",
            " 45 76]\n",
            "Round: 50... \tAverage Loss: 0.001\n"
          ],
          "name": "stdout"
        },
        {
          "output_type": "display_data",
          "data": {
            "image/png": "[encoded data removed]",
            "text/plain": [
              "<Figure size 432x288 with 1 Axes>"
            ]
          },
          "metadata": {
            "tags": [],
            "needs_background": "light"
          }
        },
        {
          "output_type": "display_data",
          "data": {
            "image/png": "[encoded data removed]",
            "text/plain": [
              "<Figure size 432x288 with 1 Axes>"
            ]
          },
          "metadata": {
            "tags": [],
            "needs_background": "light"
          }
        },
        {
          "output_type": "display_data",
          "data": {
            "image/png": "[encoded data removed]",
            "text/plain": [
              "<Figure size 432x288 with 1 Axes>"
            ]
          },
          "metadata": {
            "tags": [],
            "needs_background": "light"
          }
        },
        {
          "output_type": "display_data",
          "data": {
            "image/png": "[encoded data removed]",
            "text/plain": [
              "<Figure size 432x288 with 1 Axes>"
            ]
          },
          "metadata": {
            "tags": [],
            "needs_background": "light"
          }
        },
        {
          "output_type": "display_data",
          "data": {
            "image/png": "[encoded data removed]",
            "text/plain": [
              "<Figure size 432x288 with 1 Axes>"
            ]
          },
          "metadata": {
            "tags": [],
            "needs_background": "light"
          }
        },
        {
          "output_type": "stream",
          "text": [
            "Training Done!\n",
            "Total time taken to Train: 254.75334525108337\n",
            "\n",
            "\n",
            "Test Loss: 0.317945\n",
            "\n",
            "Test Accuracy of     0: 98% (966/980)\n",
            "Test Accuracy of     1: 98% (1114/1135)\n",
            "Test Accuracy of     2: 90% (935/1032)\n",
            "Test Accuracy of     3: 92% (934/1010)\n",
            "Test Accuracy of     4: 94% (929/982)\n",
            "Test Accuracy of     5: 89% (799/892)\n",
            "Test Accuracy of     6: 94% (906/958)\n",
            "Test Accuracy of     7: 93% (957/1028)\n",
            "Test Accuracy of     8: 92% (901/974)\n",
            "Test Accuracy of     9: 90% (918/1009)\n",
            "\n",
            "Final Test  Accuracy: 93.590 (9359/10000)\n",
            "F1 Score: 0.935135 (macro) 0.935754 (weighted) %\n",
            "\n"
          ],
          "name": "stdout"
        }
      ]
    },
    {
      "cell_type": "code",
      "metadata": {
        "id": "a9G4j5L62OrS"
      },
      "source": [
        "hyperparams = {'rounds': rounds,\n",
        "               'C': C,\n",
        "               'K': K,\n",
        "               'E': E,\n",
        "               'batch_size': batch_size,\n",
        "               'lr': lr,\n",
        "               'q': q,\n",
        "               'sampling': sampling\n",
        "               }\n",
        "\n",
        "log_dict['MNIST MLP on IID'] = {'train_loss': train_loss_multiple_runs, \n",
        "                                'test_loss': test_loss_multiple_runs, \n",
        "                                'test_accuracy': test_accuracy_multiple_runs,\n",
        "                                'f1_macro': f1_macro_multiple_runs,\n",
        "                                'f1_weighted': f1_weighted_multiple_runs,\n",
        "                                'hyperparams': hyperparams,\n",
        "                                }"
      ],
      "execution_count": 34,
      "outputs": []
    },
    {
      "cell_type": "markdown",
      "metadata": {
        "id": "w7NddQfAN1uk"
      },
      "source": [
        "#MNIST MLP on Non-IID"
      ]
    },
    {
      "cell_type": "markdown",
      "metadata": {
        "id": "YjGaNhZaRgD-"
      },
      "source": [
        "##Train"
      ]
    },
    {
      "cell_type": "code",
      "metadata": {
        "id": "uR3WgpV7l7ES",
        "colab": {
          "base_uri": "https://localhost:8080/",
          "height": 1000
        },
        "outputId": "92f08a50-a770-4ca7-b2a8-5c07b70cb9f6"
      },
      "source": [
        "train_loss_multiple_runs = [None] * NUM_REPEAT\n",
        "test_accuracy_multiple_runs = [None] * NUM_REPEAT\n",
        "test_loss_multiple_runs = [None] * NUM_REPEAT\n",
        "f1_macro_multiple_runs = [None] * NUM_REPEAT\n",
        "f1_weighted_multiple_runs = [None] * NUM_REPEAT\n",
        "\n",
        "for exp_num in range(NUM_REPEAT):\n",
        "  print(\"Experiment Run Number: \", exp_num)\n",
        "  \n",
        "  # number of training rounds\n",
        "  rounds = 50\n",
        "  # client fraction\n",
        "  C = 0.5\n",
        "  # number of clients\n",
        "  K = 100\n",
        "  # number of training passes on local dataset for each roung\n",
        "  E = 5\n",
        "  # batch size\n",
        "  batch_size = 10\n",
        "  # learning Rate\n",
        "  lr=0.05\n",
        "  # fairness\n",
        "  q = 0.001\n",
        "  # sampling\n",
        "  # sampling = 'uniform'\n",
        "  sampling = 'weighted'\n",
        "\n",
        "  # dict containing different type of data partition\n",
        "  data_dict = non_iid_partition(mnist_data_train, 100, 200, 300, 2)\n",
        "  # load model\n",
        "  mnist_mlp = MNIST_2NN()\n",
        "\n",
        "  if torch.cuda.is_available():\n",
        "    mnist_mlp.cuda()\n",
        "\n",
        "  mnist_mlp_non_iid_trained, train_loss, test_accuracy, test_loss, f1_macro, f1_weighted = training(mnist_mlp, rounds, batch_size, lr, mnist_data_train, mnist_data_test, data_dict, C, K, E, q, sampling, \"MNIST MLP on Non-IID Dataset\", \"green\")\n",
        "\n",
        "  train_loss_multiple_runs[exp_num] = train_loss\n",
        "  test_accuracy_multiple_runs[exp_num] = test_accuracy\n",
        "  test_loss_multiple_runs[exp_num] = test_loss\n",
        "  f1_macro_multiple_runs[exp_num] = f1_macro\n",
        "  f1_weighted_multiple_runs[exp_num] = f1_weighted\n",
        "\n",
        "  criterion = nn.CrossEntropyLoss()\n",
        "  acc, loss, f1_macro, f1_weighted = testing(mnist_mlp_non_iid_trained, mnist_data_test, 128, criterion, num_classes, classes_test, True)"
      ],
      "execution_count": 35,
      "outputs": [
        {
          "output_type": "stream",
          "text": [
            "Experiment Run Number:  0\n",
            "Round: 1 Picking 50/100 clients: [83  7  2 12 47 13 87 15 60 61 92 68 58 25 45 26 96 64  3 72 49  0 31  9\n",
            " 59 27 20 81 48 82 66 14 40 19 44 54  8 53 41 93  6 65 95 80 38 51 23  1\n",
            " 63 24]\n",
            "Round: 1... \tAverage Loss: 0.095\n",
            "Round: 2 Picking 50/100 clients: [42 14 30  8 27 46 25  6 78 54  4 51 63 68 33 38  2 20  9 43 77 82 87 35\n",
            " 44 96 95 37 47 84 59 72 81 75 92 70 28 55 11 22 58 56 50 93 31 39 10 76\n",
            " 62 89]\n",
            "Round: 2... \tAverage Loss: 0.05\n",
            "Round: 3 Picking 50/100 clients: [50  0 91  6 34 10  7 75 92  5 37 40 67  9 89 77 80 19 78 95 96 26 83 44\n",
            " 15 86 88 90 56 47 72 22 57 46 81 20 70 71 14 66 43 52 29 18 21 42 93 98\n",
            " 76 84]\n",
            "Round: 3... \tAverage Loss: 0.033\n",
            "Round: 4 Picking 50/100 clients: [20 45 43 44 35 99 15 73  1 75 66 22 71  0 90 58 31  9 82 92 61  4 76 84\n",
            " 54 14 57 36 52 30 28 23 12 80 10 29 18 13 79 51 63 87 46 94 78 74 27 48\n",
            " 42 69]\n",
            "Round: 4... \tAverage Loss: 0.03\n",
            "Round: 5 Picking 50/100 clients: [75 86 21 77 18 85 67  8 71 32 24 82  9 28 55 62 57 19 22  7 72 20  2 45\n",
            " 48 79 51 50 17 87 40 93 73  5 26 60 88 12 61  1 49 69 96 94 52 38 58 33\n",
            "  3 36]\n",
            "Round: 5... \tAverage Loss: 0.024\n",
            "Round: 6 Picking 50/100 clients: [88 25 15 62  4 50 41 23 95 80 13 79 75 51 83 87 91 70  2 89 90 36 92 16\n",
            " 72 60 43 47 27 96  1 34 68 46 12 33 53 99 69 56 10 32 22 35 29 48 82  9\n",
            " 55 42]\n",
            "Round: 6... \tAverage Loss: 0.015\n",
            "Round: 7 Picking 50/100 clients: [34  3 49 15 91 68 33 99 59 50  8 26 25 16 64 51 76 92 81 31 69 94 84 28\n",
            " 79 70 80 40 39 58 71 22  9  2 82 98 55 12 37 61 21 42 83 86 43 96 23 85\n",
            " 27 38]\n",
            "Round: 7... \tAverage Loss: 0.015\n",
            "Round: 8 Picking 50/100 clients: [33 66 73 76 20  6 70 47 84 79 93 34  2 37 72 23 16 61 15 74 25 69 35 39\n",
            "  5 92 82 89 41  7 58 60 49 46  0 28 98 94 78 75 95 17 43 29 48 26 13  4\n",
            " 85 87]\n",
            "Round: 8... \tAverage Loss: 0.013\n",
            "Round: 9 Picking 50/100 clients: [20 90 21 42 66 48  5 36 46  3 13 75 25 81 62 64 96 63 53  2 12 55 85 40\n",
            " 92 17 74 44 72 26 77 57 70 24 14 61 78 76 68 59  1 88 93 33 54 45  7 19\n",
            " 94 71]\n",
            "Round: 9... \tAverage Loss: 0.011\n",
            "Round: 10 Picking 50/100 clients: [15 55 68 41  4 69 62 96 21  0 84 67 91 92  9  1  2 28 50 98 17 80 25 48\n",
            " 60 52 56 14 99 54 24 65 72 78 30 73 58 12 38 16 70 59 63 74 49 86 10 66\n",
            " 46 83]\n",
            "Round: 10... \tAverage Loss: 0.01\n",
            "Round: 11 Picking 50/100 clients: [27 75 48 81 88 86 61 84 33 16 28 64  3 38 90  0  7 41 65 53 54 59 11 29\n",
            " 83 85 57 82 35 45  9 26 87 69 63  4 42 47 32 68 49 67 37 50 15 97 56 70\n",
            " 95 89]\n",
            "Round: 11... \tAverage Loss: 0.008\n",
            "Round: 12 Picking 50/100 clients: [27 57 65 70 50 98 60 26 40 53 16  6  8 84 38 63 59 75 85 48 66  7 25 18\n",
            "  1 77  4 92 52 93 73 31 99  3 47 76 87 12 34 11 24 23 21 96 43  5 15 88\n",
            " 95 91]\n",
            "Round: 12... \tAverage Loss: 0.008\n",
            "Round: 13 Picking 50/100 clients: [64 95 42 52 82 55  8 72 76  2 77 48 74 25 17 15 45 35 63 61  5 91 73 50\n",
            "  1 58 36 34 98 69 80 14 87 53 26 85 71 21 19 54 78 57 62 12 27 67 28 30\n",
            " 46 88]\n",
            "Round: 13... \tAverage Loss: 0.008\n",
            "Round: 14 Picking 50/100 clients: [51 18 25 12 36  8 88 24  6 37 31 91  1 63 93 57 34 84 13 14 27  4 42 96\n",
            " 10 90 55 66 47 82 33  3  5 68 86 48 21 39 45 32 70 72 89 43 38  9  7 16\n",
            " 26 54]\n",
            "Round: 14... \tAverage Loss: 0.007\n",
            "Round: 15 Picking 50/100 clients: [19 36 43 71 54 35  2 70 50  7 98 31 21 53 88 15 39 12 22 73 10 34  0 68\n",
            " 80  1 87 66 11 97 93 45 26 75 32 62 27 76 29 69 17 67 79 83 18 49 46 60\n",
            " 99  4]\n",
            "Round: 15... \tAverage Loss: 0.004\n",
            "Round: 16 Picking 50/100 clients: [94 80 32 82 84 89 49 99 67 58 20 92 11 13 47 19 23  0 63 55 83 14 76 17\n",
            " 78 16 54 51 81  7  6 68 42 59 39 40 31 22 30 33 61 70 57 48 64 27 35 21\n",
            " 91 45]\n",
            "Round: 16... \tAverage Loss: 0.009\n",
            "Round: 17 Picking 50/100 clients: [95 15 53 62 67  5 57 33 43 26 77 31 66 64 63 97 76 50  7 86 25 56 52 22\n",
            "  1 34 35 21 18 71 93 65 19 89 60 14 23 27 41 37 48 88 47  9 11 82 91 78\n",
            " 83  2]\n",
            "Round: 17... \tAverage Loss: 0.006\n",
            "Round: 18 Picking 50/100 clients: [ 7 88 59 97 66 68  6 20 53 13 90 41 21  2 73 92 60 47 58 81 52  0 10 85\n",
            " 72  4 77 25 84 42 94 23 87 57 18 89 36 27 44 69 99 83 12  5 74 39 80 28\n",
            " 93 51]\n",
            "Round: 18... \tAverage Loss: 0.003\n",
            "Round: 19 Picking 50/100 clients: [95 41 81 52 33 87 20 10 75 27  1 80 22 74 85 79 23 47 21  8 72 71 91 73\n",
            " 11 15 77 36 88  6 84 42 93  9 14 64  0 17 70 60 46 24 13 39 45  7 61 35\n",
            " 56 83]\n",
            "Round: 19... \tAverage Loss: 0.004\n",
            "Round: 20 Picking 50/100 clients: [76 82 54 67 11 75 46 14 45 57 17 96 60 19 85 65 42  4 23 56 36 58 66 27\n",
            " 51 12 73 39  5 49 70 61 68 53 24 95 64  6 69  7 71 16 91 83 89 10 77 41\n",
            " 98 74]\n",
            "Round: 20... \tAverage Loss: 0.003\n",
            "Round: 21 Picking 50/100 clients: [78 18 72 36 17 64 34 42 24 66 35 99 76 39 97 16 63 67 91 80  3 40 48 47\n",
            " 68 45 29  8 53 77 31 57 95  2  5 79 28 73  6 27 54 26 49 90 81 71 83 94\n",
            " 98 74]\n",
            "Round: 21... \tAverage Loss: 0.007\n",
            "Round: 22 Picking 50/100 clients: [83 41 15 67 25 85 78  4 80 68 77 82  3 76 37 63 96 73 44 16  8 20 12 59\n",
            " 79 60 62 26 95 46 65 30 61 52  5 93 40 70 45 19 75 74 99 94 64 13 69 47\n",
            " 34 92]\n",
            "Round: 22... \tAverage Loss: 0.007\n",
            "Round: 23 Picking 50/100 clients: [81  0 40 89 64 11 17 35 49 96 65 29 70 57 67 24 74 32 47 31  9  8 60 80\n",
            " 69 91 73 83 28  3 18 82 46 13 62 99 90 12 79 16 55 59 14 85 78 97 26 84\n",
            " 88 37]\n",
            "Round: 23... \tAverage Loss: 0.003\n",
            "Round: 24 Picking 50/100 clients: [85 88 71 93 36 96 32 99 41  4 77 92 47 13 25 90 19 58 75 40 68 42  5 34\n",
            " 69 95 73 39 63 83 80 65 79 81 30 50 97 23 61 43 57  0 51 91 18 74  7 82\n",
            " 11 45]\n",
            "Round: 24... \tAverage Loss: 0.003\n",
            "Round: 25 Picking 50/100 clients: [73  0 93 91 65 38 84  9 44 40 45 58  7 10 98 74 12 48 54 50 86 97 77 55\n",
            " 83 70 49 61 37 15 25  4 67 41 80 53 92 72 88 42 22 96 94 82 14 68 63 29\n",
            " 34 31]\n",
            "Round: 25... \tAverage Loss: 0.002\n",
            "Round: 26 Picking 50/100 clients: [10 82 25 64 43 81 12 91 30 45 59  4 50 62  3 94 74 99 93 89 32 38 27 70\n",
            " 11 58 28 20  0 16 76 39 69 87  2 61 88 41 23 46  5 15 53 73 90 77 13 71\n",
            " 86 33]\n",
            "Round: 26... \tAverage Loss: 0.003\n",
            "Round: 27 Picking 50/100 clients: [63 83  1 24 29  7 11 45 71 66 39  3 53 26 89  0 37 21 82 94 77 72 22 99\n",
            " 56 67 95 48  6 33 98 80 86 97 28 78 17 60 52 19 64 25 93 88 51 12  8 76\n",
            " 91 14]\n",
            "Round: 27... \tAverage Loss: 0.006\n",
            "Round: 28 Picking 50/100 clients: [57 42 90 52 62 25 96 13 83 86 58 31 50 63  2 59 23 76 35 40 70 79 87 39\n",
            " 64 34 20 69 43 26 24 18 14 33  0 46 32 68 36  7 53 84 88 38  5 37 75 94\n",
            " 15  6]\n",
            "Round: 28... \tAverage Loss: 0.002\n",
            "Round: 29 Picking 50/100 clients: [15 32  3 89  8 25 16 76  5 34 70 60 10 42 98 51 52 38 91 56 84 85 14 82\n",
            "  9  1 80 69 53 68 41 86 24 49 20 19 47 73 90 31  4 61 72 44 93 40 96 29\n",
            "  0 59]\n",
            "Round: 29... \tAverage Loss: 0.002\n",
            "Round: 30 Picking 50/100 clients: [59 40 56  3 42 88 68 61 79 12 22 36 63 84 32  6 37 75 26 67 86 87 90 13\n",
            " 55 65 78 83 17 28  8 70 34 82 20 94 60 43 39 69 44 46 18 64 35 95  7 15\n",
            " 47 45]\n",
            "Round: 30... \tAverage Loss: 0.002\n",
            "Round: 31 Picking 50/100 clients: [88 59 61 38 80 31 77 18 76 46 98 66 83 79  3 27 64  5 53 81 67 29 58 26\n",
            " 33 51 94 13 19 10 23 24 14 54 73 62 78  0 34 91 86 21 11 85  2 47 99 93\n",
            "  7 55]\n",
            "Round: 31... \tAverage Loss: 0.002\n",
            "Round: 32 Picking 50/100 clients: [ 1  5 74 92 90 72 63 67 28 84 97 75 76 83 55 29 53 18 61 82 94 22 45 80\n",
            " 21 43 66 35 62 23 81 26 15 69 37 27 73 91 39 38 56 49 25  0 57 85 19 11\n",
            " 46 64]\n",
            "Round: 32... \tAverage Loss: 0.002\n",
            "Round: 33 Picking 50/100 clients: [80 87 30 86  0 66 14 43 21 45 31  1 36 85 58 72 99 96 17 19 91  9 71 61\n",
            " 13 15 93 74  8 34 16 78 73 70 64 48 33 40  6 42 49 54 26  3 65 22 39 59\n",
            " 25 29]\n",
            "Round: 33... \tAverage Loss: 0.003\n",
            "Round: 34 Picking 50/100 clients: [29 96 94  1 85 32 54 66 65 59 35 53 40 67 63 55 58 48 87 39 98 86 38 16\n",
            " 47 69 79 77 80 41 27 24 45 42 22 57 88 30 17 93 14  2 11 99 83 10  3 13\n",
            " 74 28]\n",
            "Round: 34... \tAverage Loss: 0.002\n",
            "Round: 35 Picking 50/100 clients: [36  2 46 81 14 16 19 31  0 18 55 29 33 50 42 37 59 53 80 52 40 62 93 54\n",
            " 38 30 34  6  1 74 39 86 89  3 95 98 64 58 91 23 69 45  5 84 67 26 22 78\n",
            " 63 99]\n",
            "Round: 35... \tAverage Loss: 0.004\n",
            "Round: 36 Picking 50/100 clients: [41 70 15 84 75  0 27 81 99  4  9 12 49 58  5 94 33 77  8 85 74  3 88 66\n",
            " 31 42 43 36 79 52 89 23 73 87 82 26 13 32 39 90  2  1 40 50 35 72 97 37\n",
            " 57 76]\n",
            "Round: 36... \tAverage Loss: 0.003\n",
            "Round: 37 Picking 50/100 clients: [48 51  6 14 27 88 65 55 58 74 86 72 56 16 40  7 44 91 76 87 96 18 15 12\n",
            " 75 11 22 34 49 35 17 13 20 26  3 99 68 59 25 30 63  1 60 36 53 90  8 32\n",
            " 54 31]\n",
            "Round: 37... \tAverage Loss: 0.002\n",
            "Round: 38 Picking 50/100 clients: [ 2 12 78  7 57 92 82 26 94 55 25 16 77 84 28 66  6 73 96 53 88 74 37 68\n",
            "  3 33 48 22 81 39 87 76 27  8 11 32 98 64 70 59 40 75 18 36  9 54 24  0\n",
            " 50 38]\n",
            "Round: 38... \tAverage Loss: 0.002\n",
            "Round: 39 Picking 50/100 clients: [10 87 24 86 16 33 30 70 54 22 76 36 74 23 40 19 29 34  2 93 27 45 62 64\n",
            " 17 32 97 69 38  3 68 50 41 49 98 88  0 25 46 92 52 26  8 81 11 20 43 67\n",
            " 53 47]\n",
            "Round: 39... \tAverage Loss: 0.003\n",
            "Round: 40 Picking 50/100 clients: [51 50 87 27 23 19 66 69 64 99 44  9 59 71 94 62 79 60 39 22 36 48 30 42\n",
            " 98 12  7 93 72 75 26 85 38 49 91 76 97 80 18 10 37 41 84 61 81 11 63 95\n",
            " 31 20]\n",
            "Round: 40... \tAverage Loss: 0.002\n",
            "Round: 41 Picking 50/100 clients: [42 47 90 52 11 49 69 76 63 99 58 20 98  0 31 87 54 45  2 23 62 22 13 10\n",
            " 88 83 66 73 18 92 72 55 41 65 93 61 46 82  6 24 81 33 32  5 74 30 29 68\n",
            " 97 15]\n",
            "Round: 41... \tAverage Loss: 0.003\n",
            "Round: 42 Picking 50/100 clients: [ 1 59 92 89 63  2 24 34 95 20 12 33 52 19 32 11 35 25 15 26 82 39 85 17\n",
            " 66 42 30  5 28 77 31 61 68  6 76  8 90 78 48 73 99 49 38 72 81 55 60 21\n",
            " 45  7]\n",
            "Round: 42... \tAverage Loss: 0.001\n",
            "Round: 43 Picking 50/100 clients: [ 6 93  0 59 29 47 30 84 71 52  4 42 39 49 72 81  3 62 53 95 36  9 19 33\n",
            " 34 40 88 58 87 20 60 55 96 13 83 78 73  1 31 67 70 32 46 10 69  2 43 15\n",
            " 26 64]\n",
            "Round: 43... \tAverage Loss: 0.003\n",
            "Round: 44 Picking 50/100 clients: [ 3 84 69 65 38  0 40 68 47 78 64 79 91 44 87 85 59 37 86 81 41  6 27 67\n",
            " 94 30 33 36 25 53 80 63  8 22 45 11 75 74 77 54 70 72 50 13 23 62 32 48\n",
            "  2 35]\n",
            "Round: 44... \tAverage Loss: 0.001\n",
            "Round: 45 Picking 50/100 clients: [90 34 44 97 64 28 31 20 17 37 40 76 42 88 65 60 51  4 91 69 66  3 49 41\n",
            " 95 61 84 12 11 77 38  9 75 54 36 10 21 25 46 48 16 22 55 29 79 59 71 74\n",
            " 67 98]\n",
            "Round: 45... \tAverage Loss: 0.003\n",
            "Round: 46 Picking 50/100 clients: [81 71 84 25 66 42 33 75 40 55 38 41 18 68 49 99 74 65 15  0 87  2 80 53\n",
            " 72 70 82 73 54 69 83 62 88 90 27 96 67 21 19  9 51  5 12 20  3  7 78 36\n",
            " 13 76]\n",
            "Round: 46... \tAverage Loss: 0.002\n",
            "Round: 47 Picking 50/100 clients: [55 60 87 45 10 89 93 14 31 54  2 56 79 76 48  8 84 33 94 61  7 22 70 39\n",
            " 66  0 16  9 72  1 74 36 37 92 49 50 29 19 71 91 85 99 81 26 13 57 51 23\n",
            " 24 59]\n",
            "Round: 47... \tAverage Loss: 0.004\n",
            "Round: 48 Picking 50/100 clients: [75 59 11 99 51 23 52 31  6 93 28 19 46 37  3 85 88 55 33  4 82 41 66 24\n",
            "  5 16  7 27 62 14 36 54 34 40 12 21 35 71 61 53 80 91 48 86 73 96 13 87\n",
            " 38 22]\n",
            "Round: 48... \tAverage Loss: 0.002\n",
            "Round: 49 Picking 50/100 clients: [24 97 54  2 93 18 15 81 42 57 16 59 76 90 22  1 25 72 74 82 34 31 94 47\n",
            " 37 40 39 73 19 13 33 30 79 91 41 78 61 27 92 49 84 23 75 88 45 36 46 67\n",
            " 62  7]\n",
            "Round: 49... \tAverage Loss: 0.002\n",
            "Round: 50 Picking 50/100 clients: [40 57 83 51 58 15 59 74 13 90  0 28  8 56 60 53 50 18 35  4  2 31  5 69\n",
            " 45 46 93 66 19 63 55 49 81 96 41 64 47 72 97 29 67 14 34 52 44 68 89 79\n",
            " 33 20]\n",
            "Round: 50... \tAverage Loss: 0.004\n"
          ],
          "name": "stdout"
        },
        {
          "output_type": "display_data",
          "data": {
            "image/png": "[encoded data removed]",
            "text/plain": [
              "<Figure size 432x288 with 1 Axes>"
            ]
          },
          "metadata": {
            "tags": [],
            "needs_background": "light"
          }
        },
        {
          "output_type": "display_data",
          "data": {
            "image/png": "[encoded data removed]",
            "text/plain": [
              "<Figure size 432x288 with 1 Axes>"
            ]
          },
          "metadata": {
            "tags": [],
            "needs_background": "light"
          }
        },
        {
          "output_type": "display_data",
          "data": {
            "image/png": "[encoded data removed]",
            "text/plain": [
              "<Figure size 432x288 with 1 Axes>"
            ]
          },
          "metadata": {
            "tags": [],
            "needs_background": "light"
          }
        },
        {
          "output_type": "display_data",
          "data": {
            "image/png": "[encoded data removed]",
            "text/plain": [
              "<Figure size 432x288 with 1 Axes>"
            ]
          },
          "metadata": {
            "tags": [],
            "needs_background": "light"
          }
        },
        {
          "output_type": "display_data",
          "data": {
            "image/png": "[encoded data removed]",
            "text/plain": [
              "<Figure size 432x288 with 1 Axes>"
            ]
          },
          "metadata": {
            "tags": [],
            "needs_background": "light"
          }
        },
        {
          "output_type": "stream",
          "text": [
            "Training Done!\n",
            "Total time taken to Train: 254.21831965446472\n",
            "\n",
            "\n",
            "Test Loss: 2.660002\n",
            "\n",
            "Test Accuracy of     0: 92% (906/980)\n",
            "Test Accuracy of     1: 97% (1109/1135)\n",
            "Test Accuracy of     2: 69% (720/1032)\n",
            "Test Accuracy of     3: 71% (723/1010)\n",
            "Test Accuracy of     4:  0% ( 0/982)\n",
            "Test Accuracy of     5: 93% (837/892)\n",
            "Test Accuracy of     6:  0% ( 0/958)\n",
            "Test Accuracy of     7: 94% (975/1028)\n",
            "Test Accuracy of     8: 79% (771/974)\n",
            "Test Accuracy of     9: 86% (871/1009)\n",
            "\n",
            "Final Test  Accuracy: 69.120 (6912/10000)\n",
            "F1 Score: 0.617227 (macro) 0.624795 (weighted) %\n",
            "\n"
          ],
          "name": "stdout"
        }
      ]
    },
    {
      "cell_type": "code",
      "metadata": {
        "id": "YPHkKmdZOFFi"
      },
      "source": [
        "hyperparams = {'rounds': rounds,\n",
        "               'C': C,\n",
        "               'K': K,\n",
        "               'E': E,\n",
        "               'batch_size': batch_size,\n",
        "               'lr': lr,\n",
        "               'q': q,\n",
        "               'sampling': sampling\n",
        "               }\n",
        "\n",
        "log_dict['MNIST MLP on Non IID'] = {'train_loss': train_loss_multiple_runs, \n",
        "                                'test_loss': test_loss_multiple_runs, \n",
        "                                'test_accuracy': test_accuracy_multiple_runs,\n",
        "                                'f1_macro': f1_macro_multiple_runs,\n",
        "                                'f1_weighted': f1_weighted_multiple_runs,\n",
        "                                'hyperparams': hyperparams,\n",
        "                                }"
      ],
      "execution_count": 36,
      "outputs": []
    },
    {
      "cell_type": "code",
      "metadata": {
        "id": "scwj7W600UOR"
      },
      "source": [
        "import pickle\n",
        " \n",
        "with open(path + 'MNIST_qFFL_stragglers0_1.pkl', 'wb') as file:\n",
        "  pickle.dump(log_dict, file)"
      ],
      "execution_count": 37,
      "outputs": []
    },
    {
      "cell_type": "markdown",
      "metadata": {
        "id": "7JOrGXijO-n5"
      },
      "source": [
        "#MNIST CNN on IID"
      ]
    },
    {
      "cell_type": "markdown",
      "metadata": {
        "id": "LlfMgPCnPG24"
      },
      "source": [
        "##Train"
      ]
    },
    {
      "cell_type": "code",
      "metadata": {
        "id": "MQnkaV-kOw7J",
        "colab": {
          "base_uri": "https://localhost:8080/",
          "height": 1000
        },
        "outputId": "79cee759-cb86-45c5-eaf8-f6cee980f1f1"
      },
      "source": [
        "train_loss_multiple_runs = [None] * NUM_REPEAT\n",
        "test_accuracy_multiple_runs = [None] * NUM_REPEAT\n",
        "test_loss_multiple_runs = [None] * NUM_REPEAT\n",
        "f1_macro_multiple_runs = [None] * NUM_REPEAT\n",
        "f1_weighted_multiple_runs = [None] * NUM_REPEAT\n",
        "\n",
        "for exp_num in range(NUM_REPEAT):\n",
        "  print(\"Experiment Run Number: \", exp_num)\n",
        "\n",
        "  # number of training rounds\n",
        "  rounds = 50\n",
        "  # client fraction\n",
        "  C = 0.5\n",
        "  # number of clients\n",
        "  K = 100\n",
        "  # number of training passes on local dataset for each roung\n",
        "  E = 5\n",
        "  # batch size\n",
        "  batch_size = 10\n",
        "  # learning Rate\n",
        "  lr=0.05\n",
        "  # fairness\n",
        "  q = 0.001\n",
        "  # sampling\n",
        "  # sampling = 'uniform'\n",
        "  sampling = 'weighted'\n",
        "  # data partition dictionary\n",
        "  iid_dict = iid_partition(mnist_data_train, 100)\n",
        "  # load model\n",
        "  mnist_cnn = MNIST_CNN()\n",
        "\n",
        "  if torch.cuda.is_available():\n",
        "    mnist_cnn.cuda()\n",
        "\n",
        "  mnist_cnn_iid_trained, train_loss, test_accuracy, test_loss, f1_macro, f1_weighted = training(mnist_cnn, rounds, batch_size, lr, mnist_data_train, mnist_data_test, iid_dict, C, K, E, q, sampling, \"MNIST CNN on IID Dataset\", \"orange\")\n",
        "\n",
        "  train_loss_multiple_runs[exp_num] = train_loss\n",
        "  test_accuracy_multiple_runs[exp_num] = test_accuracy\n",
        "  test_loss_multiple_runs[exp_num] = test_loss\n",
        "  f1_macro_multiple_runs[exp_num] = f1_macro\n",
        "  f1_weighted_multiple_runs[exp_num] = f1_weighted\n",
        "  \n",
        "  criterion = nn.CrossEntropyLoss()\n",
        "  acc, loss, f1_macro, f1_weighted = testing(mnist_cnn_iid_trained, mnist_data_test, 128, criterion, num_classes, classes_test, True)"
      ],
      "execution_count": 38,
      "outputs": [
        {
          "output_type": "stream",
          "text": [
            "Experiment Run Number:  0\n",
            "Round: 1 Picking 50/100 clients: [ 3 15 79 13 62 21 17 28 54 16 53 77 46 43  6 86 76 69 49 81 89 19 27 83\n",
            " 68 94 22 25 74 48 20 85  5  9  1 40 95  2 38 30 47 88 65 66 10 84 64 37\n",
            " 87 51]\n",
            "Round: 1... \tAverage Loss: 0.479\n",
            "Round: 2 Picking 50/100 clients: [ 0 57 51 58 60 75 84 55 15 20 69  5 28 35 63  3 11 22 61 78 83 98 26 14\n",
            " 31 77 59 50 39 74 54 36 80 97  8 52 82 18 99 43 95 66 41 62  4  1 88 53\n",
            "  7 48]\n",
            "Round: 2... \tAverage Loss: 0.17\n",
            "Round: 3 Picking 50/100 clients: [12 98 94 36 35 25 10 76 32 64 69 18  9 53 71 22 96 29 28 73 85 59 26 27\n",
            " 66  2 21 24 86 49 16 48 33 38 31 62 37 87 70 65 58 75 43 47 40 72 68 14\n",
            " 84  8]\n",
            "Round: 3... \tAverage Loss: 0.093\n",
            "Round: 4 Picking 50/100 clients: [31 21  2 59 32 22 96 79 26 15 16 56 75 66 90 28 52 67 76 29 39 27 36 25\n",
            "  7 12 72 81 74 47 30 11 86 80 35 91 61 98 38  0 97 34 41 55 93 87  1 70\n",
            " 71 60]\n",
            "Round: 4... \tAverage Loss: 0.072\n",
            "Round: 5 Picking 50/100 clients: [28 96 53 57 88 79 49 64 95 86 83 72  1 56 62 76  8 26  9 15 65 20 12 61\n",
            " 99 90 48 46 82 25 51 60  5 19 23 45 98 97 94 58 13 70 22 77 73 87 91 55\n",
            " 18  4]\n",
            "Round: 5... \tAverage Loss: 0.053\n",
            "Round: 6 Picking 50/100 clients: [32 57 95 72 66 39 44 84  5 65 42 60 62 19  3 38 87 10 25 81 18 37 12 47\n",
            " 34 91 20 90 64 35 46 97 74  7 86 77 31 71 17 45 88 61 55 53 68 69 83 27\n",
            " 94 51]\n",
            "Round: 6... \tAverage Loss: 0.045\n",
            "Round: 7 Picking 50/100 clients: [ 1 19 71 46  2 35 12 56 81 94 93 34  8 68 75 91 74 53 20 89 37 67 82 70\n",
            " 10 97 88 72 41 50 32 24 25 78 83 11 73 31 84 38 52  0 61 22  6 85 87 77\n",
            " 69 45]\n",
            "Round: 7... \tAverage Loss: 0.036\n",
            "Round: 8 Picking 50/100 clients: [79 56 32 42 67 93  8  4 80 57 66 63 12  1 24 43 25 96 26 70 92  9 91 22\n",
            " 39 52 11  7 90 16 60 13 33 86  2 98 81 62 85 21 23  5 29 88 75 18 14 44\n",
            " 19 58]\n",
            "Round: 8... \tAverage Loss: 0.028\n",
            "Round: 9 Picking 50/100 clients: [31 83 68 27 56  2 55 41 54 47 21  0 92 81 78 98 77 67 38 46 52 48 85 44\n",
            " 66 37 57 14 18 49  8 28 30 94 65 71 63 58 99 73 72 53 70 86 16 88 15 36\n",
            " 23 95]\n",
            "Round: 9... \tAverage Loss: 0.029\n",
            "Round: 10 Picking 50/100 clients: [55 16 48 12 74  3 19 53 78 37 86 25 64 56 72 54 51 95 41  9 83 22 36 69\n",
            "  2 17 59 84 40 38 42 35 52 21  7 99 91 90 80 88 47 61 71 66 65 24 79 77\n",
            " 73 93]\n",
            "Round: 10... \tAverage Loss: 0.015\n",
            "Round: 11 Picking 50/100 clients: [99 43  0 65 76 77 20 18 48 44 23 16 94  6 84 24 34 33 87 52 17 21  3 88\n",
            " 38 10 90 69 19 25 41 30 81 28 59 31 49 80 73 67  5 12 66 83 47 35 79 96\n",
            " 26  7]\n",
            "Round: 11... \tAverage Loss: 0.026\n",
            "Round: 12 Picking 50/100 clients: [24 74 57 66 33 15 87  0  8 89 71 51 93 58 30 46 82 31 72 81 32 13 53 50\n",
            "  5  1 59 73 39 38  2 12 22 25 45 42 34 85 41  6 35 69 77 61 40 95 48 47\n",
            " 10 97]\n",
            "Round: 12... \tAverage Loss: 0.023\n",
            "Round: 13 Picking 50/100 clients: [92 40 44 73 78 79 19 98 93 62 86 61  0 97 83 89 59 39 36 77 16 55 63 90\n",
            " 43 75 24 54 18 74 11 60 22 37 85  6 34 38 82 76 51 72 30  7 14 94 52  9\n",
            " 84 81]\n",
            "Round: 13... \tAverage Loss: 0.004\n",
            "Round: 14 Picking 50/100 clients: [83 59 87 22 45 38 65 76 12 43 50 73 51  7 37 52 91 47 32 92 11 55 88 17\n",
            " 20 16  3 63  8 81 29 31 49  9 90 89 62 53  1 69  5 99 97  2 48 10 21 96\n",
            " 39 26]\n",
            "Round: 14... \tAverage Loss: 0.015\n",
            "Round: 15 Picking 50/100 clients: [ 7 31 11 34 80 50 99 33 45 23 68 57 84 70 56 93 39 13 69 76 25 46 12 98\n",
            "  4 51 27 55  9 53 95 89  1 17 49 20 61 52 59 19 37 36 38 94 92 44 91 48\n",
            " 90 77]\n",
            "Round: 15... \tAverage Loss: 0.008\n",
            "Round: 16 Picking 50/100 clients: [57 31 92  5 71  6 24 46 26 77 19 70 27 39 68 75 83 35 54 18 38  8 16 81\n",
            " 96 80 53 36 82 63 99 62 14 42 84 85 49 61 29 73 98 40 74 20 64 41 25 94\n",
            "  9 51]\n",
            "Round: 16... \tAverage Loss: 0.008\n",
            "Round: 17 Picking 50/100 clients: [78 80 60 51 71 70 76 50 32 37  2 93 25 41 98 84 44 22  5 83  9  0 64 13\n",
            " 23 73 77 17 85 69 11 87 91 10 94 14 30  1 55 40  3 48 15 35 90 36 26 59\n",
            " 62  7]\n",
            "Round: 17... \tAverage Loss: 0.007\n",
            "Round: 18 Picking 50/100 clients: [41 94 32 52 47 43 70 22 56 71 17 45 28 13 60 95 67 12 87 62 46 84 53  8\n",
            " 82 91  0 73 48 58 81 42 61 55 64 65  6 75 49 68 77 57 35 36 99 20 16 79\n",
            "  4 76]\n",
            "Round: 18... \tAverage Loss: 0.002\n",
            "Round: 19 Picking 50/100 clients: [28 17 73 63  7  1 71 23 34 75 61 95 10 76  2 72  5 79 89 81 39 49 94 46\n",
            "  3 45 55 66 67 50 80 60 96 65 31  4  8 24 12 42 90 59 14 41 54 13 85 43\n",
            " 62 15]\n",
            "Round: 19... \tAverage Loss: 0.004\n",
            "Round: 20 Picking 50/100 clients: [82 70 58 89 84 34 76 85  1 90 17 32 65 80 29 30 78 71  0 53  8 92 41 56\n",
            " 72 36 74 46 61 69 68 40 57 48 45 66 39 11 96 14 52 97 12 55  6 60 91 23\n",
            " 50  2]\n",
            "Round: 20... \tAverage Loss: 0.008\n",
            "Round: 21 Picking 50/100 clients: [81 31 46  7 75 78 72 11 41 91 49 17 89 38 51 77 28 86 57 80 64  9 87 43\n",
            "  6 52 96 55 54 37 23 99 24 27 35 18 73 16 76 84 98 47 63  2 71 90 92 45\n",
            " 59 62]\n",
            "Round: 21... \tAverage Loss: 0.001\n",
            "Round: 22 Picking 50/100 clients: [45 13 74 14 86 82 95 38 85 40 51 65 88  4  5  8 35  3 56 23 39  9 84 47\n",
            " 26 18 57 25 46 91 77 87 98 41 69 43 37  2 72 66  1 94 96 70 60 79 11 52\n",
            " 58 28]\n",
            "Round: 22... \tAverage Loss: 0.004\n",
            "Round: 23 Picking 50/100 clients: [82 17 75 31 99 11 60 43 70 14 91 46 32 92 13 96 62 34 79 95 37 39 16 86\n",
            " 20 55 24 45 54  4 28 78 26 30 83 49 87 33 66  2 21 19  6 40 89 71  9 85\n",
            " 59  5]\n",
            "Round: 23... \tAverage Loss: 0.005\n",
            "Round: 24 Picking 50/100 clients: [78 36 61 86 60 16 90 77 42 45 71 46 11 73 26 94 87 98 17 40 12 88 75 84\n",
            " 96 15 92 97  7 43 64 22  8 70 49 28 83 14 19 20 69 65 33 59 23  9 57 34\n",
            " 47 13]\n",
            "Round: 24... \tAverage Loss: 0.001\n",
            "Round: 25 Picking 50/100 clients: [68 76 55 92 78 20 21 38 97 73 48 39 32 46 54 98 47 36 25 12 27 17 65  0\n",
            " 24 63  7  8  1 10 53 74 84  5  6 67 94 33 42 29 91 62 95 60  9  4 50 35\n",
            " 85 22]\n",
            "Round: 25... \tAverage Loss: 0.002\n",
            "Round: 26 Picking 50/100 clients: [31  7 78 72 10 27  9 75 88 68 35 20 15 67 39 33 54 61 64 73 52 36 12  1\n",
            " 53 18  5 80 92 28 25 63 51 43 24 82 44 45 98  2 95 29 77 93 91 23 83 58\n",
            " 50 57]\n",
            "Round: 26... \tAverage Loss: 0.0\n",
            "Round: 27 Picking 50/100 clients: [65 57 27 59  2 52 53 68 19  7 15 60 49 46 38 75 21 73 34 96 97  9 78 67\n",
            " 77  1 95 30 92 11 85 99 35 76 80 29 40  4 74 70  6 83 42 91 79 50 98 41\n",
            " 48 32]\n",
            "Round: 27... \tAverage Loss: 0.002\n",
            "Round: 28 Picking 50/100 clients: [50 97 85 58 39 65 81 24 89 23 66  5 26 35 28  7 75 29 78 45 57 59 90 92\n",
            " 73 11 84 94  1 13 40 53 99 10 76 88 31  3 16 32 30 49 37 80 43 60  6 44\n",
            "  9 64]\n",
            "Round: 28... \tAverage Loss: 0.001\n",
            "Round: 29 Picking 50/100 clients: [31 39 54 83 29 73 89 80  1 90 85 96  5  7 21 50 53  4 86  3  0 58  8 76\n",
            " 74 34 56 33 59 78 92 36 81 49 43 97 41 20 16 32 45 60 11 57 14 84 24 79\n",
            " 26 47]\n",
            "Round: 29... \tAverage Loss: 0.002\n",
            "Round: 30 Picking 50/100 clients: [28 51 24 33 41 48 57 58 64 98 49 68 73 11 53 61 69 67 40 80 38 72 79 39\n",
            " 46  7 60 21 91 19 44 17 10  4  2 82 36 65 77 13 16 22 23 14 96 54 88 43\n",
            " 42 93]\n",
            "Round: 30... \tAverage Loss: 0.0\n",
            "Round: 31 Picking 50/100 clients: [84 60 38  9 68 83 87 15  6 11 17 51 82  1 47 63 70 56 85 22 25 39 79 20\n",
            " 49 16 36 93 27 53  2 19  4 26 72 67 46 43 48 44  7 30 10 58 73 18 24 29\n",
            " 59 66]\n",
            "Round: 31... \tAverage Loss: 0.001\n",
            "Round: 32 Picking 50/100 clients: [17  5  4 77 88 65 73 85 76 42 96 68 63 18 98 38 97 81 30 71 20 10 19 83\n",
            " 53 16  3 13  9 32 56 22 34 23 92  1  7 40 24 74 75 52 79 35 36  6 28 45\n",
            " 91 55]\n",
            "Round: 32... \tAverage Loss: 0.007\n",
            "Round: 33 Picking 50/100 clients: [49 74  0 70 91 26 98 81 51 53 72 47 17 71 30 75 36 76  5 52 96 12 21  4\n",
            " 90 67 89 13 69 63 86 44 57 85 50 55 93 45 14 15 65 29  9 66 40 24  1 88\n",
            " 94 54]\n",
            "Round: 33... \tAverage Loss: 0.0\n",
            "Round: 34 Picking 50/100 clients: [11 77 98 59 13 86 82 39 61 65 35 70 97 90 78 47 55  1 68 22 41 24 94 72\n",
            " 64 34 58 14 10 29 75 25 91 49 87 36 71 27 31 19 44 96 26 45 20 92 81 52\n",
            " 93 62]\n",
            "Round: 34... \tAverage Loss: 0.001\n",
            "Round: 35 Picking 50/100 clients: [68 97 79 46 81  8 48 31 84 23 58 38 72 71 62 14 10  7 64 74 56 77 11 24\n",
            " 96 40 26 42 49 83 45  3  4 29 15 80 33 70 86 30 99 57 67 91 16 37 90 78\n",
            " 92 60]\n",
            "Round: 35... \tAverage Loss: 0.0\n",
            "Round: 36 Picking 50/100 clients: [ 3 70 99  9 80 66 91 45 55 35 17 22 88 31 23 73 10 28 63 14 48 25 76 94\n",
            " 54 26 30 67 49 62 32 93 78 61 51 86 77 98 71 57 83 87 47 16 74 36 33 53\n",
            "  2 46]\n",
            "Round: 36... \tAverage Loss: 0.0\n",
            "Round: 37 Picking 50/100 clients: [54 70 58 32 12 71 55 14 87 57 36 90 10 30 44 69 66 40  8 62 56 33 46 25\n",
            " 43  5 64 94  2 53 60 95 47 82 51 11 73  7 79 99 96 18 93 80 16 72 34 20\n",
            " 52 91]\n",
            "Round: 37... \tAverage Loss: 0.0\n",
            "Round: 38 Picking 50/100 clients: [85 92 61 32 49 98  7  2  8 36 86 56 62 73  0 77 53 34 75 93 59 43 46  4\n",
            " 69 71 41 65 72 51 44 82 15 67 50 25 64 91 66 22 45 57 76 40 70 87  3 99\n",
            " 28  1]\n",
            "Round: 38... \tAverage Loss: 0.005\n",
            "Round: 39 Picking 50/100 clients: [16 73 72 91 68 27 23 41 34 45 39  0 84 15  8 99 95 69 63 30 52 36 64 94\n",
            " 74 14 60 57  1 49 50 76 87 44 71 78 17 42 77 33 81 88 83 98  3 56 93  9\n",
            " 79 55]\n",
            "Round: 39... \tAverage Loss: 0.001\n",
            "Round: 40 Picking 50/100 clients: [20 57 84 43 26 59  5 86 67 79 40 99 89 77 41 18 19 78 25 72 61 68 42 92\n",
            " 62  9 11  7 95 38 66 87 96  1 37  2 69 15 91 24 65 51 45 30 81 75 64 60\n",
            " 48 14]\n",
            "Round: 40... \tAverage Loss: 0.001\n",
            "Round: 41 Picking 50/100 clients: [ 6 14 33 75 82 27 18 97 35 38 45 29 70 83  7 80 72 85 22 26 78 94  9  3\n",
            " 87 58 77 68 39 69 73 98 51 40 42 95 62 93 28 20 17 30 36 65 76 50 67  5\n",
            " 59  0]\n",
            "Round: 41... \tAverage Loss: 0.0\n",
            "Round: 42 Picking 50/100 clients: [93 28 47  3 99 63 88 19 65 60  7  8 16 95 98 84 50 13 43 37 81 48 31 86\n",
            " 39 92 76 45 72 18 34 57 82 80 66 41 21 24 91  9 26 53 27 78 11 44 97 59\n",
            " 54  0]\n",
            "Round: 42... \tAverage Loss: 0.0\n",
            "Round: 43 Picking 50/100 clients: [62 70 29 15 51 93 89 18  7 25 24 84 95 82 88 94 28 54 41 55 11 34 74 43\n",
            "  6 17 52 19 85 13 47 63 68 38 67 97 64 30  8 33 72  9 75 86 59 73 23 12\n",
            " 69 79]\n",
            "Round: 43... \tAverage Loss: 0.009\n",
            "Round: 44 Picking 50/100 clients: [81 87 97 69 38  1 48  6 36 91  3 41 46 92 35 43 89 50  7 77 56 70 29 88\n",
            " 78 80 47 10 65 67 63 55 21 33 79  2 28 82 44 31 20 24 83 84  0  8 61 11\n",
            " 52 75]\n",
            "Round: 44... \tAverage Loss: 0.0\n",
            "Round: 45 Picking 50/100 clients: [87 35 80 42 29 59 77 99 10 34 21 25 96 12 46 73 66  5 88 41 26 11 95 75\n",
            " 37 13 93 43 48 63 70 28 33 32 27 68 15 94 78 18 89  9 79  3  1 14 91 57\n",
            " 22 31]\n",
            "Round: 45... \tAverage Loss: 0.007\n",
            "Round: 46 Picking 50/100 clients: [90  3 29 40 88 83 33 60 51 43 86 45 31 95 37 25 81  5 36 13 39 42 98 76\n",
            " 80  8 84 20 96 21 46 94 75 62 58 28 12 44 11  6 16 61 17 99 59 85 91 47\n",
            " 97 57]\n",
            "Round: 46... \tAverage Loss: 0.0\n",
            "Round: 47 Picking 50/100 clients: [22  3 48 17 80 78 95 79  4 64 12 66 18 38 96 30 77 32 42 90 51 29 25 19\n",
            " 94 92 41 39 23 68 34 50 36 27 44 33 14 82 87 86 71 45 58 54  8 98 16 99\n",
            " 65 55]\n",
            "Round: 47... \tAverage Loss: 0.001\n",
            "Round: 48 Picking 50/100 clients: [31 22 40  8 94 56 99 27 83 76 90  7 45 59 46 41 71 64 53  5 97 24 93 80\n",
            " 50 60  1 43 37 38  6 57 58 33 72 68  2 66 16 85 20 89 26 10 14 65 77 49\n",
            " 18 12]\n",
            "Round: 48... \tAverage Loss: 0.002\n",
            "Round: 49 Picking 50/100 clients: [93 85 16 19 94 21 66  5 12 49 87 76 10 95 79 50 86 64 18 28 31 20 89 46\n",
            " 22 36 38 96 75 45 55 73 62 13 80 32 61  1 11 56 59 26 90 42 57 97 29 67\n",
            " 23 33]\n",
            "Round: 49... \tAverage Loss: 0.0\n",
            "Round: 50 Picking 50/100 clients: [26 74 78 14 30 84 44 93 39 56 89  7 20 48 31 45 53 86 98 92 77 17 69 80\n",
            " 22 10  6 34 73 58 38  3 36 25 52 46 79 23 42 33  9 47 75 82 94 35  4 15\n",
            " 96 66]\n",
            "Round: 50... \tAverage Loss: 0.0\n"
          ],
          "name": "stdout"
        },
        {
          "output_type": "display_data",
          "data": {
            "image/png": "[encoded data removed]",
            "text/plain": [
              "<Figure size 432x288 with 1 Axes>"
            ]
          },
          "metadata": {
            "tags": [],
            "needs_background": "light"
          }
        },
        {
          "output_type": "display_data",
          "data": {
            "image/png": "[encoded data removed]",
            "text/plain": [
              "<Figure size 432x288 with 1 Axes>"
            ]
          },
          "metadata": {
            "tags": [],
            "needs_background": "light"
          }
        },
        {
          "output_type": "display_data",
          "data": {
            "image/png": "[encoded data removed]",
            "text/plain": [
              "<Figure size 432x288 with 1 Axes>"
            ]
          },
          "metadata": {
            "tags": [],
            "needs_background": "light"
          }
        },
        {
          "output_type": "display_data",
          "data": {
            "image/png": "[encoded data removed]",
            "text/plain": [
              "<Figure size 432x288 with 1 Axes>"
            ]
          },
          "metadata": {
            "tags": [],
            "needs_background": "light"
          }
        },
        {
          "output_type": "display_data",
          "data": {
            "image/png": "[encoded data removed]",
            "text/plain": [
              "<Figure size 432x288 with 1 Axes>"
            ]
          },
          "metadata": {
            "tags": [],
            "needs_background": "light"
          }
        },
        {
          "output_type": "stream",
          "text": [
            "Training Done!\n",
            "Total time taken to Train: 341.8612186908722\n",
            "\n",
            "\n",
            "Test Loss: 0.089001\n",
            "\n",
            "Test Accuracy of     0: 98% (969/980)\n",
            "Test Accuracy of     1: 99% (1131/1135)\n",
            "Test Accuracy of     2: 98% (1014/1032)\n",
            "Test Accuracy of     3: 98% (995/1010)\n",
            "Test Accuracy of     4: 97% (962/982)\n",
            "Test Accuracy of     5: 97% (870/892)\n",
            "Test Accuracy of     6: 98% (942/958)\n",
            "Test Accuracy of     7: 97% (1000/1028)\n",
            "Test Accuracy of     8: 98% (957/974)\n",
            "Test Accuracy of     9: 96% (978/1009)\n",
            "\n",
            "Final Test  Accuracy: 98.180 (9818/10000)\n",
            "F1 Score: 0.981600 (macro) 0.981796 (weighted) %\n",
            "\n"
          ],
          "name": "stdout"
        }
      ]
    },
    {
      "cell_type": "code",
      "metadata": {
        "id": "73iqBgD7R_gK"
      },
      "source": [
        "hyperparams = {'rounds': rounds,\n",
        "               'C': C,\n",
        "               'K': K,\n",
        "               'E': E,\n",
        "               'batch_size': batch_size,\n",
        "               'lr': lr,\n",
        "               'q': q,\n",
        "               'sampling': sampling\n",
        "               }\n",
        "\n",
        "log_dict['MNIST CNN on IID'] = {'train_loss': train_loss_multiple_runs, \n",
        "                                'test_loss': test_loss_multiple_runs, \n",
        "                                'test_accuracy': test_accuracy_multiple_runs,\n",
        "                                'f1_macro': f1_macro_multiple_runs,\n",
        "                                'f1_weighted': f1_weighted_multiple_runs,\n",
        "                                'hyperparams': hyperparams,\n",
        "                                }"
      ],
      "execution_count": 39,
      "outputs": []
    },
    {
      "cell_type": "markdown",
      "metadata": {
        "id": "fEuvtdjrXtfF"
      },
      "source": [
        "#MNIST CNN on Non-IID"
      ]
    },
    {
      "cell_type": "markdown",
      "metadata": {
        "id": "Qts5A4ebZ0qT"
      },
      "source": [
        "##Train"
      ]
    },
    {
      "cell_type": "code",
      "metadata": {
        "id": "PuFptwHCXLBK",
        "colab": {
          "base_uri": "https://localhost:8080/",
          "height": 1000
        },
        "outputId": "33f33fb5-9f2a-4ddf-c573-869e0b0f72ee"
      },
      "source": [
        "train_loss_multiple_runs = [None] * NUM_REPEAT\n",
        "test_accuracy_multiple_runs = [None] * NUM_REPEAT\n",
        "test_loss_multiple_runs = [None] * NUM_REPEAT\n",
        "f1_macro_multiple_runs = [None] * NUM_REPEAT\n",
        "f1_weighted_multiple_runs = [None] * NUM_REPEAT\n",
        "\n",
        "for exp_num in range(NUM_REPEAT):\n",
        "  print(\"Experiment Run Number: \", exp_num)\n",
        "\n",
        "  # number of training rounds\n",
        "  rounds = 50\n",
        "  # client fraction\n",
        "  C = 0.1\n",
        "  # number of clients\n",
        "  K = 100\n",
        "  # number of training passes on local dataset for each roung\n",
        "  E = 5\n",
        "  # batch size\n",
        "  batch_size = 10\n",
        "  # learning Rate\n",
        "  lr=0.05\n",
        "  # fairness\n",
        "  q = 0.001\n",
        "  # sampling\n",
        "  # sampling = 'uniform'\n",
        "  sampling = 'weighted'\n",
        "  # dict containing different type of data partition\n",
        "  data_dict = non_iid_partition(mnist_data_train, 100, 200, 300, 2)\n",
        "  # load model\n",
        "  mnist_cnn = MNIST_CNN()\n",
        "\n",
        "  if torch.cuda.is_available():\n",
        "    mnist_cnn.cuda()\n",
        "\n",
        "  mnist_cnn_non_iid_trained, train_loss, test_accuracy, test_loss, f1_macro, f1_weighted = training(mnist_cnn, rounds, batch_size, lr, mnist_data_train, mnist_data_test, data_dict, C, K, E, q, sampling, \"MNIST CNN on Non-IID Dataset\", \"green\")\n",
        "\n",
        "  train_loss_multiple_runs[exp_num] = train_loss\n",
        "  test_accuracy_multiple_runs[exp_num] = test_accuracy\n",
        "  test_loss_multiple_runs[exp_num] = test_loss\n",
        "  f1_macro_multiple_runs[exp_num] = f1_macro\n",
        "  f1_weighted_multiple_runs[exp_num] = f1_weighted\n",
        "  \n",
        "  criterion = nn.CrossEntropyLoss()\n",
        "  acc, loss, f1_macro, f1_weighted = testing(mnist_cnn_non_iid_trained, mnist_data_test, 128, criterion, num_classes, classes_test, True)"
      ],
      "execution_count": 40,
      "outputs": [
        {
          "output_type": "stream",
          "text": [
            "Experiment Run Number:  0\n",
            "Round: 1 Picking 10/100 clients: [37 68 82 38 39 74 33 28 64 53]\n",
            "Round: 1... \tAverage Loss: 0.059\n",
            "Round: 2 Picking 10/100 clients: [56 46 86 72 80 65 69 75  3 23]\n",
            "Round: 2... \tAverage Loss: 0.003\n",
            "Round: 3 Picking 10/100 clients: [ 5 17 15 44 38 87 19 64 34 81]\n",
            "Round: 3... \tAverage Loss: 0.002\n",
            "Round: 4 Picking 10/100 clients: [94 84 60 75  6  2 20 96 49 25]\n",
            "Round: 4... \tAverage Loss: 0.0\n",
            "Round: 5 Picking 10/100 clients: [85 43 99 14 34 78 17 48 93 64]\n",
            "Round: 5... \tAverage Loss: 0.0\n",
            "Round: 6 Picking 10/100 clients: [87 93 62 30 37 15 68 54 26 65]\n",
            "Round: 6... \tAverage Loss: 0.0\n",
            "Round: 7 Picking 10/100 clients: [87 41  9 94 51  7 22 88 75 25]\n",
            "Round: 7... \tAverage Loss: 0.0\n",
            "Round: 8 Picking 10/100 clients: [45 80  6 79 29 17 89  4 62 86]\n",
            "Round: 8... \tAverage Loss: 0.0\n",
            "Round: 9 Picking 10/100 clients: [ 9 48 29 43 84 53 82 77 17 74]\n",
            "Round: 9... \tAverage Loss: 0.0\n",
            "Round: 10 Picking 10/100 clients: [33 59 46 27 26  6 40 69 92 44]\n",
            "Round: 10... \tAverage Loss: 0.0\n",
            "Round: 11 Picking 10/100 clients: [28 90 20 18 73 60 71 67 13 39]\n",
            "Round: 11... \tAverage Loss: 0.0\n",
            "Round: 12 Picking 10/100 clients: [65  2  7 21 37 77 63 56 33 49]\n",
            "Round: 12... \tAverage Loss: 0.0\n",
            "Round: 13 Picking 10/100 clients: [58 78 46 20 51 90 16 82 55 38]\n",
            "Round: 13... \tAverage Loss: 0.0\n",
            "Round: 14 Picking 10/100 clients: [ 5 62 39 73 63  7 99 95 33 42]\n",
            "Round: 14... \tAverage Loss: 0.0\n",
            "Round: 15 Picking 10/100 clients: [23 73 13 66 87 14 53 32 27 65]\n",
            "Round: 15... \tAverage Loss: 0.0\n",
            "Round: 16 Picking 10/100 clients: [72 55 90 68 38 27  8 21 12 50]\n",
            "Round: 16... \tAverage Loss: 0.0\n",
            "Round: 17 Picking 10/100 clients: [53 59 63  2 13 66 18 82 88 26]\n",
            "Round: 17... \tAverage Loss: 0.0\n",
            "Round: 18 Picking 10/100 clients: [73 90 60 14 72 41 65 59 78 28]\n",
            "Round: 18... \tAverage Loss: 0.0\n",
            "Round: 19 Picking 10/100 clients: [12 97 86 36  1  7 85 81 90 56]\n",
            "Round: 19... \tAverage Loss: 0.0\n",
            "Round: 20 Picking 10/100 clients: [29 78 13 49 60 55 67 12 47 90]\n",
            "Round: 20... \tAverage Loss: 0.0\n",
            "Round: 21 Picking 10/100 clients: [93 14  8  3 62 92  1 29 17 96]\n",
            "Round: 21... \tAverage Loss: 0.0\n",
            "Round: 22 Picking 10/100 clients: [55 60 75 81 42 16 67 82 52 32]\n",
            "Round: 22... \tAverage Loss: 0.0\n",
            "Round: 23 Picking 10/100 clients: [83 45 68 49 22 53 63 60 47 14]\n",
            "Round: 23... \tAverage Loss: 0.0\n",
            "Round: 24 Picking 10/100 clients: [67 70  8 64 94 17 32 54 58  7]\n",
            "Round: 24... \tAverage Loss: 0.0\n",
            "Round: 25 Picking 10/100 clients: [84 12  4 46 87 53 81 95 78 35]\n",
            "Round: 25... \tAverage Loss: 0.0\n",
            "Round: 26 Picking 10/100 clients: [83 72 15 58 22 40 18 64  9 31]\n",
            "Round: 26... \tAverage Loss: 0.0\n",
            "Round: 27 Picking 10/100 clients: [78 47 30 35 51 38 89 42 94  6]\n",
            "Round: 27... \tAverage Loss: 0.0\n",
            "Round: 28 Picking 10/100 clients: [26 25 59 82  4 93 22 68 36 32]\n",
            "Round: 28... \tAverage Loss: 0.0\n",
            "Round: 29 Picking 10/100 clients: [26 95 62 12 30 65 36 33 31 83]\n",
            "Round: 29... \tAverage Loss: 0.0\n",
            "Round: 30 Picking 10/100 clients: [17 19  4 42 74 72 95 84 12 28]\n",
            "Round: 30... \tAverage Loss: 0.0\n",
            "Round: 31 Picking 10/100 clients: [77 53 78 89 19 55 18 38 23 62]\n",
            "Round: 31... \tAverage Loss: 0.0\n",
            "Round: 32 Picking 10/100 clients: [76 71 88 11 64  4 60 77 94 48]\n",
            "Round: 32... \tAverage Loss: 0.0\n",
            "Round: 33 Picking 10/100 clients: [59 83 75 71 26 37 54 70 56 38]\n",
            "Round: 33... \tAverage Loss: 0.0\n",
            "Round: 34 Picking 10/100 clients: [85 37 33  4 81 63 25 10 59 65]\n",
            "Round: 34... \tAverage Loss: 0.0\n",
            "Round: 35 Picking 10/100 clients: [98 21 49 61 36 92 16 90 22 33]\n",
            "Round: 35... \tAverage Loss: 0.0\n",
            "Round: 36 Picking 10/100 clients: [52 19 12 77 28 35 82 53 86 26]\n",
            "Round: 36... \tAverage Loss: 0.0\n",
            "Round: 37 Picking 10/100 clients: [26 38 12 19 59 29 85 53 36 75]\n",
            "Round: 37... \tAverage Loss: 0.0\n",
            "Round: 38 Picking 10/100 clients: [65 64 78 81 89 97 98 62 35 85]\n",
            "Round: 38... \tAverage Loss: 0.0\n",
            "Round: 39 Picking 10/100 clients: [41 58 44 55 73 54 70 93 34 90]\n",
            "Round: 39... \tAverage Loss: 0.0\n",
            "Round: 40 Picking 10/100 clients: [19 83 33  6 68 32 87  8 44 38]\n",
            "Round: 40... \tAverage Loss: 0.0\n",
            "Round: 41 Picking 10/100 clients: [51 74 78 13 85 25  8 29 87 41]\n",
            "Round: 41... \tAverage Loss: 0.0\n",
            "Round: 42 Picking 10/100 clients: [15  7 48 28 43 57 85  6 44 87]\n",
            "Round: 42... \tAverage Loss: 0.0\n",
            "Round: 43 Picking 10/100 clients: [72 88 26 67 44 16 97 32 98 75]\n",
            "Round: 43... \tAverage Loss: 0.0\n",
            "Round: 44 Picking 10/100 clients: [42  7 34 30  4 52 68 98 89 96]\n",
            "Round: 44... \tAverage Loss: 0.0\n",
            "Round: 45 Picking 10/100 clients: [93 22 27 47 57 18 37 80 45 33]\n",
            "Round: 45... \tAverage Loss: 0.0\n",
            "Round: 46 Picking 10/100 clients: [14 72 16 59 56 50 24 47 23 54]\n",
            "Round: 46... \tAverage Loss: 0.0\n",
            "Round: 47 Picking 10/100 clients: [81 97 38 77 42 84 90 25 10 48]\n",
            "Round: 47... \tAverage Loss: 0.0\n",
            "Round: 48 Picking 10/100 clients: [41 17 75 68 32 43  9 21 79 51]\n",
            "Round: 48... \tAverage Loss: 0.0\n",
            "Round: 49 Picking 10/100 clients: [ 4 62 57 25 94 14 73 77 34 59]\n",
            "Round: 49... \tAverage Loss: 0.0\n",
            "Round: 50 Picking 10/100 clients: [79 54 37 74 81 12  6 34  0 29]\n",
            "Round: 50... \tAverage Loss: 0.0\n"
          ],
          "name": "stdout"
        },
        {
          "output_type": "display_data",
          "data": {
            "image/png": "[encoded data removed]",
            "text/plain": [
              "<Figure size 432x288 with 1 Axes>"
            ]
          },
          "metadata": {
            "tags": [],
            "needs_background": "light"
          }
        },
        {
          "output_type": "display_data",
          "data": {
            "image/png": "[encoded data removed]",
            "text/plain": [
              "<Figure size 432x288 with 1 Axes>"
            ]
          },
          "metadata": {
            "tags": [],
            "needs_background": "light"
          }
        },
        {
          "output_type": "display_data",
          "data": {
            "image/png": "[encoded data removed]",
            "text/plain": [
              "<Figure size 432x288 with 1 Axes>"
            ]
          },
          "metadata": {
            "tags": [],
            "needs_background": "light"
          }
        },
        {
          "output_type": "display_data",
          "data": {
            "image/png": "[encoded data removed]",
            "text/plain": [
              "<Figure size 432x288 with 1 Axes>"
            ]
          },
          "metadata": {
            "tags": [],
            "needs_background": "light"
          }
        },
        {
          "output_type": "display_data",
          "data": {
            "image/png": "[encoded data removed]",
            "text/plain": [
              "<Figure size 432x288 with 1 Axes>"
            ]
          },
          "metadata": {
            "tags": [],
            "needs_background": "light"
          }
        },
        {
          "output_type": "stream",
          "text": [
            "Training Done!\n",
            "Total time taken to Train: 129.1723506450653\n",
            "\n",
            "\n",
            "Test Loss: 13.424137\n",
            "\n",
            "Test Accuracy of     0:  0% ( 0/980)\n",
            "Test Accuracy of     1: 100% (1135/1135)\n",
            "Test Accuracy of     2:  0% ( 0/1032)\n",
            "Test Accuracy of     3:  0% ( 0/1010)\n",
            "Test Accuracy of     4:  0% ( 0/982)\n",
            "Test Accuracy of     5: 99% (889/892)\n",
            "Test Accuracy of     6:  0% ( 0/958)\n",
            "Test Accuracy of     7:  0% ( 0/1028)\n",
            "Test Accuracy of     8:  0% ( 0/974)\n",
            "Test Accuracy of     9:  0% ( 0/1009)\n",
            "\n",
            "Final Test  Accuracy: 20.240 (2024/10000)\n",
            "F1 Score: 0.075857 (macro) 0.080510 (weighted) %\n",
            "\n"
          ],
          "name": "stdout"
        }
      ]
    },
    {
      "cell_type": "code",
      "metadata": {
        "id": "Vzej8P--Zltk"
      },
      "source": [
        "hyperparams = {'rounds': rounds,\n",
        "               'C': C,\n",
        "               'K': K,\n",
        "               'E': E,\n",
        "               'batch_size': batch_size,\n",
        "               'lr': lr,\n",
        "               'q': q,\n",
        "               'sampling': sampling\n",
        "               }\n",
        "\n",
        "log_dict['MNIST CNN on Non IID'] = {'train_loss': train_loss_multiple_runs, \n",
        "                                'test_loss': test_loss_multiple_runs, \n",
        "                                'test_accuracy': test_accuracy_multiple_runs,\n",
        "                                'f1_macro': f1_macro_multiple_runs,\n",
        "                                'f1_weighted': f1_weighted_multiple_runs,\n",
        "                                'hyperparams': hyperparams,\n",
        "                                }"
      ],
      "execution_count": 41,
      "outputs": []
    },
    {
      "cell_type": "code",
      "metadata": {
        "id": "lOzrVNsRvIdn"
      },
      "source": [
        "import pickle\n",
        " \n",
        "with open(path + 'MNIST_qFFL_stragglers0_1.pkl', 'wb') as file:\n",
        "  pickle.dump(log_dict, file)"
      ],
      "execution_count": 42,
      "outputs": []
    },
    {
      "cell_type": "code",
      "metadata": {
        "id": "oGR_Fq6GZ3HS"
      },
      "source": [
        ""
      ],
      "execution_count": 42,
      "outputs": []
    }
  ]
}