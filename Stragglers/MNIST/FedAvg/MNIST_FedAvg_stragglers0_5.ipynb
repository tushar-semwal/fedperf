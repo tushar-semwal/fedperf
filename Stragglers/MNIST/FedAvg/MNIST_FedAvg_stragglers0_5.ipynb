{
  "nbformat": 4,
  "nbformat_minor": 0,
  "metadata": {
    "colab": {
      "name": "MNIST_FedAvg_stragglers0_5.ipynb",
      "provenance": [],
      "collapsed_sections": [],
      "machine_shape": "hm"
    },
    "kernelspec": {
      "name": "python3",
      "display_name": "Python 3"
    },
    "accelerator": "GPU"
  },
  "cells": [
    {
      "cell_type": "code",
      "metadata": {
        "id": "0iaf_Ccaq_4Y"
      },
      "source": [
        "#!pip install torchvision==0.8.0"
      ],
      "execution_count": 1,
      "outputs": []
    },
    {
      "cell_type": "code",
      "metadata": {
        "colab": {
          "base_uri": "https://localhost:8080/"
        },
        "id": "AD8zc_5Lpdcu",
        "outputId": "528c7de2-574e-4b46-bb93-3bc0e687c903"
      },
      "source": [
        "from google.colab import drive\n",
        "drive.mount('/gdrive')\n",
        "%cd /gdrive"
      ],
      "execution_count": 2,
      "outputs": [
        {
          "output_type": "stream",
          "text": [
            "Drive already mounted at /gdrive; to attempt to forcibly remount, call drive.mount(\"/gdrive\", force_remount=True).\n",
            "/gdrive\n"
          ],
          "name": "stdout"
        }
      ]
    },
    {
      "cell_type": "code",
      "metadata": {
        "id": "DLLNM9X2JbQ8",
        "colab": {
          "base_uri": "https://localhost:8080/"
        },
        "outputId": "4a8fac91-b67c-4b1f-e501-eb038a9655e1"
      },
      "source": [
        "%load_ext tensorboard\n",
        "import os\n",
        "import numpy as np\n",
        "import matplotlib\n",
        "import matplotlib.pyplot as plt\n",
        "import copy\n",
        "import random\n",
        "import time\n",
        "\n",
        "import torch\n",
        "import torch.nn as nn\n",
        "import torch.nn.functional as F\n",
        "\n",
        "from torch.utils.data import Dataset, DataLoader\n",
        "from torch.utils.tensorboard import SummaryWriter\n",
        "from torchvision import transforms, utils, datasets\n",
        "from torchsummary import summary\n",
        "\n",
        "\n",
        "# Check assigned GPU\n",
        "gpu_info = !nvidia-smi\n",
        "gpu_info = '\\n'.join(gpu_info)\n",
        "if gpu_info.find('failed') >= 0:\n",
        "  print('Select the Runtime > \"Change runtime type\" menu to enable a GPU accelerator, ')\n",
        "  print('and then re-execute this cell.')\n",
        "else:\n",
        "  print(gpu_info)\n",
        "\n",
        "# set manual seed for reproducibility\n",
        "seed = 42\n",
        "\n",
        "# general reproducibility\n",
        "random.seed(seed)\n",
        "np.random.seed(seed)\n",
        "torch.manual_seed(seed)\n",
        "\n",
        "# gpu training specific\n",
        "torch.backends.cudnn.deterministic = True\n",
        "torch.backends.cudnn.benchmark = False"
      ],
      "execution_count": 3,
      "outputs": [
        {
          "output_type": "stream",
          "text": [
            "Thu Apr 22 06:56:10 2021       \n",
            "+-----------------------------------------------------------------------------+\n",
            "| NVIDIA-SMI 460.67       Driver Version: 460.32.03    CUDA Version: 11.2     |\n",
            "|-------------------------------+----------------------+----------------------+\n",
            "| GPU  Name        Persistence-M| Bus-Id        Disp.A | Volatile Uncorr. ECC |\n",
            "| Fan  Temp  Perf  Pwr:Usage/Cap|         Memory-Usage | GPU-Util  Compute M. |\n",
            "|                               |                      |               MIG M. |\n",
            "|===============================+======================+======================|\n",
            "|   0  Tesla T4            Off  | 00000000:00:04.0 Off |                    0 |\n",
            "| N/A   59C    P8    11W /  70W |      0MiB / 15109MiB |      0%      Default |\n",
            "|                               |                      |                  N/A |\n",
            "+-------------------------------+----------------------+----------------------+\n",
            "                                                                               \n",
            "+-----------------------------------------------------------------------------+\n",
            "| Processes:                                                                  |\n",
            "|  GPU   GI   CI        PID   Type   Process name                  GPU Memory |\n",
            "|        ID   ID                                                   Usage      |\n",
            "|=============================================================================|\n",
            "|  No running processes found                                                 |\n",
            "+-----------------------------------------------------------------------------+\n"
          ],
          "name": "stdout"
        }
      ]
    },
    {
      "cell_type": "markdown",
      "metadata": {
        "id": "NY4eWzGiL6Mj"
      },
      "source": [
        "## Load the MNIST Dataset"
      ]
    },
    {
      "cell_type": "code",
      "metadata": {
        "id": "tiaxWFmTGVBq",
        "colab": {
          "base_uri": "https://localhost:8080/",
          "height": 54
        },
        "outputId": "b6af2e3c-b007-41f4-8a67-e5a7195e54f8"
      },
      "source": [
        "'''\n",
        "from six.moves import urllib\n",
        "opener = urllib.request.build_opener()\n",
        "opener.addheaders = [('User-agent', 'Mozilla/5.0')]\n",
        "urllib.request.install_opener(opener)\n",
        "'''"
      ],
      "execution_count": 4,
      "outputs": [
        {
          "output_type": "execute_result",
          "data": {
            "application/vnd.google.colaboratory.intrinsic+json": {
              "type": "string"
            },
            "text/plain": [
              "\"\\nfrom six.moves import urllib\\nopener = urllib.request.build_opener()\\nopener.addheaders = [('User-agent', 'Mozilla/5.0')]\\nurllib.request.install_opener(opener)\\n\""
            ]
          },
          "metadata": {
            "tags": []
          },
          "execution_count": 4
        }
      ]
    },
    {
      "cell_type": "code",
      "metadata": {
        "id": "G649tjTXLL8F",
        "colab": {
          "base_uri": "https://localhost:8080/",
          "height": 90
        },
        "outputId": "4824b3d8-4088-4f88-9dec-455936ca63f4"
      },
      "source": [
        "# create transforms\n",
        "# We will just convert to tensor and normalize since no special transforms are mentioned in the paper\n",
        "'''\n",
        "transforms_mnist = transforms.Compose([\n",
        "                                       transforms.ToTensor(),\n",
        "                                       transforms.Normalize((0.1307,), (0.3081,))\n",
        "                                       ])\n",
        "\n",
        "mnist_data_train = datasets.MNIST('../data/mnist/', train=True, download=True, transform=transforms_mnist)\n",
        "mnist_data_test = datasets.MNIST('../data/mnist/', train=False, download=True, transform=transforms_mnist)\n",
        "'''"
      ],
      "execution_count": 5,
      "outputs": [
        {
          "output_type": "execute_result",
          "data": {
            "application/vnd.google.colaboratory.intrinsic+json": {
              "type": "string"
            },
            "text/plain": [
              "\"\\ntransforms_mnist = transforms.Compose([\\n                                       transforms.ToTensor(),\\n                                       transforms.Normalize((0.1307,), (0.3081,))\\n                                       ])\\n\\nmnist_data_train = datasets.MNIST('../data/mnist/', train=True, download=True, transform=transforms_mnist)\\nmnist_data_test = datasets.MNIST('../data/mnist/', train=False, download=True, transform=transforms_mnist)\\n\""
            ]
          },
          "metadata": {
            "tags": []
          },
          "execution_count": 5
        }
      ]
    },
    {
      "cell_type": "code",
      "metadata": {
        "id": "HVgZ5TetqEEP",
        "colab": {
          "base_uri": "https://localhost:8080/"
        },
        "outputId": "d599425f-aa4d-4e12-a7f7-c4b82e3b8e5d"
      },
      "source": [
        "!wget www.di.ens.fr/~lelarge/MNIST.tar.gz\n",
        "!tar -zxvf MNIST.tar.gz\n",
        "\n",
        "from torchvision.datasets import MNIST\n",
        "\n",
        "transforms_mnist = transforms.Compose([\n",
        "                                       transforms.ToTensor(),\n",
        "                                       transforms.Normalize((0.1307,), (0.3081,))\n",
        "                                       ])\n",
        "\n",
        "mnist_data_train = MNIST(root = '../data/mnist/', train=True, download=True, transform=transforms_mnist)\n",
        "mnist_data_test = MNIST(root = '../data/mnist/', train=False, download=True, transform=transforms_mnist)"
      ],
      "execution_count": 6,
      "outputs": [
        {
          "output_type": "stream",
          "text": [
            "--2021-04-22 06:56:10--  http://www.di.ens.fr/~lelarge/MNIST.tar.gz\n",
            "Resolving www.di.ens.fr (www.di.ens.fr)... 129.199.99.14\n",
            "Connecting to www.di.ens.fr (www.di.ens.fr)|129.199.99.14|:80... connected.\n",
            "HTTP request sent, awaiting response... 302 Found\n",
            "Location: https://www.di.ens.fr/~lelarge/MNIST.tar.gz [following]\n",
            "--2021-04-22 06:56:11--  https://www.di.ens.fr/~lelarge/MNIST.tar.gz\n",
            "Connecting to www.di.ens.fr (www.di.ens.fr)|129.199.99.14|:443... connected.\n",
            "HTTP request sent, awaiting response... 200 OK\n",
            "Length: unspecified [application/x-gzip]\n",
            "MNIST.tar.gz: Operation not supported\n",
            "\n",
            "Cannot write to ‘MNIST.tar.gz’ (Success).\n",
            "tar (child): MNIST.tar.gz: Cannot open: No such file or directory\n",
            "tar (child): Error is not recoverable: exiting now\n",
            "tar: Child returned status 2\n",
            "tar: Error is not recoverable: exiting now\n"
          ],
          "name": "stdout"
        }
      ]
    },
    {
      "cell_type": "code",
      "metadata": {
        "id": "dm9usjn2vFkL",
        "colab": {
          "base_uri": "https://localhost:8080/"
        },
        "outputId": "b1ee745d-a8b0-44fc-a02b-2acd89a1b80d"
      },
      "source": [
        "classes = np.array(list(mnist_data_train.class_to_idx.values()))\n",
        "classes_test = np.array(list(mnist_data_test.class_to_idx.values()))\n",
        "num_classes = len(classes_test)\n",
        "print(\"Classes: {} \\tType: {}\".format(classes, type(classes)))\n",
        "print(\"Classes Test: {} \\tType: {}\".format(classes_test, type(classes)))\n"
      ],
      "execution_count": 7,
      "outputs": [
        {
          "output_type": "stream",
          "text": [
            "Classes: [0 1 2 3 4 5 6 7 8 9] \tType: <class 'numpy.ndarray'>\n",
            "Classes Test: [0 1 2 3 4 5 6 7 8 9] \tType: <class 'numpy.ndarray'>\n"
          ],
          "name": "stdout"
        }
      ]
    },
    {
      "cell_type": "code",
      "metadata": {
        "id": "9lvJt3Ofv2SO",
        "colab": {
          "base_uri": "https://localhost:8080/"
        },
        "outputId": "f33a81e0-d9e7-4780-b79d-695944ba42d2"
      },
      "source": [
        "print(\"Image Shape: {}\".format(mnist_data_train.data[0].size()))"
      ],
      "execution_count": 8,
      "outputs": [
        {
          "output_type": "stream",
          "text": [
            "Image Shape: torch.Size([28, 28])\n"
          ],
          "name": "stdout"
        }
      ]
    },
    {
      "cell_type": "markdown",
      "metadata": {
        "id": "jCOONkg-zV7Y"
      },
      "source": [
        "## Visualize Data"
      ]
    },
    {
      "cell_type": "code",
      "metadata": {
        "id": "R9MK03TZw6Qs"
      },
      "source": [
        "def imshow(img):\n",
        "\timg = img/2 + 0.5 #unnormalize the image\n",
        "\tplt.imshow(img, cmap='gray') # convert from tensor to image"
      ],
      "execution_count": 9,
      "outputs": []
    },
    {
      "cell_type": "code",
      "metadata": {
        "id": "gMJ0Kx4Kw-_H"
      },
      "source": [
        "def visualize(dataset):\n",
        "  figure = plt.figure(figsize=(25,4))\n",
        "  for i in range(20):\n",
        "    axis = figure.add_subplot(2, 20/2, i+1, xticks=[], yticks=[])\n",
        "    data = dataset.data[i]\n",
        "    data = data.numpy()\n",
        "\n",
        "    target = dataset.targets[i]\n",
        "    target = target.numpy()\n",
        "    imshow(data)\n",
        "    axis.set_title(target)\n"
      ],
      "execution_count": 10,
      "outputs": []
    },
    {
      "cell_type": "code",
      "metadata": {
        "id": "8bPOwKg10Ro7",
        "colab": {
          "base_uri": "https://localhost:8080/",
          "height": 219
        },
        "outputId": "8bf77000-26e4-4e02-c65e-1fd40fd9b461"
      },
      "source": [
        "visualize(mnist_data_train)"
      ],
      "execution_count": 11,
      "outputs": [
        {
          "output_type": "display_data",
          "data": {
            "image/png": "[encoded data removed]",
            "text/plain": [
              "<Figure size 1800x288 with 20 Axes>"
            ]
          },
          "metadata": {
            "tags": []
          }
        }
      ]
    },
    {
      "cell_type": "code",
      "metadata": {
        "id": "RKoh5Cf70UYu",
        "colab": {
          "base_uri": "https://localhost:8080/",
          "height": 219
        },
        "outputId": "18d476af-8e3c-44c7-83b7-3dbd66f97e47"
      },
      "source": [
        "visualize(mnist_data_test)"
      ],
      "execution_count": 12,
      "outputs": [
        {
          "output_type": "display_data",
          "data": {
            "image/png": "[encoded data removed]",
            "text/plain": [
              "<Figure size 1800x288 with 20 Axes>"
            ]
          },
          "metadata": {
            "tags": []
          }
        }
      ]
    },
    {
      "cell_type": "markdown",
      "metadata": {
        "id": "ctjRsETiO1qO"
      },
      "source": [
        "## Partitioning the Data (IID and non-IID)"
      ]
    },
    {
      "cell_type": "code",
      "metadata": {
        "id": "3_v8lyrgO5dD"
      },
      "source": [
        "def iid_partition(dataset, clients):\n",
        "  \"\"\"\n",
        "  I.I.D paritioning of data over clients\n",
        "  Shuffle the data\n",
        "  Split it between clients\n",
        "  \n",
        "  params:\n",
        "    - dataset (torch.utils.Dataset): Dataset containing the MNIST Images\n",
        "    - clients (int): Number of Clients to split the data between\n",
        "\n",
        "  returns:\n",
        "    - Dictionary of image indexes for each client\n",
        "  \"\"\"\n",
        "\n",
        "  num_items_per_client = int(len(dataset)/clients)\n",
        "  client_dict = {}\n",
        "  image_idxs = [i for i in range(len(dataset))]\n",
        "  #data_labels = dataset.targets.numpy()\n",
        "  #print(data_labels)\n",
        "\n",
        "  for i in range(clients):\n",
        "    x = np.random.choice(image_idxs, num_items_per_client, replace=False)\n",
        "    client_dict[i] = set(x)\n",
        "    image_idxs = list(set(image_idxs) - client_dict[i])\n",
        "  '''\n",
        "  #print(len(client_dict))\n",
        "  #random.randrange()\n",
        "  n = []\n",
        "  cli = list(range(clients))\n",
        "  for i in range(int(M*clients)):\n",
        "    new = np.random.choice(cli)\n",
        "    n.append(new)\n",
        "    cli.remove(new)\n",
        "  #n = np.random.choice(range(clients), int(0.1*clients), replace=False)\n",
        "  #n = list(n)\n",
        "  print(n)\n",
        "  for i in n:\n",
        "    j = 0\n",
        "    while j < int(W*num_items_per_client):\n",
        "      l = list(client_dict[i])\n",
        "      newl = dataset.targets[int(l[j])].item()\n",
        "      dataset.targets[int(l[j])] = torch.Tensor([(newl+1)%10])\n",
        "\n",
        "      j += 1\n",
        "\n",
        "  print(dataset.targets)\n",
        "  \n",
        "  c = 0\n",
        "  for i in dataset.targets:\n",
        "    if i == torch.Tensor([1]):\n",
        "      c += 1\n",
        "  print(c)\n",
        "  \n",
        "  '''\n",
        "  return client_dict\n"
      ],
      "execution_count": 13,
      "outputs": []
    },
    {
      "cell_type": "code",
      "metadata": {
        "id": "4zMdliGMQoSl"
      },
      "source": [
        "def non_iid_partition(dataset, clients, total_shards, shards_size, num_shards_per_client):\n",
        "  \"\"\"\n",
        "  non I.I.D parititioning of data over clients\n",
        "  Sort the data by the digit label\n",
        "  Divide the data into N shards of size S\n",
        "  Each of the clients will get X shards\n",
        "\n",
        "  params:\n",
        "    - dataset (torch.utils.Dataset): Dataset containing the MNIST Images\n",
        "    - clients (int): Number of Clients to split the data between\n",
        "    - total_shards (int): Number of shards to partition the data in\n",
        "    - shards_size (int): Size of each shard \n",
        "    - num_shards_per_client (int): Number of shards of size shards_size that each client receives\n",
        "\n",
        "  returns:\n",
        "    - Dictionary of image indexes for each client\n",
        "  \"\"\"\n",
        "  \n",
        "  shard_idxs = [i for i in range(total_shards)]\n",
        "  client_dict = {i: np.array([], dtype='int64') for i in range(clients)}\n",
        "  idxs = np.arange(len(dataset))\n",
        "  data_labels = dataset.targets.numpy()\n",
        "\n",
        "  \n",
        "  #print(data_labels)\n",
        "  # sort the labels\n",
        "  label_idxs = np.vstack((idxs, data_labels))\n",
        "  label_idxs = label_idxs[:, label_idxs[1,:].argsort()]\n",
        "  idxs = label_idxs[0,:]\n",
        "  #print(idxs)\n",
        "  #print(len(idxs))\n",
        "\n",
        "  # divide the data into total_shards of size shards_size\n",
        "  # assign num_shards_per_client to each client\n",
        "  for i in range(clients):\n",
        "    rand_set = set(np.random.choice(shard_idxs, num_shards_per_client, replace=False))\n",
        "    shard_idxs = list(set(shard_idxs) - rand_set)\n",
        "\n",
        "    for rand in rand_set:\n",
        "      client_dict[i] = np.concatenate((client_dict[i], idxs[rand*shards_size:(rand+1)*shards_size]), axis=0)\n",
        "  \n",
        "    #print(client_dict)\n",
        "  '''\n",
        "  n = []\n",
        "  cli = list(range(clients))\n",
        "  for i in range(int(0.5*clients)):\n",
        "    new = np.random.choice(cli)\n",
        "    n.append(new)\n",
        "    cli.remove(new)\n",
        "  #n = np.random.choice(range(clients), int(0.1*clients), replace=False)\n",
        "  #n = list(n)\n",
        "  print(n)\n",
        "  for i in n:\n",
        "    j = 0\n",
        "    while j < int(0.8*num_shards_per_client):\n",
        "      l = list(client_dict[i])\n",
        "      print(l)\n",
        "      newl = dataset.targets[int(l[j])].item()\n",
        "      dataset.targets[int(l[j])] = torch.Tensor([1])  #(newl+1)% 10\n",
        "\n",
        "      j += 1\n",
        "\n",
        "  print(dataset.targets)\n",
        "\n",
        "  \n",
        "  \n",
        "  M = 0.1\n",
        "  for n in range(M*K):\n",
        "    ran = random.randint(0, K)\n",
        "    for x in data_dict:\n",
        "      print(len(data_dict[x]))\n",
        "      #for i in range(0.5*len(data_dict[x])):\n",
        "\n",
        "  \n",
        "  '''\n",
        "  return client_dict\n",
        "\n",
        "\n",
        "\n"
      ],
      "execution_count": 14,
      "outputs": []
    },
    {
      "cell_type": "markdown",
      "metadata": {
        "id": "PTfxv8kFoGAy"
      },
      "source": [
        "## Models"
      ]
    },
    {
      "cell_type": "code",
      "metadata": {
        "id": "CvoDNFKbZST5"
      },
      "source": [
        "class MNIST_2NN(nn.Module):\n",
        "  \"\"\"\n",
        "  A simple multilayer-perceptron with 2-hidden layers with 200 units each\n",
        "  using ReLu activations\n",
        "\n",
        "  Total Expected Params: 199,210\n",
        "  \"\"\"\n",
        "  def __init__(self):\n",
        "    super(MNIST_2NN, self).__init__()\n",
        "\n",
        "    self.fc1 = nn.Linear(28*28, 200)\n",
        "    self.fc2 = nn.Linear(200, 200)\n",
        "    self.fc3 = nn.Linear(200, 10)\n",
        "\n",
        "  def forward(self, x):\n",
        "    x = torch.flatten(x, 1)\n",
        "    x = F.relu(self.fc1(x))\n",
        "    x = F.relu(self.fc2(x))\n",
        "    out = self.fc3(x)\n",
        "\n",
        "    return x"
      ],
      "execution_count": 15,
      "outputs": []
    },
    {
      "cell_type": "code",
      "metadata": {
        "id": "ut1hZ8x3qYPZ"
      },
      "source": [
        "class MNIST_CNN(nn.Module):\n",
        "  \"\"\"\n",
        "  CNN with two 5x5 convolution lauers(the first with 32 channels, second with 64,\n",
        "  each followed with 2x2 max pooling), a fully connected layer with 512 uunits and \n",
        "  ReLu activation, and the final Softmax output layer\n",
        "\n",
        "  Total Expected Params: 1,663,370\n",
        "  \"\"\"\n",
        "  def __init__(self):\n",
        "    super(MNIST_CNN, self).__init__()\n",
        "\n",
        "    self.conv1 = nn.Conv2d(1, 32, kernel_size=5)\n",
        "    self.conv2 = nn.Conv2d(32, 64, kernel_size=5)\n",
        "    \n",
        "    self.pool = nn.MaxPool2d(2,2)\n",
        "    self.dropout = nn.Dropout(p=0.2)\n",
        "\n",
        "    self.fc1 = nn.Linear(1024, 512)\n",
        "    self.out = nn.Linear(512, 10)\n",
        "\n",
        "  def forward(self, x):\n",
        "    x = self.pool(F.relu(self.conv1(x)))\n",
        "    x = self.pool(F.relu(self.conv2(x)))\n",
        "    x = self.dropout(x)\n",
        "    x = torch.flatten(x, 1)\n",
        "    x = F.relu(self.fc1(x))\n",
        "    x = self.out(x)\n",
        "    out = F.log_softmax(x, dim=1)\n",
        "\n",
        "    return out"
      ],
      "execution_count": 16,
      "outputs": []
    },
    {
      "cell_type": "markdown",
      "metadata": {
        "id": "uVv4HA9HuLtr"
      },
      "source": [
        "### Print Model Summaries"
      ]
    },
    {
      "cell_type": "code",
      "metadata": {
        "id": "I5oTH710sJEt",
        "colab": {
          "base_uri": "https://localhost:8080/"
        },
        "outputId": "f357252e-95d1-40ae-f4c0-bfdcc2d8f169"
      },
      "source": [
        "mnist_mlp = MNIST_2NN()\n",
        "mnist_cnn = MNIST_CNN()\n",
        "\n",
        "if torch.cuda.is_available():\n",
        "  mnist_mlp.cuda()\n",
        "  mnist_cnn.cuda()\n",
        "\n",
        "print(\"MNIST MLP SUMMARY\")\n",
        "print(summary(mnist_mlp, (28,28)))\n",
        "\n",
        "print(\"\\nMNIST CNN SUMMARY\")\n",
        "print(summary(mnist_cnn, (1, 28,28)))"
      ],
      "execution_count": 17,
      "outputs": [
        {
          "output_type": "stream",
          "text": [
            "MNIST MLP SUMMARY\n",
            "----------------------------------------------------------------\n",
            "        Layer (type)               Output Shape         Param #\n",
            "================================================================\n",
            "            Linear-1                  [-1, 200]         157,000\n",
            "            Linear-2                  [-1, 200]          40,200\n",
            "            Linear-3                   [-1, 10]           2,010\n",
            "================================================================\n",
            "Total params: 199,210\n",
            "Trainable params: 199,210\n",
            "Non-trainable params: 0\n",
            "----------------------------------------------------------------\n",
            "Input size (MB): 0.00\n",
            "Forward/backward pass size (MB): 0.00\n",
            "Params size (MB): 0.76\n",
            "Estimated Total Size (MB): 0.77\n",
            "----------------------------------------------------------------\n",
            "None\n",
            "\n",
            "MNIST CNN SUMMARY\n",
            "----------------------------------------------------------------\n",
            "        Layer (type)               Output Shape         Param #\n",
            "================================================================\n",
            "            Conv2d-1           [-1, 32, 24, 24]             832\n",
            "         MaxPool2d-2           [-1, 32, 12, 12]               0\n",
            "            Conv2d-3             [-1, 64, 8, 8]          51,264\n",
            "         MaxPool2d-4             [-1, 64, 4, 4]               0\n",
            "           Dropout-5             [-1, 64, 4, 4]               0\n",
            "            Linear-6                  [-1, 512]         524,800\n",
            "            Linear-7                   [-1, 10]           5,130\n",
            "================================================================\n",
            "Total params: 582,026\n",
            "Trainable params: 582,026\n",
            "Non-trainable params: 0\n",
            "----------------------------------------------------------------\n",
            "Input size (MB): 0.00\n",
            "Forward/backward pass size (MB): 0.23\n",
            "Params size (MB): 2.22\n",
            "Estimated Total Size (MB): 2.45\n",
            "----------------------------------------------------------------\n",
            "None\n"
          ],
          "name": "stdout"
        }
      ]
    },
    {
      "cell_type": "markdown",
      "metadata": {
        "id": "gf_8XEXa-gZ7"
      },
      "source": [
        "## Federated Averaging"
      ]
    },
    {
      "cell_type": "markdown",
      "metadata": {
        "id": "L-aNdQsQ-Kvp"
      },
      "source": [
        "### Local Training (Client Update)\n",
        "\n",
        "Local training for the model on client side"
      ]
    },
    {
      "cell_type": "code",
      "metadata": {
        "id": "oX6OsQyO-Gz7"
      },
      "source": [
        "class CustomDataset(Dataset):\n",
        "  def __init__(self, dataset, idxs):\n",
        "      self.dataset = dataset\n",
        "      self.idxs = list(idxs)\n",
        "\n",
        "  def __len__(self):\n",
        "      return len(self.idxs)\n",
        "\n",
        "  def __getitem__(self, item):\n",
        "      image, label = self.dataset[self.idxs[item]]\n",
        "      return image, label\n",
        "\n",
        "class ClientUpdate(object):\n",
        "  def __init__(self, dataset, batchSize, learning_rate, epochs, idxs):\n",
        "    self.train_loader = DataLoader(CustomDataset(dataset, idxs), batch_size=batchSize, shuffle=True)\n",
        "\n",
        "    self.learning_rate = learning_rate\n",
        "    self.epochs = epochs\n",
        "\n",
        "\n",
        "\n",
        "  def train(self, model):\n",
        "\n",
        "    criterion = nn.CrossEntropyLoss()\n",
        "    optimizer = torch.optim.SGD(model.parameters(), lr=self.learning_rate, momentum=0.5)\n",
        "    # optimizer = torch.optim.Adam(model.parameters(), lr=self.learning_rate)\n",
        "\n",
        "    e_loss = []\n",
        "    for epoch in range(1, self.epochs+1):\n",
        "\n",
        "      train_loss = 0.0\n",
        "\n",
        "      model.train()\n",
        "      for data, labels in self.train_loader:\n",
        "\n",
        "        if torch.cuda.is_available():\n",
        "          data, labels = data.cuda(), labels.cuda()\n",
        "\n",
        "        # clear the gradients\n",
        "        optimizer.zero_grad()\n",
        "        # make a forward pass\n",
        "        output = model(data)\n",
        "        # calculate the loss\n",
        "        loss = criterion(output, labels)\n",
        "        # do a backwards pass\n",
        "        loss.backward()\n",
        "        # perform a single optimization step\n",
        "        optimizer.step()\n",
        "        # update training loss\n",
        "        train_loss += loss.item()*data.size(0)\n",
        "\n",
        "      # average losses\n",
        "      train_loss = train_loss/len(self.train_loader.dataset)\n",
        "      e_loss.append(train_loss)\n",
        "\n",
        "    total_loss = sum(e_loss)/len(e_loss)\n",
        "\n",
        "    return model.state_dict(), total_loss"
      ],
      "execution_count": 18,
      "outputs": []
    },
    {
      "cell_type": "markdown",
      "metadata": {
        "id": "Ukgh1DVHE2Ds"
      },
      "source": [
        "### Server Side Training\n",
        "\n",
        "Following Algorithm 1 from the paper"
      ]
    },
    {
      "cell_type": "code",
      "metadata": {
        "id": "QzMy6uXfbtTA"
      },
      "source": [
        "def GenerateLocalEpochs(percentage, size, max_epochs):\n",
        "  ''' Method generates list of epochs for selected clients\n",
        "  to replicate system heteroggeneity\n",
        "\n",
        "  Params:\n",
        "    percentage: percentage of clients to have fewer than E epochs\n",
        "    size:       total size of the list\n",
        "    max_epochs: maximum value for local epochs\n",
        "  \n",
        "  Returns:\n",
        "    List of size epochs for each Client Update\n",
        "\n",
        "  '''\n",
        "\n",
        "  # if percentage is 0 then each client runs for E epochs\n",
        "  if percentage == 0:\n",
        "      return np.array([max_epochs]*size)\n",
        "  else:\n",
        "    # get the number of clients to have fewer than E epochs\n",
        "    heterogenous_size = int((percentage/100) * size)\n",
        "\n",
        "    # generate random uniform epochs of heterogenous size between 1 and E\n",
        "    epoch_list = np.random.randint(1, max_epochs, heterogenous_size)\n",
        "\n",
        "    # the rest of the clients will have E epochs\n",
        "    remaining_size = size - heterogenous_size\n",
        "    rem_list = [max_epochs]*remaining_size\n",
        "\n",
        "    epoch_list = np.append(epoch_list, rem_list, axis=0)\n",
        "    \n",
        "    # shuffle the list and return\n",
        "    np.random.shuffle(epoch_list)\n",
        "\n",
        "    return epoch_list"
      ],
      "execution_count": 19,
      "outputs": []
    },
    {
      "cell_type": "code",
      "metadata": {
        "id": "1NF1e33BgpeL"
      },
      "source": [
        "def training(model, rounds, batch_size, lr, ds, ds_test, data_dict, C, K, E, plt_title, plt_color,S=0.5):  \n",
        "  \"\"\"\n",
        "  Function implements the Federated Averaging Algorithm from the FedAvg paper.\n",
        "  Specifically, this function is used for the server side training and weight update\n",
        "\n",
        "  Params:\n",
        "    - model:           PyTorch model to train\n",
        "    - rounds:          Number of communication rounds for the client update\n",
        "    - batch_size:      Batch size for client update training\n",
        "    - lr:              Learning rate used for client update training\n",
        "    - ds:              Dataset used for training\n",
        "    - data_dict:       Type of data partition used for training (IID or non-IID)\n",
        "    - C:               Fraction of clients randomly chosen to perform computation on each round\n",
        "    - K:               Total number of clients\n",
        "    - E:               Number of training passes each client makes over its local dataset per round\n",
        "    - tb_writer_name:  Directory name to save the tensorboard logs\n",
        "  Returns:\n",
        "    - model:           Trained model on the server\n",
        "  \"\"\"\n",
        "\n",
        "  # global model weights\n",
        "  global_weights = model.state_dict()\n",
        "\n",
        "  # training loss\n",
        "  train_loss = []\n",
        "  test_accuracy = []\n",
        "  test_loss = []\n",
        "  \n",
        "  # measure time\n",
        "  start = time.time()\n",
        "\n",
        "  for curr_round in range(1, rounds+1):\n",
        "    w, local_loss = [], []\n",
        "\n",
        "    m = max(int(C*K), 1)\n",
        "    \n",
        "    S_t = np.random.choice(range(K), m, replace=False)\n",
        "    for k in S_t:\n",
        "      local_update = ClientUpdate(dataset=ds, batchSize=batch_size, learning_rate=lr, epochs=E, idxs=data_dict[k])\n",
        "      weights, loss = local_update.train(model=copy.deepcopy(model))\n",
        "\n",
        "      w.append(copy.deepcopy(weights))\n",
        "      local_loss.append(copy.deepcopy(loss))\n",
        "\n",
        "    # updating the global weights\n",
        "    weights_avg = copy.deepcopy(w[0])\n",
        "    for k in weights_avg.keys():\n",
        "      for i in range(1, int(m*S)):\n",
        "        weights_avg[k] += w[i][k]\n",
        "\n",
        "      weights_avg[k] = torch.div(weights_avg[k], m)\n",
        "\n",
        "    global_weights = weights_avg\n",
        "\n",
        "    # move the updated weights to our model state dict\n",
        "    model.load_state_dict(global_weights)\n",
        "\n",
        "    # loss\n",
        "    loss_avg = sum(local_loss) / len(local_loss)\n",
        "    print('Round: {}... \\tAverage Loss: {}'.format(curr_round, round(loss_avg, 3)))\n",
        "    train_loss.append(loss_avg)\n",
        "\n",
        "    test_criterion = nn.CrossEntropyLoss()\n",
        "    test_accuracy_current, test_loss_current =  testing(copy.deepcopy(model), ds_test, 128, test_criterion, num_classes, classes_test)\n",
        "    test_accuracy.append(test_accuracy_current)\n",
        "    test_loss.append(test_loss_current)\n",
        "\n",
        "  end = time.time()\n",
        "  fig, ax = plt.subplots()\n",
        "  x_axis = np.arange(1, rounds+1)\n",
        "  y_axis = np.array(train_loss)\n",
        "  ax.plot(x_axis, y_axis, 'tab:'+plt_color)\n",
        "\n",
        "  ax.set(xlabel='Number of Rounds', ylabel='Train Loss',\n",
        "       title=plt_title)\n",
        "  ax.grid()\n",
        "  fig.savefig('/gdrive/My Drive/FedPerf/MNIST/FedAvg/Stragglers/0.5/' + plt_title +'_Train_Loss.jpg', format='jpg')\n",
        "\n",
        "  fig, ax = plt.subplots()\n",
        "  x_axis = np.arange(1, rounds+1)\n",
        "  y_axis = np.array(test_loss)\n",
        "  ax.plot(x_axis, y_axis, 'tab:'+plt_color)\n",
        "  ax.set(xlabel='Number of Rounds', ylabel='Test Loss', title=plt_title)\n",
        "  ax.grid()\n",
        "  fig.savefig('/gdrive/My Drive/FedPerf/MNIST/FedAvg/Stragglers/0.5/'+plt_title+'_Test_loss.jpg', format='jpg')\n",
        "  plt.show()\n",
        "  fig, ax = plt.subplots()\n",
        "  x_axis = np.arange(1, rounds+1)\n",
        "  y_axis = np.array(test_accuracy)\n",
        "  ax.plot(x_axis, y_axis, 'tab:'+plt_color)\n",
        "  ax.set(xlabel='Number of Rounds', ylabel='Test Accuracy', title=plt_title)\n",
        "  ax.grid()\n",
        "  fig.savefig('/gdrive/My Drive/FedPerf/MNIST/FedAvg/Stragglers/0.5/'+plt_title+'_Test_Accuracy.jpg', format='jpg')\n",
        "  plt.show()\n",
        "\n",
        "\n",
        "  print(\"Training Done!\")\n",
        "  print(\"Total time taken to Train: {}\".format(end-start))\n",
        "\n",
        "  return model, train_loss, test_accuracy, test_loss"
      ],
      "execution_count": 20,
      "outputs": []
    },
    {
      "cell_type": "code",
      "metadata": {
        "id": "FcVECnMRaKG3"
      },
      "source": [
        "path = '/gdrive/My Drive/FedPerf/MNIST/FedAvg/Stragglers/0.5/'"
      ],
      "execution_count": 21,
      "outputs": []
    },
    {
      "cell_type": "markdown",
      "metadata": {
        "id": "tUYyb4T-uXmF"
      },
      "source": [
        "## Testing Loop"
      ]
    },
    {
      "cell_type": "code",
      "metadata": {
        "id": "uCcIZmO5uan9"
      },
      "source": [
        "def testing(model, dataset, bs, criterion, num_classes, classes, print_info=False):\n",
        "  #test loss \n",
        "  test_loss = 0.0\n",
        "  correct_class = list(0. for i in range(num_classes))\n",
        "  total_class = list(0. for i in range(num_classes))\n",
        "\n",
        "  test_loader = DataLoader(dataset, batch_size=bs)\n",
        "  l = len(test_loader)\n",
        "  model.eval()\n",
        "  for data, labels in test_loader:\n",
        "\n",
        "    if torch.cuda.is_available():\n",
        "      data, labels = data.cuda(), labels.cuda()\n",
        "\n",
        "    output = model(data)\n",
        "    loss = criterion(output, labels)\n",
        "    test_loss += loss.item()*data.size(0)\n",
        "\n",
        "    _, pred = torch.max(output, 1)\n",
        "\n",
        "    correct_tensor = pred.eq(labels.data.view_as(pred))\n",
        "    correct = np.squeeze(correct_tensor.numpy()) if not torch.cuda.is_available() else np.squeeze(correct_tensor.cpu().numpy())\n",
        "\n",
        "    #test accuracy for each object class\n",
        "    for i in range(num_classes):\n",
        "      label = labels.data[i]\n",
        "      correct_class[label] += correct[i].item()\n",
        "      total_class[label] += 1\n",
        "    \n",
        "  # avg test loss\n",
        "  test_loss = test_loss/len(test_loader.dataset)\n",
        "  test_accuracy = 100. * np.sum(correct_class) / np.sum(total_class)\n",
        "\n",
        "  if print_info:\n",
        "    print(\"Test Loss: {:.6f}\\n\".format(test_loss))\n",
        "\n",
        "    for i in range(10):\n",
        "      if total_class[i]>0:\n",
        "        print('Test Accuracy of %5s: %2d%% (%2d/%2d)' % \n",
        "              (classes[i], 100 * correct_class[i] / total_class[i],\n",
        "              np.sum(correct_class[i]), np.sum(total_class[i])))\n",
        "      else:\n",
        "        print('Test Accuracy of %5s: N/A (no training examples)' % (classes[i]))\n",
        "\n",
        "    print('\\nFinal Test  Accuracy: {:.3f} ({}/{})'.format(\n",
        "          100. * np.sum(correct_class) / np.sum(total_class),\n",
        "          np.sum(correct_class), np.sum(total_class)))\n",
        "  \n",
        "  return test_accuracy, test_loss"
      ],
      "execution_count": 22,
      "outputs": []
    },
    {
      "cell_type": "code",
      "metadata": {
        "id": "o07QsQJg3BvY"
      },
      "source": [
        "log_dict = {}\n",
        "NUM_REPEAT = 1"
      ],
      "execution_count": 23,
      "outputs": []
    },
    {
      "cell_type": "markdown",
      "metadata": {
        "id": "z_jifdzniuhm"
      },
      "source": [
        "# MNIST MLP on IID"
      ]
    },
    {
      "cell_type": "markdown",
      "metadata": {
        "id": "uh-te0Od2XGO"
      },
      "source": [
        "### Train"
      ]
    },
    {
      "cell_type": "code",
      "metadata": {
        "id": "UmpWmKOQixVV",
        "colab": {
          "base_uri": "https://localhost:8080/",
          "height": 1000
        },
        "outputId": "bd0f4c0c-fc76-4006-c6dd-d776923951d3"
      },
      "source": [
        "train_loss_multiple_runs = [None] * NUM_REPEAT\n",
        "test_accuracy_multiple_runs = [None] * NUM_REPEAT\n",
        "test_loss_multiple_runs = [None] * NUM_REPEAT\n",
        "\n",
        "for exp_num in range(NUM_REPEAT):\n",
        "  print(\"Experiment Run Number: \", exp_num)\n",
        "\n",
        "  # number of training rounds\n",
        "  rounds = 50\n",
        "  # client fraction\n",
        "  C = 0.5\n",
        "  # number of clients\n",
        "  K = 100\n",
        "  # number of training passes on local dataset for each round\n",
        "  E = 5\n",
        "  # batch size\n",
        "  batch_size = 10\n",
        "  # learning Rate\n",
        "  lr=0.05\n",
        "  # dict containing different type of data partition\n",
        "  data_dict = iid_partition(mnist_data_train, 100)\n",
        "  # load model\n",
        "  mnist_mlp = MNIST_2NN()\n",
        "\n",
        "  if torch.cuda.is_available():\n",
        "    mnist_mlp.cuda()\n",
        "\n",
        "  mnist_mlp_iid_trained, train_loss, test_accuracy, test_loss = training(mnist_mlp, rounds, batch_size, lr, mnist_data_train, mnist_data_test, data_dict, C, K, E, \"MNIST MLP on IID Dataset\", \"orange\")\n",
        "  \n",
        "  train_loss_multiple_runs[exp_num] = train_loss\n",
        "  test_accuracy_multiple_runs[exp_num] = test_accuracy\n",
        "  test_loss_multiple_runs[exp_num] = test_loss\n",
        "\n",
        "  criterion = nn.CrossEntropyLoss()\n",
        "  acc, loss = testing(mnist_mlp_iid_trained, mnist_data_test, 128, criterion, num_classes, classes_test, True)"
      ],
      "execution_count": 24,
      "outputs": [
        {
          "output_type": "stream",
          "text": [
            "Experiment Run Number:  0\n",
            "Round: 1... \tAverage Loss: 0.501\n",
            "Round: 2... \tAverage Loss: 0.267\n",
            "Round: 3... \tAverage Loss: 0.244\n",
            "Round: 4... \tAverage Loss: 0.231\n",
            "Round: 5... \tAverage Loss: 0.233\n",
            "Round: 6... \tAverage Loss: 0.228\n",
            "Round: 7... \tAverage Loss: 0.228\n",
            "Round: 8... \tAverage Loss: 0.231\n",
            "Round: 9... \tAverage Loss: 0.231\n",
            "Round: 10... \tAverage Loss: 0.224\n",
            "Round: 11... \tAverage Loss: 0.227\n",
            "Round: 12... \tAverage Loss: 0.224\n",
            "Round: 13... \tAverage Loss: 0.221\n",
            "Round: 14... \tAverage Loss: 0.224\n",
            "Round: 15... \tAverage Loss: 0.225\n",
            "Round: 16... \tAverage Loss: 0.221\n",
            "Round: 17... \tAverage Loss: 0.223\n",
            "Round: 18... \tAverage Loss: 0.227\n",
            "Round: 19... \tAverage Loss: 0.224\n",
            "Round: 20... \tAverage Loss: 0.22\n",
            "Round: 21... \tAverage Loss: 0.22\n",
            "Round: 22... \tAverage Loss: 0.222\n",
            "Round: 23... \tAverage Loss: 0.223\n",
            "Round: 24... \tAverage Loss: 0.221\n",
            "Round: 25... \tAverage Loss: 0.226\n",
            "Round: 26... \tAverage Loss: 0.221\n",
            "Round: 27... \tAverage Loss: 0.224\n",
            "Round: 28... \tAverage Loss: 0.222\n",
            "Round: 29... \tAverage Loss: 0.223\n",
            "Round: 30... \tAverage Loss: 0.219\n",
            "Round: 31... \tAverage Loss: 0.223\n",
            "Round: 32... \tAverage Loss: 0.219\n",
            "Round: 33... \tAverage Loss: 0.222\n",
            "Round: 34... \tAverage Loss: 0.225\n",
            "Round: 35... \tAverage Loss: 0.218\n",
            "Round: 36... \tAverage Loss: 0.219\n",
            "Round: 37... \tAverage Loss: 0.222\n",
            "Round: 38... \tAverage Loss: 0.22\n",
            "Round: 39... \tAverage Loss: 0.222\n",
            "Round: 40... \tAverage Loss: 0.219\n",
            "Round: 41... \tAverage Loss: 0.223\n",
            "Round: 42... \tAverage Loss: 0.226\n",
            "Round: 43... \tAverage Loss: 0.219\n",
            "Round: 44... \tAverage Loss: 0.225\n",
            "Round: 45... \tAverage Loss: 0.223\n",
            "Round: 46... \tAverage Loss: 0.216\n",
            "Round: 47... \tAverage Loss: 0.221\n",
            "Round: 48... \tAverage Loss: 0.218\n",
            "Round: 49... \tAverage Loss: 0.217\n",
            "Round: 50... \tAverage Loss: 0.225\n"
          ],
          "name": "stdout"
        },
        {
          "output_type": "display_data",
          "data": {
            "image/png": "[encoded data removed]",
            "text/plain": [
              "<Figure size 432x288 with 1 Axes>"
            ]
          },
          "metadata": {
            "tags": [],
            "needs_background": "light"
          }
        },
        {
          "output_type": "display_data",
          "data": {
            "image/png": "[encoded data removed]",
            "text/plain": [
              "<Figure size 432x288 with 1 Axes>"
            ]
          },
          "metadata": {
            "tags": [],
            "needs_background": "light"
          }
        },
        {
          "output_type": "display_data",
          "data": {
            "image/png": "[encoded data removed]",
            "text/plain": [
              "<Figure size 432x288 with 1 Axes>"
            ]
          },
          "metadata": {
            "tags": [],
            "needs_background": "light"
          }
        },
        {
          "output_type": "stream",
          "text": [
            "Training Done!\n",
            "Total time taken to Train: 1774.105558872223\n",
            "Test Loss: 1.696759\n",
            "\n",
            "Test Accuracy of     0: 98% (75/76)\n",
            "Test Accuracy of     1: 97% (88/90)\n",
            "Test Accuracy of     2: 91% (83/91)\n",
            "Test Accuracy of     3: 91% (67/73)\n",
            "Test Accuracy of     4: 96% (86/89)\n",
            "Test Accuracy of     5: 88% (60/68)\n",
            "Test Accuracy of     6: 91% (57/62)\n",
            "Test Accuracy of     7: 88% (72/81)\n",
            "Test Accuracy of     8: 97% (75/77)\n",
            "Test Accuracy of     9: 95% (79/83)\n",
            "\n",
            "Final Test  Accuracy: 93.924 (742.0/790.0)\n"
          ],
          "name": "stdout"
        }
      ]
    },
    {
      "cell_type": "code",
      "metadata": {
        "id": "71Xf3NKi1PAr"
      },
      "source": [
        "hyperparams = {'rounds': rounds,\n",
        "               'C': C,\n",
        "               'K': K,\n",
        "               'E': E,\n",
        "               'batch_size': batch_size,\n",
        "               'lr': lr,\n",
        "               }\n",
        "\n",
        "log_dict['MNIST MLP on IID'] = {'train_loss': train_loss_multiple_runs, \n",
        "                                'test_loss': test_loss_multiple_runs, \n",
        "                                'test_accuracy': test_accuracy_multiple_runs,\n",
        "                                'hyperparams': hyperparams,\n",
        "                                }"
      ],
      "execution_count": 25,
      "outputs": []
    },
    {
      "cell_type": "markdown",
      "metadata": {
        "id": "w7NddQfAN1uk"
      },
      "source": [
        "#MNIST MLP on Non-IID"
      ]
    },
    {
      "cell_type": "markdown",
      "metadata": {
        "id": "YjGaNhZaRgD-"
      },
      "source": [
        "##Train"
      ]
    },
    {
      "cell_type": "code",
      "metadata": {
        "id": "uR3WgpV7l7ES",
        "colab": {
          "base_uri": "https://localhost:8080/",
          "height": 1000
        },
        "outputId": "97d43cb7-9cc1-4424-b461-34c7456bab63"
      },
      "source": [
        "train_loss_multiple_runs = [None] * NUM_REPEAT\n",
        "test_accuracy_multiple_runs = [None] * NUM_REPEAT\n",
        "test_loss_multiple_runs = [None] * NUM_REPEAT\n",
        "\n",
        "for exp_num in range(NUM_REPEAT):\n",
        "  print(\"Experiment Run Number: \", exp_num)\n",
        "  \n",
        "  # number of training rounds\n",
        "  rounds = 50\n",
        "  # client fraction\n",
        "  C = 0.5\n",
        "  # number of clients\n",
        "  K = 100\n",
        "  # number of training passes on local dataset for each roung\n",
        "  E = 5\n",
        "  # batch size\n",
        "  batch_size = 10\n",
        "  # learning Rate\n",
        "  lr=0.05\n",
        "  # dict containing different type of data partition\n",
        "  data_dict = non_iid_partition(mnist_data_train, 100, 200, 300, 2)\n",
        "  # load model\n",
        "  mnist_mlp = MNIST_2NN()\n",
        "\n",
        "  if torch.cuda.is_available():\n",
        "    mnist_mlp.cuda()\n",
        "\n",
        "  mnist_mlp_non_iid_trained, train_loss, test_accuracy, test_loss = training(mnist_mlp, rounds, batch_size, lr, mnist_data_train, mnist_data_test, data_dict, C, K, E, \"MNIST MLP on Non-IID Dataset\", \"green\")\n",
        "\n",
        "  train_loss_multiple_runs[exp_num] = train_loss\n",
        "  test_accuracy_multiple_runs[exp_num] = test_accuracy\n",
        "  test_loss_multiple_runs[exp_num] = test_loss\n",
        "\n",
        "  \n",
        "  criterion = nn.CrossEntropyLoss()\n",
        "  acc, loss = testing(mnist_mlp_non_iid_trained, mnist_data_test, 128, criterion, num_classes, classes_test, True)"
      ],
      "execution_count": 26,
      "outputs": [
        {
          "output_type": "stream",
          "text": [
            "Experiment Run Number:  0\n",
            "Round: 1... \tAverage Loss: 0.14\n",
            "Round: 2... \tAverage Loss: 0.09\n",
            "Round: 3... \tAverage Loss: 0.086\n",
            "Round: 4... \tAverage Loss: 0.08\n",
            "Round: 5... \tAverage Loss: 0.082\n",
            "Round: 6... \tAverage Loss: 0.068\n",
            "Round: 7... \tAverage Loss: 0.077\n",
            "Round: 8... \tAverage Loss: 0.076\n",
            "Round: 9... \tAverage Loss: 0.07\n",
            "Round: 10... \tAverage Loss: 0.084\n",
            "Round: 11... \tAverage Loss: 0.078\n",
            "Round: 12... \tAverage Loss: 0.079\n",
            "Round: 13... \tAverage Loss: 0.073\n",
            "Round: 14... \tAverage Loss: 0.086\n",
            "Round: 15... \tAverage Loss: 0.077\n",
            "Round: 16... \tAverage Loss: 0.079\n",
            "Round: 17... \tAverage Loss: 0.083\n",
            "Round: 18... \tAverage Loss: 0.074\n",
            "Round: 19... \tAverage Loss: 0.081\n",
            "Round: 20... \tAverage Loss: 0.076\n",
            "Round: 21... \tAverage Loss: 0.081\n",
            "Round: 22... \tAverage Loss: 0.075\n",
            "Round: 23... \tAverage Loss: 0.077\n",
            "Round: 24... \tAverage Loss: 0.072\n",
            "Round: 25... \tAverage Loss: 0.076\n",
            "Round: 26... \tAverage Loss: 0.082\n",
            "Round: 27... \tAverage Loss: 0.076\n",
            "Round: 28... \tAverage Loss: 0.088\n",
            "Round: 29... \tAverage Loss: 0.072\n",
            "Round: 30... \tAverage Loss: 0.077\n",
            "Round: 31... \tAverage Loss: 0.081\n",
            "Round: 32... \tAverage Loss: 0.079\n",
            "Round: 33... \tAverage Loss: 0.075\n",
            "Round: 34... \tAverage Loss: 0.079\n",
            "Round: 35... \tAverage Loss: 0.079\n",
            "Round: 36... \tAverage Loss: 0.083\n",
            "Round: 37... \tAverage Loss: 0.08\n",
            "Round: 38... \tAverage Loss: 0.08\n",
            "Round: 39... \tAverage Loss: 0.078\n",
            "Round: 40... \tAverage Loss: 0.072\n",
            "Round: 41... \tAverage Loss: 0.075\n",
            "Round: 42... \tAverage Loss: 0.084\n",
            "Round: 43... \tAverage Loss: 0.075\n",
            "Round: 44... \tAverage Loss: 0.076\n",
            "Round: 45... \tAverage Loss: 0.072\n",
            "Round: 46... \tAverage Loss: 0.079\n",
            "Round: 47... \tAverage Loss: 0.085\n",
            "Round: 48... \tAverage Loss: 0.085\n",
            "Round: 49... \tAverage Loss: 0.083\n",
            "Round: 50... \tAverage Loss: 0.078\n"
          ],
          "name": "stdout"
        },
        {
          "output_type": "display_data",
          "data": {
            "image/png": "[encoded data removed]",
            "text/plain": [
              "<Figure size 432x288 with 1 Axes>"
            ]
          },
          "metadata": {
            "tags": [],
            "needs_background": "light"
          }
        },
        {
          "output_type": "display_data",
          "data": {
            "image/png": "[encoded data removed]",
            "text/plain": [
              "<Figure size 432x288 with 1 Axes>"
            ]
          },
          "metadata": {
            "tags": [],
            "needs_background": "light"
          }
        },
        {
          "output_type": "display_data",
          "data": {
            "image/png": "[encoded data removed]",
            "text/plain": [
              "<Figure size 432x288 with 1 Axes>"
            ]
          },
          "metadata": {
            "tags": [],
            "needs_background": "light"
          }
        },
        {
          "output_type": "stream",
          "text": [
            "Training Done!\n",
            "Total time taken to Train: 1775.6023325920105\n",
            "Test Loss: 4.296747\n",
            "\n",
            "Test Accuracy of     0: 86% (66/76)\n",
            "Test Accuracy of     1: 37% (34/90)\n",
            "Test Accuracy of     2: 67% (61/91)\n",
            "Test Accuracy of     3: 16% (12/73)\n",
            "Test Accuracy of     4:  0% ( 0/89)\n",
            "Test Accuracy of     5:  0% ( 0/68)\n",
            "Test Accuracy of     6: 46% (29/62)\n",
            "Test Accuracy of     7:  0% ( 0/81)\n",
            "Test Accuracy of     8:  0% ( 0/77)\n",
            "Test Accuracy of     9: 100% (83/83)\n",
            "\n",
            "Final Test  Accuracy: 36.076 (285.0/790.0)\n"
          ],
          "name": "stdout"
        }
      ]
    },
    {
      "cell_type": "code",
      "metadata": {
        "id": "7uWjjI031bqr"
      },
      "source": [
        "hyperparams = {'rounds': rounds,\n",
        "               'C': C,\n",
        "               'K': K,\n",
        "               'E': E,\n",
        "               'batch_size': batch_size,\n",
        "               'lr': lr,\n",
        "               }\n",
        "\n",
        "log_dict['MNIST MLP on Non IID'] = {'train_loss': train_loss_multiple_runs, \n",
        "                                'test_loss': test_loss_multiple_runs, \n",
        "                                'test_accuracy': test_accuracy_multiple_runs,\n",
        "                                'hyperparams': hyperparams,\n",
        "                                }"
      ],
      "execution_count": null,
      "outputs": []
    },
    {
      "cell_type": "code",
      "metadata": {
        "id": "0ZCmhoJy1ha_"
      },
      "source": [
        ""
      ],
      "execution_count": null,
      "outputs": []
    },
    {
      "cell_type": "code",
      "metadata": {
        "id": "soAN38JoP0c1"
      },
      "source": [
        "import pickle\n",
        " \n",
        "with open(path + 'MNIST_FedAvg_stragglers0_5.pkl', 'wb') as file:\n",
        "  pickle.dump(log_dict, file)"
      ],
      "execution_count": 28,
      "outputs": []
    },
    {
      "cell_type": "code",
      "metadata": {
        "colab": {
          "base_uri": "https://localhost:8080/"
        },
        "id": "2UBy-JswSoCJ",
        "outputId": "11d461df-4698-4ab5-b1bc-e97aa0a878cc"
      },
      "source": [
        "log_dict"
      ],
      "execution_count": 29,
      "outputs": [
        {
          "output_type": "execute_result",
          "data": {
            "text/plain": [
              "{'MNIST MLP on IID': {'hyperparams': {'C': 0.5,\n",
              "   'E': 5,\n",
              "   'K': 100,\n",
              "   'batch_size': 10,\n",
              "   'lr': 0.05,\n",
              "   'rounds': 50},\n",
              "  'test_accuracy': [[92.78481012658227,\n",
              "    93.16455696202532,\n",
              "    93.29113924050633,\n",
              "    93.92405063291139,\n",
              "    93.54430379746836,\n",
              "    93.67088607594937,\n",
              "    93.41772151898734,\n",
              "    93.67088607594937,\n",
              "    93.41772151898734,\n",
              "    93.67088607594937,\n",
              "    93.54430379746836,\n",
              "    93.29113924050633,\n",
              "    93.29113924050633,\n",
              "    93.29113924050633,\n",
              "    93.79746835443038,\n",
              "    93.54430379746836,\n",
              "    93.41772151898734,\n",
              "    93.54430379746836,\n",
              "    93.67088607594937,\n",
              "    93.41772151898734,\n",
              "    93.54430379746836,\n",
              "    93.67088607594937,\n",
              "    93.54430379746836,\n",
              "    93.29113924050633,\n",
              "    93.41772151898734,\n",
              "    93.29113924050633,\n",
              "    93.67088607594937,\n",
              "    93.16455696202532,\n",
              "    93.29113924050633,\n",
              "    93.54430379746836,\n",
              "    93.67088607594937,\n",
              "    93.79746835443038,\n",
              "    93.16455696202532,\n",
              "    93.54430379746836,\n",
              "    93.79746835443038,\n",
              "    93.67088607594937,\n",
              "    93.79746835443038,\n",
              "    93.92405063291139,\n",
              "    93.67088607594937,\n",
              "    93.54430379746836,\n",
              "    93.16455696202532,\n",
              "    93.79746835443038,\n",
              "    93.16455696202532,\n",
              "    93.92405063291139,\n",
              "    93.67088607594937,\n",
              "    93.67088607594937,\n",
              "    93.54430379746836,\n",
              "    93.41772151898734,\n",
              "    93.79746835443038,\n",
              "    93.92405063291139]],\n",
              "  'test_loss': [[2.091429197692871,\n",
              "    1.699194605255127,\n",
              "    1.7021246482849122,\n",
              "    1.7049913673400878,\n",
              "    1.7034290290832519,\n",
              "    1.7246591938018798,\n",
              "    1.7019871530532837,\n",
              "    1.7022078935623168,\n",
              "    1.7094027355194092,\n",
              "    1.6945120147705077,\n",
              "    1.7046438358306886,\n",
              "    1.726303758239746,\n",
              "    1.7014234521865845,\n",
              "    1.6941553873062134,\n",
              "    1.6975795160293579,\n",
              "    1.7018256818771362,\n",
              "    1.6967859455108643,\n",
              "    1.6981378795623778,\n",
              "    1.7084172582626342,\n",
              "    1.710080191230774,\n",
              "    1.7171454204559327,\n",
              "    1.6929764675140382,\n",
              "    1.7132232543945312,\n",
              "    1.7259896692276,\n",
              "    1.698542352104187,\n",
              "    1.7046065174102782,\n",
              "    1.7001428285598754,\n",
              "    1.7133421190261842,\n",
              "    1.7200416793823243,\n",
              "    1.6975738243103027,\n",
              "    1.7235345512390137,\n",
              "    1.7253259475708007,\n",
              "    1.7049287805557252,\n",
              "    1.7216884941101074,\n",
              "    1.6929316053390502,\n",
              "    1.707943889427185,\n",
              "    1.6973323453903197,\n",
              "    1.7051737581253053,\n",
              "    1.6934011423110962,\n",
              "    1.693327815246582,\n",
              "    1.7045661752700805,\n",
              "    1.7114456119537353,\n",
              "    1.7036807474136353,\n",
              "    1.6997177959442138,\n",
              "    1.7172600204467774,\n",
              "    1.7117301919937133,\n",
              "    1.6950592905044555,\n",
              "    1.7014413808822633,\n",
              "    1.6911645303726197,\n",
              "    1.6967592374801637]],\n",
              "  'train_loss': [[0.5006717874473968,\n",
              "    0.2673101429541478,\n",
              "    0.24444782654072145,\n",
              "    0.2313830329215795,\n",
              "    0.23343264292840035,\n",
              "    0.22825329911661293,\n",
              "    0.2284225941995256,\n",
              "    0.2310466463678652,\n",
              "    0.23061233012840193,\n",
              "    0.22399070875179994,\n",
              "    0.2271105659268,\n",
              "    0.22402742654871355,\n",
              "    0.22141541910044224,\n",
              "    0.22394313056415224,\n",
              "    0.2247646135965051,\n",
              "    0.2211991285218295,\n",
              "    0.2232653034514515,\n",
              "    0.22707233888372233,\n",
              "    0.2236929860385446,\n",
              "    0.2202702885228656,\n",
              "    0.21955553795036972,\n",
              "    0.22153205415934007,\n",
              "    0.2229393392380928,\n",
              "    0.22144890396466163,\n",
              "    0.22585908281606584,\n",
              "    0.2213406029797915,\n",
              "    0.22383974460181977,\n",
              "    0.22240745778517454,\n",
              "    0.22307299755704985,\n",
              "    0.21879532054529602,\n",
              "    0.2231205964390965,\n",
              "    0.21886053169875333,\n",
              "    0.22228388009810396,\n",
              "    0.22496305419688,\n",
              "    0.21824770261313536,\n",
              "    0.21925945684864223,\n",
              "    0.22163074164572563,\n",
              "    0.22036998505504835,\n",
              "    0.2224658677312778,\n",
              "    0.21936954803778788,\n",
              "    0.22325103130065838,\n",
              "    0.22562387098556896,\n",
              "    0.2187583306488038,\n",
              "    0.22482145656077202,\n",
              "    0.22321563106676134,\n",
              "    0.21617872105475197,\n",
              "    0.22144304741433196,\n",
              "    0.21771812298533624,\n",
              "    0.21741343122698015,\n",
              "    0.22487833172259464]]},\n",
              " 'MNIST MLP on Non IID': {'hyperparams': {'C': 0.5,\n",
              "   'E': 5,\n",
              "   'K': 100,\n",
              "   'batch_size': 10,\n",
              "   'lr': 0.05,\n",
              "   'rounds': 50},\n",
              "  'test_accuracy': [[29.11392405063291,\n",
              "    59.74683544303797,\n",
              "    37.21518987341772,\n",
              "    31.772151898734176,\n",
              "    32.151898734177216,\n",
              "    48.35443037974684,\n",
              "    45.822784810126585,\n",
              "    31.139240506329113,\n",
              "    46.075949367088604,\n",
              "    28.354430379746834,\n",
              "    47.34177215189873,\n",
              "    45.69620253164557,\n",
              "    30.379746835443036,\n",
              "    26.962025316455698,\n",
              "    22.27848101265823,\n",
              "    27.341772151898734,\n",
              "    30.253164556962027,\n",
              "    21.89873417721519,\n",
              "    27.21518987341772,\n",
              "    16.962025316455698,\n",
              "    41.89873417721519,\n",
              "    52.40506329113924,\n",
              "    28.481012658227847,\n",
              "    35.69620253164557,\n",
              "    24.936708860759495,\n",
              "    40.379746835443036,\n",
              "    21.39240506329114,\n",
              "    30.379746835443036,\n",
              "    35.56962025316456,\n",
              "    34.43037974683544,\n",
              "    44.936708860759495,\n",
              "    36.20253164556962,\n",
              "    38.860759493670884,\n",
              "    45.063291139240505,\n",
              "    20.759493670886076,\n",
              "    40.0,\n",
              "    32.40506329113924,\n",
              "    50.12658227848101,\n",
              "    27.72151898734177,\n",
              "    43.164556962025316,\n",
              "    28.734177215189874,\n",
              "    40.25316455696203,\n",
              "    46.32911392405063,\n",
              "    45.822784810126585,\n",
              "    36.32911392405063,\n",
              "    48.35443037974684,\n",
              "    23.924050632911392,\n",
              "    41.51898734177215,\n",
              "    50.63291139240506,\n",
              "    36.075949367088604]],\n",
              "  'test_loss': [[4.8476123558044435,\n",
              "    4.5031397392272945,\n",
              "    4.370875060272216,\n",
              "    4.310647689056396,\n",
              "    4.272662083435058,\n",
              "    4.278227735900879,\n",
              "    4.253824282836914,\n",
              "    4.222252822875976,\n",
              "    4.2402206192016605,\n",
              "    4.275859597778321,\n",
              "    4.252282134246826,\n",
              "    4.233003164672851,\n",
              "    4.242238953399658,\n",
              "    4.277192078399658,\n",
              "    4.23361037902832,\n",
              "    4.2617571174621585,\n",
              "    4.272948853302002,\n",
              "    4.293485777282715,\n",
              "    4.27339365158081,\n",
              "    4.244615812683105,\n",
              "    4.247194854736328,\n",
              "    4.203017683029175,\n",
              "    4.226170751190185,\n",
              "    4.235679819488525,\n",
              "    4.236195365905762,\n",
              "    4.281898173522949,\n",
              "    4.274292247772217,\n",
              "    4.265038731384277,\n",
              "    4.268461520385742,\n",
              "    4.229927751541138,\n",
              "    4.232882454299927,\n",
              "    4.270328211593628,\n",
              "    4.234579314804077,\n",
              "    4.255653630828857,\n",
              "    4.2702598373413085,\n",
              "    4.289489006042481,\n",
              "    4.265232126617431,\n",
              "    4.316763403320312,\n",
              "    4.277024752044678,\n",
              "    4.236791779327392,\n",
              "    4.252994002532959,\n",
              "    4.280871993255615,\n",
              "    4.278642163848877,\n",
              "    4.246444746017456,\n",
              "    4.225548309326172,\n",
              "    4.236339728546143,\n",
              "    4.26250897064209,\n",
              "    4.249546102142334,\n",
              "    4.243467938232422,\n",
              "    4.296747047424317]],\n",
              "  'train_loss': [[0.1400857063354607,\n",
              "    0.09029725285910317,\n",
              "    0.08605562764894602,\n",
              "    0.07972079717594464,\n",
              "    0.08243962532826432,\n",
              "    0.06815429538092035,\n",
              "    0.07680114521230856,\n",
              "    0.07571917114687227,\n",
              "    0.0699979860970206,\n",
              "    0.08354330201109601,\n",
              "    0.0775939436329487,\n",
              "    0.0787728460806752,\n",
              "    0.07254583084530983,\n",
              "    0.08603140794459907,\n",
              "    0.07673334950941677,\n",
              "    0.07944657532348526,\n",
              "    0.08348798731428081,\n",
              "    0.07431695509012799,\n",
              "    0.08050506780370799,\n",
              "    0.07602841380613641,\n",
              "    0.08096368828581257,\n",
              "    0.0751907599692706,\n",
              "    0.07677870660671059,\n",
              "    0.07201420400789928,\n",
              "    0.07625526985429758,\n",
              "    0.0822344160444166,\n",
              "    0.0763292750354476,\n",
              "    0.08774497463771741,\n",
              "    0.0715493914785143,\n",
              "    0.0769096818493468,\n",
              "    0.0813180399651657,\n",
              "    0.07850200602595797,\n",
              "    0.07477923341988518,\n",
              "    0.07926106493621249,\n",
              "    0.07868259815830424,\n",
              "    0.08341858358770066,\n",
              "    0.07958576906557822,\n",
              "    0.08021745224960193,\n",
              "    0.07795816996839446,\n",
              "    0.07203650451305886,\n",
              "    0.07465077227883325,\n",
              "    0.08375696448363039,\n",
              "    0.07461043994688327,\n",
              "    0.0762829617571488,\n",
              "    0.07190328227580264,\n",
              "    0.0788226406181885,\n",
              "    0.08492472723494798,\n",
              "    0.08532541436889941,\n",
              "    0.0828842401399163,\n",
              "    0.07804098453994822]]}}"
            ]
          },
          "metadata": {
            "tags": []
          },
          "execution_count": 29
        }
      ]
    },
    {
      "cell_type": "markdown",
      "metadata": {
        "id": "7JOrGXijO-n5"
      },
      "source": [
        "#MNIST CNN on IID"
      ]
    },
    {
      "cell_type": "markdown",
      "metadata": {
        "id": "LlfMgPCnPG24"
      },
      "source": [
        "##Train"
      ]
    },
    {
      "cell_type": "code",
      "metadata": {
        "colab": {
          "base_uri": "https://localhost:8080/",
          "height": 1000
        },
        "id": "MQnkaV-kOw7J",
        "outputId": "4353936e-7901-4177-bb57-06fd9d23d23d"
      },
      "source": [
        "train_loss_multiple_runs = [None] * NUM_REPEAT\n",
        "test_accuracy_multiple_runs = [None] * NUM_REPEAT\n",
        "test_loss_multiple_runs = [None] * NUM_REPEAT\n",
        "\n",
        "for exp_num in range(NUM_REPEAT):\n",
        "  print(\"Experiment Run Number: \", exp_num)\n",
        "\n",
        "  # number of training rounds\n",
        "  rounds = 50\n",
        "  # client fraction\n",
        "  C = 0.5\n",
        "  # number of clients\n",
        "  K = 100\n",
        "  # number of training passes on local dataset for each roung\n",
        "  E = 5\n",
        "  # batch size\n",
        "  batch_size = 10\n",
        "  # learning Rate\n",
        "  lr=0.05\n",
        "  # data partition dictionary\n",
        "  iid_dict = iid_partition(mnist_data_train, 100)\n",
        "  # load model\n",
        "  mnist_cnn = MNIST_CNN()\n",
        "\n",
        "  if torch.cuda.is_available():\n",
        "    mnist_cnn.cuda()\n",
        "\n",
        "  mnist_cnn_iid_trained, train_loss, test_accuracy, test_loss = training(mnist_cnn, rounds, batch_size, lr, mnist_data_train, mnist_data_test, iid_dict, C, K, E, \"MNIST CNN on IID Dataset\", \"orange\")\n",
        "\n",
        "  train_loss_multiple_runs[exp_num] = train_loss\n",
        "  test_accuracy_multiple_runs[exp_num] = test_accuracy\n",
        "  test_loss_multiple_runs[exp_num] = test_loss\n",
        "\n",
        "  \n",
        "  criterion = nn.CrossEntropyLoss()\n",
        "  acc, loss = testing(mnist_cnn_iid_trained, mnist_data_test, 128, criterion, num_classes, classes_test, True)"
      ],
      "execution_count": 30,
      "outputs": [
        {
          "output_type": "stream",
          "text": [
            "Experiment Run Number:  0\n",
            "Round: 1... \tAverage Loss: 0.494\n",
            "Round: 2... \tAverage Loss: 0.251\n",
            "Round: 3... \tAverage Loss: 0.199\n",
            "Round: 4... \tAverage Loss: 0.186\n",
            "Round: 5... \tAverage Loss: 0.18\n",
            "Round: 6... \tAverage Loss: 0.179\n",
            "Round: 7... \tAverage Loss: 0.174\n",
            "Round: 8... \tAverage Loss: 0.171\n",
            "Round: 9... \tAverage Loss: 0.174\n",
            "Round: 10... \tAverage Loss: 0.169\n",
            "Round: 11... \tAverage Loss: 0.168\n",
            "Round: 12... \tAverage Loss: 0.168\n",
            "Round: 13... \tAverage Loss: 0.169\n",
            "Round: 14... \tAverage Loss: 0.169\n",
            "Round: 15... \tAverage Loss: 0.167\n",
            "Round: 16... \tAverage Loss: 0.168\n",
            "Round: 17... \tAverage Loss: 0.165\n",
            "Round: 18... \tAverage Loss: 0.17\n",
            "Round: 19... \tAverage Loss: 0.168\n",
            "Round: 20... \tAverage Loss: 0.171\n",
            "Round: 21... \tAverage Loss: 0.171\n",
            "Round: 22... \tAverage Loss: 0.167\n",
            "Round: 23... \tAverage Loss: 0.172\n",
            "Round: 24... \tAverage Loss: 0.165\n",
            "Round: 25... \tAverage Loss: 0.167\n",
            "Round: 26... \tAverage Loss: 0.166\n",
            "Round: 27... \tAverage Loss: 0.166\n",
            "Round: 28... \tAverage Loss: 0.169\n",
            "Round: 29... \tAverage Loss: 0.17\n",
            "Round: 30... \tAverage Loss: 0.164\n",
            "Round: 31... \tAverage Loss: 0.171\n",
            "Round: 32... \tAverage Loss: 0.17\n",
            "Round: 33... \tAverage Loss: 0.17\n",
            "Round: 34... \tAverage Loss: 0.176\n",
            "Round: 35... \tAverage Loss: 0.168\n",
            "Round: 36... \tAverage Loss: 0.17\n",
            "Round: 37... \tAverage Loss: 0.173\n",
            "Round: 38... \tAverage Loss: 0.167\n",
            "Round: 39... \tAverage Loss: 0.168\n",
            "Round: 40... \tAverage Loss: 0.169\n",
            "Round: 41... \tAverage Loss: 0.171\n",
            "Round: 42... \tAverage Loss: 0.166\n",
            "Round: 43... \tAverage Loss: 0.168\n",
            "Round: 44... \tAverage Loss: 0.164\n",
            "Round: 45... \tAverage Loss: 0.167\n",
            "Round: 46... \tAverage Loss: 0.169\n",
            "Round: 47... \tAverage Loss: 0.169\n",
            "Round: 48... \tAverage Loss: 0.168\n",
            "Round: 49... \tAverage Loss: 0.169\n",
            "Round: 50... \tAverage Loss: 0.169\n"
          ],
          "name": "stdout"
        },
        {
          "output_type": "display_data",
          "data": {
            "image/png": "[encoded data removed]",
            "text/plain": [
              "<Figure size 432x288 with 1 Axes>"
            ]
          },
          "metadata": {
            "tags": [],
            "needs_background": "light"
          }
        },
        {
          "output_type": "display_data",
          "data": {
            "image/png": "[encoded data removed]",
            "text/plain": [
              "<Figure size 432x288 with 1 Axes>"
            ]
          },
          "metadata": {
            "tags": [],
            "needs_background": "light"
          }
        },
        {
          "output_type": "display_data",
          "data": {
            "image/png": "[encoded data removed]",
            "text/plain": [
              "<Figure size 432x288 with 1 Axes>"
            ]
          },
          "metadata": {
            "tags": [],
            "needs_background": "light"
          }
        },
        {
          "output_type": "stream",
          "text": [
            "Training Done!\n",
            "Total time taken to Train: 2620.14639544487\n",
            "Test Loss: 1.616894\n",
            "\n",
            "Test Accuracy of     0: 97% (74/76)\n",
            "Test Accuracy of     1: 96% (87/90)\n",
            "Test Accuracy of     2: 97% (89/91)\n",
            "Test Accuracy of     3: 95% (70/73)\n",
            "Test Accuracy of     4: 98% (88/89)\n",
            "Test Accuracy of     5: 97% (66/68)\n",
            "Test Accuracy of     6: 96% (60/62)\n",
            "Test Accuracy of     7: 93% (76/81)\n",
            "Test Accuracy of     8: 98% (76/77)\n",
            "Test Accuracy of     9: 97% (81/83)\n",
            "\n",
            "Final Test  Accuracy: 97.089 (767.0/790.0)\n"
          ],
          "name": "stdout"
        }
      ]
    },
    {
      "cell_type": "code",
      "metadata": {
        "id": "7-pDvwNQ19J3"
      },
      "source": [
        "hyperparams = {'rounds': rounds,\n",
        "               'C': C,\n",
        "               'K': K,\n",
        "               'E': E,\n",
        "               'batch_size': batch_size,\n",
        "               'lr': lr,\n",
        "               }\n",
        "\n",
        "log_dict['MNIST CNN on IID'] = {'train_loss': train_loss_multiple_runs, \n",
        "                                'test_loss': test_loss_multiple_runs, \n",
        "                                'test_accuracy': test_accuracy_multiple_runs,\n",
        "                                'hyperparams': hyperparams,\n",
        "                                }"
      ],
      "execution_count": null,
      "outputs": []
    },
    {
      "cell_type": "code",
      "metadata": {
        "id": "ihFyCmqF19Bg"
      },
      "source": [
        "import pickle\n",
        " \n",
        "with open(path + 'MNIST_FedAvg_0_1clientfraction.pkl', 'wb') as file:\n",
        "  pickle.dump(log_dict, file)"
      ],
      "execution_count": null,
      "outputs": []
    },
    {
      "cell_type": "code",
      "metadata": {
        "id": "cbxdgSyKD2PB"
      },
      "source": [
        "log_dict"
      ],
      "execution_count": null,
      "outputs": []
    },
    {
      "cell_type": "markdown",
      "metadata": {
        "id": "fEuvtdjrXtfF"
      },
      "source": [
        "#MNIST CNN on Non-IID"
      ]
    },
    {
      "cell_type": "markdown",
      "metadata": {
        "id": "Qts5A4ebZ0qT"
      },
      "source": [
        "##Train"
      ]
    },
    {
      "cell_type": "code",
      "metadata": {
        "id": "PuFptwHCXLBK",
        "colab": {
          "base_uri": "https://localhost:8080/",
          "height": 1000
        },
        "outputId": "e7cbf863-58d3-43ac-908c-16630d3e611c"
      },
      "source": [
        "train_loss_multiple_runs = [None] * NUM_REPEAT\n",
        "test_accuracy_multiple_runs = [None] * NUM_REPEAT\n",
        "test_loss_multiple_runs = [None] * NUM_REPEAT\n",
        "\n",
        "for exp_num in range(NUM_REPEAT):\n",
        "  print(\"Experiment Run Number: \", exp_num)\n",
        "\n",
        "  # number of training rounds\n",
        "  rounds = 50\n",
        "  # client fraction\n",
        "  C = 0.5\n",
        "  # number of clients\n",
        "  K = 100\n",
        "  # number of training passes on local dataset for each roung\n",
        "  E = 5\n",
        "  # batch size\n",
        "  batch_size = 10\n",
        "  # learning Rate\n",
        "  lr=0.05\n",
        "  # dict containing different type of data partition\n",
        "  data_dict = non_iid_partition(mnist_data_train, 100, 200, 300, 2)\n",
        "  # load model\n",
        "  mnist_cnn = MNIST_CNN()\n",
        "\n",
        "  if torch.cuda.is_available():\n",
        "    mnist_cnn.cuda()\n",
        "\n",
        "  mnist_cnn_non_iid_trained, train_loss, test_accuracy, test_loss = training(mnist_cnn, rounds, batch_size, lr, mnist_data_train, mnist_data_test, data_dict, C, K, E, \"MNIST CNN on Non-IID Dataset\", \"green\")\n",
        "\n",
        "  train_loss_multiple_runs[exp_num] = train_loss\n",
        "  test_accuracy_multiple_runs[exp_num] = test_accuracy\n",
        "  test_loss_multiple_runs[exp_num] = test_loss\n",
        "\n",
        "  criterion = nn.CrossEntropyLoss()\n",
        "  acc, loss = testing(mnist_cnn_non_iid_trained, mnist_data_test, 128, criterion, num_classes, classes_test, True)"
      ],
      "execution_count": 34,
      "outputs": [
        {
          "output_type": "stream",
          "text": [
            "Experiment Run Number:  0\n",
            "Round: 1... \tAverage Loss: 0.107\n",
            "Round: 2... \tAverage Loss: 0.14\n",
            "Round: 3... \tAverage Loss: 0.112\n",
            "Round: 4... \tAverage Loss: 0.102\n",
            "Round: 5... \tAverage Loss: 0.097\n",
            "Round: 6... \tAverage Loss: 0.101\n",
            "Round: 7... \tAverage Loss: 0.096\n",
            "Round: 8... \tAverage Loss: 0.089\n",
            "Round: 9... \tAverage Loss: 0.087\n",
            "Round: 10... \tAverage Loss: 0.089\n",
            "Round: 11... \tAverage Loss: 0.088\n",
            "Round: 12... \tAverage Loss: 0.089\n",
            "Round: 13... \tAverage Loss: 0.105\n",
            "Round: 14... \tAverage Loss: 0.078\n",
            "Round: 15... \tAverage Loss: 0.092\n",
            "Round: 16... \tAverage Loss: 0.096\n",
            "Round: 17... \tAverage Loss: 0.098\n",
            "Round: 18... \tAverage Loss: 0.084\n",
            "Round: 19... \tAverage Loss: 0.081\n",
            "Round: 20... \tAverage Loss: 0.101\n",
            "Round: 21... \tAverage Loss: 0.088\n",
            "Round: 22... \tAverage Loss: 0.086\n",
            "Round: 23... \tAverage Loss: 0.089\n",
            "Round: 24... \tAverage Loss: 0.074\n",
            "Round: 25... \tAverage Loss: 0.088\n",
            "Round: 26... \tAverage Loss: 0.103\n",
            "Round: 27... \tAverage Loss: 0.101\n",
            "Round: 28... \tAverage Loss: 0.088\n",
            "Round: 29... \tAverage Loss: 0.093\n",
            "Round: 30... \tAverage Loss: 0.1\n",
            "Round: 31... \tAverage Loss: 0.084\n",
            "Round: 32... \tAverage Loss: 0.083\n",
            "Round: 33... \tAverage Loss: 0.081\n",
            "Round: 34... \tAverage Loss: 0.085\n",
            "Round: 35... \tAverage Loss: 0.086\n",
            "Round: 36... \tAverage Loss: 0.087\n",
            "Round: 37... \tAverage Loss: 0.095\n",
            "Round: 38... \tAverage Loss: 0.089\n",
            "Round: 39... \tAverage Loss: 0.084\n",
            "Round: 40... \tAverage Loss: 0.08\n",
            "Round: 41... \tAverage Loss: 0.09\n",
            "Round: 42... \tAverage Loss: 0.087\n",
            "Round: 43... \tAverage Loss: 0.083\n",
            "Round: 44... \tAverage Loss: 0.121\n",
            "Round: 45... \tAverage Loss: 0.102\n",
            "Round: 46... \tAverage Loss: 0.091\n",
            "Round: 47... \tAverage Loss: 0.092\n",
            "Round: 48... \tAverage Loss: 0.093\n",
            "Round: 49... \tAverage Loss: 0.102\n",
            "Round: 50... \tAverage Loss: 0.091\n"
          ],
          "name": "stdout"
        },
        {
          "output_type": "display_data",
          "data": {
            "image/png": "[encoded data removed]",
            "text/plain": [
              "<Figure size 432x288 with 1 Axes>"
            ]
          },
          "metadata": {
            "tags": [],
            "needs_background": "light"
          }
        },
        {
          "output_type": "display_data",
          "data": {
            "image/png": "[encoded data removed]",
            "text/plain": [
              "<Figure size 432x288 with 1 Axes>"
            ]
          },
          "metadata": {
            "tags": [],
            "needs_background": "light"
          }
        },
        {
          "output_type": "display_data",
          "data": {
            "image/png": "[encoded data removed]",
            "text/plain": [
              "<Figure size 432x288 with 1 Axes>"
            ]
          },
          "metadata": {
            "tags": [],
            "needs_background": "light"
          }
        },
        {
          "output_type": "stream",
          "text": [
            "Training Done!\n",
            "Total time taken to Train: 2619.2232253551483\n",
            "Test Loss: 2.234008\n",
            "\n",
            "Test Accuracy of     0: 11% ( 9/76)\n",
            "Test Accuracy of     1:  0% ( 0/90)\n",
            "Test Accuracy of     2: 96% (88/91)\n",
            "Test Accuracy of     3:  0% ( 0/73)\n",
            "Test Accuracy of     4:  1% ( 1/89)\n",
            "Test Accuracy of     5:  0% ( 0/68)\n",
            "Test Accuracy of     6: 88% (55/62)\n",
            "Test Accuracy of     7:  7% ( 6/81)\n",
            "Test Accuracy of     8: 12% (10/77)\n",
            "Test Accuracy of     9: 100% (83/83)\n",
            "\n",
            "Final Test  Accuracy: 31.899 (252.0/790.0)\n"
          ],
          "name": "stdout"
        }
      ]
    },
    {
      "cell_type": "markdown",
      "metadata": {
        "id": "Vz5AZ8_zZzMr"
      },
      "source": [
        "##Test"
      ]
    },
    {
      "cell_type": "code",
      "metadata": {
        "id": "Vzej8P--Zltk"
      },
      "source": [
        "hyperparams = {'rounds': rounds,\n",
        "               'C': C,\n",
        "               'K': K,\n",
        "               'E': E,\n",
        "               'batch_size': batch_size,\n",
        "               'lr': lr,\n",
        "               }\n",
        "\n",
        "log_dict['MNIST CNN on Non IID'] = {'train_loss': train_loss_multiple_runs, \n",
        "                                'test_loss': test_loss_multiple_runs, \n",
        "                                'test_accuracy': test_accuracy_multiple_runs,\n",
        "                                'hyperparams': hyperparams,\n",
        "                                }"
      ],
      "execution_count": 35,
      "outputs": []
    },
    {
      "cell_type": "code",
      "metadata": {
        "id": "oGR_Fq6GZ3HS"
      },
      "source": [
        ""
      ],
      "execution_count": 35,
      "outputs": []
    },
    {
      "cell_type": "code",
      "metadata": {
        "id": "o21PmZPU2r5N"
      },
      "source": [
        "import pickle\n",
        " \n",
        "with open(path + 'MNIST_FedAvg_stragglers0_5.pkl', 'wb') as file:\n",
        "  pickle.dump(log_dict, file)"
      ],
      "execution_count": 36,
      "outputs": []
    },
    {
      "cell_type": "code",
      "metadata": {
        "id": "58ADlGBL2r5d",
        "colab": {
          "base_uri": "https://localhost:8080/"
        },
        "outputId": "44c33fc0-498c-4362-eafa-364252ff5e40"
      },
      "source": [
        "log_dict"
      ],
      "execution_count": 37,
      "outputs": [
        {
          "output_type": "execute_result",
          "data": {
            "text/plain": [
              "{'MNIST CNN on IID': {'hyperparams': {'C': 0.5,\n",
              "   'E': 5,\n",
              "   'K': 100,\n",
              "   'batch_size': 10,\n",
              "   'lr': 0.05,\n",
              "   'rounds': 50},\n",
              "  'test_accuracy': [[95.56962025316456,\n",
              "    96.70886075949367,\n",
              "    96.9620253164557,\n",
              "    97.0886075949367,\n",
              "    97.21518987341773,\n",
              "    97.34177215189874,\n",
              "    97.21518987341773,\n",
              "    97.46835443037975,\n",
              "    97.34177215189874,\n",
              "    97.34177215189874,\n",
              "    97.46835443037975,\n",
              "    97.34177215189874,\n",
              "    97.46835443037975,\n",
              "    97.21518987341773,\n",
              "    97.34177215189874,\n",
              "    97.34177215189874,\n",
              "    97.34177215189874,\n",
              "    96.9620253164557,\n",
              "    97.34177215189874,\n",
              "    97.34177215189874,\n",
              "    97.0886075949367,\n",
              "    97.21518987341773,\n",
              "    97.21518987341773,\n",
              "    97.34177215189874,\n",
              "    97.0886075949367,\n",
              "    97.0886075949367,\n",
              "    96.9620253164557,\n",
              "    97.0886075949367,\n",
              "    96.9620253164557,\n",
              "    97.46835443037975,\n",
              "    97.21518987341773,\n",
              "    97.46835443037975,\n",
              "    97.34177215189874,\n",
              "    97.34177215189874,\n",
              "    97.21518987341773,\n",
              "    97.34177215189874,\n",
              "    96.83544303797468,\n",
              "    97.34177215189874,\n",
              "    96.9620253164557,\n",
              "    96.9620253164557,\n",
              "    97.21518987341773,\n",
              "    97.0886075949367,\n",
              "    97.0886075949367,\n",
              "    97.34177215189874,\n",
              "    97.34177215189874,\n",
              "    96.9620253164557,\n",
              "    96.9620253164557,\n",
              "    97.0886075949367,\n",
              "    96.70886075949367,\n",
              "    97.0886075949367]],\n",
              "  'test_loss': [[1.9843709087371826,\n",
              "    1.6620700839996339,\n",
              "    1.6036627616882324,\n",
              "    1.6159470361709596,\n",
              "    1.5903299850463868,\n",
              "    1.5960773347854613,\n",
              "    1.5896311424255372,\n",
              "    1.5936133777618409,\n",
              "    1.6100299011230468,\n",
              "    1.5927841352462768,\n",
              "    1.5856969829559326,\n",
              "    1.6077909595489501,\n",
              "    1.608809778213501,\n",
              "    1.5872323593139648,\n",
              "    1.6226756660461426,\n",
              "    1.5889721181869507,\n",
              "    1.5960402683258057,\n",
              "    1.6284564731597901,\n",
              "    1.5984725339889527,\n",
              "    1.585100140953064,\n",
              "    1.6151965984344483,\n",
              "    1.593224821472168,\n",
              "    1.619192172050476,\n",
              "    1.5999538719177246,\n",
              "    1.597418143081665,\n",
              "    1.5955646879196168,\n",
              "    1.5982832691192628,\n",
              "    1.6083655641555785,\n",
              "    1.609929810333252,\n",
              "    1.5706948974609376,\n",
              "    1.5914773788452148,\n",
              "    1.5968277418136596,\n",
              "    1.5787405338287352,\n",
              "    1.6079177047729492,\n",
              "    1.5787564306259154,\n",
              "    1.6153536796569825,\n",
              "    1.6012360681533813,\n",
              "    1.5815363374710083,\n",
              "    1.5928794456481934,\n",
              "    1.611054231452942,\n",
              "    1.6193377758026124,\n",
              "    1.6138328262329102,\n",
              "    1.6008681089401244,\n",
              "    1.6020306373596191,\n",
              "    1.5997036039352417,\n",
              "    1.5858769889831543,\n",
              "    1.6049456987380981,\n",
              "    1.603954738998413,\n",
              "    1.6108416034698487,\n",
              "    1.6168939640045166]],\n",
              "  'train_loss': [[0.49443106135396525,\n",
              "    0.2508459610102051,\n",
              "    0.1985374839503117,\n",
              "    0.1855091063159904,\n",
              "    0.1795992201793913,\n",
              "    0.17886121607603664,\n",
              "    0.17437162545970014,\n",
              "    0.17095449750317937,\n",
              "    0.17439679582255446,\n",
              "    0.16874736195509576,\n",
              "    0.168135819129662,\n",
              "    0.16795080413862923,\n",
              "    0.16866368219120947,\n",
              "    0.16945939641591248,\n",
              "    0.16727229322434503,\n",
              "    0.1682220174879256,\n",
              "    0.16510591398841093,\n",
              "    0.16961343011502042,\n",
              "    0.16821481006587036,\n",
              "    0.17054083928256855,\n",
              "    0.17122000940172344,\n",
              "    0.1668456472819634,\n",
              "    0.17161838979725844,\n",
              "    0.16521120242582346,\n",
              "    0.16688125834821016,\n",
              "    0.1661767901125316,\n",
              "    0.1662753763664806,\n",
              "    0.16892987758732858,\n",
              "    0.16973330249383006,\n",
              "    0.16410622291237892,\n",
              "    0.17138726106038146,\n",
              "    0.17017965095976859,\n",
              "    0.16999013268273316,\n",
              "    0.1756245364088268,\n",
              "    0.16807939332511598,\n",
              "    0.1698085012535102,\n",
              "    0.17317349769539434,\n",
              "    0.16695210022241036,\n",
              "    0.1679307380208885,\n",
              "    0.16868022792118395,\n",
              "    0.1707441296286011,\n",
              "    0.16646845140741512,\n",
              "    0.1681721865569861,\n",
              "    0.16369067590330044,\n",
              "    0.16724311770383793,\n",
              "    0.16891685566349804,\n",
              "    0.16923208833059292,\n",
              "    0.16791890784016153,\n",
              "    0.16947751805356537,\n",
              "    0.16868369802645491]]},\n",
              " 'MNIST CNN on Non IID': {'hyperparams': {'C': 0.5,\n",
              "   'E': 5,\n",
              "   'K': 100,\n",
              "   'batch_size': 10,\n",
              "   'lr': 0.05,\n",
              "   'rounds': 50},\n",
              "  'test_accuracy': [[28.60759493670886,\n",
              "    41.89873417721519,\n",
              "    32.40506329113924,\n",
              "    37.59493670886076,\n",
              "    29.873417721518987,\n",
              "    34.81012658227848,\n",
              "    39.11392405063291,\n",
              "    43.037974683544306,\n",
              "    34.050632911392405,\n",
              "    25.949367088607595,\n",
              "    35.822784810126585,\n",
              "    35.56962025316456,\n",
              "    22.40506329113924,\n",
              "    36.32911392405063,\n",
              "    28.9873417721519,\n",
              "    27.974683544303797,\n",
              "    45.822784810126585,\n",
              "    29.873417721518987,\n",
              "    31.645569620253166,\n",
              "    44.68354430379747,\n",
              "    24.303797468354432,\n",
              "    26.835443037974684,\n",
              "    42.91139240506329,\n",
              "    45.949367088607595,\n",
              "    17.341772151898734,\n",
              "    36.58227848101266,\n",
              "    30.379746835443036,\n",
              "    46.45569620253165,\n",
              "    31.139240506329113,\n",
              "    29.49367088607595,\n",
              "    32.40506329113924,\n",
              "    39.11392405063291,\n",
              "    21.518987341772153,\n",
              "    36.45569620253165,\n",
              "    44.81012658227848,\n",
              "    42.151898734177216,\n",
              "    41.139240506329116,\n",
              "    31.265822784810126,\n",
              "    37.848101265822784,\n",
              "    25.063291139240505,\n",
              "    46.45569620253165,\n",
              "    57.59493670886076,\n",
              "    42.151898734177216,\n",
              "    29.873417721518987,\n",
              "    33.29113924050633,\n",
              "    17.72151898734177,\n",
              "    42.53164556962025,\n",
              "    23.79746835443038,\n",
              "    24.17721518987342,\n",
              "    31.89873417721519]],\n",
              "  'test_loss': [[2.29565293006897,\n",
              "    2.272730672454834,\n",
              "    2.262849573135376,\n",
              "    2.2492188537597655,\n",
              "    2.25453272857666,\n",
              "    2.2565383403778076,\n",
              "    2.250350276565552,\n",
              "    2.2400106727600098,\n",
              "    2.24357257194519,\n",
              "    2.244315509414673,\n",
              "    2.2431281883239746,\n",
              "    2.2393792823791503,\n",
              "    2.2380226894378663,\n",
              "    2.2328809288024902,\n",
              "    2.2493837188720702,\n",
              "    2.2404327018737793,\n",
              "    2.2465135845184325,\n",
              "    2.2307894256591796,\n",
              "    2.2446801807403562,\n",
              "    2.2518040161132813,\n",
              "    2.2389139781951903,\n",
              "    2.242825140762329,\n",
              "    2.237657892227173,\n",
              "    2.236810315322876,\n",
              "    2.249409170150757,\n",
              "    2.2652745712280273,\n",
              "    2.2524409564971926,\n",
              "    2.2337240535736083,\n",
              "    2.2340072956085204,\n",
              "    2.2393667812347413,\n",
              "    2.2351745262145997,\n",
              "    2.221812673187256,\n",
              "    2.2374022468566896,\n",
              "    2.2387125972747803,\n",
              "    2.2429716865539553,\n",
              "    2.246750400924683,\n",
              "    2.248098148727417,\n",
              "    2.2367633491516115,\n",
              "    2.234010490036011,\n",
              "    2.2305919719696043,\n",
              "    2.230157098007202,\n",
              "    2.2289082679748535,\n",
              "    2.2474799140930175,\n",
              "    2.245895192718506,\n",
              "    2.2445604221343993,\n",
              "    2.2528559173583984,\n",
              "    2.246512794494629,\n",
              "    2.243306843948364,\n",
              "    2.2537732200622558,\n",
              "    2.2340084129333495]],\n",
              "  'train_loss': [[0.1073532968517682,\n",
              "    0.14018077466477227,\n",
              "    0.11229240765872057,\n",
              "    0.10188811815964195,\n",
              "    0.09737840834208887,\n",
              "    0.10141093460351225,\n",
              "    0.09606968366929763,\n",
              "    0.08855181956900689,\n",
              "    0.08661668087398339,\n",
              "    0.08866712665069454,\n",
              "    0.08792933346480822,\n",
              "    0.08856946510725368,\n",
              "    0.1049290071518421,\n",
              "    0.07776614941097881,\n",
              "    0.0918486935752011,\n",
              "    0.09590700878805462,\n",
              "    0.09819021578960484,\n",
              "    0.08421918468557252,\n",
              "    0.0805944886099797,\n",
              "    0.1007087033749493,\n",
              "    0.08752569374661698,\n",
              "    0.08614307232390493,\n",
              "    0.08900844902652899,\n",
              "    0.07387295687869051,\n",
              "    0.08788145318720467,\n",
              "    0.10299785697803428,\n",
              "    0.10108632361430853,\n",
              "    0.08758257452451262,\n",
              "    0.09329314061098065,\n",
              "    0.10040776220569032,\n",
              "    0.08442788068067628,\n",
              "    0.08316677884969606,\n",
              "    0.08136493150663819,\n",
              "    0.08479156066105854,\n",
              "    0.08611504145749571,\n",
              "    0.08708855650654097,\n",
              "    0.09538750723445304,\n",
              "    0.08868265953645249,\n",
              "    0.084070972963034,\n",
              "    0.07970027584365554,\n",
              "    0.08969946204955051,\n",
              "    0.08698396667273162,\n",
              "    0.08306247201174818,\n",
              "    0.1206933373118577,\n",
              "    0.10187721598342783,\n",
              "    0.09077445646454377,\n",
              "    0.09153518172617081,\n",
              "    0.09309439411552863,\n",
              "    0.10166234366539584,\n",
              "    0.09101188255113797]]},\n",
              " 'MNIST MLP on IID': {'hyperparams': {'C': 0.5,\n",
              "   'E': 5,\n",
              "   'K': 100,\n",
              "   'batch_size': 10,\n",
              "   'lr': 0.05,\n",
              "   'rounds': 50},\n",
              "  'test_accuracy': [[92.78481012658227,\n",
              "    93.16455696202532,\n",
              "    93.29113924050633,\n",
              "    93.92405063291139,\n",
              "    93.54430379746836,\n",
              "    93.67088607594937,\n",
              "    93.41772151898734,\n",
              "    93.67088607594937,\n",
              "    93.41772151898734,\n",
              "    93.67088607594937,\n",
              "    93.54430379746836,\n",
              "    93.29113924050633,\n",
              "    93.29113924050633,\n",
              "    93.29113924050633,\n",
              "    93.79746835443038,\n",
              "    93.54430379746836,\n",
              "    93.41772151898734,\n",
              "    93.54430379746836,\n",
              "    93.67088607594937,\n",
              "    93.41772151898734,\n",
              "    93.54430379746836,\n",
              "    93.67088607594937,\n",
              "    93.54430379746836,\n",
              "    93.29113924050633,\n",
              "    93.41772151898734,\n",
              "    93.29113924050633,\n",
              "    93.67088607594937,\n",
              "    93.16455696202532,\n",
              "    93.29113924050633,\n",
              "    93.54430379746836,\n",
              "    93.67088607594937,\n",
              "    93.79746835443038,\n",
              "    93.16455696202532,\n",
              "    93.54430379746836,\n",
              "    93.79746835443038,\n",
              "    93.67088607594937,\n",
              "    93.79746835443038,\n",
              "    93.92405063291139,\n",
              "    93.67088607594937,\n",
              "    93.54430379746836,\n",
              "    93.16455696202532,\n",
              "    93.79746835443038,\n",
              "    93.16455696202532,\n",
              "    93.92405063291139,\n",
              "    93.67088607594937,\n",
              "    93.67088607594937,\n",
              "    93.54430379746836,\n",
              "    93.41772151898734,\n",
              "    93.79746835443038,\n",
              "    93.92405063291139]],\n",
              "  'test_loss': [[2.091429197692871,\n",
              "    1.699194605255127,\n",
              "    1.7021246482849122,\n",
              "    1.7049913673400878,\n",
              "    1.7034290290832519,\n",
              "    1.7246591938018798,\n",
              "    1.7019871530532837,\n",
              "    1.7022078935623168,\n",
              "    1.7094027355194092,\n",
              "    1.6945120147705077,\n",
              "    1.7046438358306886,\n",
              "    1.726303758239746,\n",
              "    1.7014234521865845,\n",
              "    1.6941553873062134,\n",
              "    1.6975795160293579,\n",
              "    1.7018256818771362,\n",
              "    1.6967859455108643,\n",
              "    1.6981378795623778,\n",
              "    1.7084172582626342,\n",
              "    1.710080191230774,\n",
              "    1.7171454204559327,\n",
              "    1.6929764675140382,\n",
              "    1.7132232543945312,\n",
              "    1.7259896692276,\n",
              "    1.698542352104187,\n",
              "    1.7046065174102782,\n",
              "    1.7001428285598754,\n",
              "    1.7133421190261842,\n",
              "    1.7200416793823243,\n",
              "    1.6975738243103027,\n",
              "    1.7235345512390137,\n",
              "    1.7253259475708007,\n",
              "    1.7049287805557252,\n",
              "    1.7216884941101074,\n",
              "    1.6929316053390502,\n",
              "    1.707943889427185,\n",
              "    1.6973323453903197,\n",
              "    1.7051737581253053,\n",
              "    1.6934011423110962,\n",
              "    1.693327815246582,\n",
              "    1.7045661752700805,\n",
              "    1.7114456119537353,\n",
              "    1.7036807474136353,\n",
              "    1.6997177959442138,\n",
              "    1.7172600204467774,\n",
              "    1.7117301919937133,\n",
              "    1.6950592905044555,\n",
              "    1.7014413808822633,\n",
              "    1.6911645303726197,\n",
              "    1.6967592374801637]],\n",
              "  'train_loss': [[0.5006717874473968,\n",
              "    0.2673101429541478,\n",
              "    0.24444782654072145,\n",
              "    0.2313830329215795,\n",
              "    0.23343264292840035,\n",
              "    0.22825329911661293,\n",
              "    0.2284225941995256,\n",
              "    0.2310466463678652,\n",
              "    0.23061233012840193,\n",
              "    0.22399070875179994,\n",
              "    0.2271105659268,\n",
              "    0.22402742654871355,\n",
              "    0.22141541910044224,\n",
              "    0.22394313056415224,\n",
              "    0.2247646135965051,\n",
              "    0.2211991285218295,\n",
              "    0.2232653034514515,\n",
              "    0.22707233888372233,\n",
              "    0.2236929860385446,\n",
              "    0.2202702885228656,\n",
              "    0.21955553795036972,\n",
              "    0.22153205415934007,\n",
              "    0.2229393392380928,\n",
              "    0.22144890396466163,\n",
              "    0.22585908281606584,\n",
              "    0.2213406029797915,\n",
              "    0.22383974460181977,\n",
              "    0.22240745778517454,\n",
              "    0.22307299755704985,\n",
              "    0.21879532054529602,\n",
              "    0.2231205964390965,\n",
              "    0.21886053169875333,\n",
              "    0.22228388009810396,\n",
              "    0.22496305419688,\n",
              "    0.21824770261313536,\n",
              "    0.21925945684864223,\n",
              "    0.22163074164572563,\n",
              "    0.22036998505504835,\n",
              "    0.2224658677312778,\n",
              "    0.21936954803778788,\n",
              "    0.22325103130065838,\n",
              "    0.22562387098556896,\n",
              "    0.2187583306488038,\n",
              "    0.22482145656077202,\n",
              "    0.22321563106676134,\n",
              "    0.21617872105475197,\n",
              "    0.22144304741433196,\n",
              "    0.21771812298533624,\n",
              "    0.21741343122698015,\n",
              "    0.22487833172259464]]},\n",
              " 'MNIST MLP on Non IID': {'hyperparams': {'C': 0.5,\n",
              "   'E': 5,\n",
              "   'K': 100,\n",
              "   'batch_size': 10,\n",
              "   'lr': 0.05,\n",
              "   'rounds': 50},\n",
              "  'test_accuracy': [[29.11392405063291,\n",
              "    59.74683544303797,\n",
              "    37.21518987341772,\n",
              "    31.772151898734176,\n",
              "    32.151898734177216,\n",
              "    48.35443037974684,\n",
              "    45.822784810126585,\n",
              "    31.139240506329113,\n",
              "    46.075949367088604,\n",
              "    28.354430379746834,\n",
              "    47.34177215189873,\n",
              "    45.69620253164557,\n",
              "    30.379746835443036,\n",
              "    26.962025316455698,\n",
              "    22.27848101265823,\n",
              "    27.341772151898734,\n",
              "    30.253164556962027,\n",
              "    21.89873417721519,\n",
              "    27.21518987341772,\n",
              "    16.962025316455698,\n",
              "    41.89873417721519,\n",
              "    52.40506329113924,\n",
              "    28.481012658227847,\n",
              "    35.69620253164557,\n",
              "    24.936708860759495,\n",
              "    40.379746835443036,\n",
              "    21.39240506329114,\n",
              "    30.379746835443036,\n",
              "    35.56962025316456,\n",
              "    34.43037974683544,\n",
              "    44.936708860759495,\n",
              "    36.20253164556962,\n",
              "    38.860759493670884,\n",
              "    45.063291139240505,\n",
              "    20.759493670886076,\n",
              "    40.0,\n",
              "    32.40506329113924,\n",
              "    50.12658227848101,\n",
              "    27.72151898734177,\n",
              "    43.164556962025316,\n",
              "    28.734177215189874,\n",
              "    40.25316455696203,\n",
              "    46.32911392405063,\n",
              "    45.822784810126585,\n",
              "    36.32911392405063,\n",
              "    48.35443037974684,\n",
              "    23.924050632911392,\n",
              "    41.51898734177215,\n",
              "    50.63291139240506,\n",
              "    36.075949367088604]],\n",
              "  'test_loss': [[4.8476123558044435,\n",
              "    4.5031397392272945,\n",
              "    4.370875060272216,\n",
              "    4.310647689056396,\n",
              "    4.272662083435058,\n",
              "    4.278227735900879,\n",
              "    4.253824282836914,\n",
              "    4.222252822875976,\n",
              "    4.2402206192016605,\n",
              "    4.275859597778321,\n",
              "    4.252282134246826,\n",
              "    4.233003164672851,\n",
              "    4.242238953399658,\n",
              "    4.277192078399658,\n",
              "    4.23361037902832,\n",
              "    4.2617571174621585,\n",
              "    4.272948853302002,\n",
              "    4.293485777282715,\n",
              "    4.27339365158081,\n",
              "    4.244615812683105,\n",
              "    4.247194854736328,\n",
              "    4.203017683029175,\n",
              "    4.226170751190185,\n",
              "    4.235679819488525,\n",
              "    4.236195365905762,\n",
              "    4.281898173522949,\n",
              "    4.274292247772217,\n",
              "    4.265038731384277,\n",
              "    4.268461520385742,\n",
              "    4.229927751541138,\n",
              "    4.232882454299927,\n",
              "    4.270328211593628,\n",
              "    4.234579314804077,\n",
              "    4.255653630828857,\n",
              "    4.2702598373413085,\n",
              "    4.289489006042481,\n",
              "    4.265232126617431,\n",
              "    4.316763403320312,\n",
              "    4.277024752044678,\n",
              "    4.236791779327392,\n",
              "    4.252994002532959,\n",
              "    4.280871993255615,\n",
              "    4.278642163848877,\n",
              "    4.246444746017456,\n",
              "    4.225548309326172,\n",
              "    4.236339728546143,\n",
              "    4.26250897064209,\n",
              "    4.249546102142334,\n",
              "    4.243467938232422,\n",
              "    4.296747047424317]],\n",
              "  'train_loss': [[0.1400857063354607,\n",
              "    0.09029725285910317,\n",
              "    0.08605562764894602,\n",
              "    0.07972079717594464,\n",
              "    0.08243962532826432,\n",
              "    0.06815429538092035,\n",
              "    0.07680114521230856,\n",
              "    0.07571917114687227,\n",
              "    0.0699979860970206,\n",
              "    0.08354330201109601,\n",
              "    0.0775939436329487,\n",
              "    0.0787728460806752,\n",
              "    0.07254583084530983,\n",
              "    0.08603140794459907,\n",
              "    0.07673334950941677,\n",
              "    0.07944657532348526,\n",
              "    0.08348798731428081,\n",
              "    0.07431695509012799,\n",
              "    0.08050506780370799,\n",
              "    0.07602841380613641,\n",
              "    0.08096368828581257,\n",
              "    0.0751907599692706,\n",
              "    0.07677870660671059,\n",
              "    0.07201420400789928,\n",
              "    0.07625526985429758,\n",
              "    0.0822344160444166,\n",
              "    0.0763292750354476,\n",
              "    0.08774497463771741,\n",
              "    0.0715493914785143,\n",
              "    0.0769096818493468,\n",
              "    0.0813180399651657,\n",
              "    0.07850200602595797,\n",
              "    0.07477923341988518,\n",
              "    0.07926106493621249,\n",
              "    0.07868259815830424,\n",
              "    0.08341858358770066,\n",
              "    0.07958576906557822,\n",
              "    0.08021745224960193,\n",
              "    0.07795816996839446,\n",
              "    0.07203650451305886,\n",
              "    0.07465077227883325,\n",
              "    0.08375696448363039,\n",
              "    0.07461043994688327,\n",
              "    0.0762829617571488,\n",
              "    0.07190328227580264,\n",
              "    0.0788226406181885,\n",
              "    0.08492472723494798,\n",
              "    0.08532541436889941,\n",
              "    0.0828842401399163,\n",
              "    0.07804098453994822]]}}"
            ]
          },
          "metadata": {
            "tags": []
          },
          "execution_count": 37
        }
      ]
    },
    {
      "cell_type": "code",
      "metadata": {
        "id": "HA9Sq1A4-Dxf"
      },
      "source": [
        ""
      ],
      "execution_count": 37,
      "outputs": []
    }
  ]
}