{
  "nbformat": 4,
  "nbformat_minor": 0,
  "metadata": {
    "accelerator": "GPU",
    "colab": {
      "name": "CIFAR_FedMed_robustnessM0_1n0_1.ipynb",
      "provenance": [],
      "collapsed_sections": [],
      "machine_shape": "hm"
    },
    "kernelspec": {
      "display_name": "Python 3",
      "language": "python",
      "name": "python3"
    },
    "language_info": {
      "codemirror_mode": {
        "name": "ipython",
        "version": 3
      },
      "file_extension": ".py",
      "mimetype": "text/x-python",
      "name": "python",
      "nbconvert_exporter": "python",
      "pygments_lexer": "ipython3",
      "version": "3.7.6"
    }
  },
  "cells": [
    {
      "cell_type": "markdown",
      "metadata": {
        "id": "view-in-github"
      },
      "source": [
        "<a href=\"https://colab.research.google.com/github/tushar-semwal/fedperf/blob/main/Vineeth/FedAvg_CIFAR.ipynb\" target=\"_parent\"><img src=\"https://colab.research.google.com/assets/colab-badge.svg\" alt=\"Open In Colab\"/></a>"
      ]
    },
    {
      "cell_type": "code",
      "metadata": {
        "id": "yKcpjZLrQQJV"
      },
      "source": [
        "try:\n",
        "    from google.colab import drive\n",
        "    drive.mount('/content/drive')\n",
        "\n",
        "    import os\n",
        "    path = '/content/drive/MyDrive/Colab Notebooks/OpenMined/'\n",
        "    os.makedirs(path, exist_ok=True)\n",
        "except:\n",
        "    path = './'\n",
        "    %%capture output"
      ],
      "execution_count": null,
      "outputs": []
    },
    {
      "cell_type": "markdown",
      "metadata": {
        "id": "-0_nKpfq2h1R"
      },
      "source": [
        "## Imports"
      ]
    },
    {
      "cell_type": "code",
      "metadata": {
        "id": "DLLNM9X2JbQ8"
      },
      "source": [
        "%load_ext tensorboard\n",
        "import os\n",
        "import numpy as np\n",
        "import matplotlib\n",
        "import matplotlib.pyplot as plt\n",
        "import copy\n",
        "import random\n",
        "import time\n",
        "\n",
        "import torch\n",
        "import torch.nn as nn\n",
        "import torch.nn.functional as F\n",
        "\n",
        "from torch.utils.data import Dataset, DataLoader\n",
        "from torch.utils.tensorboard import SummaryWriter\n",
        "from torchvision import transforms, utils, datasets\n",
        "from torchsummary import summary\n",
        "\n",
        "\n",
        "# Check assigned GPU\n",
        "gpu_info = !nvidia-smi\n",
        "gpu_info = '\\n'.join(gpu_info)\n",
        "if gpu_info.find('failed') >= 0:\n",
        "  print('Select the Runtime > \"Change runtime type\" menu to enable a GPU accelerator, ')\n",
        "  print('and then re-execute this cell.')\n",
        "else:\n",
        "  print(gpu_info)\n",
        "\n",
        "# set manual seed for reproducibility\n",
        "seed = 42\n",
        "\n",
        "# general reproducibility\n",
        "random.seed(seed)\n",
        "np.random.seed(seed)\n",
        "torch.manual_seed(seed)\n",
        "\n",
        "# gpu training specific\n",
        "torch.backends.cudnn.deterministic = True\n",
        "torch.backends.cudnn.benchmark = False"
      ],
      "execution_count": null,
      "outputs": []
    },
    {
      "cell_type": "markdown",
      "metadata": {
        "id": "NY4eWzGiL6Mj"
      },
      "source": [
        "## Load the CIFAR Dataset"
      ]
    },
    {
      "cell_type": "code",
      "metadata": {
        "id": "G649tjTXLL8F"
      },
      "source": [
        "# create transforms\n",
        "# We will just convert to tensor and normalize since no special transforms are mentioned in the paper\n",
        "transform_train = transforms.Compose([\n",
        "    transforms.RandomCrop(32, padding=4),\n",
        "    transforms.RandomHorizontalFlip(),\n",
        "    transforms.ToTensor(),\n",
        "    transforms.Normalize((0.4914, 0.4822, 0.4465), (0.2023, 0.1994, 0.2010)),\n",
        "])\n",
        "\n",
        "# Normalize the test set same as training set without augmentation\n",
        "transform_test = transforms.Compose([\n",
        "    transforms.ToTensor(),\n",
        "    transforms.Normalize((0.4914, 0.4822, 0.4465), (0.2023, 0.1994, 0.2010)),\n",
        "])\n",
        "\n",
        "cifar_data_train = datasets.CIFAR10('./data/cifar10/', train=True, download=True, transform=transform_train)\n",
        "cifar_data_test = datasets.CIFAR10('../data/cifar10/', train=False, download=True, transform=transform_test)"
      ],
      "execution_count": null,
      "outputs": []
    },
    {
      "cell_type": "code",
      "metadata": {
        "id": "pOtLLX66b1Ad"
      },
      "source": [
        "classes = np.array(list(cifar_data_train.class_to_idx.values()))\n",
        "classes_test = np.array(list(cifar_data_test.class_to_idx.values()))\n",
        "num_classes = len(classes_test)\n",
        "print(\"Classes: {} \\tType: {}\".format(classes, type(classes)))\n",
        "print(\"Classes Test: {} \\tType: {}\".format(classes_test, type(classes)))\n"
      ],
      "execution_count": null,
      "outputs": []
    },
    {
      "cell_type": "code",
      "metadata": {
        "id": "wa4TJs-AVJ2O"
      },
      "source": [
        "print(\"Image Shape: {}\".format(cifar_data_train.data[0].shape))"
      ],
      "execution_count": null,
      "outputs": []
    },
    {
      "cell_type": "markdown",
      "metadata": {
        "id": "jCOONkg-zV7Y"
      },
      "source": [
        "## Visualize Data"
      ]
    },
    {
      "cell_type": "code",
      "metadata": {
        "id": "R9MK03TZw6Qs"
      },
      "source": [
        "def imshow(img):\n",
        "\t#img = img/2 + 0.5 #unnormalize the image\n",
        "\tplt.imshow(img, cmap='hsv') # convert from tensor to image"
      ],
      "execution_count": null,
      "outputs": []
    },
    {
      "cell_type": "code",
      "metadata": {
        "id": "gMJ0Kx4Kw-_H"
      },
      "source": [
        "def visualize(dataset):\n",
        "  figure = plt.figure(figsize=(25,4))\n",
        "  for i in range(20):\n",
        "    axis = figure.add_subplot(2, 20/2, i+1, xticks=[], yticks=[])\n",
        "    data = dataset.data[i]\n",
        "    #data = data.numpy()\n",
        "\n",
        "    target = dataset.targets[i]\n",
        "    #target = target.numpy()\n",
        "    imshow(data)\n",
        "    axis.set_title(target)\n"
      ],
      "execution_count": null,
      "outputs": []
    },
    {
      "cell_type": "code",
      "metadata": {
        "id": "8bPOwKg10Ro7"
      },
      "source": [
        "visualize(cifar_data_train)"
      ],
      "execution_count": null,
      "outputs": []
    },
    {
      "cell_type": "code",
      "metadata": {
        "id": "RKoh5Cf70UYu"
      },
      "source": [
        "visualize(cifar_data_test)"
      ],
      "execution_count": null,
      "outputs": []
    },
    {
      "cell_type": "markdown",
      "metadata": {
        "id": "ctjRsETiO1qO"
      },
      "source": [
        "## Partitioning the Data (IID and non-IID)"
      ]
    },
    {
      "cell_type": "code",
      "metadata": {
        "id": "3_v8lyrgO5dD"
      },
      "source": [
        "def iid_partition(dataset, clients):\n",
        "  \"\"\"\n",
        "  I.I.D paritioning of data over clients\n",
        "  Shuffle the data\n",
        "  Split it between clients\n",
        "  \n",
        "  params:\n",
        "    - dataset (torch.utils.Dataset): Dataset containing the CIFAR Images\n",
        "    - clients (int): Number of Clients to split the data between\n",
        "\n",
        "  returns:\n",
        "    - Dictionary of image indexes for each client\n",
        "  \"\"\"\n",
        "\n",
        "  num_items_per_client = int(len(dataset)/clients)\n",
        "  client_dict = {}\n",
        "  image_idxs = [i for i in range(len(dataset))]\n",
        "\n",
        "  for i in range(clients):\n",
        "    client_dict[i] = set(np.random.choice(image_idxs, num_items_per_client, replace=False))\n",
        "    image_idxs = list(set(image_idxs) - client_dict[i])\n",
        "\n",
        "  return client_dict"
      ],
      "execution_count": null,
      "outputs": []
    },
    {
      "cell_type": "code",
      "metadata": {
        "id": "4zMdliGMQoSl"
      },
      "source": [
        "def non_iid_partition(dataset, clients, total_shards, shards_size, num_shards_per_client):\n",
        "  \"\"\"\n",
        "  non I.I.D parititioning of data over clients\n",
        "  Sort the data by the digit label\n",
        "  Divide the data into N shards of size S\n",
        "  Each of the clients will get X shards\n",
        "\n",
        "  params:\n",
        "    - dataset (torch.utils.Dataset): Dataset containing the CIFAR Images\n",
        "    - clients (int): Number of Clients to split the data between\n",
        "    - total_shards (int): Number of shards to partition the data in\n",
        "    - shards_size (int): Size of each shard \n",
        "    - num_shards_per_client (int): Number of shards of size shards_size that each client receives\n",
        "\n",
        "  returns:\n",
        "    - Dictionary of image indexes for each client\n",
        "  \"\"\"\n",
        "  \n",
        "  shard_idxs = [i for i in range(total_shards)]\n",
        "  client_dict = {i: np.array([], dtype='int64') for i in range(clients)}\n",
        "  idxs = np.arange(len(dataset))\n",
        "  data_labels = np.array(dataset.targets)\n",
        "\n",
        "  # sort the labels\n",
        "  label_idxs = np.vstack((idxs, data_labels))\n",
        "  label_idxs = label_idxs[:, label_idxs[1,:].argsort()]\n",
        "  idxs = label_idxs[0,:]\n",
        "\n",
        "  # divide the data into total_shards of size shards_size\n",
        "  # assign num_shards_per_client to each client\n",
        "  for i in range(clients):\n",
        "    rand_set = set(np.random.choice(shard_idxs, num_shards_per_client, replace=False))\n",
        "    shard_idxs = list(set(shard_idxs) - rand_set)\n",
        "\n",
        "    for rand in rand_set:\n",
        "      client_dict[i] = np.concatenate((client_dict[i], idxs[rand*shards_size:(rand+1)*shards_size]), axis=0)\n",
        "  \n",
        "  return client_dict\n",
        "\n",
        "\n",
        "\n"
      ],
      "execution_count": null,
      "outputs": []
    },
    {
      "cell_type": "markdown",
      "metadata": {
        "id": "EUP_bcedcLwB"
      },
      "source": [
        "## Models"
      ]
    },
    {
      "cell_type": "code",
      "metadata": {
        "id": "CvoDNFKbZST5"
      },
      "source": [
        "class CIFAR_MLP(nn.Module):\n",
        "  def __init__(self):\n",
        "    super(CIFAR_MLP, self).__init__()\n",
        "    self.fc1 = nn.Linear(3 * 32 * 32, 2634)\n",
        "    self.fc2 = nn.Linear(2634, 2196) \n",
        "    self.fc3 = nn.Linear(2196, 1758)\n",
        "    self.fc4 = nn.Linear(1758, 1320)\n",
        "    self.fc5 = nn.Linear(1320, 882)\n",
        "    self.fc6 = nn.Linear(882, 444) \n",
        "    self.fc7 = nn.Linear(444, 10) \n",
        "\n",
        "  def forward(self, x):\n",
        "    x = x.view(-1, 3 * 32 * 32)\n",
        "    x = F.relu(self.fc1(x))\n",
        "    x = F.relu(self.fc2(x))\n",
        "    x = F.relu(self.fc3(x))\n",
        "    x = F.relu(self.fc4(x))\n",
        "    x = F.relu(self.fc5(x))\n",
        "    x = F.relu(self.fc6(x))\n",
        "\n",
        "    x = self.fc7(x)\n",
        "    return x"
      ],
      "execution_count": null,
      "outputs": []
    },
    {
      "cell_type": "code",
      "metadata": {
        "id": "ut1hZ8x3qYPZ"
      },
      "source": [
        "class CIFAR_CNN(nn.Module):\n",
        "  def __init__(self):\n",
        "    super(CIFAR_CNN, self).__init__()\n",
        "\n",
        "    self.conv_layer = nn.Sequential(\n",
        "      nn.Conv2d(in_channels=3, out_channels=32, kernel_size=3, padding=1),\n",
        "      nn.BatchNorm2d(32),\n",
        "      nn.ReLU(inplace=True),\n",
        "      nn.Conv2d(in_channels=32, out_channels=64, kernel_size=3, padding=1),\n",
        "      nn.ReLU(inplace=True),\n",
        "      nn.MaxPool2d(kernel_size=2, stride=2),\n",
        "\n",
        "      nn.Conv2d(in_channels=64, out_channels=128, kernel_size=3, padding=1),\n",
        "      nn.BatchNorm2d(128),\n",
        "      nn.ReLU(inplace=True),\n",
        "      nn.Conv2d(in_channels=128, out_channels=128, kernel_size=3, padding=1),\n",
        "      nn.ReLU(inplace=True),\n",
        "      nn.MaxPool2d(kernel_size=2, stride=2),\n",
        "      nn.Dropout2d(p=0.05),\n",
        "\n",
        "      nn.Conv2d(in_channels=128, out_channels=256, kernel_size=3, padding=1),\n",
        "      nn.BatchNorm2d(256),\n",
        "      nn.ReLU(inplace=True),\n",
        "      nn.Conv2d(in_channels=256, out_channels=256, kernel_size=3, padding=1),\n",
        "      nn.ReLU(inplace=True),\n",
        "      nn.MaxPool2d(kernel_size=2, stride=2),\n",
        "    )\n",
        "\n",
        "    self.fc_layer = nn.Sequential(\n",
        "      nn.Dropout(p=0.1),\n",
        "      nn.Linear(4096, 1024),\n",
        "      nn.ReLU(inplace=True),\n",
        "      nn.Linear(1024, 512),\n",
        "      nn.ReLU(inplace=True),\n",
        "      nn.Dropout(p=0.1),\n",
        "      nn.Linear(512, 10)\n",
        "    )\n",
        "\n",
        "\n",
        "  def forward(self, x):      \n",
        "    # conv layers\n",
        "    x = self.conv_layer(x)\n",
        "    \n",
        "    # flatten\n",
        "    x = x.view(x.size(0), -1)\n",
        "    \n",
        "    # fc layer\n",
        "    x = self.fc_layer(x)\n",
        "\n",
        "    return x"
      ],
      "execution_count": null,
      "outputs": []
    },
    {
      "cell_type": "markdown",
      "metadata": {
        "id": "uVv4HA9HuLtr"
      },
      "source": [
        "### Print Model Summaries"
      ]
    },
    {
      "cell_type": "code",
      "metadata": {
        "id": "-H2jR2-Id4AA"
      },
      "source": [
        "cifar_mlp = CIFAR_MLP()\n",
        "cifar_cnn = CIFAR_CNN()\n",
        "\n",
        "if torch.cuda.is_available():\n",
        "  cifar_mlp.cuda()\n",
        "  cifar_cnn.cuda()\n",
        "\n",
        "print(\"CIFAR MLP SUMMARY\")\n",
        "print(summary(cifar_mlp, (32,32,3)))\n",
        "\n",
        "print(\"\\nCIFAR CNN SUMMARY\")\n",
        "print(summary(cifar_cnn, (3, 32,32)))"
      ],
      "execution_count": null,
      "outputs": []
    },
    {
      "cell_type": "markdown",
      "metadata": {
        "id": "gf_8XEXa-gZ7"
      },
      "source": [
        "## Federated Averaging"
      ]
    },
    {
      "cell_type": "markdown",
      "metadata": {
        "id": "L-aNdQsQ-Kvp"
      },
      "source": [
        "### Local Training (Client Update)\n",
        "\n",
        "Local training for the model on client side"
      ]
    },
    {
      "cell_type": "code",
      "metadata": {
        "id": "oX6OsQyO-Gz7"
      },
      "source": [
        "class CustomDataset(Dataset):\n",
        "  def __init__(self, dataset, idxs):\n",
        "      self.dataset = dataset\n",
        "      self.idxs = list(idxs)\n",
        "\n",
        "  def __len__(self):\n",
        "      return len(self.idxs)\n",
        "\n",
        "  def __getitem__(self, item):\n",
        "      image, label = self.dataset[self.idxs[item]]\n",
        "      return image, label\n",
        "\n",
        "\n",
        "class ClientUpdate(object):\n",
        "  def __init__(self, dataset, batchSize, learning_rate, epochs, idxs):\n",
        "    self.train_loader = DataLoader(CustomDataset(dataset, idxs), batch_size=batchSize, shuffle=True)\n",
        "\n",
        "    self.learning_rate = learning_rate\n",
        "    self.epochs = epochs\n",
        "\n",
        "  def train(self, model):\n",
        "    criterion = nn.CrossEntropyLoss()\n",
        "    optimizer = torch.optim.SGD(model.parameters(), lr=self.learning_rate, momentum=0.5)\n",
        "    # optimizer = torch.optim.Adam(model.parameters(), lr=self.learning_rate)\n",
        "\n",
        "    e_loss = []\n",
        "    for epoch in range(1, self.epochs+1):\n",
        "\n",
        "      train_loss = 0.0\n",
        "      model.train()\n",
        "      for data, labels in self.train_loader:\n",
        "\n",
        "        if torch.cuda.is_available():\n",
        "          data, labels = data.cuda(), labels.cuda()\n",
        "\n",
        "        # clear the gradients\n",
        "        optimizer.zero_grad()\n",
        "        # make a forward pass\n",
        "        output = model(data)\n",
        "        # calculate the loss\n",
        "        loss = criterion(output, labels)\n",
        "        # do a backwards pass\n",
        "        loss.backward()\n",
        "        # perform a single optimization step\n",
        "        optimizer.step()\n",
        "        # update training loss\n",
        "        train_loss += loss.item()*data.size(0)\n",
        "\n",
        "      # average losses\n",
        "      train_loss = train_loss/len(self.train_loader.dataset)\n",
        "      e_loss.append(train_loss)\n",
        "\n",
        "    total_loss = sum(e_loss)/len(e_loss)\n",
        "\n",
        "    return model.state_dict(), total_loss"
      ],
      "execution_count": null,
      "outputs": []
    },
    {
      "cell_type": "markdown",
      "metadata": {
        "id": "Ukgh1DVHE2Ds"
      },
      "source": [
        "### Server Side Training\n",
        "\n",
        "Following Algorithm 1 from the paper"
      ]
    },
    {
      "cell_type": "code",
      "metadata": {
        "id": "1NF1e33BgpeL"
      },
      "source": [
        "def training(model, rounds, batch_size, lr, ds, ds_test, data_dict, C, K, E, plt_title, plt_color, M):\n",
        "  \"\"\"\n",
        "  Function implements the Federated Averaging Algorithm from the FedAvg paper.\n",
        "  Specifically, this function is used for the server side training and weight update\n",
        "\n",
        "  Params:\n",
        "    - model:           PyTorch model to train\n",
        "    - rounds:          Number of communication rounds for the client update\n",
        "    - batch_size:      Batch size for client update training\n",
        "    - lr:              Learning rate used for client update training\n",
        "    - ds:              Dataset used for training\n",
        "    - ds_test:         Dataset used for testing\n",
        "    - data_dict:       Type of data partition used for training (IID or non-IID)\n",
        "    - C:               Fraction of clients randomly chosen to perform computation on each round\n",
        "    - K:               Total number of clients\n",
        "    - E:               Number of training passes each client makes over its local dataset per round\n",
        "    - tb_writer_name:  Directory name to save the tensorboard logs\n",
        "  Returns:\n",
        "    - model:           Trained model on the server\n",
        "  \"\"\"\n",
        "\n",
        "  # global model weights\n",
        "  global_weights = model.state_dict()\n",
        "  num_clients = K\n",
        "  pk = np.ones(num_clients) * 1.0 / num_clients\n",
        "\n",
        "  # training loss\n",
        "  # train_accuracy = []\n",
        "  train_loss = []\n",
        "  test_accuracy = []\n",
        "  test_loss = []\n",
        "\n",
        "\n",
        "  # measure time\n",
        "  start = time.time()\n",
        "\n",
        "  for curr_round in range(1, rounds+1):\n",
        "    w, local_loss = [], []\n",
        "\n",
        "    m = max(int(C*K), 1)\n",
        "    newM = max(int(M*m), 1)\n",
        "    \n",
        "    c = 0\n",
        "    S_t = np.random.choice(range(K), m, replace=False)\n",
        "\n",
        "    for k in range(newM, len(S_t)):\n",
        "      local_update = ClientUpdate(dataset=ds, batchSize=batch_size, learning_rate=lr, epochs=E, idxs=data_dict[S_t[k]])\n",
        "      weights, loss = local_update.train(model=copy.deepcopy(model))\n",
        "\n",
        "      if c < int(m*M):\n",
        "        for k in global_weights.keys():\n",
        "          t = torch.Tensor(weights[k].shape).cuda()\n",
        "          t.fill_(0.1)\n",
        "          weights[k] = t\n",
        "      \n",
        "      w.append(copy.deepcopy(weights))\n",
        "      local_loss.append(copy.deepcopy(loss))\n",
        "      c += 1\n",
        "\n",
        "\n",
        "    target = copy.deepcopy(w[0]);\n",
        "    weights_med = copy.deepcopy(w[0]);\n",
        "    #x = 0\n",
        "    for k in weights_med.keys():\n",
        "      tmp = copy.deepcopy(torch.median(torch.stack([w[i][k].data for i in range(0, len(w))]), dim=0))[0]\n",
        "      \n",
        "      target[k].data = tmp\n",
        "      \n",
        "        #x += 1\n",
        "\n",
        "\n",
        "      \n",
        "    #print(type(w))\n",
        "    #print(len(target))\n",
        "\n",
        "    #print(type(target))\n",
        "      \n",
        "\n",
        "    global_weights = target\n",
        "\n",
        "    # move the updated weights to our model state dict\n",
        "    model.load_state_dict(global_weights)\n",
        "\n",
        "    # loss\n",
        "    loss_avg = sum(local_loss) / len(local_loss)\n",
        "    print('Round: {}... \\tAverage Loss: {}'.format(curr_round, round(loss_avg, 3)))\n",
        "    train_loss.append(loss_avg)\n",
        "\n",
        "    # test\n",
        "    test_criterion = nn.CrossEntropyLoss()\n",
        "    test_accuracy_current, test_loss_current =  testing(copy.deepcopy(model), ds_test, 128, test_criterion, num_classes, classes_test)\n",
        "    test_accuracy.append(test_accuracy_current)\n",
        "    test_loss.append(test_loss_current)\n",
        "\n",
        "  end = time.time()\n",
        "\n",
        "  print(test_accuracy)\n",
        "  \n",
        "  fig, ax = plt.subplots()\n",
        "  x_axis = np.arange(1, rounds+1)\n",
        "  y_axis = np.array(train_loss)\n",
        "  ax.plot(x_axis, y_axis, 'tab:'+plt_color)\n",
        "\n",
        "  ax.set(xlabel='Number of Rounds', ylabel='Train Loss',\n",
        "       title=plt_title)\n",
        "  ax.grid()\n",
        "  fig.savefig(plt_title+'_Train_loss.jpg', format='jpg')\n",
        "  plt.show()\n",
        "\n",
        "  fig, ax = plt.subplots()\n",
        "  x_axis = np.arange(1, rounds+1)\n",
        "  y_axis = np.array(test_loss)\n",
        "  ax.plot(x_axis, y_axis, 'tab:'+plt_color)\n",
        "\n",
        "  ax.set(xlabel='Number of Rounds', ylabel='Test Loss',\n",
        "       title=plt_title)\n",
        "  ax.grid()\n",
        "  fig.savefig(plt_title+'_Test_loss.jpg', format='jpg')\n",
        "  plt.show()\n",
        "\n",
        "  fig, ax = plt.subplots()\n",
        "  x_axis = np.arange(1, rounds+1)\n",
        "  y_axis = np.array(test_accuracy)\n",
        "  ax.plot(x_axis, y_axis, 'tab:'+plt_color)\n",
        "\n",
        "  ax.set(xlabel='Number of Rounds', ylabel='Test Accuracy',\n",
        "       title=plt_title)\n",
        "  ax.grid()\n",
        "  fig.savefig(plt_title+'_Test_Accuracy.jpg', format='jpg')\n",
        "  plt.show()\n",
        "  \n",
        "  print(\"Training Done!\")\n",
        "  print(\"Total time taken to Train: {}\\n\\n\".format(end-start))\n",
        "  \n",
        "  return model, train_loss, test_accuracy, test_loss"
      ],
      "execution_count": null,
      "outputs": []
    },
    {
      "cell_type": "markdown",
      "metadata": {
        "id": "tUYyb4T-uXmF"
      },
      "source": [
        "## Testing Loop"
      ]
    },
    {
      "cell_type": "code",
      "metadata": {
        "id": "uCcIZmO5uan9"
      },
      "source": [
        "def testing(model, dataset, bs, criterion, num_classes, classes, print_info=False):\n",
        "  #test loss \n",
        "  test_loss = 0.0\n",
        "  correct_class = list(0. for i in range(num_classes))\n",
        "  total_class = list(0. for i in range(num_classes))\n",
        "\n",
        "  test_loader = DataLoader(dataset, batch_size=bs)\n",
        "  l = len(test_loader)\n",
        "  model.eval()\n",
        "  for data, labels in test_loader:\n",
        "\n",
        "    if torch.cuda.is_available():\n",
        "      data, labels = data.cuda(), labels.cuda()\n",
        "\n",
        "    output = model(data)\n",
        "    loss = criterion(output, labels)\n",
        "    test_loss += loss.item()*data.size(0)\n",
        "\n",
        "    _, pred = torch.max(output, 1)\n",
        "\n",
        "    correct_tensor = pred.eq(labels.data.view_as(pred))\n",
        "    correct = np.squeeze(correct_tensor.numpy()) if not torch.cuda.is_available() else np.squeeze(correct_tensor.cpu().numpy())\n",
        "\n",
        "    #test accuracy for each object class\n",
        "    for i in range(num_classes):\n",
        "      label = labels.data[i]\n",
        "      correct_class[label] += correct[i].item()\n",
        "      total_class[label] += 1\n",
        "    \n",
        "  # avg test loss\n",
        "  test_loss = test_loss/len(test_loader.dataset)\n",
        "  test_accuracy = 100. * np.sum(correct_class) / np.sum(total_class)\n",
        "\n",
        "  if print_info:\n",
        "    print(\"Test Loss: {:.6f}\\n\".format(test_loss))\n",
        "\n",
        "    for i in range(10):\n",
        "      if total_class[i]>0:\n",
        "        print('Test Accuracy of %5s: %2d%% (%2d/%2d)' % \n",
        "              (classes[i], 100 * correct_class[i] / total_class[i],\n",
        "              np.sum(correct_class[i]), np.sum(total_class[i])))\n",
        "      else:\n",
        "        print('Test Accuracy of %5s: N/A (no training examples)' % (classes[i]))\n",
        "\n",
        "    print('\\nFinal Test  Accuracy: {:.3f} ({}/{})'.format(\n",
        "          100. * np.sum(correct_class) / np.sum(total_class),\n",
        "          np.sum(correct_class), np.sum(total_class)))\n",
        "  \n",
        "  return test_accuracy, test_loss"
      ],
      "execution_count": null,
      "outputs": []
    },
    {
      "cell_type": "markdown",
      "metadata": {
        "id": "Ri0FqXFeHW-V"
      },
      "source": [
        "## Logger"
      ]
    },
    {
      "cell_type": "code",
      "metadata": {
        "id": "cMBtx9P5c1V_"
      },
      "source": [
        "log_dict = {}\n",
        "NUM_REPEAT = 1"
      ],
      "execution_count": null,
      "outputs": []
    },
    {
      "cell_type": "markdown",
      "metadata": {
        "id": "4hO5oV6aXqeh"
      },
      "source": [
        "## CIFAR CNN on IID"
      ]
    },
    {
      "cell_type": "markdown",
      "metadata": {
        "id": "flSQv_P4zCfx"
      },
      "source": [
        "### Train\n"
      ]
    },
    {
      "cell_type": "code",
      "metadata": {
        "colab": {
          "background_save": true
        },
        "id": "0ZalcKZtEseA"
      },
      "source": [
        "train_loss_multiple_runs = [None] * NUM_REPEAT\n",
        "test_accuracy_multiple_runs = [None] * NUM_REPEAT\n",
        "test_loss_multiple_runs = [None] * NUM_REPEAT\n",
        "\n",
        "for exp_num in range(NUM_REPEAT):\n",
        "  print(\"Experiment Run Number: \", exp_num)\n",
        "\n",
        "  # number of training rounds\n",
        "  rounds = 10\n",
        "  # client fraction\n",
        "  C = 1\n",
        "  # number of clients\n",
        "  K = 100\n",
        "  # number of training passes on local dataset for each roung\n",
        "  E = 5\n",
        "  # batch size\n",
        "  batch_size = 10\n",
        "  # learning Rate\n",
        "  lr=0.05\n",
        "  # data partition dictionary\n",
        "  iid_dict = iid_partition(cifar_data_train, 100)\n",
        "  # load model\n",
        "  cifar_cnn = CIFAR_CNN()\n",
        "\n",
        "  if torch.cuda.is_available():\n",
        "    cifar_cnn.cuda()\n",
        "\n",
        "  cifar_cnn_iid_trained, train_loss, test_accuracy, test_loss = training(cifar_cnn, rounds, batch_size, lr, cifar_data_train, cifar_data_test, iid_dict, C, K, E, \"CIFAR CNN on IID Dataset\", \"orange\", 0.1)\n",
        "\n",
        "  train_loss_multiple_runs[exp_num] = train_loss\n",
        "  test_accuracy_multiple_runs[exp_num] = test_accuracy\n",
        "  test_loss_multiple_runs[exp_num] = test_loss\n",
        "\n",
        "  criterion = nn.CrossEntropyLoss()\n",
        "  acc, loss = testing(cifar_cnn_iid_trained, cifar_data_test, 128, criterion, num_classes, classes_test, True)"
      ],
      "execution_count": null,
      "outputs": []
    },
    {
      "cell_type": "markdown",
      "metadata": {
        "id": "wNwC82przF6G"
      },
      "source": [
        "### Test"
      ]
    },
    {
      "cell_type": "code",
      "metadata": {
        "colab": {
          "background_save": true
        },
        "id": "qB97BFs9we9w"
      },
      "source": [
        ""
      ],
      "execution_count": null,
      "outputs": []
    },
    {
      "cell_type": "code",
      "metadata": {
        "colab": {
          "background_save": true
        },
        "id": "gdQZEZmHHeqt"
      },
      "source": [
        "hyperparams = {'rounds': rounds,\n",
        "               'C': C,\n",
        "               'K': K,\n",
        "               'E': E,\n",
        "               'batch_size': batch_size,\n",
        "               'lr': lr,\n",
        "               }\n",
        "\n",
        "log_dict['CIFAR CNN on IID'] = {'train_loss': train_loss_multiple_runs, \n",
        "                                'test_loss': test_loss_multiple_runs, \n",
        "                                'test_accuracy': test_accuracy_multiple_runs,\n",
        "                                'hyperparams': hyperparams,\n",
        "                                }"
      ],
      "execution_count": null,
      "outputs": []
    },
    {
      "cell_type": "markdown",
      "metadata": {
        "id": "uF8MdSIUYcnl"
      },
      "source": [
        "## CIFAR CNN on Non IID"
      ]
    },
    {
      "cell_type": "markdown",
      "metadata": {
        "id": "a6wXX7JW11bx"
      },
      "source": [
        "### Train\n"
      ]
    },
    {
      "cell_type": "code",
      "metadata": {
        "id": "fCD3kBCKYfBK"
      },
      "source": [
        "train_loss_multiple_runs = [None] * NUM_REPEAT\n",
        "test_accuracy_multiple_runs = [None] * NUM_REPEAT\n",
        "test_loss_multiple_runs = [None] * NUM_REPEAT\n",
        "\n",
        "for exp_num in range(NUM_REPEAT):\n",
        "  print(\"Experiment Run Number: \", exp_num)\n",
        "\n",
        "  # number of training rounds\n",
        "  rounds = 10\n",
        "  # client fraction\n",
        "  C = 1\n",
        "  # number of clients\n",
        "  K = 100\n",
        "  # number of training passes on local dataset for each roung\n",
        "  E = 5\n",
        "  # batch size\n",
        "  batch_size = 10\n",
        "  # learning Rate\n",
        "  lr=0.05\n",
        "  # dict containing different type of data partition\n",
        "  data_dict = non_iid_partition(cifar_data_train, 100, 200, 250, 2)\n",
        "  # load model\n",
        "  cifar_cnn = CIFAR_CNN()\n",
        "\n",
        "  if torch.cuda.is_available():\n",
        "    cifar_cnn.cuda()\n",
        " \n",
        "  cifar_cnn_non_iid_trained, train_loss, test_accuracy, test_loss = training(cifar_cnn, rounds, batch_size, lr, cifar_data_train, cifar_data_test, data_dict, C, K, E, \"CIFAR CNN on Non-IID Dataset\", \"green\", 0.1)\n",
        "\n",
        "  train_loss_multiple_runs[exp_num] = train_loss\n",
        "  test_accuracy_multiple_runs[exp_num] = test_accuracy\n",
        "  test_loss_multiple_runs[exp_num] = test_loss\n",
        "\n",
        "  criterion = nn.CrossEntropyLoss()\n",
        "  acc, loss = testing(cifar_cnn_non_iid_trained, cifar_data_test, 128, criterion, num_classes, classes_test, True)"
      ],
      "execution_count": null,
      "outputs": []
    },
    {
      "cell_type": "markdown",
      "metadata": {
        "id": "4C68J-Kk14dB"
      },
      "source": [
        "### Test"
      ]
    },
    {
      "cell_type": "code",
      "metadata": {
        "id": "_yQ9GiAZ15jE"
      },
      "source": [
        ""
      ],
      "execution_count": null,
      "outputs": []
    },
    {
      "cell_type": "code",
      "metadata": {
        "id": "dxMcxgLhLvX-"
      },
      "source": [
        "hyperparams = {'rounds': rounds,\n",
        "               'C': C,\n",
        "               'K': K,\n",
        "               'E': E,\n",
        "               'batch_size': batch_size,\n",
        "               'lr': lr,\n",
        "               }\n",
        "\n",
        "log_dict['CIFAR CNN on Non IID'] = {'train_loss': train_loss_multiple_runs, \n",
        "                                'test_loss': test_loss_multiple_runs, \n",
        "                                'test_accuracy': test_accuracy_multiple_runs,\n",
        "                                'hyperparams': hyperparams,\n",
        "                                }"
      ],
      "execution_count": null,
      "outputs": []
    }
  ]
}