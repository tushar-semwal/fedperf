{
  "nbformat": 4,
  "nbformat_minor": 0,
  "metadata": {
    "colab": {
      "name": "MNIST_FedAvg_robustnessM0_01n0_1.ipynb",
      "provenance": [],
      "collapsed_sections": [],
      "machine_shape": "hm"
    },
    "kernelspec": {
      "name": "python3",
      "display_name": "Python 3"
    },
    "accelerator": "GPU",
    "widgets": {
      "application/vnd.jupyter.widget-state+json": {
        "113c32851b6849b3a74455e0808ea607": {
          "model_module": "@jupyter-widgets/controls",
          "model_name": "HBoxModel",
          "state": {
            "_view_name": "HBoxView",
            "_dom_classes": [],
            "_model_name": "HBoxModel",
            "_view_module": "@jupyter-widgets/controls",
            "_model_module_version": "1.5.0",
            "_view_count": null,
            "_view_module_version": "1.5.0",
            "box_style": "",
            "layout": "IPY_MODEL_3f4808ca4c584f16b55a9e647490ada6",
            "_model_module": "@jupyter-widgets/controls",
            "children": [
              "IPY_MODEL_e9d635766acb4566b6a66e6adb09b25a",
              "IPY_MODEL_80aa7497d25b4ec2bba2982743744bf2"
            ]
          }
        },
        "3f4808ca4c584f16b55a9e647490ada6": {
          "model_module": "@jupyter-widgets/base",
          "model_name": "LayoutModel",
          "state": {
            "_view_name": "LayoutView",
            "grid_template_rows": null,
            "right": null,
            "justify_content": null,
            "_view_module": "@jupyter-widgets/base",
            "overflow": null,
            "_model_module_version": "1.2.0",
            "_view_count": null,
            "flex_flow": null,
            "width": null,
            "min_width": null,
            "border": null,
            "align_items": null,
            "bottom": null,
            "_model_module": "@jupyter-widgets/base",
            "top": null,
            "grid_column": null,
            "overflow_y": null,
            "overflow_x": null,
            "grid_auto_flow": null,
            "grid_area": null,
            "grid_template_columns": null,
            "flex": null,
            "_model_name": "LayoutModel",
            "justify_items": null,
            "grid_row": null,
            "max_height": null,
            "align_content": null,
            "visibility": null,
            "align_self": null,
            "height": null,
            "min_height": null,
            "padding": null,
            "grid_auto_rows": null,
            "grid_gap": null,
            "max_width": null,
            "order": null,
            "_view_module_version": "1.2.0",
            "grid_template_areas": null,
            "object_position": null,
            "object_fit": null,
            "grid_auto_columns": null,
            "margin": null,
            "display": null,
            "left": null
          }
        },
        "e9d635766acb4566b6a66e6adb09b25a": {
          "model_module": "@jupyter-widgets/controls",
          "model_name": "FloatProgressModel",
          "state": {
            "_view_name": "ProgressView",
            "style": "IPY_MODEL_335ef61cdcd548038dd151e3b2be4ae9",
            "_dom_classes": [],
            "description": "",
            "_model_name": "FloatProgressModel",
            "bar_style": "success",
            "max": 9912422,
            "_view_module": "@jupyter-widgets/controls",
            "_model_module_version": "1.5.0",
            "value": 9912422,
            "_view_count": null,
            "_view_module_version": "1.5.0",
            "orientation": "horizontal",
            "min": 0,
            "description_tooltip": null,
            "_model_module": "@jupyter-widgets/controls",
            "layout": "IPY_MODEL_26c9d870150347a6b21a19e23c54b12b"
          }
        },
        "80aa7497d25b4ec2bba2982743744bf2": {
          "model_module": "@jupyter-widgets/controls",
          "model_name": "HTMLModel",
          "state": {
            "_view_name": "HTMLView",
            "style": "IPY_MODEL_43be150d60fe4ca6afadc513b643250e",
            "_dom_classes": [],
            "description": "",
            "_model_name": "HTMLModel",
            "placeholder": "​",
            "_view_module": "@jupyter-widgets/controls",
            "_model_module_version": "1.5.0",
            "value": " 9913344/? [00:00&lt;00:00, 28648641.58it/s]",
            "_view_count": null,
            "_view_module_version": "1.5.0",
            "description_tooltip": null,
            "_model_module": "@jupyter-widgets/controls",
            "layout": "IPY_MODEL_10eab26abf484cd4aa0bcad527f903d2"
          }
        },
        "335ef61cdcd548038dd151e3b2be4ae9": {
          "model_module": "@jupyter-widgets/controls",
          "model_name": "ProgressStyleModel",
          "state": {
            "_view_name": "StyleView",
            "_model_name": "ProgressStyleModel",
            "description_width": "initial",
            "_view_module": "@jupyter-widgets/base",
            "_model_module_version": "1.5.0",
            "_view_count": null,
            "_view_module_version": "1.2.0",
            "bar_color": null,
            "_model_module": "@jupyter-widgets/controls"
          }
        },
        "26c9d870150347a6b21a19e23c54b12b": {
          "model_module": "@jupyter-widgets/base",
          "model_name": "LayoutModel",
          "state": {
            "_view_name": "LayoutView",
            "grid_template_rows": null,
            "right": null,
            "justify_content": null,
            "_view_module": "@jupyter-widgets/base",
            "overflow": null,
            "_model_module_version": "1.2.0",
            "_view_count": null,
            "flex_flow": null,
            "width": null,
            "min_width": null,
            "border": null,
            "align_items": null,
            "bottom": null,
            "_model_module": "@jupyter-widgets/base",
            "top": null,
            "grid_column": null,
            "overflow_y": null,
            "overflow_x": null,
            "grid_auto_flow": null,
            "grid_area": null,
            "grid_template_columns": null,
            "flex": null,
            "_model_name": "LayoutModel",
            "justify_items": null,
            "grid_row": null,
            "max_height": null,
            "align_content": null,
            "visibility": null,
            "align_self": null,
            "height": null,
            "min_height": null,
            "padding": null,
            "grid_auto_rows": null,
            "grid_gap": null,
            "max_width": null,
            "order": null,
            "_view_module_version": "1.2.0",
            "grid_template_areas": null,
            "object_position": null,
            "object_fit": null,
            "grid_auto_columns": null,
            "margin": null,
            "display": null,
            "left": null
          }
        },
        "43be150d60fe4ca6afadc513b643250e": {
          "model_module": "@jupyter-widgets/controls",
          "model_name": "DescriptionStyleModel",
          "state": {
            "_view_name": "StyleView",
            "_model_name": "DescriptionStyleModel",
            "description_width": "",
            "_view_module": "@jupyter-widgets/base",
            "_model_module_version": "1.5.0",
            "_view_count": null,
            "_view_module_version": "1.2.0",
            "_model_module": "@jupyter-widgets/controls"
          }
        },
        "10eab26abf484cd4aa0bcad527f903d2": {
          "model_module": "@jupyter-widgets/base",
          "model_name": "LayoutModel",
          "state": {
            "_view_name": "LayoutView",
            "grid_template_rows": null,
            "right": null,
            "justify_content": null,
            "_view_module": "@jupyter-widgets/base",
            "overflow": null,
            "_model_module_version": "1.2.0",
            "_view_count": null,
            "flex_flow": null,
            "width": null,
            "min_width": null,
            "border": null,
            "align_items": null,
            "bottom": null,
            "_model_module": "@jupyter-widgets/base",
            "top": null,
            "grid_column": null,
            "overflow_y": null,
            "overflow_x": null,
            "grid_auto_flow": null,
            "grid_area": null,
            "grid_template_columns": null,
            "flex": null,
            "_model_name": "LayoutModel",
            "justify_items": null,
            "grid_row": null,
            "max_height": null,
            "align_content": null,
            "visibility": null,
            "align_self": null,
            "height": null,
            "min_height": null,
            "padding": null,
            "grid_auto_rows": null,
            "grid_gap": null,
            "max_width": null,
            "order": null,
            "_view_module_version": "1.2.0",
            "grid_template_areas": null,
            "object_position": null,
            "object_fit": null,
            "grid_auto_columns": null,
            "margin": null,
            "display": null,
            "left": null
          }
        },
        "fccd4bf1003147689ca60f324e2d0625": {
          "model_module": "@jupyter-widgets/controls",
          "model_name": "HBoxModel",
          "state": {
            "_view_name": "HBoxView",
            "_dom_classes": [],
            "_model_name": "HBoxModel",
            "_view_module": "@jupyter-widgets/controls",
            "_model_module_version": "1.5.0",
            "_view_count": null,
            "_view_module_version": "1.5.0",
            "box_style": "",
            "layout": "IPY_MODEL_d0e00618944f4804a8132f7cd8b3871f",
            "_model_module": "@jupyter-widgets/controls",
            "children": [
              "IPY_MODEL_107a8184c84f4b98ab8a3469e1866505",
              "IPY_MODEL_b092814ce4314b87bac9951456eb9452"
            ]
          }
        },
        "d0e00618944f4804a8132f7cd8b3871f": {
          "model_module": "@jupyter-widgets/base",
          "model_name": "LayoutModel",
          "state": {
            "_view_name": "LayoutView",
            "grid_template_rows": null,
            "right": null,
            "justify_content": null,
            "_view_module": "@jupyter-widgets/base",
            "overflow": null,
            "_model_module_version": "1.2.0",
            "_view_count": null,
            "flex_flow": null,
            "width": null,
            "min_width": null,
            "border": null,
            "align_items": null,
            "bottom": null,
            "_model_module": "@jupyter-widgets/base",
            "top": null,
            "grid_column": null,
            "overflow_y": null,
            "overflow_x": null,
            "grid_auto_flow": null,
            "grid_area": null,
            "grid_template_columns": null,
            "flex": null,
            "_model_name": "LayoutModel",
            "justify_items": null,
            "grid_row": null,
            "max_height": null,
            "align_content": null,
            "visibility": null,
            "align_self": null,
            "height": null,
            "min_height": null,
            "padding": null,
            "grid_auto_rows": null,
            "grid_gap": null,
            "max_width": null,
            "order": null,
            "_view_module_version": "1.2.0",
            "grid_template_areas": null,
            "object_position": null,
            "object_fit": null,
            "grid_auto_columns": null,
            "margin": null,
            "display": null,
            "left": null
          }
        },
        "107a8184c84f4b98ab8a3469e1866505": {
          "model_module": "@jupyter-widgets/controls",
          "model_name": "FloatProgressModel",
          "state": {
            "_view_name": "ProgressView",
            "style": "IPY_MODEL_fb1b615a70e744b6be8d400ec4607ec2",
            "_dom_classes": [],
            "description": "",
            "_model_name": "FloatProgressModel",
            "bar_style": "success",
            "max": 28881,
            "_view_module": "@jupyter-widgets/controls",
            "_model_module_version": "1.5.0",
            "value": 28881,
            "_view_count": null,
            "_view_module_version": "1.5.0",
            "orientation": "horizontal",
            "min": 0,
            "description_tooltip": null,
            "_model_module": "@jupyter-widgets/controls",
            "layout": "IPY_MODEL_2435b126e8844f24aa762ef1cd18ced7"
          }
        },
        "b092814ce4314b87bac9951456eb9452": {
          "model_module": "@jupyter-widgets/controls",
          "model_name": "HTMLModel",
          "state": {
            "_view_name": "HTMLView",
            "style": "IPY_MODEL_570d5f20737e4d51b5436dbcc90917d3",
            "_dom_classes": [],
            "description": "",
            "_model_name": "HTMLModel",
            "placeholder": "​",
            "_view_module": "@jupyter-widgets/controls",
            "_model_module_version": "1.5.0",
            "value": " 29696/? [00:00&lt;00:00, 76068.14it/s]",
            "_view_count": null,
            "_view_module_version": "1.5.0",
            "description_tooltip": null,
            "_model_module": "@jupyter-widgets/controls",
            "layout": "IPY_MODEL_47b17957fdad43a19984dfae5cbe7edb"
          }
        },
        "fb1b615a70e744b6be8d400ec4607ec2": {
          "model_module": "@jupyter-widgets/controls",
          "model_name": "ProgressStyleModel",
          "state": {
            "_view_name": "StyleView",
            "_model_name": "ProgressStyleModel",
            "description_width": "initial",
            "_view_module": "@jupyter-widgets/base",
            "_model_module_version": "1.5.0",
            "_view_count": null,
            "_view_module_version": "1.2.0",
            "bar_color": null,
            "_model_module": "@jupyter-widgets/controls"
          }
        },
        "2435b126e8844f24aa762ef1cd18ced7": {
          "model_module": "@jupyter-widgets/base",
          "model_name": "LayoutModel",
          "state": {
            "_view_name": "LayoutView",
            "grid_template_rows": null,
            "right": null,
            "justify_content": null,
            "_view_module": "@jupyter-widgets/base",
            "overflow": null,
            "_model_module_version": "1.2.0",
            "_view_count": null,
            "flex_flow": null,
            "width": null,
            "min_width": null,
            "border": null,
            "align_items": null,
            "bottom": null,
            "_model_module": "@jupyter-widgets/base",
            "top": null,
            "grid_column": null,
            "overflow_y": null,
            "overflow_x": null,
            "grid_auto_flow": null,
            "grid_area": null,
            "grid_template_columns": null,
            "flex": null,
            "_model_name": "LayoutModel",
            "justify_items": null,
            "grid_row": null,
            "max_height": null,
            "align_content": null,
            "visibility": null,
            "align_self": null,
            "height": null,
            "min_height": null,
            "padding": null,
            "grid_auto_rows": null,
            "grid_gap": null,
            "max_width": null,
            "order": null,
            "_view_module_version": "1.2.0",
            "grid_template_areas": null,
            "object_position": null,
            "object_fit": null,
            "grid_auto_columns": null,
            "margin": null,
            "display": null,
            "left": null
          }
        },
        "570d5f20737e4d51b5436dbcc90917d3": {
          "model_module": "@jupyter-widgets/controls",
          "model_name": "DescriptionStyleModel",
          "state": {
            "_view_name": "StyleView",
            "_model_name": "DescriptionStyleModel",
            "description_width": "",
            "_view_module": "@jupyter-widgets/base",
            "_model_module_version": "1.5.0",
            "_view_count": null,
            "_view_module_version": "1.2.0",
            "_model_module": "@jupyter-widgets/controls"
          }
        },
        "47b17957fdad43a19984dfae5cbe7edb": {
          "model_module": "@jupyter-widgets/base",
          "model_name": "LayoutModel",
          "state": {
            "_view_name": "LayoutView",
            "grid_template_rows": null,
            "right": null,
            "justify_content": null,
            "_view_module": "@jupyter-widgets/base",
            "overflow": null,
            "_model_module_version": "1.2.0",
            "_view_count": null,
            "flex_flow": null,
            "width": null,
            "min_width": null,
            "border": null,
            "align_items": null,
            "bottom": null,
            "_model_module": "@jupyter-widgets/base",
            "top": null,
            "grid_column": null,
            "overflow_y": null,
            "overflow_x": null,
            "grid_auto_flow": null,
            "grid_area": null,
            "grid_template_columns": null,
            "flex": null,
            "_model_name": "LayoutModel",
            "justify_items": null,
            "grid_row": null,
            "max_height": null,
            "align_content": null,
            "visibility": null,
            "align_self": null,
            "height": null,
            "min_height": null,
            "padding": null,
            "grid_auto_rows": null,
            "grid_gap": null,
            "max_width": null,
            "order": null,
            "_view_module_version": "1.2.0",
            "grid_template_areas": null,
            "object_position": null,
            "object_fit": null,
            "grid_auto_columns": null,
            "margin": null,
            "display": null,
            "left": null
          }
        },
        "9cb59bddd7f9426592a118c2c28ab27f": {
          "model_module": "@jupyter-widgets/controls",
          "model_name": "HBoxModel",
          "state": {
            "_view_name": "HBoxView",
            "_dom_classes": [],
            "_model_name": "HBoxModel",
            "_view_module": "@jupyter-widgets/controls",
            "_model_module_version": "1.5.0",
            "_view_count": null,
            "_view_module_version": "1.5.0",
            "box_style": "",
            "layout": "IPY_MODEL_82c2ae25589741ccbd4e5e132a7bee85",
            "_model_module": "@jupyter-widgets/controls",
            "children": [
              "IPY_MODEL_f2205c81b9fd46e78a4b3761c59ce75d",
              "IPY_MODEL_4296460359604c348fba44584354918b"
            ]
          }
        },
        "82c2ae25589741ccbd4e5e132a7bee85": {
          "model_module": "@jupyter-widgets/base",
          "model_name": "LayoutModel",
          "state": {
            "_view_name": "LayoutView",
            "grid_template_rows": null,
            "right": null,
            "justify_content": null,
            "_view_module": "@jupyter-widgets/base",
            "overflow": null,
            "_model_module_version": "1.2.0",
            "_view_count": null,
            "flex_flow": null,
            "width": null,
            "min_width": null,
            "border": null,
            "align_items": null,
            "bottom": null,
            "_model_module": "@jupyter-widgets/base",
            "top": null,
            "grid_column": null,
            "overflow_y": null,
            "overflow_x": null,
            "grid_auto_flow": null,
            "grid_area": null,
            "grid_template_columns": null,
            "flex": null,
            "_model_name": "LayoutModel",
            "justify_items": null,
            "grid_row": null,
            "max_height": null,
            "align_content": null,
            "visibility": null,
            "align_self": null,
            "height": null,
            "min_height": null,
            "padding": null,
            "grid_auto_rows": null,
            "grid_gap": null,
            "max_width": null,
            "order": null,
            "_view_module_version": "1.2.0",
            "grid_template_areas": null,
            "object_position": null,
            "object_fit": null,
            "grid_auto_columns": null,
            "margin": null,
            "display": null,
            "left": null
          }
        },
        "f2205c81b9fd46e78a4b3761c59ce75d": {
          "model_module": "@jupyter-widgets/controls",
          "model_name": "FloatProgressModel",
          "state": {
            "_view_name": "ProgressView",
            "style": "IPY_MODEL_26d6bbf0d9f84d5182be12c72da63625",
            "_dom_classes": [],
            "description": "",
            "_model_name": "FloatProgressModel",
            "bar_style": "success",
            "max": 1648877,
            "_view_module": "@jupyter-widgets/controls",
            "_model_module_version": "1.5.0",
            "value": 1648877,
            "_view_count": null,
            "_view_module_version": "1.5.0",
            "orientation": "horizontal",
            "min": 0,
            "description_tooltip": null,
            "_model_module": "@jupyter-widgets/controls",
            "layout": "IPY_MODEL_96ae4e1b81d54caa9cec74b25d2f0a27"
          }
        },
        "4296460359604c348fba44584354918b": {
          "model_module": "@jupyter-widgets/controls",
          "model_name": "HTMLModel",
          "state": {
            "_view_name": "HTMLView",
            "style": "IPY_MODEL_1e52d70b16cd47ecb5753054caf32607",
            "_dom_classes": [],
            "description": "",
            "_model_name": "HTMLModel",
            "placeholder": "​",
            "_view_module": "@jupyter-widgets/controls",
            "_model_module_version": "1.5.0",
            "value": " 1649664/? [00:00&lt;00:00, 6852761.64it/s]",
            "_view_count": null,
            "_view_module_version": "1.5.0",
            "description_tooltip": null,
            "_model_module": "@jupyter-widgets/controls",
            "layout": "IPY_MODEL_024a2da1ba4d4fb2a6ea2d4c71a6cd81"
          }
        },
        "26d6bbf0d9f84d5182be12c72da63625": {
          "model_module": "@jupyter-widgets/controls",
          "model_name": "ProgressStyleModel",
          "state": {
            "_view_name": "StyleView",
            "_model_name": "ProgressStyleModel",
            "description_width": "initial",
            "_view_module": "@jupyter-widgets/base",
            "_model_module_version": "1.5.0",
            "_view_count": null,
            "_view_module_version": "1.2.0",
            "bar_color": null,
            "_model_module": "@jupyter-widgets/controls"
          }
        },
        "96ae4e1b81d54caa9cec74b25d2f0a27": {
          "model_module": "@jupyter-widgets/base",
          "model_name": "LayoutModel",
          "state": {
            "_view_name": "LayoutView",
            "grid_template_rows": null,
            "right": null,
            "justify_content": null,
            "_view_module": "@jupyter-widgets/base",
            "overflow": null,
            "_model_module_version": "1.2.0",
            "_view_count": null,
            "flex_flow": null,
            "width": null,
            "min_width": null,
            "border": null,
            "align_items": null,
            "bottom": null,
            "_model_module": "@jupyter-widgets/base",
            "top": null,
            "grid_column": null,
            "overflow_y": null,
            "overflow_x": null,
            "grid_auto_flow": null,
            "grid_area": null,
            "grid_template_columns": null,
            "flex": null,
            "_model_name": "LayoutModel",
            "justify_items": null,
            "grid_row": null,
            "max_height": null,
            "align_content": null,
            "visibility": null,
            "align_self": null,
            "height": null,
            "min_height": null,
            "padding": null,
            "grid_auto_rows": null,
            "grid_gap": null,
            "max_width": null,
            "order": null,
            "_view_module_version": "1.2.0",
            "grid_template_areas": null,
            "object_position": null,
            "object_fit": null,
            "grid_auto_columns": null,
            "margin": null,
            "display": null,
            "left": null
          }
        },
        "1e52d70b16cd47ecb5753054caf32607": {
          "model_module": "@jupyter-widgets/controls",
          "model_name": "DescriptionStyleModel",
          "state": {
            "_view_name": "StyleView",
            "_model_name": "DescriptionStyleModel",
            "description_width": "",
            "_view_module": "@jupyter-widgets/base",
            "_model_module_version": "1.5.0",
            "_view_count": null,
            "_view_module_version": "1.2.0",
            "_model_module": "@jupyter-widgets/controls"
          }
        },
        "024a2da1ba4d4fb2a6ea2d4c71a6cd81": {
          "model_module": "@jupyter-widgets/base",
          "model_name": "LayoutModel",
          "state": {
            "_view_name": "LayoutView",
            "grid_template_rows": null,
            "right": null,
            "justify_content": null,
            "_view_module": "@jupyter-widgets/base",
            "overflow": null,
            "_model_module_version": "1.2.0",
            "_view_count": null,
            "flex_flow": null,
            "width": null,
            "min_width": null,
            "border": null,
            "align_items": null,
            "bottom": null,
            "_model_module": "@jupyter-widgets/base",
            "top": null,
            "grid_column": null,
            "overflow_y": null,
            "overflow_x": null,
            "grid_auto_flow": null,
            "grid_area": null,
            "grid_template_columns": null,
            "flex": null,
            "_model_name": "LayoutModel",
            "justify_items": null,
            "grid_row": null,
            "max_height": null,
            "align_content": null,
            "visibility": null,
            "align_self": null,
            "height": null,
            "min_height": null,
            "padding": null,
            "grid_auto_rows": null,
            "grid_gap": null,
            "max_width": null,
            "order": null,
            "_view_module_version": "1.2.0",
            "grid_template_areas": null,
            "object_position": null,
            "object_fit": null,
            "grid_auto_columns": null,
            "margin": null,
            "display": null,
            "left": null
          }
        },
        "0ebe7bfc1c644e7ea79f26766be447c5": {
          "model_module": "@jupyter-widgets/controls",
          "model_name": "HBoxModel",
          "state": {
            "_view_name": "HBoxView",
            "_dom_classes": [],
            "_model_name": "HBoxModel",
            "_view_module": "@jupyter-widgets/controls",
            "_model_module_version": "1.5.0",
            "_view_count": null,
            "_view_module_version": "1.5.0",
            "box_style": "",
            "layout": "IPY_MODEL_c93dfa6f172a4881958e47b266bf95fd",
            "_model_module": "@jupyter-widgets/controls",
            "children": [
              "IPY_MODEL_f40d0dffd64945c58a51e3ca427384c0",
              "IPY_MODEL_4712b358084442acaa25e9e2181dbb9b"
            ]
          }
        },
        "c93dfa6f172a4881958e47b266bf95fd": {
          "model_module": "@jupyter-widgets/base",
          "model_name": "LayoutModel",
          "state": {
            "_view_name": "LayoutView",
            "grid_template_rows": null,
            "right": null,
            "justify_content": null,
            "_view_module": "@jupyter-widgets/base",
            "overflow": null,
            "_model_module_version": "1.2.0",
            "_view_count": null,
            "flex_flow": null,
            "width": null,
            "min_width": null,
            "border": null,
            "align_items": null,
            "bottom": null,
            "_model_module": "@jupyter-widgets/base",
            "top": null,
            "grid_column": null,
            "overflow_y": null,
            "overflow_x": null,
            "grid_auto_flow": null,
            "grid_area": null,
            "grid_template_columns": null,
            "flex": null,
            "_model_name": "LayoutModel",
            "justify_items": null,
            "grid_row": null,
            "max_height": null,
            "align_content": null,
            "visibility": null,
            "align_self": null,
            "height": null,
            "min_height": null,
            "padding": null,
            "grid_auto_rows": null,
            "grid_gap": null,
            "max_width": null,
            "order": null,
            "_view_module_version": "1.2.0",
            "grid_template_areas": null,
            "object_position": null,
            "object_fit": null,
            "grid_auto_columns": null,
            "margin": null,
            "display": null,
            "left": null
          }
        },
        "f40d0dffd64945c58a51e3ca427384c0": {
          "model_module": "@jupyter-widgets/controls",
          "model_name": "FloatProgressModel",
          "state": {
            "_view_name": "ProgressView",
            "style": "IPY_MODEL_6394788b8ba74f959db691455019dc02",
            "_dom_classes": [],
            "description": "",
            "_model_name": "FloatProgressModel",
            "bar_style": "success",
            "max": 4542,
            "_view_module": "@jupyter-widgets/controls",
            "_model_module_version": "1.5.0",
            "value": 4542,
            "_view_count": null,
            "_view_module_version": "1.5.0",
            "orientation": "horizontal",
            "min": 0,
            "description_tooltip": null,
            "_model_module": "@jupyter-widgets/controls",
            "layout": "IPY_MODEL_944bae03af2b489788a018c3d880d752"
          }
        },
        "4712b358084442acaa25e9e2181dbb9b": {
          "model_module": "@jupyter-widgets/controls",
          "model_name": "HTMLModel",
          "state": {
            "_view_name": "HTMLView",
            "style": "IPY_MODEL_3a6f94fcf78b4d148c0f98e1345a30e7",
            "_dom_classes": [],
            "description": "",
            "_model_name": "HTMLModel",
            "placeholder": "​",
            "_view_module": "@jupyter-widgets/controls",
            "_model_module_version": "1.5.0",
            "value": " 5120/? [00:00&lt;00:00, 14145.87it/s]",
            "_view_count": null,
            "_view_module_version": "1.5.0",
            "description_tooltip": null,
            "_model_module": "@jupyter-widgets/controls",
            "layout": "IPY_MODEL_b7d51343da9b49038a95985fde86bc88"
          }
        },
        "6394788b8ba74f959db691455019dc02": {
          "model_module": "@jupyter-widgets/controls",
          "model_name": "ProgressStyleModel",
          "state": {
            "_view_name": "StyleView",
            "_model_name": "ProgressStyleModel",
            "description_width": "initial",
            "_view_module": "@jupyter-widgets/base",
            "_model_module_version": "1.5.0",
            "_view_count": null,
            "_view_module_version": "1.2.0",
            "bar_color": null,
            "_model_module": "@jupyter-widgets/controls"
          }
        },
        "944bae03af2b489788a018c3d880d752": {
          "model_module": "@jupyter-widgets/base",
          "model_name": "LayoutModel",
          "state": {
            "_view_name": "LayoutView",
            "grid_template_rows": null,
            "right": null,
            "justify_content": null,
            "_view_module": "@jupyter-widgets/base",
            "overflow": null,
            "_model_module_version": "1.2.0",
            "_view_count": null,
            "flex_flow": null,
            "width": null,
            "min_width": null,
            "border": null,
            "align_items": null,
            "bottom": null,
            "_model_module": "@jupyter-widgets/base",
            "top": null,
            "grid_column": null,
            "overflow_y": null,
            "overflow_x": null,
            "grid_auto_flow": null,
            "grid_area": null,
            "grid_template_columns": null,
            "flex": null,
            "_model_name": "LayoutModel",
            "justify_items": null,
            "grid_row": null,
            "max_height": null,
            "align_content": null,
            "visibility": null,
            "align_self": null,
            "height": null,
            "min_height": null,
            "padding": null,
            "grid_auto_rows": null,
            "grid_gap": null,
            "max_width": null,
            "order": null,
            "_view_module_version": "1.2.0",
            "grid_template_areas": null,
            "object_position": null,
            "object_fit": null,
            "grid_auto_columns": null,
            "margin": null,
            "display": null,
            "left": null
          }
        },
        "3a6f94fcf78b4d148c0f98e1345a30e7": {
          "model_module": "@jupyter-widgets/controls",
          "model_name": "DescriptionStyleModel",
          "state": {
            "_view_name": "StyleView",
            "_model_name": "DescriptionStyleModel",
            "description_width": "",
            "_view_module": "@jupyter-widgets/base",
            "_model_module_version": "1.5.0",
            "_view_count": null,
            "_view_module_version": "1.2.0",
            "_model_module": "@jupyter-widgets/controls"
          }
        },
        "b7d51343da9b49038a95985fde86bc88": {
          "model_module": "@jupyter-widgets/base",
          "model_name": "LayoutModel",
          "state": {
            "_view_name": "LayoutView",
            "grid_template_rows": null,
            "right": null,
            "justify_content": null,
            "_view_module": "@jupyter-widgets/base",
            "overflow": null,
            "_model_module_version": "1.2.0",
            "_view_count": null,
            "flex_flow": null,
            "width": null,
            "min_width": null,
            "border": null,
            "align_items": null,
            "bottom": null,
            "_model_module": "@jupyter-widgets/base",
            "top": null,
            "grid_column": null,
            "overflow_y": null,
            "overflow_x": null,
            "grid_auto_flow": null,
            "grid_area": null,
            "grid_template_columns": null,
            "flex": null,
            "_model_name": "LayoutModel",
            "justify_items": null,
            "grid_row": null,
            "max_height": null,
            "align_content": null,
            "visibility": null,
            "align_self": null,
            "height": null,
            "min_height": null,
            "padding": null,
            "grid_auto_rows": null,
            "grid_gap": null,
            "max_width": null,
            "order": null,
            "_view_module_version": "1.2.0",
            "grid_template_areas": null,
            "object_position": null,
            "object_fit": null,
            "grid_auto_columns": null,
            "margin": null,
            "display": null,
            "left": null
          }
        }
      }
    }
  },
  "cells": [
    {
      "cell_type": "code",
      "metadata": {
        "id": "0iaf_Ccaq_4Y"
      },
      "source": [
        "#!pip install torchvision==0.8.0"
      ],
      "execution_count": 1,
      "outputs": []
    },
    {
      "cell_type": "code",
      "metadata": {
        "colab": {
          "base_uri": "https://localhost:8080/"
        },
        "id": "AD8zc_5Lpdcu",
        "outputId": "c1fbc0b9-5739-4ade-9f4f-88eab463b85a"
      },
      "source": [
        "from google.colab import drive\n",
        "drive.mount('/gdrive')\n",
        "%cd /gdrive"
      ],
      "execution_count": 2,
      "outputs": [
        {
          "output_type": "stream",
          "text": [
            "Mounted at /gdrive\n",
            "/gdrive\n"
          ],
          "name": "stdout"
        }
      ]
    },
    {
      "cell_type": "code",
      "metadata": {
        "id": "DLLNM9X2JbQ8",
        "colab": {
          "base_uri": "https://localhost:8080/"
        },
        "outputId": "8c70c91a-ca54-4819-aeda-437c83f9ed33"
      },
      "source": [
        "%load_ext tensorboard\n",
        "import os\n",
        "import numpy as np\n",
        "import matplotlib\n",
        "import matplotlib.pyplot as plt\n",
        "import copy\n",
        "import random\n",
        "import time\n",
        "\n",
        "import torch\n",
        "import torch.nn as nn\n",
        "import torch.nn.functional as F\n",
        "\n",
        "from torch.utils.data import Dataset, DataLoader\n",
        "from torch.utils.tensorboard import SummaryWriter\n",
        "from torchvision import transforms, utils, datasets\n",
        "from torchsummary import summary\n",
        "\n",
        "\n",
        "# Check assigned GPU\n",
        "gpu_info = !nvidia-smi\n",
        "gpu_info = '\\n'.join(gpu_info)\n",
        "if gpu_info.find('failed') >= 0:\n",
        "  print('Select the Runtime > \"Change runtime type\" menu to enable a GPU accelerator, ')\n",
        "  print('and then re-execute this cell.')\n",
        "else:\n",
        "  print(gpu_info)\n",
        "\n",
        "# set manual seed for reproducibility\n",
        "seed = 42\n",
        "\n",
        "# general reproducibility\n",
        "random.seed(seed)\n",
        "np.random.seed(seed)\n",
        "torch.manual_seed(seed)\n",
        "\n",
        "# gpu training specific\n",
        "torch.backends.cudnn.deterministic = True\n",
        "torch.backends.cudnn.benchmark = False"
      ],
      "execution_count": 3,
      "outputs": [
        {
          "output_type": "stream",
          "text": [
            "Sat Apr 24 09:56:33 2021       \n",
            "+-----------------------------------------------------------------------------+\n",
            "| NVIDIA-SMI 465.19.01    Driver Version: 460.32.03    CUDA Version: 11.2     |\n",
            "|-------------------------------+----------------------+----------------------+\n",
            "| GPU  Name        Persistence-M| Bus-Id        Disp.A | Volatile Uncorr. ECC |\n",
            "| Fan  Temp  Perf  Pwr:Usage/Cap|         Memory-Usage | GPU-Util  Compute M. |\n",
            "|                               |                      |               MIG M. |\n",
            "|===============================+======================+======================|\n",
            "|   0  Tesla T4            Off  | 00000000:00:04.0 Off |                    0 |\n",
            "| N/A   40C    P8    10W /  70W |      0MiB / 15109MiB |      0%      Default |\n",
            "|                               |                      |                  N/A |\n",
            "+-------------------------------+----------------------+----------------------+\n",
            "                                                                               \n",
            "+-----------------------------------------------------------------------------+\n",
            "| Processes:                                                                  |\n",
            "|  GPU   GI   CI        PID   Type   Process name                  GPU Memory |\n",
            "|        ID   ID                                                   Usage      |\n",
            "|=============================================================================|\n",
            "|  No running processes found                                                 |\n",
            "+-----------------------------------------------------------------------------+\n"
          ],
          "name": "stdout"
        }
      ]
    },
    {
      "cell_type": "markdown",
      "metadata": {
        "id": "NY4eWzGiL6Mj"
      },
      "source": [
        "## Load the MNIST Dataset"
      ]
    },
    {
      "cell_type": "code",
      "metadata": {
        "id": "tiaxWFmTGVBq",
        "colab": {
          "base_uri": "https://localhost:8080/",
          "height": 54
        },
        "outputId": "c8bd11c0-927e-4e23-b911-e0db0d8c9c4f"
      },
      "source": [
        "'''\n",
        "from six.moves import urllib\n",
        "opener = urllib.request.build_opener()\n",
        "opener.addheaders = [('User-agent', 'Mozilla/5.0')]\n",
        "urllib.request.install_opener(opener)\n",
        "'''"
      ],
      "execution_count": 4,
      "outputs": [
        {
          "output_type": "execute_result",
          "data": {
            "application/vnd.google.colaboratory.intrinsic+json": {
              "type": "string"
            },
            "text/plain": [
              "\"\\nfrom six.moves import urllib\\nopener = urllib.request.build_opener()\\nopener.addheaders = [('User-agent', 'Mozilla/5.0')]\\nurllib.request.install_opener(opener)\\n\""
            ]
          },
          "metadata": {
            "tags": []
          },
          "execution_count": 4
        }
      ]
    },
    {
      "cell_type": "code",
      "metadata": {
        "id": "G649tjTXLL8F",
        "colab": {
          "base_uri": "https://localhost:8080/",
          "height": 90
        },
        "outputId": "12e6d15b-d1fb-4409-ac10-556f7a4802ae"
      },
      "source": [
        "# create transforms\n",
        "# We will just convert to tensor and normalize since no special transforms are mentioned in the paper\n",
        "'''\n",
        "transforms_mnist = transforms.Compose([\n",
        "                                       transforms.ToTensor(),\n",
        "                                       transforms.Normalize((0.1307,), (0.3081,))\n",
        "                                       ])\n",
        "\n",
        "mnist_data_train = datasets.MNIST('../data/mnist/', train=True, download=True, transform=transforms_mnist)\n",
        "mnist_data_test = datasets.MNIST('../data/mnist/', train=False, download=True, transform=transforms_mnist)\n",
        "'''"
      ],
      "execution_count": 5,
      "outputs": [
        {
          "output_type": "execute_result",
          "data": {
            "application/vnd.google.colaboratory.intrinsic+json": {
              "type": "string"
            },
            "text/plain": [
              "\"\\ntransforms_mnist = transforms.Compose([\\n                                       transforms.ToTensor(),\\n                                       transforms.Normalize((0.1307,), (0.3081,))\\n                                       ])\\n\\nmnist_data_train = datasets.MNIST('../data/mnist/', train=True, download=True, transform=transforms_mnist)\\nmnist_data_test = datasets.MNIST('../data/mnist/', train=False, download=True, transform=transforms_mnist)\\n\""
            ]
          },
          "metadata": {
            "tags": []
          },
          "execution_count": 5
        }
      ]
    },
    {
      "cell_type": "code",
      "metadata": {
        "colab": {
          "base_uri": "https://localhost:8080/",
          "height": 1000,
          "referenced_widgets": [
            "113c32851b6849b3a74455e0808ea607",
            "3f4808ca4c584f16b55a9e647490ada6",
            "e9d635766acb4566b6a66e6adb09b25a",
            "80aa7497d25b4ec2bba2982743744bf2",
            "335ef61cdcd548038dd151e3b2be4ae9",
            "26c9d870150347a6b21a19e23c54b12b",
            "43be150d60fe4ca6afadc513b643250e",
            "10eab26abf484cd4aa0bcad527f903d2",
            "fccd4bf1003147689ca60f324e2d0625",
            "d0e00618944f4804a8132f7cd8b3871f",
            "107a8184c84f4b98ab8a3469e1866505",
            "b092814ce4314b87bac9951456eb9452",
            "fb1b615a70e744b6be8d400ec4607ec2",
            "2435b126e8844f24aa762ef1cd18ced7",
            "570d5f20737e4d51b5436dbcc90917d3",
            "47b17957fdad43a19984dfae5cbe7edb",
            "9cb59bddd7f9426592a118c2c28ab27f",
            "82c2ae25589741ccbd4e5e132a7bee85",
            "f2205c81b9fd46e78a4b3761c59ce75d",
            "4296460359604c348fba44584354918b",
            "26d6bbf0d9f84d5182be12c72da63625",
            "96ae4e1b81d54caa9cec74b25d2f0a27",
            "1e52d70b16cd47ecb5753054caf32607",
            "024a2da1ba4d4fb2a6ea2d4c71a6cd81",
            "0ebe7bfc1c644e7ea79f26766be447c5",
            "c93dfa6f172a4881958e47b266bf95fd",
            "f40d0dffd64945c58a51e3ca427384c0",
            "4712b358084442acaa25e9e2181dbb9b",
            "6394788b8ba74f959db691455019dc02",
            "944bae03af2b489788a018c3d880d752",
            "3a6f94fcf78b4d148c0f98e1345a30e7",
            "b7d51343da9b49038a95985fde86bc88"
          ]
        },
        "id": "HVgZ5TetqEEP",
        "outputId": "293a9694-0469-4437-9e74-eac75f006190"
      },
      "source": [
        "!wget www.di.ens.fr/~lelarge/MNIST.tar.gz\n",
        "!tar -zxvf MNIST.tar.gz\n",
        "\n",
        "from torchvision.datasets import MNIST\n",
        "\n",
        "transforms_mnist = transforms.Compose([\n",
        "                                       transforms.ToTensor(),\n",
        "                                       transforms.Normalize((0.1307,), (0.3081,))\n",
        "                                       ])\n",
        "\n",
        "mnist_data_train = MNIST(root = '../data/mnist/', train=True, download=True, transform=transforms_mnist)\n",
        "mnist_data_test = MNIST(root = '../data/mnist/', train=False, download=True, transform=transforms_mnist)"
      ],
      "execution_count": 6,
      "outputs": [
        {
          "output_type": "stream",
          "text": [
            "--2021-04-24 09:56:33--  http://www.di.ens.fr/~lelarge/MNIST.tar.gz\n",
            "Resolving www.di.ens.fr (www.di.ens.fr)... 129.199.99.14\n",
            "Connecting to www.di.ens.fr (www.di.ens.fr)|129.199.99.14|:80... connected.\n",
            "HTTP request sent, awaiting response... 302 Found\n",
            "Location: https://www.di.ens.fr/~lelarge/MNIST.tar.gz [following]\n",
            "--2021-04-24 09:56:33--  https://www.di.ens.fr/~lelarge/MNIST.tar.gz\n",
            "Connecting to www.di.ens.fr (www.di.ens.fr)|129.199.99.14|:443... connected.\n",
            "HTTP request sent, awaiting response... 200 OK\n",
            "Length: unspecified [application/x-gzip]\n",
            "MNIST.tar.gz: Operation not supported\n",
            "\n",
            "Cannot write to ‘MNIST.tar.gz’ (Success).\n",
            "tar (child): MNIST.tar.gz: Cannot open: No such file or directory\n",
            "tar (child): Error is not recoverable: exiting now\n",
            "tar: Child returned status 2\n",
            "tar: Error is not recoverable: exiting now\n",
            "Downloading http://yann.lecun.com/exdb/mnist/train-images-idx3-ubyte.gz\n",
            "Downloading http://yann.lecun.com/exdb/mnist/train-images-idx3-ubyte.gz to ../data/mnist/MNIST/raw/train-images-idx3-ubyte.gz\n",
            "Failed to download (trying next):\n",
            "HTTP Error 503: Service Unavailable\n",
            "\n",
            "Downloading https://ossci-datasets.s3.amazonaws.com/mnist/train-images-idx3-ubyte.gz\n",
            "Downloading https://ossci-datasets.s3.amazonaws.com/mnist/train-images-idx3-ubyte.gz to ../data/mnist/MNIST/raw/train-images-idx3-ubyte.gz\n"
          ],
          "name": "stdout"
        },
        {
          "output_type": "display_data",
          "data": {
            "application/vnd.jupyter.widget-view+json": {
              "model_id": "113c32851b6849b3a74455e0808ea607",
              "version_minor": 0,
              "version_major": 2
            },
            "text/plain": [
              "HBox(children=(FloatProgress(value=0.0, max=9912422.0), HTML(value='')))"
            ]
          },
          "metadata": {
            "tags": []
          }
        },
        {
          "output_type": "stream",
          "text": [
            "\n",
            "Extracting ../data/mnist/MNIST/raw/train-images-idx3-ubyte.gz to ../data/mnist/MNIST/raw\n",
            "\n",
            "Downloading http://yann.lecun.com/exdb/mnist/train-labels-idx1-ubyte.gz\n",
            "Failed to download (trying next):\n",
            "HTTP Error 503: Service Unavailable\n",
            "\n",
            "Downloading https://ossci-datasets.s3.amazonaws.com/mnist/train-labels-idx1-ubyte.gz\n",
            "Downloading https://ossci-datasets.s3.amazonaws.com/mnist/train-labels-idx1-ubyte.gz to ../data/mnist/MNIST/raw/train-labels-idx1-ubyte.gz\n"
          ],
          "name": "stdout"
        },
        {
          "output_type": "display_data",
          "data": {
            "application/vnd.jupyter.widget-view+json": {
              "model_id": "fccd4bf1003147689ca60f324e2d0625",
              "version_minor": 0,
              "version_major": 2
            },
            "text/plain": [
              "HBox(children=(FloatProgress(value=0.0, max=28881.0), HTML(value='')))"
            ]
          },
          "metadata": {
            "tags": []
          }
        },
        {
          "output_type": "stream",
          "text": [
            "\n",
            "Extracting ../data/mnist/MNIST/raw/train-labels-idx1-ubyte.gz to ../data/mnist/MNIST/raw\n",
            "\n",
            "Downloading http://yann.lecun.com/exdb/mnist/t10k-images-idx3-ubyte.gz\n",
            "Failed to download (trying next):\n",
            "HTTP Error 503: Service Unavailable\n",
            "\n",
            "Downloading https://ossci-datasets.s3.amazonaws.com/mnist/t10k-images-idx3-ubyte.gz\n",
            "Downloading https://ossci-datasets.s3.amazonaws.com/mnist/t10k-images-idx3-ubyte.gz to ../data/mnist/MNIST/raw/t10k-images-idx3-ubyte.gz\n"
          ],
          "name": "stdout"
        },
        {
          "output_type": "display_data",
          "data": {
            "application/vnd.jupyter.widget-view+json": {
              "model_id": "9cb59bddd7f9426592a118c2c28ab27f",
              "version_minor": 0,
              "version_major": 2
            },
            "text/plain": [
              "HBox(children=(FloatProgress(value=0.0, max=1648877.0), HTML(value='')))"
            ]
          },
          "metadata": {
            "tags": []
          }
        },
        {
          "output_type": "stream",
          "text": [
            "\n",
            "Extracting ../data/mnist/MNIST/raw/t10k-images-idx3-ubyte.gz to ../data/mnist/MNIST/raw\n",
            "\n",
            "Downloading http://yann.lecun.com/exdb/mnist/t10k-labels-idx1-ubyte.gz\n",
            "Downloading http://yann.lecun.com/exdb/mnist/t10k-labels-idx1-ubyte.gz to ../data/mnist/MNIST/raw/t10k-labels-idx1-ubyte.gz\n"
          ],
          "name": "stdout"
        },
        {
          "output_type": "display_data",
          "data": {
            "application/vnd.jupyter.widget-view+json": {
              "model_id": "0ebe7bfc1c644e7ea79f26766be447c5",
              "version_minor": 0,
              "version_major": 2
            },
            "text/plain": [
              "HBox(children=(FloatProgress(value=0.0, max=4542.0), HTML(value='')))"
            ]
          },
          "metadata": {
            "tags": []
          }
        },
        {
          "output_type": "stream",
          "text": [
            "\n",
            "Extracting ../data/mnist/MNIST/raw/t10k-labels-idx1-ubyte.gz to ../data/mnist/MNIST/raw\n",
            "\n",
            "Processing...\n",
            "Done!\n"
          ],
          "name": "stdout"
        },
        {
          "output_type": "stream",
          "text": [
            "/usr/local/lib/python3.7/dist-packages/torchvision/datasets/mnist.py:502: UserWarning: The given NumPy array is not writeable, and PyTorch does not support non-writeable tensors. This means you can write to the underlying (supposedly non-writeable) NumPy array using the tensor. You may want to copy the array to protect its data or make it writeable before converting it to a tensor. This type of warning will be suppressed for the rest of this program. (Triggered internally at  /pytorch/torch/csrc/utils/tensor_numpy.cpp:143.)\n",
            "  return torch.from_numpy(parsed.astype(m[2], copy=False)).view(*s)\n"
          ],
          "name": "stderr"
        }
      ]
    },
    {
      "cell_type": "code",
      "metadata": {
        "id": "dm9usjn2vFkL",
        "colab": {
          "base_uri": "https://localhost:8080/"
        },
        "outputId": "54fedad1-5133-4cc7-f6d4-89cac6806855"
      },
      "source": [
        "classes = np.array(list(mnist_data_train.class_to_idx.values()))\n",
        "classes_test = np.array(list(mnist_data_test.class_to_idx.values()))\n",
        "num_classes = len(classes_test)\n",
        "print(\"Classes: {} \\tType: {}\".format(classes, type(classes)))\n",
        "print(\"Classes Test: {} \\tType: {}\".format(classes_test, type(classes)))\n"
      ],
      "execution_count": 7,
      "outputs": [
        {
          "output_type": "stream",
          "text": [
            "Classes: [0 1 2 3 4 5 6 7 8 9] \tType: <class 'numpy.ndarray'>\n",
            "Classes Test: [0 1 2 3 4 5 6 7 8 9] \tType: <class 'numpy.ndarray'>\n"
          ],
          "name": "stdout"
        }
      ]
    },
    {
      "cell_type": "code",
      "metadata": {
        "id": "9lvJt3Ofv2SO",
        "colab": {
          "base_uri": "https://localhost:8080/"
        },
        "outputId": "5c8478b2-b877-4966-d340-b3952dff7f2b"
      },
      "source": [
        "print(\"Image Shape: {}\".format(mnist_data_train.data[0].size()))"
      ],
      "execution_count": 8,
      "outputs": [
        {
          "output_type": "stream",
          "text": [
            "Image Shape: torch.Size([28, 28])\n"
          ],
          "name": "stdout"
        }
      ]
    },
    {
      "cell_type": "markdown",
      "metadata": {
        "id": "jCOONkg-zV7Y"
      },
      "source": [
        "## Visualize Data"
      ]
    },
    {
      "cell_type": "code",
      "metadata": {
        "id": "R9MK03TZw6Qs"
      },
      "source": [
        "def imshow(img):\n",
        "\timg = img/2 + 0.5 #unnormalize the image\n",
        "\tplt.imshow(img, cmap='gray') # convert from tensor to image"
      ],
      "execution_count": 9,
      "outputs": []
    },
    {
      "cell_type": "code",
      "metadata": {
        "id": "gMJ0Kx4Kw-_H"
      },
      "source": [
        "def visualize(dataset):\n",
        "  figure = plt.figure(figsize=(25,4))\n",
        "  for i in range(20):\n",
        "    axis = figure.add_subplot(2, 20/2, i+1, xticks=[], yticks=[])\n",
        "    data = dataset.data[i]\n",
        "    data = data.numpy()\n",
        "\n",
        "    target = dataset.targets[i]\n",
        "    target = target.numpy()\n",
        "    imshow(data)\n",
        "    axis.set_title(target)\n"
      ],
      "execution_count": 10,
      "outputs": []
    },
    {
      "cell_type": "code",
      "metadata": {
        "id": "8bPOwKg10Ro7",
        "colab": {
          "base_uri": "https://localhost:8080/",
          "height": 219
        },
        "outputId": "ee518408-3a9a-4c66-b0be-a21120657816"
      },
      "source": [
        "visualize(mnist_data_train)"
      ],
      "execution_count": 11,
      "outputs": [
        {
          "output_type": "display_data",
          "data": {
            "image/png": "[encoded data removed]",
            "text/plain": [
              "<Figure size 1800x288 with 20 Axes>"
            ]
          },
          "metadata": {
            "tags": []
          }
        }
      ]
    },
    {
      "cell_type": "code",
      "metadata": {
        "id": "RKoh5Cf70UYu",
        "colab": {
          "base_uri": "https://localhost:8080/",
          "height": 219
        },
        "outputId": "2ed3b842-a5fd-43cf-ad45-17c916f44a7f"
      },
      "source": [
        "visualize(mnist_data_test)"
      ],
      "execution_count": 12,
      "outputs": [
        {
          "output_type": "display_data",
          "data": {
            "image/png": "[encoded data removed]",
            "text/plain": [
              "<Figure size 1800x288 with 20 Axes>"
            ]
          },
          "metadata": {
            "tags": []
          }
        }
      ]
    },
    {
      "cell_type": "markdown",
      "metadata": {
        "id": "ctjRsETiO1qO"
      },
      "source": [
        "## Partitioning the Data (IID and non-IID)"
      ]
    },
    {
      "cell_type": "code",
      "metadata": {
        "id": "3_v8lyrgO5dD"
      },
      "source": [
        "def iid_partition(dataset, clients):\n",
        "  \"\"\"\n",
        "  I.I.D paritioning of data over clients\n",
        "  Shuffle the data\n",
        "  Split it between clients\n",
        "  \n",
        "  params:\n",
        "    - dataset (torch.utils.Dataset): Dataset containing the MNIST Images\n",
        "    - clients (int): Number of Clients to split the data between\n",
        "\n",
        "  returns:\n",
        "    - Dictionary of image indexes for each client\n",
        "  \"\"\"\n",
        "\n",
        "  num_items_per_client = int(len(dataset)/clients)\n",
        "  client_dict = {}\n",
        "  image_idxs = [i for i in range(len(dataset))]\n",
        "  #data_labels = dataset.targets.numpy()\n",
        "  #print(data_labels)\n",
        "\n",
        "  for i in range(clients):\n",
        "    x = np.random.choice(image_idxs, num_items_per_client, replace=False)\n",
        "    client_dict[i] = set(x)\n",
        "    image_idxs = list(set(image_idxs) - client_dict[i])\n",
        "  '''\n",
        "  #print(len(client_dict))\n",
        "  #random.randrange()\n",
        "  n = []\n",
        "  cli = list(range(clients))\n",
        "  for i in range(int(M*clients)):\n",
        "    new = np.random.choice(cli)\n",
        "    n.append(new)\n",
        "    cli.remove(new)\n",
        "  #n = np.random.choice(range(clients), int(0.1*clients), replace=False)\n",
        "  #n = list(n)\n",
        "  print(n)\n",
        "  for i in n:\n",
        "    j = 0\n",
        "    while j < int(W*num_items_per_client):\n",
        "      l = list(client_dict[i])\n",
        "      newl = dataset.targets[int(l[j])].item()\n",
        "      dataset.targets[int(l[j])] = torch.Tensor([(newl+1)%10])\n",
        "\n",
        "      j += 1\n",
        "\n",
        "  print(dataset.targets)\n",
        "  \n",
        "  c = 0\n",
        "  for i in dataset.targets:\n",
        "    if i == torch.Tensor([1]):\n",
        "      c += 1\n",
        "  print(c)\n",
        "  \n",
        "  '''\n",
        "  return client_dict\n"
      ],
      "execution_count": 13,
      "outputs": []
    },
    {
      "cell_type": "code",
      "metadata": {
        "id": "4zMdliGMQoSl"
      },
      "source": [
        "def non_iid_partition(dataset, clients, total_shards, shards_size, num_shards_per_client):\n",
        "  \"\"\"\n",
        "  non I.I.D parititioning of data over clients\n",
        "  Sort the data by the digit label\n",
        "  Divide the data into N shards of size S\n",
        "  Each of the clients will get X shards\n",
        "\n",
        "  params:\n",
        "    - dataset (torch.utils.Dataset): Dataset containing the MNIST Images\n",
        "    - clients (int): Number of Clients to split the data between = 100\n",
        "    - total_shards (int): Number of shards to partition the data in \n",
        "    - shards_size (int): Size of each shard\n",
        "    - num_shards_per_client (int): Number of shards of size shards_size that each client receives \n",
        "\n",
        "  returns:\n",
        "    - Dictionary of image indexes for each client\n",
        "  \"\"\"\n",
        "  \n",
        "  shard_idxs = [i for i in range(total_shards)]\n",
        "  client_dict = {i: np.array([], dtype='int64') for i in range(clients)}\n",
        "  idxs = np.arange(len(dataset))\n",
        "  data_labels = dataset.targets.numpy()\n",
        "\n",
        "  \n",
        "  #print(data_labels)\n",
        "  # sort the labels\n",
        "  label_idxs = np.vstack((idxs, data_labels))\n",
        "  label_idxs = label_idxs[:, label_idxs[1,:].argsort()]\n",
        "  idxs = label_idxs[0,:]\n",
        "  #print(idxs)\n",
        "  #print(len(idxs))\n",
        "\n",
        "  # divide the data into total_shards of size shards_size\n",
        "  # assign num_shards_per_client to each client\n",
        "  for i in range(clients):\n",
        "    rand_set = set(np.random.choice(shard_idxs, num_shards_per_client, replace=False))\n",
        "    shard_idxs = list(set(shard_idxs) - rand_set)\n",
        "\n",
        "    for rand in rand_set:\n",
        "      client_dict[i] = np.concatenate((client_dict[i], idxs[rand*shards_size:(rand+1)*shards_size]), axis=0)\n",
        "  \n",
        "    #print(client_dict)\n",
        "  '''\n",
        "  n = []\n",
        "  cli = list(range(clients))\n",
        "  for i in range(int(0.5*clients)):\n",
        "    new = np.random.choice(cli)\n",
        "    n.append(new)\n",
        "    cli.remove(new)\n",
        "  #n = np.random.choice(range(clients), int(0.1*clients), replace=False)\n",
        "  #n = list(n)\n",
        "  print(n)\n",
        "  for i in n:\n",
        "    j = 0\n",
        "    while j < int(0.8*num_shards_per_client):\n",
        "      l = list(client_dict[i])\n",
        "      print(l)\n",
        "      newl = dataset.targets[int(l[j])].item()\n",
        "      dataset.targets[int(l[j])] = torch.Tensor([1])  #(newl+1)% 10\n",
        "\n",
        "      j += 1\n",
        "\n",
        "  print(dataset.targets)\n",
        "\n",
        "  \n",
        "  \n",
        "  M = 0.1\n",
        "  for n in range(M*K):\n",
        "    ran = random.randint(0, K)\n",
        "    for x in data_dict:\n",
        "      print(len(data_dict[x]))\n",
        "      #for i in range(0.5*len(data_dict[x])):\n",
        "\n",
        "  \n",
        "  '''\n",
        "  return client_dict\n",
        "\n",
        "\n",
        "\n"
      ],
      "execution_count": 14,
      "outputs": []
    },
    {
      "cell_type": "markdown",
      "metadata": {
        "id": "PTfxv8kFoGAy"
      },
      "source": [
        "## Models"
      ]
    },
    {
      "cell_type": "code",
      "metadata": {
        "id": "CvoDNFKbZST5"
      },
      "source": [
        "class MNIST_2NN(nn.Module):\n",
        "  \"\"\"\n",
        "  A simple multilayer-perceptron with 2-hidden layers with 200 units each\n",
        "  using ReLu activations\n",
        "\n",
        "  Total Expected Params: 199,210\n",
        "  \"\"\"\n",
        "  def __init__(self):\n",
        "    super(MNIST_2NN, self).__init__()\n",
        "\n",
        "    self.fc1 = nn.Linear(28*28, 200)\n",
        "    self.fc2 = nn.Linear(200, 200)\n",
        "    self.fc3 = nn.Linear(200, 10)\n",
        "\n",
        "  def forward(self, x):\n",
        "    x = torch.flatten(x, 1)\n",
        "    x = F.relu(self.fc1(x))\n",
        "    x = F.relu(self.fc2(x))\n",
        "    out = self.fc3(x)\n",
        "\n",
        "    return x"
      ],
      "execution_count": 15,
      "outputs": []
    },
    {
      "cell_type": "code",
      "metadata": {
        "id": "ut1hZ8x3qYPZ"
      },
      "source": [
        "class MNIST_CNN(nn.Module):\n",
        "  \"\"\"\n",
        "  CNN with two 5x5 convolution lauers(the first with 32 channels, second with 64,\n",
        "  each followed with 2x2 max pooling), a fully connected layer with 512 uunits and \n",
        "  ReLu activation, and the final Softmax output layer\n",
        "\n",
        "  Total Expected Params: 1,663,370\n",
        "  \"\"\"\n",
        "  def __init__(self):\n",
        "    super(MNIST_CNN, self).__init__()\n",
        "\n",
        "    self.conv1 = nn.Conv2d(1, 32, kernel_size=5)\n",
        "    self.conv2 = nn.Conv2d(32, 64, kernel_size=5)\n",
        "    \n",
        "    self.pool = nn.MaxPool2d(2,2)\n",
        "    self.dropout = nn.Dropout(p=0.2)\n",
        "\n",
        "    self.fc1 = nn.Linear(1024, 512)\n",
        "    self.out = nn.Linear(512, 10)\n",
        "\n",
        "  def forward(self, x):\n",
        "    x = self.pool(F.relu(self.conv1(x)))\n",
        "    x = self.pool(F.relu(self.conv2(x)))\n",
        "    x = self.dropout(x)\n",
        "    x = torch.flatten(x, 1)\n",
        "    x = F.relu(self.fc1(x))\n",
        "    x = self.out(x)\n",
        "    out = F.log_softmax(x, dim=1)\n",
        "\n",
        "    return out"
      ],
      "execution_count": 16,
      "outputs": []
    },
    {
      "cell_type": "markdown",
      "metadata": {
        "id": "uVv4HA9HuLtr"
      },
      "source": [
        "### Print Model Summaries"
      ]
    },
    {
      "cell_type": "code",
      "metadata": {
        "id": "I5oTH710sJEt",
        "colab": {
          "base_uri": "https://localhost:8080/"
        },
        "outputId": "84eb6dbd-116f-47d4-f9aa-78fa0f9684d2"
      },
      "source": [
        "mnist_mlp = MNIST_2NN()\n",
        "mnist_cnn = MNIST_CNN()\n",
        "\n",
        "if torch.cuda.is_available():\n",
        "  mnist_mlp.cuda()\n",
        "  mnist_cnn.cuda()\n",
        "\n",
        "print(\"MNIST MLP SUMMARY\")\n",
        "print(summary(mnist_mlp, (28,28)))\n",
        "\n",
        "print(\"\\nMNIST CNN SUMMARY\")\n",
        "print(summary(mnist_cnn, (1, 28,28)))"
      ],
      "execution_count": 17,
      "outputs": [
        {
          "output_type": "stream",
          "text": [
            "MNIST MLP SUMMARY\n",
            "----------------------------------------------------------------\n",
            "        Layer (type)               Output Shape         Param #\n",
            "================================================================\n",
            "            Linear-1                  [-1, 200]         157,000\n",
            "            Linear-2                  [-1, 200]          40,200\n",
            "            Linear-3                   [-1, 10]           2,010\n",
            "================================================================\n",
            "Total params: 199,210\n",
            "Trainable params: 199,210\n",
            "Non-trainable params: 0\n",
            "----------------------------------------------------------------\n",
            "Input size (MB): 0.00\n",
            "Forward/backward pass size (MB): 0.00\n",
            "Params size (MB): 0.76\n",
            "Estimated Total Size (MB): 0.77\n",
            "----------------------------------------------------------------\n",
            "None\n",
            "\n",
            "MNIST CNN SUMMARY\n",
            "----------------------------------------------------------------\n",
            "        Layer (type)               Output Shape         Param #\n",
            "================================================================\n",
            "            Conv2d-1           [-1, 32, 24, 24]             832\n",
            "         MaxPool2d-2           [-1, 32, 12, 12]               0\n",
            "            Conv2d-3             [-1, 64, 8, 8]          51,264\n",
            "         MaxPool2d-4             [-1, 64, 4, 4]               0\n",
            "           Dropout-5             [-1, 64, 4, 4]               0\n",
            "            Linear-6                  [-1, 512]         524,800\n",
            "            Linear-7                   [-1, 10]           5,130\n",
            "================================================================\n",
            "Total params: 582,026\n",
            "Trainable params: 582,026\n",
            "Non-trainable params: 0\n",
            "----------------------------------------------------------------\n",
            "Input size (MB): 0.00\n",
            "Forward/backward pass size (MB): 0.23\n",
            "Params size (MB): 2.22\n",
            "Estimated Total Size (MB): 2.45\n",
            "----------------------------------------------------------------\n",
            "None\n"
          ],
          "name": "stdout"
        }
      ]
    },
    {
      "cell_type": "markdown",
      "metadata": {
        "id": "gf_8XEXa-gZ7"
      },
      "source": [
        "## Federated Averaging"
      ]
    },
    {
      "cell_type": "markdown",
      "metadata": {
        "id": "L-aNdQsQ-Kvp"
      },
      "source": [
        "### Local Training (Client Update)\n",
        "\n",
        "Local training for the model on client side"
      ]
    },
    {
      "cell_type": "code",
      "metadata": {
        "id": "oX6OsQyO-Gz7"
      },
      "source": [
        "class CustomDataset(Dataset):\n",
        "  def __init__(self, dataset, idxs):\n",
        "      self.dataset = dataset\n",
        "      self.idxs = list(idxs)\n",
        "\n",
        "  def __len__(self):\n",
        "      return len(self.idxs)\n",
        "\n",
        "  def __getitem__(self, item):\n",
        "      image, label = self.dataset[self.idxs[item]]\n",
        "      return image, label\n",
        "\n",
        "class ClientUpdate(object):\n",
        "  def __init__(self, dataset, batchSize, learning_rate, epochs, idxs):\n",
        "    self.train_loader = DataLoader(CustomDataset(dataset, idxs), batch_size=batchSize, shuffle=True)\n",
        "\n",
        "    self.learning_rate = learning_rate\n",
        "    self.epochs = epochs\n",
        "\n",
        "\n",
        "\n",
        "  def train(self, model):\n",
        "\n",
        "    criterion = nn.CrossEntropyLoss()\n",
        "    optimizer = torch.optim.SGD(model.parameters(), lr=self.learning_rate, momentum=0.5)\n",
        "    # optimizer = torch.optim.Adam(model.parameters(), lr=self.learning_rate)\n",
        "\n",
        "    e_loss = []\n",
        "    for epoch in range(1, self.epochs+1):\n",
        "\n",
        "      train_loss = 0.0\n",
        "\n",
        "      model.train()\n",
        "      for data, labels in self.train_loader:\n",
        "\n",
        "        if torch.cuda.is_available():\n",
        "          data, labels = data.cuda(), labels.cuda()\n",
        "\n",
        "        # clear the gradients\n",
        "        optimizer.zero_grad()\n",
        "        # make a forward pass\n",
        "        output = model(data)\n",
        "        # calculate the loss\n",
        "        loss = criterion(output, labels)\n",
        "        # do a backwards pass\n",
        "        loss.backward()\n",
        "        # perform a single optimization step\n",
        "        optimizer.step()\n",
        "        # update training loss\n",
        "        train_loss += loss.item()*data.size(0)\n",
        "\n",
        "      # average losses\n",
        "      train_loss = train_loss/len(self.train_loader.dataset)\n",
        "      e_loss.append(train_loss)\n",
        "\n",
        "    total_loss = sum(e_loss)/len(e_loss)\n",
        "\n",
        "    return model.state_dict(), total_loss"
      ],
      "execution_count": 18,
      "outputs": []
    },
    {
      "cell_type": "markdown",
      "metadata": {
        "id": "Ukgh1DVHE2Ds"
      },
      "source": [
        "### Server Side Training\n",
        "\n",
        "Following Algorithm 1 from the paper"
      ]
    },
    {
      "cell_type": "code",
      "metadata": {
        "id": "1NF1e33BgpeL"
      },
      "source": [
        "def training(model, rounds, batch_size, lr, ds, data_dict, C, K, E, plt_title, plt_color, M):\n",
        "  \"\"\"\n",
        "  Function implements the Federated Averaging Algorithm from the FedAvg paper.\n",
        "  Specifically, this function is used for the server side training and weight update\n",
        "\n",
        "  Params:\n",
        "    - model:           PyTorch model to train\n",
        "    - rounds:          Number of communication rounds for the client update\n",
        "    - batch_size:      Batch size for client update training\n",
        "    - lr:              Learning rate used for client update training\n",
        "    - ds:              Dataset used for training\n",
        "    - data_dict:       Type of data partition used for training (IID or non-IID)\n",
        "    - C:               Fraction of clients randomly chosen to perform computation on each round\n",
        "    - K:               Total number of clients\n",
        "    - E:               Number of training passes each client makes over its local dataset per round\n",
        "    - tb_writer_name:  Directory name to save the tensorboard logs\n",
        "  Returns:\n",
        "    - model:           Trained model on the server\n",
        "  \"\"\"\n",
        "\n",
        "  # global model weights\n",
        "  global_weights = model.state_dict()\n",
        "\n",
        "  # training loss\n",
        "  train_loss = []\n",
        "\n",
        "  # training accuracy\n",
        "  train_acc = []\n",
        "  \n",
        "  # measure time\n",
        "  start = time.time()\n",
        "\n",
        "  for curr_round in range(1, rounds+1):\n",
        "    w, local_loss = [], []\n",
        "\n",
        "    m = max(int(C*K), 1)\n",
        "    newM = int(M*m)\n",
        "\n",
        "    S_t = np.random.choice(range(K), m, replace=False)\n",
        "    #print(S_t)\n",
        "    c = 0\n",
        "\n",
        "    for i in range(len(S_t)):\n",
        "      if c == newM:\n",
        "        break\n",
        "      c += 1\n",
        "      local_update = ClientUpdate(dataset=ds, batchSize=batch_size, learning_rate=lr, epochs=E, idxs=data_dict[S_t[i]])\n",
        "      weights, loss = local_update.train(model=copy.deepcopy(model))\n",
        "      \n",
        "      for k in weights.keys():\n",
        "        t = torch.Tensor(weights[k].shape).cuda()\n",
        "        t.fill_(0.1)\n",
        "        weights[k] = t      \n",
        "      \n",
        "      w.append(copy.deepcopy(weights))\n",
        "      local_loss.append(copy.deepcopy(loss))\n",
        "\n",
        "\n",
        "    for k in range(newM, len(S_t)):\n",
        "\n",
        "      local_update = ClientUpdate(dataset=ds, batchSize=batch_size, learning_rate=lr, epochs=E, idxs=data_dict[S_t[k]])\n",
        "      weights, loss = local_update.train(model=copy.deepcopy(model))\n",
        "      \n",
        "      w.append(copy.deepcopy(weights))\n",
        "      local_loss.append(copy.deepcopy(loss))\n",
        "\n",
        "    # updating the global weights\n",
        "    weights_avg = copy.deepcopy(w[0])\n",
        "    for k in weights_avg.keys():\n",
        "      for i in range(1, len(w)):\n",
        "        weights_avg[k] += w[i][k]\n",
        "\n",
        "      weights_avg[k] = torch.div(weights_avg[k], len(w))\n",
        "\n",
        "    global_weights = weights_avg\n",
        "\n",
        "    # move the updated weights to our model state dict\n",
        "    model.load_state_dict(global_weights)\n",
        "\n",
        "    #outputs = model(data)\n",
        "    #_, predicted = torch.max(outputs.data, 1)\n",
        "\n",
        "    # loss\n",
        "    loss_avg = sum(local_loss) / len(local_loss)\n",
        "    print('Round: {}... \\tAverage Loss: {}'.format(curr_round, round(loss_avg, 3)))\n",
        "    train_loss.append(loss_avg)\n",
        "\n",
        "  end = time.time()\n",
        "  fig, ax = plt.subplots()\n",
        "  x_axis = np.arange(1, rounds+1)\n",
        "  y_axis = np.array(train_loss)\n",
        "  ax.plot(x_axis, y_axis, 'tab:'+plt_color)\n",
        "\n",
        "  ax.set(xlabel='Number of Rounds', ylabel='Train Loss',\n",
        "       title=plt_title)\n",
        "  ax.grid()\n",
        "  fig.savefig('/gdrive/My Drive/FedPerf/MNIST/FedAvg/Robustness/M_0.01/n_0.1/' + plt_title +'.jpg', format='jpg')\n",
        "  print(\"Training Done!\")\n",
        "  print(\"Total time taken to Train: {}\".format(end-start))\n",
        "  \n",
        "  return model"
      ],
      "execution_count": 22,
      "outputs": []
    },
    {
      "cell_type": "markdown",
      "metadata": {
        "id": "tUYyb4T-uXmF"
      },
      "source": [
        "## Testing Loop"
      ]
    },
    {
      "cell_type": "code",
      "metadata": {
        "id": "uCcIZmO5uan9"
      },
      "source": [
        "def testing(model, dataset, bs, criterion, num_classes, classes):\n",
        "  #test loss \n",
        "  test_loss = 0.0\n",
        "  correct_class = list(0. for i in range(num_classes))\n",
        "  total_class = list(0. for i in range(num_classes))\n",
        "\n",
        "  test_loader = DataLoader(dataset, batch_size=bs)\n",
        "  l = len(test_loader)\n",
        "  model.eval()\n",
        "  for data, labels in test_loader:\n",
        "\n",
        "    if torch.cuda.is_available():\n",
        "      data, labels = data.cuda(), labels.cuda()\n",
        "\n",
        "    output = model(data)\n",
        "    loss = criterion(output, labels)\n",
        "    test_loss += loss.item()*data.size(0)\n",
        "\n",
        "    _, pred = torch.max(output, 1)\n",
        "\n",
        "    correct_tensor = pred.eq(labels.data.view_as(pred))\n",
        "    correct = np.squeeze(correct_tensor.numpy()) if not torch.cuda.is_available() else np.squeeze(correct_tensor.cpu().numpy())\n",
        "\n",
        "    #test accuracy for each object class\n",
        "    for i in range(num_classes):\n",
        "      label = labels.data[i]\n",
        "      correct_class[label] += correct[i].item()\n",
        "      total_class[label] += 1\n",
        "    \n",
        "  # avg test loss\n",
        "  test_loss = test_loss/len(test_loader.dataset)\n",
        "  print(\"Test Loss: {:.6f}\\n\".format(test_loss))\n",
        "\n",
        "  # print test accuracy\n",
        "  for i in range(10):\n",
        "    if total_class[i]>0:\n",
        "      print('Test Accuracy of %5s: %2d%% (%2d/%2d)' % \n",
        "            (classes[i], 100 * correct_class[i] / total_class[i],\n",
        "            np.sum(correct_class[i]), np.sum(total_class[i])))\n",
        "    else:\n",
        "      print('Test Accuracy of %5s: N/A (no training examples)' % (classes[i]))\n",
        "\n",
        "  print('\\nFinal Test  Accuracy: {:.3f} ({}/{})'.format(\n",
        "        100. * np.sum(correct_class) / np.sum(total_class),\n",
        "        np.sum(correct_class), np.sum(total_class)))"
      ],
      "execution_count": 23,
      "outputs": []
    },
    {
      "cell_type": "markdown",
      "metadata": {
        "id": "z_jifdzniuhm"
      },
      "source": [
        "# MNIST MLP on IID"
      ]
    },
    {
      "cell_type": "markdown",
      "metadata": {
        "id": "uh-te0Od2XGO"
      },
      "source": [
        "### Train"
      ]
    },
    {
      "cell_type": "code",
      "metadata": {
        "id": "UmpWmKOQixVV",
        "colab": {
          "base_uri": "https://localhost:8080/",
          "height": 695
        },
        "outputId": "4aa4f8c2-652d-4093-a72f-18cb741b43d7"
      },
      "source": [
        "# number of training rounds\n",
        "rounds = 20\n",
        "# client fraction\n",
        "C = 1.0\n",
        "# number of clients\n",
        "K = 100\n",
        "# number of training passes on local dataset for each roung\n",
        "E = 5\n",
        "# batch size\n",
        "batch_size = 10\n",
        "# learning Rate\n",
        "lr=0.05\n",
        "# dict containing different type of data partition\n",
        "data_dict = iid_partition(mnist_data_train, 100)\n",
        "# load model\n",
        "mnist_mlp = MNIST_2NN()\n",
        "\n",
        "if torch.cuda.is_available():\n",
        "  mnist_mlp.cuda()\n",
        "\n",
        "mnist_mlp_iid_trained = training(mnist_mlp, rounds, batch_size, lr, mnist_data_train, data_dict, C, K, E, \"MNIST MLP on IID Dataset\", \"orange\", 0.01)\n"
      ],
      "execution_count": 24,
      "outputs": [
        {
          "output_type": "stream",
          "text": [
            "Round: 1... \tAverage Loss: 0.599\n",
            "Round: 2... \tAverage Loss: 0.169\n",
            "Round: 3... \tAverage Loss: 0.131\n",
            "Round: 4... \tAverage Loss: 0.108\n",
            "Round: 5... \tAverage Loss: 0.095\n",
            "Round: 6... \tAverage Loss: 0.086\n",
            "Round: 7... \tAverage Loss: 0.079\n",
            "Round: 8... \tAverage Loss: 0.074\n",
            "Round: 9... \tAverage Loss: 0.071\n",
            "Round: 10... \tAverage Loss: 0.067\n",
            "Round: 11... \tAverage Loss: 0.064\n",
            "Round: 12... \tAverage Loss: 0.063\n",
            "Round: 13... \tAverage Loss: 0.06\n",
            "Round: 14... \tAverage Loss: 0.059\n",
            "Round: 15... \tAverage Loss: 0.057\n",
            "Round: 16... \tAverage Loss: 0.056\n",
            "Round: 17... \tAverage Loss: 0.055\n",
            "Round: 18... \tAverage Loss: 0.053\n",
            "Round: 19... \tAverage Loss: 0.052\n",
            "Round: 20... \tAverage Loss: 0.052\n",
            "Training Done!\n",
            "Total time taken to Train: 1479.9760313034058\n"
          ],
          "name": "stdout"
        },
        {
          "output_type": "display_data",
          "data": {
            "image/png": "[encoded data removed]",
            "text/plain": [
              "<Figure size 432x288 with 1 Axes>"
            ]
          },
          "metadata": {
            "tags": [],
            "needs_background": "light"
          }
        }
      ]
    },
    {
      "cell_type": "markdown",
      "metadata": {
        "id": "aTBsL3-72PPd"
      },
      "source": [
        "### Test"
      ]
    },
    {
      "cell_type": "code",
      "metadata": {
        "id": "a9G4j5L62OrS",
        "colab": {
          "base_uri": "https://localhost:8080/"
        },
        "outputId": "dcba4270-c752-411a-c64f-e97649597d10"
      },
      "source": [
        "criterion = nn.CrossEntropyLoss()\n",
        "testing(mnist_mlp_iid_trained, mnist_data_test, 128, criterion, num_classes, classes_test)"
      ],
      "execution_count": 25,
      "outputs": [
        {
          "output_type": "stream",
          "text": [
            "Test Loss: 0.119362\n",
            "\n",
            "Test Accuracy of     0: 98% (75/76)\n",
            "Test Accuracy of     1: 97% (88/90)\n",
            "Test Accuracy of     2: 97% (89/91)\n",
            "Test Accuracy of     3: 95% (70/73)\n",
            "Test Accuracy of     4: 96% (86/89)\n",
            "Test Accuracy of     5: 92% (63/68)\n",
            "Test Accuracy of     6: 95% (59/62)\n",
            "Test Accuracy of     7: 95% (77/81)\n",
            "Test Accuracy of     8: 98% (76/77)\n",
            "Test Accuracy of     9: 97% (81/83)\n",
            "\n",
            "Final Test  Accuracy: 96.709 (764.0/790.0)\n"
          ],
          "name": "stdout"
        }
      ]
    },
    {
      "cell_type": "markdown",
      "metadata": {
        "id": "w7NddQfAN1uk"
      },
      "source": [
        "#MNIST MLP on Non-IID"
      ]
    },
    {
      "cell_type": "markdown",
      "metadata": {
        "id": "YjGaNhZaRgD-"
      },
      "source": [
        "##Train"
      ]
    },
    {
      "cell_type": "code",
      "metadata": {
        "id": "uR3WgpV7l7ES",
        "colab": {
          "base_uri": "https://localhost:8080/",
          "height": 695
        },
        "outputId": "97f3d797-c1e6-4373-9807-94d4d781c9bb"
      },
      "source": [
        "# number of training rounds\n",
        "rounds = 20\n",
        "# client fraction\n",
        "C = 1.0\n",
        "# number of clients\n",
        "K = 100\n",
        "# number of training passes on local dataset for each roung\n",
        "E = 5\n",
        "# batch size\n",
        "batch_size = 10\n",
        "# learning Rate\n",
        "lr=0.05\n",
        "# dict containing different type of data partition\n",
        "data_dict = non_iid_partition(mnist_data_train, 100, 200, 300, 2)\n",
        "# load model\n",
        "mnist_mlp = MNIST_2NN()\n",
        "\n",
        "if torch.cuda.is_available():\n",
        "  mnist_mlp.cuda()\n",
        "\n",
        "mnist_mlp_non_iid_trained = training(mnist_mlp, rounds, batch_size, lr, mnist_data_train, data_dict, C, K, E, \"MNIST MLP on Non-IID Dataset\", \"green\", 0.01)"
      ],
      "execution_count": 26,
      "outputs": [
        {
          "output_type": "stream",
          "text": [
            "Round: 1... \tAverage Loss: 0.121\n",
            "Round: 2... \tAverage Loss: 0.063\n",
            "Round: 3... \tAverage Loss: 0.05\n",
            "Round: 4... \tAverage Loss: 0.044\n",
            "Round: 5... \tAverage Loss: 0.04\n",
            "Round: 6... \tAverage Loss: 0.039\n",
            "Round: 7... \tAverage Loss: 0.036\n",
            "Round: 8... \tAverage Loss: 0.036\n",
            "Round: 9... \tAverage Loss: 0.034\n",
            "Round: 10... \tAverage Loss: 0.034\n",
            "Round: 11... \tAverage Loss: 0.033\n",
            "Round: 12... \tAverage Loss: 0.033\n",
            "Round: 13... \tAverage Loss: 0.033\n",
            "Round: 14... \tAverage Loss: 0.031\n",
            "Round: 15... \tAverage Loss: 0.03\n",
            "Round: 16... \tAverage Loss: 0.03\n",
            "Round: 17... \tAverage Loss: 0.03\n",
            "Round: 18... \tAverage Loss: 0.03\n",
            "Round: 19... \tAverage Loss: 0.029\n",
            "Round: 20... \tAverage Loss: 0.029\n",
            "Training Done!\n",
            "Total time taken to Train: 1490.2332243919373\n"
          ],
          "name": "stdout"
        },
        {
          "output_type": "display_data",
          "data": {
            "image/png": "[encoded data removed]",
            "text/plain": [
              "<Figure size 432x288 with 1 Axes>"
            ]
          },
          "metadata": {
            "tags": [],
            "needs_background": "light"
          }
        }
      ]
    },
    {
      "cell_type": "markdown",
      "metadata": {
        "id": "Ia4RWJDwRiIW"
      },
      "source": [
        "##Test"
      ]
    },
    {
      "cell_type": "code",
      "metadata": {
        "colab": {
          "base_uri": "https://localhost:8080/"
        },
        "id": "YPHkKmdZOFFi",
        "outputId": "0da5e157-20f8-4063-ac65-1b866cf10f77"
      },
      "source": [
        "criterion = nn.CrossEntropyLoss()\n",
        "testing(mnist_mlp_non_iid_trained, mnist_data_test, 128, criterion, num_classes, classes_test)"
      ],
      "execution_count": 27,
      "outputs": [
        {
          "output_type": "stream",
          "text": [
            "Test Loss: 0.287355\n",
            "\n",
            "Test Accuracy of     0: 94% (72/76)\n",
            "Test Accuracy of     1: 97% (88/90)\n",
            "Test Accuracy of     2: 89% (81/91)\n",
            "Test Accuracy of     3: 94% (69/73)\n",
            "Test Accuracy of     4: 95% (85/89)\n",
            "Test Accuracy of     5: 80% (55/68)\n",
            "Test Accuracy of     6: 93% (58/62)\n",
            "Test Accuracy of     7: 91% (74/81)\n",
            "Test Accuracy of     8: 93% (72/77)\n",
            "Test Accuracy of     9: 90% (75/83)\n",
            "\n",
            "Final Test  Accuracy: 92.278 (729.0/790.0)\n"
          ],
          "name": "stdout"
        }
      ]
    },
    {
      "cell_type": "markdown",
      "metadata": {
        "id": "7JOrGXijO-n5"
      },
      "source": [
        "#MNIST CNN on IID"
      ]
    },
    {
      "cell_type": "markdown",
      "metadata": {
        "id": "LlfMgPCnPG24"
      },
      "source": [
        "##Train"
      ]
    },
    {
      "cell_type": "code",
      "metadata": {
        "colab": {
          "base_uri": "https://localhost:8080/",
          "height": 695
        },
        "id": "MQnkaV-kOw7J",
        "outputId": "fa04249f-7dc0-4e85-9b75-c14e53b08529"
      },
      "source": [
        "# number of training rounds\n",
        "rounds = 20\n",
        "# client fraction\n",
        "C = 1.0\n",
        "# number of clients\n",
        "K = 100\n",
        "# number of training passes on local dataset for each roung\n",
        "E = 5\n",
        "# batch size\n",
        "batch_size = 10\n",
        "# learning Rate\n",
        "lr=0.05\n",
        "# data partition dictionary\n",
        "iid_dict = iid_partition(mnist_data_train, 100)\n",
        "# load model\n",
        "mnist_cnn = MNIST_CNN()\n",
        "\n",
        "if torch.cuda.is_available():\n",
        "  mnist_cnn.cuda()\n",
        "\n",
        "mnist_cnn_iid_trained = training(mnist_cnn, rounds, batch_size, lr, mnist_data_train, iid_dict, C, K, E, \"MNIST CNN on IID Dataset\", \"orange\", 0.01)"
      ],
      "execution_count": 28,
      "outputs": [
        {
          "output_type": "stream",
          "text": [
            "Round: 1... \tAverage Loss: 0.485\n",
            "Round: 2... \tAverage Loss: 0.139\n",
            "Round: 3... \tAverage Loss: 0.098\n",
            "Round: 4... \tAverage Loss: 0.08\n",
            "Round: 5... \tAverage Loss: 0.067\n",
            "Round: 6... \tAverage Loss: 0.062\n",
            "Round: 7... \tAverage Loss: 0.056\n",
            "Round: 8... \tAverage Loss: 0.053\n",
            "Round: 9... \tAverage Loss: 0.054\n",
            "Round: 10... \tAverage Loss: 0.048\n",
            "Round: 11... \tAverage Loss: 0.048\n",
            "Round: 12... \tAverage Loss: 0.045\n",
            "Round: 13... \tAverage Loss: 0.045\n",
            "Round: 14... \tAverage Loss: 0.048\n",
            "Round: 15... \tAverage Loss: 0.046\n",
            "Round: 16... \tAverage Loss: 0.045\n",
            "Round: 17... \tAverage Loss: 0.044\n",
            "Round: 18... \tAverage Loss: 0.044\n",
            "Round: 19... \tAverage Loss: 0.045\n",
            "Round: 20... \tAverage Loss: 0.044\n",
            "Training Done!\n",
            "Total time taken to Train: 2238.2781207561493\n"
          ],
          "name": "stdout"
        },
        {
          "output_type": "display_data",
          "data": {
            "image/png": "[encoded data removed]",
            "text/plain": [
              "<Figure size 432x288 with 1 Axes>"
            ]
          },
          "metadata": {
            "tags": [],
            "needs_background": "light"
          }
        }
      ]
    },
    {
      "cell_type": "markdown",
      "metadata": {
        "id": "GYz3JwpNSElQ"
      },
      "source": [
        "##Test"
      ]
    },
    {
      "cell_type": "code",
      "metadata": {
        "colab": {
          "base_uri": "https://localhost:8080/"
        },
        "id": "73iqBgD7R_gK",
        "outputId": "fa3f8b1f-7993-41d2-c011-04c4546afa1d"
      },
      "source": [
        "criterion = nn.CrossEntropyLoss()\n",
        "testing(mnist_cnn_iid_trained, mnist_data_test, 128, criterion, num_classes, classes_test)"
      ],
      "execution_count": 29,
      "outputs": [
        {
          "output_type": "stream",
          "text": [
            "Test Loss: 0.034842\n",
            "\n",
            "Test Accuracy of     0: 100% (76/76)\n",
            "Test Accuracy of     1: 97% (88/90)\n",
            "Test Accuracy of     2: 100% (91/91)\n",
            "Test Accuracy of     3: 97% (71/73)\n",
            "Test Accuracy of     4: 100% (89/89)\n",
            "Test Accuracy of     5: 98% (67/68)\n",
            "Test Accuracy of     6: 100% (62/62)\n",
            "Test Accuracy of     7: 100% (81/81)\n",
            "Test Accuracy of     8: 100% (77/77)\n",
            "Test Accuracy of     9: 98% (82/83)\n",
            "\n",
            "Final Test  Accuracy: 99.241 (784.0/790.0)\n"
          ],
          "name": "stdout"
        }
      ]
    },
    {
      "cell_type": "code",
      "metadata": {
        "id": "cbxdgSyKD2PB"
      },
      "source": [
        ""
      ],
      "execution_count": 29,
      "outputs": []
    },
    {
      "cell_type": "markdown",
      "metadata": {
        "id": "fEuvtdjrXtfF"
      },
      "source": [
        "#MNIST CNN on Non-IID"
      ]
    },
    {
      "cell_type": "markdown",
      "metadata": {
        "id": "Qts5A4ebZ0qT"
      },
      "source": [
        "##Train"
      ]
    },
    {
      "cell_type": "code",
      "metadata": {
        "colab": {
          "base_uri": "https://localhost:8080/",
          "height": 695
        },
        "id": "PuFptwHCXLBK",
        "outputId": "141a4a88-6863-482a-b954-f72a82c7af78"
      },
      "source": [
        "# number of training rounds\n",
        "rounds = 20\n",
        "# client fraction\n",
        "C = 1.0\n",
        "# number of clients\n",
        "K = 100\n",
        "# number of training passes on local dataset for each roung\n",
        "E = 5\n",
        "# batch size\n",
        "batch_size = 10\n",
        "# learning Rate\n",
        "lr=0.05\n",
        "# dict containing different type of data partition\n",
        "data_dict = non_iid_partition(mnist_data_train, 100, 200, 300, 2)\n",
        "# load model\n",
        "mnist_cnn = MNIST_CNN()\n",
        "\n",
        "if torch.cuda.is_available():\n",
        "  mnist_cnn.cuda()\n",
        "\n",
        "mnist_cnn_non_iid_trained = training(mnist_cnn, rounds, batch_size, lr, mnist_data_train, data_dict, C, K, E, \"MNIST CNN on Non-IID Dataset\", \"green\", 0.01)"
      ],
      "execution_count": 30,
      "outputs": [
        {
          "output_type": "stream",
          "text": [
            "Round: 1... \tAverage Loss: 0.1\n",
            "Round: 2... \tAverage Loss: 0.063\n",
            "Round: 3... \tAverage Loss: 0.039\n",
            "Round: 4... \tAverage Loss: 0.042\n",
            "Round: 5... \tAverage Loss: 0.032\n",
            "Round: 6... \tAverage Loss: 0.039\n",
            "Round: 7... \tAverage Loss: 0.031\n",
            "Round: 8... \tAverage Loss: 0.029\n",
            "Round: 9... \tAverage Loss: 0.036\n",
            "Round: 10... \tAverage Loss: 0.028\n",
            "Round: 11... \tAverage Loss: 0.029\n",
            "Round: 12... \tAverage Loss: 0.03\n",
            "Round: 13... \tAverage Loss: 0.025\n",
            "Round: 14... \tAverage Loss: 0.027\n",
            "Round: 15... \tAverage Loss: 0.025\n",
            "Round: 16... \tAverage Loss: 0.03\n",
            "Round: 17... \tAverage Loss: 0.088\n",
            "Round: 18... \tAverage Loss: 0.023\n",
            "Round: 19... \tAverage Loss: 0.028\n",
            "Round: 20... \tAverage Loss: 0.025\n",
            "Training Done!\n",
            "Total time taken to Train: 2192.628245830536\n"
          ],
          "name": "stdout"
        },
        {
          "output_type": "display_data",
          "data": {
            "image/png": "[encoded data removed]",
            "text/plain": [
              "<Figure size 432x288 with 1 Axes>"
            ]
          },
          "metadata": {
            "tags": [],
            "needs_background": "light"
          }
        }
      ]
    },
    {
      "cell_type": "markdown",
      "metadata": {
        "id": "Vz5AZ8_zZzMr"
      },
      "source": [
        "##Test"
      ]
    },
    {
      "cell_type": "code",
      "metadata": {
        "colab": {
          "base_uri": "https://localhost:8080/"
        },
        "id": "Vzej8P--Zltk",
        "outputId": "f42e9c7a-0c09-46de-d9d9-21c9edec6c48"
      },
      "source": [
        "criterion = nn.CrossEntropyLoss()\n",
        "testing(mnist_cnn_non_iid_trained, mnist_data_test, 128, criterion, num_classes, classes_test)"
      ],
      "execution_count": 31,
      "outputs": [
        {
          "output_type": "stream",
          "text": [
            "Test Loss: 0.143998\n",
            "\n",
            "Test Accuracy of     0: 97% (74/76)\n",
            "Test Accuracy of     1: 97% (88/90)\n",
            "Test Accuracy of     2: 98% (90/91)\n",
            "Test Accuracy of     3: 97% (71/73)\n",
            "Test Accuracy of     4: 98% (88/89)\n",
            "Test Accuracy of     5: 97% (66/68)\n",
            "Test Accuracy of     6: 93% (58/62)\n",
            "Test Accuracy of     7: 90% (73/81)\n",
            "Test Accuracy of     8: 98% (76/77)\n",
            "Test Accuracy of     9: 96% (80/83)\n",
            "\n",
            "Final Test  Accuracy: 96.709 (764.0/790.0)\n"
          ],
          "name": "stdout"
        }
      ]
    },
    {
      "cell_type": "code",
      "metadata": {
        "id": "oGR_Fq6GZ3HS"
      },
      "source": [
        ""
      ],
      "execution_count": null,
      "outputs": []
    }
  ]
}