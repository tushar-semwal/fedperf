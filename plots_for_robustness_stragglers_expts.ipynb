{
  "nbformat": 4,
  "nbformat_minor": 0,
  "metadata": {
    "colab": {
      "name": "plots.ipynb",
      "provenance": []
    },
    "kernelspec": {
      "name": "python3",
      "display_name": "Python 3"
    },
    "language_info": {
      "name": "python"
    }
  },
  "cells": [
    {
      "cell_type": "code",
      "metadata": {
        "id": "lRExp-469WaY"
      },
      "source": [
        "import matplotlib.pyplot as plt"
      ],
      "execution_count": null,
      "outputs": []
    },
    {
      "cell_type": "code",
      "metadata": {
        "id": "XsQeb02TnXRQ"
      },
      "source": [
        ""
      ],
      "execution_count": null,
      "outputs": []
    },
    {
      "cell_type": "code",
      "metadata": {
        "colab": {
          "base_uri": "https://localhost:8080/"
        },
        "id": "rh6ZHISB9_vI",
        "outputId": "8b8a6950-ad73-4dfc-a769-93fc32a978d5"
      },
      "source": [
        "from google.colab import drive\n",
        "drive.mount('/gdrive')\n",
        "%cd /gdrive"
      ],
      "execution_count": null,
      "outputs": [
        {
          "output_type": "stream",
          "text": [
            "Drive already mounted at /gdrive; to attempt to forcibly remount, call drive.mount(\"/gdrive\", force_remount=True).\n",
            "/gdrive\n"
          ],
          "name": "stdout"
        }
      ]
    },
    {
      "cell_type": "code",
      "metadata": {
        "id": "eXDi6RN7Ao6z"
      },
      "source": [
        "import pickle"
      ],
      "execution_count": null,
      "outputs": []
    },
    {
      "cell_type": "code",
      "metadata": {
        "colab": {
          "base_uri": "https://localhost:8080/"
        },
        "id": "kS8v2R8M1vnt",
        "outputId": "6cb7dbfc-b039-49ff-e5c8-286767275ef0"
      },
      "source": [
        "qffl_stragg_0_9 = '/gdrive/My Drive/results_niid_.pkl'\n",
        "with open(qffl_stragg_0_9, 'rb') as handle:\n",
        "  a = pickle.load(handle)\n",
        "a"
      ],
      "execution_count": null,
      "outputs": [
        {
          "output_type": "execute_result",
          "data": {
            "text/plain": [
              "{'history': [{'accuracy': 0.22143354479343957,\n",
              "   'f1_macro': 0.014076201445475759,\n",
              "   'f1_weighted': 0.11062048743764175,\n",
              "   'loss': 2.943847229951826,\n",
              "   'train_loss': 3.086496634290891},\n",
              "  {'accuracy': 0.3118907628036516,\n",
              "   'f1_macro': 0.04088384172662905,\n",
              "   'f1_weighted': 0.2241664336295433,\n",
              "   'loss': 2.4980656362236533,\n",
              "   'train_loss': 2.443069919478407},\n",
              "  {'accuracy': 0.3809376450564753,\n",
              "   'f1_macro': 0.08300347174829605,\n",
              "   'f1_weighted': 0.320265813025669,\n",
              "   'loss': 2.2038455737480045,\n",
              "   'train_loss': 2.025433147149519},\n",
              "  {'accuracy': 0.41370106761565834,\n",
              "   'f1_macro': 0.10999381614721257,\n",
              "   'f1_weighted': 0.37311128621698497,\n",
              "   'loss': 2.063948651374253,\n",
              "   'train_loss': 1.5853877367776448},\n",
              "  {'accuracy': 0.41519031409562124,\n",
              "   'f1_macro': 0.11646391537351952,\n",
              "   'f1_weighted': 0.3791450743796017,\n",
              "   'loss': 2.101606828930802,\n",
              "   'train_loss': 1.3372486994082085},\n",
              "  {'accuracy': 0.4406235494352468,\n",
              "   'f1_macro': 0.14113165083313714,\n",
              "   'f1_weighted': 0.404333247589642,\n",
              "   'loss': 1.9814506856039853,\n",
              "   'train_loss': 1.3949297934674092},\n",
              "  {'accuracy': 0.4473154881633916,\n",
              "   'f1_macro': 0.14904640264288763,\n",
              "   'f1_weighted': 0.4133026138150632,\n",
              "   'loss': 1.9475441183217599,\n",
              "   'train_loss': 1.2464192359642605},\n",
              "  {'accuracy': 0.45228609005105985,\n",
              "   'f1_macro': 0.15332781231951603,\n",
              "   'f1_weighted': 0.4198208609893746,\n",
              "   'loss': 1.95826396964774,\n",
              "   'train_loss': 1.211688481257145},\n",
              "  {'accuracy': 0.4471801021197586,\n",
              "   'f1_macro': 0.15973654152218833,\n",
              "   'f1_weighted': 0.4221459555843695,\n",
              "   'loss': 2.05696597867061,\n",
              "   'train_loss': 0.803797486943641},\n",
              "  {'accuracy': 0.45420083552529783,\n",
              "   'f1_macro': 0.1615708883199917,\n",
              "   'f1_weighted': 0.42346587882937314,\n",
              "   'loss': 1.959748890974883,\n",
              "   'train_loss': 1.0421317395093408},\n",
              "  {'accuracy': 0.45338851926349993,\n",
              "   'f1_macro': 0.15789059646512368,\n",
              "   'f1_weighted': 0.42689655080583006,\n",
              "   'loss': 1.973878123074235,\n",
              "   'train_loss': 0.9225444810143042},\n",
              "  {'accuracy': 0.45748878229924184,\n",
              "   'f1_macro': 0.16351392405831194,\n",
              "   'f1_weighted': 0.4298521975551139,\n",
              "   'loss': 1.9307885126372286,\n",
              "   'train_loss': 0.7821480017066095},\n",
              "  {'accuracy': 0.4670044870803033,\n",
              "   'f1_macro': 0.16980509204411764,\n",
              "   'f1_weighted': 0.4371686409429444,\n",
              "   'loss': 1.8579669779985937,\n",
              "   'train_loss': 1.2769638478396341},\n",
              "  {'accuracy': 0.473000154726907,\n",
              "   'f1_macro': 0.17074201511817436,\n",
              "   'f1_weighted': 0.44293598608698526,\n",
              "   'loss': 1.8713814633478096,\n",
              "   'train_loss': 1.0939551460907289},\n",
              "  {'accuracy': 0.4705051833513848,\n",
              "   'f1_macro': 0.17513779881009897,\n",
              "   'f1_weighted': 0.4447432877236665,\n",
              "   'loss': 1.9251194016856066,\n",
              "   'train_loss': 0.8985803765235845},\n",
              "  {'accuracy': 0.46596008045799164,\n",
              "   'f1_macro': 0.1704500022447479,\n",
              "   'f1_weighted': 0.43808038897810303,\n",
              "   'loss': 1.9893151686885502,\n",
              "   'train_loss': 0.7874679514796327},\n",
              "  {'accuracy': 0.47710041776264894,\n",
              "   'f1_macro': 0.17322140462812258,\n",
              "   'f1_weighted': 0.44657358485086585,\n",
              "   'loss': 1.8472221877213217,\n",
              "   'train_loss': 1.0946382403738801},\n",
              "  {'accuracy': 0.47288410954665017,\n",
              "   'f1_macro': 0.17674328832159705,\n",
              "   'f1_weighted': 0.44658502349991086,\n",
              "   'loss': 1.9144783385994864,\n",
              "   'train_loss': 0.8732051225541471},\n",
              "  {'accuracy': 0.47344499458455824,\n",
              "   'f1_macro': 0.1764040072749851,\n",
              "   'f1_weighted': 0.44770613646165847,\n",
              "   'loss': 1.9291011060140053,\n",
              "   'train_loss': 0.8811807315829251},\n",
              "  {'accuracy': 0.477525916756924,\n",
              "   'f1_macro': 0.1803185769131268,\n",
              "   'f1_weighted': 0.45248005637039634,\n",
              "   'loss': 1.9055790202197886,\n",
              "   'train_loss': 0.9065536352432897},\n",
              "  {'accuracy': 0.4698089122698437,\n",
              "   'f1_macro': 0.17349432215363794,\n",
              "   'f1_weighted': 0.44443199953666324,\n",
              "   'loss': 1.946785112216656,\n",
              "   'train_loss': 0.5836051808243848},\n",
              "  {'accuracy': 0.4747214915673836,\n",
              "   'f1_macro': 0.17614585075161152,\n",
              "   'f1_weighted': 0.4489230460264644,\n",
              "   'loss': 1.8874236945274416,\n",
              "   'train_loss': 0.947492557472812},\n",
              "  {'accuracy': 0.4800982515859508,\n",
              "   'f1_macro': 0.17942677912936694,\n",
              "   'f1_weighted': 0.45047503797990457,\n",
              "   'loss': 1.8332522964615414,\n",
              "   'train_loss': 1.1130177461528823},\n",
              "  {'accuracy': 0.4743926968899892,\n",
              "   'f1_macro': 0.18060983899369773,\n",
              "   'f1_weighted': 0.4513301837860016,\n",
              "   'loss': 1.8786379941068354,\n",
              "   'train_loss': 0.8549402162698115},\n",
              "  {'accuracy': 0.4747214915673836,\n",
              "   'f1_macro': 0.1784149075412136,\n",
              "   'f1_weighted': 0.45016529688316986,\n",
              "   'loss': 1.9420219008020714,\n",
              "   'train_loss': 0.7349906522588356},\n",
              "  {'accuracy': 0.47245861055237504,\n",
              "   'f1_macro': 0.18213871853524863,\n",
              "   'f1_weighted': 0.44932236825975747,\n",
              "   'loss': 1.9352831290154362,\n",
              "   'train_loss': 0.746560840522848},\n",
              "  {'accuracy': 0.46901593687142196,\n",
              "   'f1_macro': 0.17776670143586087,\n",
              "   'f1_weighted': 0.4441250306640562,\n",
              "   'loss': 1.9139314497216242,\n",
              "   'train_loss': 0.6349180000689526},\n",
              "  {'accuracy': 0.4742766517097323,\n",
              "   'f1_macro': 0.1831827149107053,\n",
              "   'f1_weighted': 0.449796599267249,\n",
              "   'loss': 1.8842378292724424,\n",
              "   'train_loss': 0.8212385949794095},\n",
              "  {'accuracy': 0.48002088813244626,\n",
              "   'f1_macro': 0.18332030643279637,\n",
              "   'f1_weighted': 0.4556377936032426,\n",
              "   'loss': 1.8691942910248054,\n",
              "   'train_loss': 0.864224805974479},\n",
              "  {'accuracy': 0.4814134302955284,\n",
              "   'f1_macro': 0.1829542456140398,\n",
              "   'f1_weighted': 0.4578204095264931,\n",
              "   'loss': 1.8394770614276006,\n",
              "   'train_loss': 0.9168333058202289},\n",
              "  {'accuracy': 0.4816261797926659,\n",
              "   'f1_macro': 0.18880946530701742,\n",
              "   'f1_weighted': 0.45678124999323494,\n",
              "   'loss': 1.8766393387730822,\n",
              "   'train_loss': 0.7803172729871887},\n",
              "  {'accuracy': 0.4900587962246635,\n",
              "   'f1_macro': 0.18952157406667988,\n",
              "   'f1_weighted': 0.4611634751014342,\n",
              "   'loss': 1.804454116959718,\n",
              "   'train_loss': 1.1484761598712696},\n",
              "  {'accuracy': 0.4924764041466811,\n",
              "   'f1_macro': 0.19754710751864735,\n",
              "   'f1_weighted': 0.46864724265653057,\n",
              "   'loss': 1.7904574280504137,\n",
              "   'train_loss': 0.9302243952917968},\n",
              "  {'accuracy': 0.4928632214142039,\n",
              "   'f1_macro': 0.19015610166245922,\n",
              "   'f1_weighted': 0.4647829644339426,\n",
              "   'loss': 1.7768973465683233,\n",
              "   'train_loss': 0.7889527664485972},\n",
              "  {'accuracy': 0.49085177162308524,\n",
              "   'f1_macro': 0.19028973445128936,\n",
              "   'f1_weighted': 0.4645061323008097,\n",
              "   'loss': 1.8109173110536234,\n",
              "   'train_loss': 0.8946319365426012},\n",
              "  {'accuracy': 0.4917994739285162,\n",
              "   'f1_macro': 0.19546387141419388,\n",
              "   'f1_weighted': 0.4682933457376263,\n",
              "   'loss': 1.840523283669828,\n",
              "   'train_loss': 0.8509028395043006},\n",
              "  {'accuracy': 0.4926311310536902,\n",
              "   'f1_macro': 0.2017813546246161,\n",
              "   'f1_weighted': 0.4732074547564585,\n",
              "   'loss': 1.825580354876218,\n",
              "   'train_loss': 0.8415269978470915},\n",
              "  {'accuracy': 0.49121924802723194,\n",
              "   'f1_macro': 0.1986122942846165,\n",
              "   'f1_weighted': 0.46916159313555045,\n",
              "   'loss': 1.8140647913116466,\n",
              "   'train_loss': 0.8141884379643116},\n",
              "  {'accuracy': 0.4942944453040384,\n",
              "   'f1_macro': 0.1983019751498879,\n",
              "   'f1_weighted': 0.4690343706983546,\n",
              "   'loss': 1.8560933653039289,\n",
              "   'train_loss': 0.9143649849389698},\n",
              "  {'accuracy': 0.49087111248646137,\n",
              "   'f1_macro': 0.19530754237442494,\n",
              "   'f1_weighted': 0.4678721934165972,\n",
              "   'loss': 1.8476043685621684,\n",
              "   'train_loss': 0.7179923091664352},\n",
              "  {'accuracy': 0.48216772396719787,\n",
              "   'f1_macro': 0.18924103560572825,\n",
              "   'f1_weighted': 0.46067597866869103,\n",
              "   'loss': 1.8895952884443872,\n",
              "   'train_loss': 0.5716483403651644},\n",
              "  {'accuracy': 0.4807751818041157,\n",
              "   'f1_macro': 0.1871193035143079,\n",
              "   'f1_weighted': 0.4606881498300725,\n",
              "   'loss': 1.8426157780430845,\n",
              "   'train_loss': 0.5424098805388221},\n",
              "  {'accuracy': 0.47007968435710973,\n",
              "   'f1_macro': 0.17802546826980448,\n",
              "   'f1_weighted': 0.4502034710009752,\n",
              "   'loss': 1.9009626190674236,\n",
              "   'train_loss': 0.5617537627864279},\n",
              "  {'accuracy': 0.46971220795296303,\n",
              "   'f1_macro': 0.16732973432695836,\n",
              "   'f1_weighted': 0.4436668193903782,\n",
              "   'loss': 1.9071956515507018,\n",
              "   'train_loss': 0.6610624415759786},\n",
              "  {'accuracy': 0.4802916602197122,\n",
              "   'f1_macro': 0.1748482808870384,\n",
              "   'f1_weighted': 0.45229357388457914,\n",
              "   'loss': 1.8727292731449263,\n",
              "   'train_loss': 0.885888254248391},\n",
              "  {'accuracy': 0.4732902676775491,\n",
              "   'f1_macro': 0.17755227911208027,\n",
              "   'f1_weighted': 0.45047989759352924,\n",
              "   'loss': 1.8991776980487358,\n",
              "   'train_loss': 0.6644170040336823},\n",
              "  {'accuracy': 0.46398731239362523,\n",
              "   'f1_macro': 0.17113420971221546,\n",
              "   'f1_weighted': 0.44189666317733645,\n",
              "   'loss': 1.9113787061787142,\n",
              "   'train_loss': 0.5733991925156171},\n",
              "  {'accuracy': 0.4840437877146836,\n",
              "   'f1_macro': 0.17616769527315174,\n",
              "   'f1_weighted': 0.4544723327175751,\n",
              "   'loss': 1.8169402115873539,\n",
              "   'train_loss': 1.0059915565474464},\n",
              "  {'accuracy': 0.48096859043787715,\n",
              "   'f1_macro': 0.18127953543455405,\n",
              "   'f1_weighted': 0.4524411889119002,\n",
              "   'loss': 1.8707935478611477,\n",
              "   'train_loss': 0.7740215737931365},\n",
              "  {'accuracy': 0.4901941822682965,\n",
              "   'f1_macro': 0.18724821746745635,\n",
              "   'f1_weighted': 0.464593826566451,\n",
              "   'loss': 1.8033183900270229,\n",
              "   'train_loss': 1.0082916783599278}],\n",
              " 'hyperparams': {'C': 0.07,\n",
              "  'E': 5,\n",
              "  'K': 143,\n",
              "  'batch_size': 10,\n",
              "  'lr': 0.8,\n",
              "  'mu': 0.001,\n",
              "  'percentage': 0,\n",
              "  'rounds': 50,\n",
              "  'target_test_accuracy': 99.0}}"
            ]
          },
          "metadata": {
            "tags": []
          },
          "execution_count": 14
        }
      ]
    },
    {
      "cell_type": "code",
      "metadata": {
        "id": "AkKFR4YP1vla"
      },
      "source": [
        ""
      ],
      "execution_count": null,
      "outputs": []
    },
    {
      "cell_type": "code",
      "metadata": {
        "id": "NReujVE_1vhf"
      },
      "source": [
        ""
      ],
      "execution_count": null,
      "outputs": []
    },
    {
      "cell_type": "code",
      "metadata": {
        "colab": {
          "base_uri": "https://localhost:8080/",
          "height": 405
        },
        "id": "j2uvk9Ya-XiT",
        "outputId": "27152032-c022-4a0a-c90e-bb81bde8f31a"
      },
      "source": [
        "# 0.1 stragglers\n",
        "\n",
        "fedavg_1 = '/gdrive/My Drive/FedPerf/MNIST/FedAvg/Stragglers/0.1/'\n",
        "with open(fedavg_1+'MNIST_FedAvg_stragglers0_1.pkl', 'rb') as handle:\n",
        "  a = pickle.load(handle)\n",
        "l1 = a[\"MNIST MLP on IID\"][\"test_accuracy\"][0]\n",
        "\n",
        "\n",
        "fedmed_1 = '/gdrive/My Drive/FedPerf/MNIST/FedMed/Stragglers/0.1/'\n",
        "with open(fedmed_1+'MNIST_FedMed_stragglers0_1.pkl', 'rb') as handle:\n",
        "  b = pickle.load(handle)\n",
        "l2 = b[\"MNIST MLP on IID\"][\"test_accuracy\"][0]\n",
        "\n",
        "\n",
        "fedprox_1 = '/gdrive/My Drive/FedPerf/MNIST/FedProx/Stragglers/0.1/'\n",
        "with open(fedprox_1+'MNIST_FedProx_stragglers0_1.pkl', 'rb') as handle:\n",
        "  c = pickle.load(handle)\n",
        "l3 = c[\"MNIST MLP on IID\"][\"test_accuracy\"][0]\n",
        "\n",
        "\n",
        "qffl_1 = '/gdrive/My Drive/FedPerf/MNIST/qFFL/Stragglers/0.1/'\n",
        "with open(qffl_1+'MNIST_qFFL_stragglers0_1.pkl', 'rb') as handle:\n",
        "  d = pickle.load(handle)\n",
        "l4 = d[\"MNIST MLP on IID\"][\"test_accuracy\"][0]\n",
        "\n",
        "\n",
        "print(l1)\n",
        "print(l2)\n",
        "print(l3)\n",
        "print(l4)\n",
        "print(len(l1))\n",
        "x = []\n",
        "for i in range(len(l1)):\n",
        "  x.append(i)\n",
        "fig, ax = plt.subplots()\n",
        "#ax.plot(x_axis, y_axis, 'tab:'+plt_color)\n",
        "ax.set(xlabel='Number of Rounds', ylabel='Test Accuracy')#, title=\"Stragglers 90% MNIST MLP on IID\")\n",
        "ax.plot(x, l1, label = \"FedAvg\")\n",
        "ax.plot(x, l2, label = \"FedMed\")\n",
        "ax.plot(x, l3, label = \"FedProx\")\n",
        "ax.plot(x, l4, label = \"qFFL\")\n",
        "\n",
        "plt.legend()\n",
        "fig.savefig('/gdrive/My Drive/FedPerf/MNIST/'+\"Stragglers 90% MNIST MLP on IID\", format='jpg')\n",
        "plt.show()"
      ],
      "execution_count": null,
      "outputs": [
        {
          "output_type": "stream",
          "text": [
            "[91.39240506329114, 92.0253164556962, 91.89873417721519, 90.63291139240506, 92.27848101265823, 92.15189873417721, 91.26582278481013, 90.0, 92.0253164556962, 91.26582278481013, 91.89873417721519, 91.39240506329114, 91.0126582278481, 90.0, 91.64556962025317, 91.64556962025317, 91.13924050632912, 91.26582278481013, 91.26582278481013, 90.12658227848101, 92.0253164556962, 91.51898734177215, 91.13924050632912, 90.25316455696202, 92.27848101265823, 90.63291139240506, 91.0126582278481, 90.88607594936708, 91.51898734177215, 91.51898734177215, 92.27848101265823, 92.40506329113924, 91.13924050632912, 91.64556962025317, 91.26582278481013, 91.13924050632912, 91.77215189873418, 91.0126582278481, 91.89873417721519, 90.63291139240506, 90.75949367088607, 91.39240506329114, 91.13924050632912, 91.0126582278481, 91.64556962025317, 90.37974683544304, 91.51898734177215, 91.39240506329114, 91.89873417721519, 91.26582278481013]\n",
            "[93.0379746835443, 94.0506329113924, 94.81012658227849, 95.18987341772151, 95.44303797468355, 95.69620253164557, 95.9493670886076, 95.9493670886076, 96.32911392405063, 96.20253164556962, 96.32911392405063, 96.32911392405063, 96.58227848101266, 96.58227848101266, 96.58227848101266, 96.58227848101266, 96.45569620253164, 96.32911392405063, 96.70886075949367, 96.58227848101266, 96.70886075949367, 96.58227848101266, 96.58227848101266, 96.70886075949367, 96.83544303797468, 96.83544303797468, 97.0886075949367, 97.0886075949367, 96.9620253164557, 96.83544303797468, 97.0886075949367, 97.21518987341773, 97.21518987341773, 97.21518987341773, 97.21518987341773, 97.46835443037975, 97.34177215189874, 97.46835443037975, 97.34177215189874, 97.59493670886076, 97.46835443037975, 97.84810126582279, 97.46835443037975, 97.59493670886076, 97.72151898734177, 97.46835443037975, 97.72151898734177, 97.72151898734177, 97.84810126582279, 97.72151898734177]\n",
            "[92.15189873417721, 93.92405063291139, 94.68354430379746, 95.18987341772151, 95.18987341772151, 95.69620253164557, 95.44303797468355, 95.69620253164557, 95.82278481012658, 96.32911392405063, 96.45569620253164, 96.32911392405063, 96.45569620253164, 96.45569620253164, 96.45569620253164, 96.58227848101266, 96.58227848101266, 96.58227848101266, 96.58227848101266, 96.58227848101266, 96.20253164556962, 96.45569620253164, 96.70886075949367, 96.70886075949367, 96.83544303797468, 96.58227848101266, 96.70886075949367, 97.0886075949367, 96.9620253164557, 96.9620253164557, 97.59493670886076, 97.46835443037975, 97.21518987341773, 97.0886075949367, 97.21518987341773, 97.46835443037975, 97.46835443037975, 97.34177215189874, 97.59493670886076, 97.72151898734177, 97.72151898734177, 97.46835443037975, 97.72151898734177, 97.72151898734177, 97.59493670886076, 97.72151898734177, 97.84810126582279, 97.72151898734177, 97.59493670886076, 97.59493670886076]\n",
            "[89.19, 90.94, 91.6, 92.05, 92.45, 92.68, 92.93, 92.99, 93.17, 93.28, 93.33, 93.39, 93.47, 93.49, 93.5, 93.59, 93.5, 93.57, 93.56, 93.53, 93.57, 93.57, 93.61, 93.59, 93.59, 93.61, 93.63, 93.62, 93.59, 93.62, 93.6, 93.58, 93.58, 93.57, 93.55, 93.57, 93.58, 93.58, 93.56, 93.55, 93.55, 93.55, 93.55, 93.56, 93.57, 93.55, 93.58, 93.57, 93.58, 93.59]\n",
            "50\n"
          ],
          "name": "stdout"
        },
        {
          "output_type": "display_data",
          "data": {
            "image/png": "[encoded data removed]",
            "text/plain": [
              "<Figure size 432x288 with 1 Axes>"
            ]
          },
          "metadata": {
            "tags": [],
            "needs_background": "light"
          }
        }
      ]
    },
    {
      "cell_type": "code",
      "metadata": {
        "colab": {
          "base_uri": "https://localhost:8080/",
          "height": 405
        },
        "id": "yXUI1gflAnKn",
        "outputId": "61e43d58-fde6-467e-d692-f34f1a1ca20d"
      },
      "source": [
        "# 0.1 stragglers\n",
        "\n",
        "fedavg_1 = '/gdrive/My Drive/FedPerf/MNIST/FedAvg/Stragglers/0.1/'\n",
        "with open(fedavg_1+'MNIST_FedAvg_stragglers0_1.pkl', 'rb') as handle:\n",
        "  a = pickle.load(handle)\n",
        "l1 = a[\"MNIST MLP on Non IID\"][\"test_accuracy\"][0]\n",
        "\n",
        "\n",
        "fedmed_1 = '/gdrive/My Drive/FedPerf/MNIST/FedMed/Stragglers/0.1/'\n",
        "with open(fedmed_1+'MNIST_FedMed_stragglers0_1.pkl', 'rb') as handle:\n",
        "  b = pickle.load(handle)\n",
        "l2 = b[\"MNIST MLP on Non IID\"][\"test_accuracy\"][0]\n",
        "\n",
        "\n",
        "fedprox_1 = '/gdrive/My Drive/FedPerf/MNIST/FedProx/Stragglers/0.1/'\n",
        "with open(fedprox_1+'MNIST_FedProx_stragglers0_1.pkl', 'rb') as handle:\n",
        "  c = pickle.load(handle)\n",
        "l3 = c[\"MNIST MLP on Non IID\"][\"test_accuracy\"][0]\n",
        "\n",
        "\n",
        "qffl_1 = '/gdrive/My Drive/FedPerf/MNIST/qFFL/Stragglers/0.1/'\n",
        "with open(qffl_1+'MNIST_qFFL_stragglers0_1.pkl', 'rb') as handle:\n",
        "  d = pickle.load(handle)\n",
        "l4 = d[\"MNIST MLP on Non IID\"][\"test_accuracy\"][0]\n",
        "\n",
        "\n",
        "print(l1)\n",
        "print(l2)\n",
        "print(l3)\n",
        "print(l4)\n",
        "print(len(l1))\n",
        "x = []\n",
        "for i in range(len(l1)):\n",
        "  x.append(i)\n",
        "fig, ax = plt.subplots()\n",
        "#ax.plot(x_axis, y_axis, 'tab:'+plt_color)\n",
        "ax.set(xlabel='Number of Rounds', ylabel='Test Accuracy', title=\"Stragglers 90% MNIST MLP on Non IID\")\n",
        "ax.plot(x, l1, label = \"FedAvg\")\n",
        "ax.plot(x, l2, label = \"FedMed\")\n",
        "ax.plot(x, l3, label = \"FedProx\")\n",
        "ax.plot(x, l4, label = \"qFFL\")\n",
        "\n",
        "plt.legend()\n",
        "fig.savefig('/gdrive/My Drive/FedPerf/MNIST/'+\"Stragglers 90% MNIST MLP on Non IID\", format='jpg')\n",
        "plt.show()"
      ],
      "execution_count": null,
      "outputs": [
        {
          "output_type": "stream",
          "text": [
            "[20.253164556962027, 11.518987341772151, 28.860759493670887, 8.481012658227849, 16.20253164556962, 9.620253164556962, 13.670886075949367, 17.21518987341772, 10.50632911392405, 30.50632911392405, 12.658227848101266, 9.746835443037975, 9.746835443037975, 9.746835443037975, 9.746835443037975, 9.620253164556962, 9.620253164556962, 9.620253164556962, 9.620253164556962, 9.620253164556962, 9.620253164556962, 9.620253164556962, 9.620253164556962, 9.620253164556962, 9.620253164556962, 9.620253164556962, 9.620253164556962, 9.620253164556962, 9.620253164556962, 9.620253164556962, 9.620253164556962, 9.620253164556962, 9.620253164556962, 9.620253164556962, 9.620253164556962, 9.620253164556962, 9.620253164556962, 9.620253164556962, 9.620253164556962, 9.620253164556962, 9.620253164556962, 9.620253164556962, 9.620253164556962, 9.620253164556962, 9.620253164556962, 9.620253164556962, 9.620253164556962, 9.620253164556962, 9.620253164556962, 9.620253164556962]\n",
            "[35.56962025316456, 47.21518987341772, 54.30379746835443, 64.68354430379746, 73.67088607594937, 72.9113924050633, 75.0632911392405, 76.58227848101266, 75.44303797468355, 76.32911392405063, 77.72151898734177, 78.10126582278481, 79.36708860759494, 80.25316455696202, 81.26582278481013, 81.13924050632912, 82.78481012658227, 82.40506329113924, 82.53164556962025, 81.89873417721519, 82.65822784810126, 82.9113924050633, 82.9113924050633, 84.0506329113924, 83.41772151898734, 83.92405063291139, 83.54430379746836, 83.54430379746836, 83.54430379746836, 82.65822784810126, 83.92405063291139, 84.0506329113924, 83.54430379746836, 82.65822784810126, 83.0379746835443, 83.92405063291139, 83.79746835443038, 84.55696202531645, 84.68354430379746, 84.43037974683544, 85.56962025316456, 85.0632911392405, 85.9493670886076, 85.9493670886076, 85.31645569620254, 85.56962025316456, 85.31645569620254, 86.45569620253164, 86.45569620253164, 87.84810126582279]\n",
            "[51.392405063291136, 57.46835443037975, 68.60759493670886, 80.88607594936708, 85.56962025316456, 83.16455696202532, 78.60759493670886, 86.32911392405063, 89.36708860759494, 89.62025316455696, 89.74683544303798, 90.25316455696202, 89.24050632911393, 89.36708860759494, 90.75949367088607, 90.88607594936708, 91.64556962025317, 91.64556962025317, 91.39240506329114, 90.25316455696202, 91.77215189873418, 93.0379746835443, 93.16455696202532, 92.9113924050633, 93.29113924050633, 93.54430379746836, 93.41772151898734, 93.67088607594937, 93.29113924050633, 94.0506329113924, 93.79746835443038, 93.67088607594937, 94.17721518987342, 93.29113924050633, 93.67088607594937, 94.55696202531645, 94.17721518987342, 94.30379746835443, 94.43037974683544, 94.0506329113924, 93.79746835443038, 94.17721518987342, 94.55696202531645, 94.43037974683544, 93.41772151898734, 94.55696202531645, 93.67088607594937, 94.81012658227849, 94.0506329113924, 93.92405063291139]\n",
            "[22.3, 21.87, 25.51, 30.09, 41.95, 45.7, 51.42, 53.23, 56.93, 57.98, 61.44, 62.18, 61.55, 62.96, 63.46, 63.35, 64.87, 65.75, 65.01, 65.47, 66.25, 66.41, 66.68, 66.35, 66.88, 66.75, 67.74, 68.23, 67.75, 67.79, 67.94, 68.16, 67.96, 67.93, 67.96, 68.52, 69.06, 68.96, 68.23, 68.64, 69.11, 69.07, 68.94, 69.03, 69.42, 69.47, 68.82, 68.97, 68.95, 69.12]\n",
            "50\n"
          ],
          "name": "stdout"
        },
        {
          "output_type": "display_data",
          "data": {
            "image/png": "[encoded data removed]",
            "text/plain": [
              "<Figure size 432x288 with 1 Axes>"
            ]
          },
          "metadata": {
            "tags": [],
            "needs_background": "light"
          }
        }
      ]
    },
    {
      "cell_type": "code",
      "metadata": {
        "colab": {
          "base_uri": "https://localhost:8080/",
          "height": 405
        },
        "id": "_12dsMt6DDDR",
        "outputId": "648eb970-46c8-456b-8d2b-2f77a02a1e74"
      },
      "source": [
        "# 0.1 stragglers\n",
        "\n",
        "l1 = [13.291139240506329,\n",
        "    20.632911392405063,\n",
        "    11.39240506329114,\n",
        "    9.746835443037975,\n",
        "    11.39240506329114,\n",
        "    9.746835443037975,\n",
        "    11.39240506329114,\n",
        "    9.746835443037975,\n",
        "    9.746835443037975,\n",
        "    9.746835443037975,\n",
        "    11.39240506329114,\n",
        "    9.746835443037975,\n",
        "    9.746835443037975,\n",
        "    9.746835443037975,\n",
        "    11.39240506329114,\n",
        "    9.746835443037975,\n",
        "    11.39240506329114,\n",
        "    13.291139240506329,\n",
        "    9.746835443037975,\n",
        "    9.746835443037975,\n",
        "    9.746835443037975,\n",
        "    9.746835443037975,\n",
        "    11.39240506329114,\n",
        "    11.39240506329114,\n",
        "    11.39240506329114,\n",
        "    20.759493670886076,\n",
        "    11.39240506329114,\n",
        "    9.746835443037975,\n",
        "    9.746835443037975,\n",
        "    19.367088607594937,\n",
        "    14.177215189873417,\n",
        "    9.746835443037975,\n",
        "    11.39240506329114,\n",
        "    11.39240506329114,\n",
        "    20.0,\n",
        "    9.746835443037975,\n",
        "    9.746835443037975,\n",
        "    14.050632911392405,\n",
        "    9.746835443037975,\n",
        "    11.39240506329114,\n",
        "    17.341772151898734,\n",
        "    9.746835443037975,\n",
        "    20.759493670886076,\n",
        "    9.746835443037975,\n",
        "    9.746835443037975,\n",
        "    9.746835443037975,\n",
        "    9.746835443037975,\n",
        "    9.746835443037975,\n",
        "    11.39240506329114,\n",
        "    9.746835443037975]\n",
        "\n",
        "\n",
        "fedmed_1 = '/gdrive/My Drive/FedPerf/MNIST/FedMed/Stragglers/0.1/'\n",
        "with open(fedmed_1+'MNIST_FedMed_stragglers0_1.pkl', 'rb') as handle:\n",
        "  b = pickle.load(handle)\n",
        "l2 = b[\"MNIST CNN on IID\"][\"test_accuracy\"][0]\n",
        "\n",
        "\n",
        "fedprox_1 = '/gdrive/My Drive/FedPerf/MNIST/FedProx/Stragglers/0.1/'\n",
        "with open(fedprox_1+'MNIST_FedProx_stragglers0_1.pkl', 'rb') as handle:\n",
        "  c = pickle.load(handle)\n",
        "l3 = c[\"MNIST CNN on IID\"][\"test_accuracy\"][0]\n",
        "\n",
        "\n",
        "qffl_1 = '/gdrive/My Drive/FedPerf/MNIST/qFFL/Stragglers/0.1/'\n",
        "with open(qffl_1+'MNIST_qFFL_stragglers0_1.pkl', 'rb') as handle:\n",
        "  d = pickle.load(handle)\n",
        "l4 = d[\"MNIST CNN on IID\"][\"test_accuracy\"][0]\n",
        "\n",
        "\n",
        "print(l1)\n",
        "print(l2)\n",
        "print(l3)\n",
        "print(l4)\n",
        "print(len(l1))\n",
        "x = []\n",
        "for i in range(len(l1)):\n",
        "  x.append(i)\n",
        "fig, ax = plt.subplots()\n",
        "#ax.plot(x_axis, y_axis, 'tab:'+plt_color)\n",
        "ax.set(xlabel='Number of Rounds', ylabel='Test Accuracy', title=\"Stragglers 90% MNIST CNN on IID\")\n",
        "ax.plot(x, l1, label = \"FedAvg\")\n",
        "ax.plot(x, l2, label = \"FedMed\")\n",
        "ax.plot(x, l3, label = \"FedProx\")\n",
        "ax.plot(x, l4, label = \"qFFL\")\n",
        "\n",
        "plt.legend()\n",
        "fig.savefig('/gdrive/My Drive/FedPerf/MNIST/'+\"Stragglers 90% MNIST CNN on IID\", format='jpg')\n",
        "plt.show()"
      ],
      "execution_count": null,
      "outputs": [
        {
          "output_type": "stream",
          "text": [
            "[13.291139240506329, 20.632911392405063, 11.39240506329114, 9.746835443037975, 11.39240506329114, 9.746835443037975, 11.39240506329114, 9.746835443037975, 9.746835443037975, 9.746835443037975, 11.39240506329114, 9.746835443037975, 9.746835443037975, 9.746835443037975, 11.39240506329114, 9.746835443037975, 11.39240506329114, 13.291139240506329, 9.746835443037975, 9.746835443037975, 9.746835443037975, 9.746835443037975, 11.39240506329114, 11.39240506329114, 11.39240506329114, 20.759493670886076, 11.39240506329114, 9.746835443037975, 9.746835443037975, 19.367088607594937, 14.177215189873417, 9.746835443037975, 11.39240506329114, 11.39240506329114, 20.0, 9.746835443037975, 9.746835443037975, 14.050632911392405, 9.746835443037975, 11.39240506329114, 17.341772151898734, 9.746835443037975, 20.759493670886076, 9.746835443037975, 9.746835443037975, 9.746835443037975, 9.746835443037975, 9.746835443037975, 11.39240506329114, 9.746835443037975]\n",
            "[95.44303797468355, 96.83544303797468, 97.46835443037975, 97.59493670886076, 97.9746835443038, 98.35443037974683, 98.48101265822785, 98.48101265822785, 98.86075949367088, 98.86075949367088, 98.73417721518987, 98.73417721518987, 98.9873417721519, 99.11392405063292, 99.11392405063292, 99.24050632911393, 99.24050632911393, 99.24050632911393, 99.11392405063292, 99.11392405063292, 99.11392405063292, 99.24050632911393, 99.11392405063292, 99.11392405063292, 99.11392405063292, 99.11392405063292, 99.11392405063292, 99.11392405063292, 99.11392405063292, 99.24050632911393, 99.36708860759494, 99.36708860759494, 99.36708860759494, 99.36708860759494, 99.24050632911393, 99.24050632911393, 99.24050632911393, 99.36708860759494, 99.24050632911393, 99.24050632911393, 99.24050632911393, 99.24050632911393, 99.36708860759494, 99.36708860759494, 99.36708860759494, 99.36708860759494, 99.36708860759494, 99.49367088607595, 99.36708860759494, 99.49367088607595]\n",
            "[94.81012658227849, 96.70886075949367, 97.84810126582279, 98.10126582278481, 98.10126582278481, 98.35443037974683, 98.35443037974683, 98.35443037974683, 98.48101265822785, 98.48101265822785, 98.73417721518987, 98.73417721518987, 98.73417721518987, 99.11392405063292, 99.11392405063292, 99.11392405063292, 99.11392405063292, 98.9873417721519, 99.11392405063292, 98.9873417721519, 98.9873417721519, 99.11392405063292, 99.11392405063292, 99.24050632911393, 99.24050632911393, 99.11392405063292, 99.11392405063292, 99.11392405063292, 99.36708860759494, 99.36708860759494, 99.24050632911393, 99.24050632911393, 99.24050632911393, 99.24050632911393, 99.36708860759494, 99.24050632911393, 99.36708860759494, 99.36708860759494, 99.36708860759494, 99.36708860759494, 99.36708860759494, 99.36708860759494, 99.24050632911393, 99.36708860759494, 99.36708860759494, 99.36708860759494, 99.36708860759494, 99.36708860759494, 99.36708860759494, 99.36708860759494]\n",
            "[94.65, 96.18, 96.83, 97.07, 97.38, 97.52, 97.68, 97.71, 97.75, 97.79, 97.89, 97.81, 97.88, 97.95, 97.99, 97.98, 98.04, 98.06, 98.08, 98.1, 98.07, 98.08, 98.09, 98.11, 98.11, 98.12, 98.12, 98.13, 98.13, 98.12, 98.15, 98.12, 98.13, 98.13, 98.16, 98.18, 98.15, 98.19, 98.14, 98.12, 98.14, 98.16, 98.14, 98.15, 98.19, 98.18, 98.2, 98.12, 98.18, 98.18]\n",
            "50\n"
          ],
          "name": "stdout"
        },
        {
          "output_type": "display_data",
          "data": {
            "image/png": "[encoded data removed]",
            "text/plain": [
              "<Figure size 432x288 with 1 Axes>"
            ]
          },
          "metadata": {
            "tags": [],
            "needs_background": "light"
          }
        }
      ]
    },
    {
      "cell_type": "code",
      "metadata": {
        "id": "jDM9Evy0Dj56"
      },
      "source": [
        ""
      ],
      "execution_count": null,
      "outputs": []
    },
    {
      "cell_type": "code",
      "metadata": {
        "id": "qrMou7sHEX_Q"
      },
      "source": [
        ""
      ],
      "execution_count": null,
      "outputs": []
    },
    {
      "cell_type": "code",
      "metadata": {
        "id": "ro-VeQm-EX8v"
      },
      "source": [
        "import numpy as np\n",
        "from google.colab import files"
      ],
      "execution_count": null,
      "outputs": []
    },
    {
      "cell_type": "code",
      "metadata": {
        "colab": {
          "base_uri": "https://localhost:8080/",
          "height": 489
        },
        "id": "UzrQ9bqDEX5M",
        "outputId": "ba4d86cd-608d-4cf8-96e1-11482f5307e0"
      },
      "source": [
        "fedavg_1 = '/gdrive/My Drive/FedPerf/MNIST/FedAvg/Stragglers/0.1/'\n",
        "with open(fedavg_1+'MNIST_FedAvg_stragglers0_1.pkl', 'rb') as handle:\n",
        "  a = pickle.load(handle)\n",
        "l1_1 = a[\"MNIST MLP on IID\"][\"test_accuracy\"][0][-1]\n",
        "\n",
        "\n",
        "fedmed_1 = '/gdrive/My Drive/FedPerf/MNIST/FedMed/Stragglers/0.1/'\n",
        "with open(fedmed_1+'MNIST_FedMed_stragglers0_1.pkl', 'rb') as handle:\n",
        "  b = pickle.load(handle)\n",
        "l2_1 = b[\"MNIST MLP on IID\"][\"test_accuracy\"][0][-1]\n",
        "\n",
        "\n",
        "fedprox_1 = '/gdrive/My Drive/FedPerf/MNIST/FedProx/Stragglers/0.1/'\n",
        "with open(fedprox_1+'MNIST_FedProx_stragglers0_1.pkl', 'rb') as handle:\n",
        "  c = pickle.load(handle)\n",
        "l3_1 = c[\"MNIST MLP on IID\"][\"test_accuracy\"][0][-1]\n",
        "\n",
        "\n",
        "qffl_1 = '/gdrive/My Drive/FedPerf/MNIST/qFFL/Stragglers/0.1/'\n",
        "with open(qffl_1+'MNIST_qFFL_stragglers0_1.pkl', 'rb') as handle:\n",
        "  d = pickle.load(handle)\n",
        "l4_1 = d[\"MNIST MLP on IID\"][\"test_accuracy\"][0][-1]\n",
        "\n",
        "print(l1_1,l1_2,l1_3,l1_4)\n",
        "\n",
        "mlpiid = []\n",
        "mlpiid.append(l1_1)\n",
        "mlpiid.append(l2_1)\n",
        "mlpiid.append(l3_1)\n",
        "mlpiid.append(l4_1)\n",
        "\n",
        "\n",
        "fedavg_1 = '/gdrive/My Drive/FedPerf/MNIST/FedAvg/Stragglers/0.1/'\n",
        "with open(fedavg_1+'MNIST_FedAvg_stragglers0_1.pkl', 'rb') as handle:\n",
        "  a = pickle.load(handle)\n",
        "l1_2 = a[\"MNIST MLP on Non IID\"][\"test_accuracy\"][0][-1]\n",
        "\n",
        "\n",
        "fedmed_1 = '/gdrive/My Drive/FedPerf/MNIST/FedMed/Stragglers/0.1/'\n",
        "with open(fedmed_1+'MNIST_FedMed_stragglers0_1.pkl', 'rb') as handle:\n",
        "  b = pickle.load(handle)\n",
        "l2_2 = b[\"MNIST MLP on Non IID\"][\"test_accuracy\"][0][-1]\n",
        "\n",
        "\n",
        "fedprox_1 = '/gdrive/My Drive/FedPerf/MNIST/FedProx/Stragglers/0.1/'\n",
        "with open(fedprox_1+'MNIST_FedProx_stragglers0_1.pkl', 'rb') as handle:\n",
        "  c = pickle.load(handle)\n",
        "l3_2 = c[\"MNIST MLP on Non IID\"][\"test_accuracy\"][0][-1]\n",
        "\n",
        "\n",
        "qffl_1 = '/gdrive/My Drive/FedPerf/MNIST/qFFL/Stragglers/0.1/'\n",
        "with open(qffl_1+'MNIST_qFFL_stragglers0_1.pkl', 'rb') as handle:\n",
        "  d = pickle.load(handle)\n",
        "l4_2 = d[\"MNIST MLP on Non IID\"][\"test_accuracy\"][0][-1]\n",
        "\n",
        "\n",
        "print(l1_1,l1_2,l1_3,l1_4)\n",
        "\n",
        "mlpnoniid = []\n",
        "mlpnoniid.append(l1_1)\n",
        "mlpnoniid.append(l2_1)\n",
        "mlpnoniid.append(l3_1)\n",
        "mlpnoniid.append(l4_1)\n",
        "\n",
        "l1_3 = 9.746835443037975\n",
        "\n",
        "fedmed_1 = '/gdrive/My Drive/FedPerf/MNIST/FedMed/Stragglers/0.1/'\n",
        "with open(fedmed_1+'MNIST_FedMed_stragglers0_1.pkl', 'rb') as handle:\n",
        "  b = pickle.load(handle)\n",
        "l2_3 = b[\"MNIST CNN on IID\"][\"test_accuracy\"][0][-1]\n",
        "\n",
        "\n",
        "fedprox_1 = '/gdrive/My Drive/FedPerf/MNIST/FedProx/Stragglers/0.1/'\n",
        "with open(fedprox_1+'MNIST_FedProx_stragglers0_1.pkl', 'rb') as handle:\n",
        "  c = pickle.load(handle)\n",
        "l3_3 = c[\"MNIST CNN on IID\"][\"test_accuracy\"][0][-1]\n",
        "\n",
        "\n",
        "qffl_1 = '/gdrive/My Drive/FedPerf/MNIST/qFFL/Stragglers/0.1/'\n",
        "with open(qffl_1+'MNIST_qFFL_stragglers0_1.pkl', 'rb') as handle:\n",
        "  d = pickle.load(handle)\n",
        "l4_3 = d[\"MNIST CNN on IID\"][\"test_accuracy\"][0][-1]\n",
        "\n",
        "\n",
        "print(l1_1,l1_2,l1_3,l1_4)\n",
        "\n",
        "cnniid = []\n",
        "cnniid.append(l1_3)\n",
        "cnniid.append(l2_3)\n",
        "cnniid.append(l3_3)\n",
        "cnniid.append(l4_3)\n",
        "\n",
        "l1_4 = 10.253164556962025\n",
        "\n",
        "fedmed_1 = '/gdrive/My Drive/FedPerf/MNIST/FedMed/Stragglers/0.1/'\n",
        "with open(fedmed_1+'MNIST_FedMed_stragglers0_1.pkl', 'rb') as handle:\n",
        "  b = pickle.load(handle)\n",
        "l2_4 = b[\"MNIST CNN on Non IID\"][\"test_accuracy\"][0][-1]\n",
        "\n",
        "\n",
        "fedprox_1 = '/gdrive/My Drive/FedPerf/MNIST/FedProx/Stragglers/0.1/'\n",
        "with open(fedprox_1+'MNIST_FedProx_stragglers0_1.pkl', 'rb') as handle:\n",
        "  c = pickle.load(handle)\n",
        "l3_4 = c[\"MNIST CNN on Non IID\"][\"test_accuracy\"][0][-1]\n",
        "\n",
        "\n",
        "qffl_1 = '/gdrive/My Drive/FedPerf/MNIST/qFFL/Stragglers/0.1/'\n",
        "with open(qffl_1+'MNIST_qFFL_stragglers0_1.pkl', 'rb') as handle:\n",
        "  d = pickle.load(handle)\n",
        "l4_4 = d[\"MNIST CNN on Non IID\"][\"test_accuracy\"][0][-1]\n",
        "\n",
        "\n",
        "print(l1_1,l1_2,l1_3,l1_4)\n",
        "\n",
        "cnnnoniid = []\n",
        "cnnnoniid.append(l1_4)\n",
        "cnnnoniid.append(l2_4)\n",
        "cnnnoniid.append(l3_4)\n",
        "cnnnoniid.append(l4_4)\n",
        "\n",
        "\n",
        "mlpiid = [x / 4 for x in mlpiid]\n",
        "mlpnoniid = [x / 4 for x in mlpnoniid]\n",
        "cnniid = [x / 4 for x in cnniid]\n",
        "cnnnoniid = [x / 4 for x in cnnnoniid]\n",
        "\n",
        "\n",
        "for i in range(4):\n",
        "  print(mlpiid[i]+mlpnoniid[i]+cnniid[i]+cnnnoniid[i]/4)\n",
        "\n",
        "\n",
        "X = [\"FedAvg\", \"FedMed\", \"FedProx\", \"qFedAvg\"]\n",
        "'''\n",
        "plt.bar(X, mlpiid, color = 'b', label=\"MNIST MLP on IID\")\n",
        "plt.bar(X, mlpnoniid, color = 'r', bottom = mlpiid, label=\"MNIST MLP on Non IID\")\n",
        "plt.bar(X, cnniid, color = 'g', bottom = mlpiid + mlpnoniid, label=\"MNIST CNN on IID\")\n",
        "plt.legend(bbox_to_anchor=(1.0, 1.0))\n",
        "plt.show()\n",
        "'''\n",
        "data = np.array([mlpiid,mlpnoniid,cnniid,cnnnoniid])\n",
        "\n",
        "color_list = ['b', 'g', 'r', 'y']\n",
        "label_list = [\"MNIST MLP on IID\", \"MNIST MLP on Non IID\", \"MNIST CNN on IID\", \"MNIST CNN on Non IID\"]\n",
        "\n",
        "fig = plt.figure(figsize=(5,5))\n",
        "ax  = fig.add_subplot(111)\n",
        "\n",
        "for i in range(data.shape[0]):\n",
        "  ax.bar(X, data[i],\n",
        "    bottom = np.sum(data[:i], axis = 0),\n",
        "    color = color_list[i % len(color_list)],\n",
        "    label = label_list[i % len(label_list)])\n",
        "#lgd = ax.legend(bbox_to_anchor=(1.0, 1.0))\n",
        "\n",
        "#ax.set(xlabel='', ylabel='', fontsize=13)\n",
        "       #title=\"90% Stragglers\")\n",
        "ax.set_xlabel('Algorithms', fontsize=15)\n",
        "#ax.set_ylabel('Normalized Test Accuracies', fontsize=13)\n",
        "ax.tick_params(labelsize=15)\n",
        "\n",
        "'''\n",
        "ax.title(\"90% Stragglers\")\n",
        "ax.xlabel('Algorithms')\n",
        "ax.ylabel('Normalized Test Accuracies')\n",
        "'''\n",
        "fig.savefig(\"../MNIST_Stragglers_90.png\", format='png')#, bbox_extra_artists=(lgd,),\n",
        "            #bbox_inches='tight')\n",
        "files.download(\"../MNIST_Stragglers_90.png\")\n",
        "plt.show()"
      ],
      "execution_count": null,
      "outputs": [
        {
          "output_type": "stream",
          "text": [
            "91.26582278481013 9.620253164556962 98.9873417721519 94.9367088607595\n",
            "91.26582278481013 9.620253164556962 98.9873417721519 94.9367088607595\n",
            "91.26582278481013 9.620253164556962 9.746835443037975 94.9367088607595\n",
            "91.26582278481013 9.620253164556962 9.746835443037975 10.253164556962025\n",
            "48.710443037974684\n",
            "79.73101265822785\n",
            "79.81803797468355\n",
            "74.923125\n"
          ],
          "name": "stdout"
        },
        {
          "output_type": "display_data",
          "data": {
            "application/javascript": [
              "\n",
              "    async function download(id, filename, size) {\n",
              "      if (!google.colab.kernel.accessAllowed) {\n",
              "        return;\n",
              "      }\n",
              "      const div = document.createElement('div');\n",
              "      const label = document.createElement('label');\n",
              "      label.textContent = `Downloading \"${filename}\": `;\n",
              "      div.appendChild(label);\n",
              "      const progress = document.createElement('progress');\n",
              "      progress.max = size;\n",
              "      div.appendChild(progress);\n",
              "      document.body.appendChild(div);\n",
              "\n",
              "      const buffers = [];\n",
              "      let downloaded = 0;\n",
              "\n",
              "      const channel = await google.colab.kernel.comms.open(id);\n",
              "      // Send a message to notify the kernel that we're ready.\n",
              "      channel.send({})\n",
              "\n",
              "      for await (const message of channel.messages) {\n",
              "        // Send a message to notify the kernel that we're ready.\n",
              "        channel.send({})\n",
              "        if (message.buffers) {\n",
              "          for (const buffer of message.buffers) {\n",
              "            buffers.push(buffer);\n",
              "            downloaded += buffer.byteLength;\n",
              "            progress.value = downloaded;\n",
              "          }\n",
              "        }\n",
              "      }\n",
              "      const blob = new Blob(buffers, {type: 'application/binary'});\n",
              "      const a = document.createElement('a');\n",
              "      a.href = window.URL.createObjectURL(blob);\n",
              "      a.download = filename;\n",
              "      div.appendChild(a);\n",
              "      a.click();\n",
              "      div.remove();\n",
              "    }\n",
              "  "
            ],
            "text/plain": [
              "<IPython.core.display.Javascript object>"
            ]
          },
          "metadata": {
            "tags": []
          }
        },
        {
          "output_type": "display_data",
          "data": {
            "application/javascript": [
              "download(\"download_a746fb6a-4e4c-4ac8-8310-68a8d52d4c0b\", \"MNIST_Stragglers_90.png\", 10823)"
            ],
            "text/plain": [
              "<IPython.core.display.Javascript object>"
            ]
          },
          "metadata": {
            "tags": []
          }
        },
        {
          "output_type": "display_data",
          "data": {
            "image/png": "[encoded data removed]",
            "text/plain": [
              "<Figure size 360x360 with 1 Axes>"
            ]
          },
          "metadata": {
            "tags": [],
            "needs_background": "light"
          }
        }
      ]
    },
    {
      "cell_type": "code",
      "metadata": {
        "colab": {
          "base_uri": "https://localhost:8080/",
          "height": 590
        },
        "id": "ERVynM3XEX2f",
        "outputId": "b2ea92c2-6067-4b13-d738-db2394741346"
      },
      "source": [
        "fedavg_1 = '/gdrive/My Drive/FedPerf/MNIST/FedAvg/Stragglers/0.5/'\n",
        "with open(fedavg_1+'MNIST_FedAvg_stragglers0_5.pkl', 'rb') as handle:\n",
        "  a = pickle.load(handle)\n",
        "l1_1 = a[\"MNIST MLP on IID\"][\"test_accuracy\"][0][-1]\n",
        "\n",
        "\n",
        "fedmed_1 = '/gdrive/My Drive/FedPerf/MNIST/FedMed/Stragglers/0.5/'\n",
        "with open(fedmed_1+'MNIST_FedMed_stragglers0_5.pkl', 'rb') as handle:\n",
        "  b = pickle.load(handle)\n",
        "l2_1 = b[\"MNIST MLP on IID\"][\"test_accuracy\"][0][-1]\n",
        "\n",
        "\n",
        "fedprox_1 = '/gdrive/My Drive/FedPerf/MNIST/FedProx/Stragglers/0.5/'\n",
        "with open(fedprox_1+'MNIST_FedProx_stragglers0_5.pkl', 'rb') as handle:\n",
        "  c = pickle.load(handle)\n",
        "l3_1 = c[\"MNIST MLP on IID\"][\"test_accuracy\"][0][-1]\n",
        "\n",
        "\n",
        "qffl_1 = '/gdrive/My Drive/FedPerf/MNIST/qFFL/Stragglers/0.5/'\n",
        "with open(qffl_1+'MNIST_qFFL_stragglers0_5.pkl', 'rb') as handle:\n",
        "  d = pickle.load(handle)\n",
        "l4_1 = d[\"MNIST MLP on IID\"][\"test_accuracy\"][0][-1]\n",
        "\n",
        "\n",
        "print(l1_1,l1_2,l1_3,l1_4)\n",
        "\n",
        "mlpiid = []\n",
        "mlpiid.append(l1_1)\n",
        "mlpiid.append(l2_1)\n",
        "mlpiid.append(l3_1)\n",
        "mlpiid.append(l4_1)\n",
        "\n",
        "\n",
        "fedavg_1 = '/gdrive/My Drive/FedPerf/MNIST/FedAvg/Stragglers/0.5/'\n",
        "with open(fedavg_1+'MNIST_FedAvg_stragglers0_5.pkl', 'rb') as handle:\n",
        "  a = pickle.load(handle)\n",
        "l1_2 = a[\"MNIST MLP on Non IID\"][\"test_accuracy\"][0][-1]\n",
        "\n",
        "\n",
        "fedmed_1 = '/gdrive/My Drive/FedPerf/MNIST/FedMed/Stragglers/0.5/'\n",
        "with open(fedmed_1+'MNIST_FedMed_stragglers0_5.pkl', 'rb') as handle:\n",
        "  b = pickle.load(handle)\n",
        "l2_2 = b[\"MNIST MLP on Non IID\"][\"test_accuracy\"][0][-1]\n",
        "\n",
        "\n",
        "fedprox_1 = '/gdrive/My Drive/FedPerf/MNIST/FedProx/Stragglers/0.5/'\n",
        "with open(fedprox_1+'MNIST_FedProx_stragglers0_5.pkl', 'rb') as handle:\n",
        "  c = pickle.load(handle)\n",
        "l3_2 = c[\"MNIST MLP on Non IID\"][\"test_accuracy\"][0][-1]\n",
        "\n",
        "\n",
        "qffl_1 = '/gdrive/My Drive/FedPerf/MNIST/qFFL/Stragglers/0.5/'\n",
        "with open(qffl_1+'MNIST_qFFL_stragglers0_5.pkl', 'rb') as handle:\n",
        "  d = pickle.load(handle)\n",
        "l4_2 = d[\"MNIST MLP on Non IID\"][\"test_accuracy\"][0][-1]\n",
        "\n",
        "\n",
        "print(l1_1,l1_2,l1_3,l1_4)\n",
        "\n",
        "mlpnoniid = []\n",
        "mlpnoniid.append(l1_1)\n",
        "mlpnoniid.append(l2_1)\n",
        "mlpnoniid.append(l3_1)\n",
        "mlpnoniid.append(l4_1)\n",
        "\n",
        "fedavg_1 = '/gdrive/My Drive/FedPerf/MNIST/FedAvg/Stragglers/0.5/'\n",
        "with open(fedavg_1+'MNIST_FedAvg_stragglers0_5.pkl', 'rb') as handle:\n",
        "  a = pickle.load(handle)\n",
        "l1_3 = a[\"MNIST CNN on IID\"][\"test_accuracy\"][0][-1]\n",
        "\n",
        "fedmed_1 = '/gdrive/My Drive/FedPerf/MNIST/FedMed/Stragglers/0.5/'\n",
        "with open(fedmed_1+'MNIST_FedMed_stragglers0_5.pkl', 'rb') as handle:\n",
        "  b = pickle.load(handle)\n",
        "l2_3 = b[\"MNIST CNN on IID\"][\"test_accuracy\"][0][-1]\n",
        "\n",
        "\n",
        "fedprox_1 = '/gdrive/My Drive/FedPerf/MNIST/FedProx/Stragglers/0.5/'\n",
        "with open(fedprox_1+'MNIST_FedProx_stragglers0_5.pkl', 'rb') as handle:\n",
        "  c = pickle.load(handle)\n",
        "l3_3 = c[\"MNIST CNN on IID\"][\"test_accuracy\"][0][-1]\n",
        "\n",
        "\n",
        "qffl_1 = '/gdrive/My Drive/FedPerf/MNIST/qFFL/Stragglers/0.5/'\n",
        "with open(qffl_1+'MNIST_qFFL_stragglers0_5.pkl', 'rb') as handle:\n",
        "  d = pickle.load(handle)\n",
        "l4_3 = d[\"MNIST CNN on IID\"][\"test_accuracy\"][0][-1]\n",
        "\n",
        "\n",
        "print(l1_1,l1_2,l1_3,l1_4)\n",
        "\n",
        "cnniid = []\n",
        "cnniid.append(l1_3)\n",
        "cnniid.append(l2_3)\n",
        "cnniid.append(l3_3)\n",
        "cnniid.append(l4_3)\n",
        "\n",
        "\n",
        "fedavg_1 = '/gdrive/My Drive/FedPerf/MNIST/FedAvg/Stragglers/0.5/'\n",
        "with open(fedavg_1+'MNIST_FedAvg_stragglers0_5.pkl', 'rb') as handle:\n",
        "  a = pickle.load(handle)\n",
        "l1_4 = a[\"MNIST CNN on Non IID\"][\"test_accuracy\"][0][-1]\n",
        "\n",
        "fedmed_1 = '/gdrive/My Drive/FedPerf/MNIST/FedMed/Stragglers/0.5/'\n",
        "with open(fedmed_1+'MNIST_FedMed_stragglers0_5.pkl', 'rb') as handle:\n",
        "  b = pickle.load(handle)\n",
        "l2_4 = b[\"MNIST CNN on Non IID\"][\"test_accuracy\"][0][-1]\n",
        "\n",
        "\n",
        "fedprox_1 = '/gdrive/My Drive/FedPerf/MNIST/FedProx/Stragglers/0.5/'\n",
        "with open(fedprox_1+'MNIST_FedProx_stragglers0_5.pkl', 'rb') as handle:\n",
        "  c = pickle.load(handle)\n",
        "l3_4 = c[\"MNIST CNN on Non IID\"][\"test_accuracy\"][0][-1]\n",
        "\n",
        "\n",
        "qffl_1 = '/gdrive/My Drive/FedPerf/MNIST/qFFL/Stragglers/0.5/'\n",
        "with open(qffl_1+'MNIST_qFFL_stragglers0_5.pkl', 'rb') as handle:\n",
        "  d = pickle.load(handle)\n",
        "l4_4 = d[\"MNIST CNN on Non IID\"][\"test_accuracy\"][0][-1]\n",
        "\n",
        "\n",
        "print(l1_1,l1_2,l1_3,l1_4)\n",
        "\n",
        "cnnnoniid = []\n",
        "cnnnoniid.append(l1_4)\n",
        "cnnnoniid.append(l2_4)\n",
        "cnnnoniid.append(l3_4)\n",
        "cnnnoniid.append(l4_4)\n",
        "\n",
        "\n",
        "mlpiid = [x / 4 for x in mlpiid]\n",
        "mlpnoniid = [x / 4 for x in mlpnoniid]\n",
        "cnniid = [x / 4 for x in cnniid]\n",
        "cnnnoniid = [x / 4 for x in cnnnoniid]\n",
        "\n",
        "for i in range(4):\n",
        "  print(mlpiid[i]+mlpnoniid[i]+cnniid[i]+cnnnoniid[i]/4)\n",
        "\n",
        "\n",
        "X = [\"FedAvg\", \"FedMed\", \"FedProx\", \"qFedAvg\"]\n",
        "'''\n",
        "plt.bar(X, mlpiid, color = 'b', label=\"MNIST MLP on IID\")\n",
        "plt.bar(X, mlpnoniid, color = 'r', bottom = mlpiid, label=\"MNIST MLP on Non IID\")\n",
        "plt.bar(X, cnniid, color = 'g', bottom = mlpiid + mlpnoniid, label=\"MNIST CNN on IID\")\n",
        "plt.legend(bbox_to_anchor=(1.0, 1.0))\n",
        "plt.show()\n",
        "'''\n",
        "data = np.array([mlpiid,mlpnoniid,cnniid,cnnnoniid])\n",
        "\n",
        "color_list = ['b', 'g', 'r', 'y']\n",
        "label_list = [\"MNIST MLP on IID\", \"MNIST MLP on Non IID\", \"MNIST CNN on IID\", \"MNIST CNN on Non IID\"]\n",
        "\n",
        "fig = plt.figure(figsize=(5,5))\n",
        "ax  = fig.add_subplot(111)\n",
        "\n",
        "for i in range(data.shape[0]):\n",
        "  ax.bar(X, data[i],\n",
        "    bottom = np.sum(data[:i], axis = 0),\n",
        "    color = color_list[i % len(color_list)],\n",
        "    label = label_list[i % len(label_list)])\n",
        "lgd = ax.legend(bbox_to_anchor=(0.5, 1.2), loc='center', fontsize=15)\n",
        "\n",
        "\n",
        "#ax.set(xlabel='', ylabel='', fontsize=13)\n",
        "       #title=\"90% Stragglers\")\n",
        "ax.set_xlabel('Algorithms', fontsize=15)\n",
        "ax.set_ylabel('Normalized Test Accuracies', fontsize=15)\n",
        "ax.tick_params(labelsize=15)\n",
        "\n",
        "fig.savefig(\"../MNIST_Stragglers_50.png\", format='png', bbox_extra_artists=(lgd,),\n",
        "            bbox_inches='tight')\n",
        "files.download(\"../MNIST_Stragglers_50.png\")\n",
        "plt.show()"
      ],
      "execution_count": null,
      "outputs": [
        {
          "output_type": "stream",
          "text": [
            "93.92405063291139 9.620253164556962 9.746835443037975 10.253164556962025\n",
            "93.92405063291139 36.075949367088604 9.746835443037975 10.253164556962025\n",
            "93.92405063291139 36.075949367088604 97.0886075949367 10.253164556962025\n",
            "93.92405063291139 36.075949367088604 97.0886075949367 31.89873417721519\n",
            "73.22784810126582\n",
            "79.5490506329114\n",
            "79.86550632911393\n",
            "79.110625\n"
          ],
          "name": "stdout"
        },
        {
          "output_type": "display_data",
          "data": {
            "application/javascript": [
              "\n",
              "    async function download(id, filename, size) {\n",
              "      if (!google.colab.kernel.accessAllowed) {\n",
              "        return;\n",
              "      }\n",
              "      const div = document.createElement('div');\n",
              "      const label = document.createElement('label');\n",
              "      label.textContent = `Downloading \"${filename}\": `;\n",
              "      div.appendChild(label);\n",
              "      const progress = document.createElement('progress');\n",
              "      progress.max = size;\n",
              "      div.appendChild(progress);\n",
              "      document.body.appendChild(div);\n",
              "\n",
              "      const buffers = [];\n",
              "      let downloaded = 0;\n",
              "\n",
              "      const channel = await google.colab.kernel.comms.open(id);\n",
              "      // Send a message to notify the kernel that we're ready.\n",
              "      channel.send({})\n",
              "\n",
              "      for await (const message of channel.messages) {\n",
              "        // Send a message to notify the kernel that we're ready.\n",
              "        channel.send({})\n",
              "        if (message.buffers) {\n",
              "          for (const buffer of message.buffers) {\n",
              "            buffers.push(buffer);\n",
              "            downloaded += buffer.byteLength;\n",
              "            progress.value = downloaded;\n",
              "          }\n",
              "        }\n",
              "      }\n",
              "      const blob = new Blob(buffers, {type: 'application/binary'});\n",
              "      const a = document.createElement('a');\n",
              "      a.href = window.URL.createObjectURL(blob);\n",
              "      a.download = filename;\n",
              "      div.appendChild(a);\n",
              "      a.click();\n",
              "      div.remove();\n",
              "    }\n",
              "  "
            ],
            "text/plain": [
              "<IPython.core.display.Javascript object>"
            ]
          },
          "metadata": {
            "tags": []
          }
        },
        {
          "output_type": "display_data",
          "data": {
            "application/javascript": [
              "download(\"download_c4d7bcc8-ec52-491e-8b79-f8aafff5940d\", \"MNIST_Stragglers_50.png\", 20209)"
            ],
            "text/plain": [
              "<IPython.core.display.Javascript object>"
            ]
          },
          "metadata": {
            "tags": []
          }
        },
        {
          "output_type": "display_data",
          "data": {
            "image/png": "[encoded data removed]",
            "text/plain": [
              "<Figure size 360x360 with 1 Axes>"
            ]
          },
          "metadata": {
            "tags": [],
            "needs_background": "light"
          }
        }
      ]
    },
    {
      "cell_type": "code",
      "metadata": {
        "colab": {
          "base_uri": "https://localhost:8080/",
          "height": 489
        },
        "id": "htogyx4yQQFw",
        "outputId": "65910fe7-d7c0-4c82-f5ee-8cddef19da8d"
      },
      "source": [
        "fedavg_1 = '/gdrive/My Drive/FedPerf/MNIST/FedAvg/Stragglers/0.1/'\n",
        "with open(fedavg_1+'MNIST_FedAvg_stragglers0_1.pkl', 'rb') as handle:\n",
        "  a = pickle.load(handle)\n",
        "l1_1 = a[\"MNIST MLP on IID\"][\"test_accuracy\"][0][-1]\n",
        "\n",
        "\n",
        "fedmed_1 = '/gdrive/My Drive/FedPerf/MNIST/FedMed/Stragglers/0.1/'\n",
        "with open(fedmed_1+'MNIST_FedMed_stragglers0_1.pkl', 'rb') as handle:\n",
        "  b = pickle.load(handle)\n",
        "l2_1 = b[\"MNIST MLP on IID\"][\"test_accuracy\"][0][-1]\n",
        "\n",
        "\n",
        "fedprox_1 = '/gdrive/My Drive/FedPerf/MNIST/FedProx/Stragglers/0.1/'\n",
        "with open(fedprox_1+'MNIST_FedProx_stragglers0_1.pkl', 'rb') as handle:\n",
        "  c = pickle.load(handle)\n",
        "l3_1 = c[\"MNIST MLP on IID\"][\"test_accuracy\"][0][-1]\n",
        "\n",
        "\n",
        "qffl_1 = '/gdrive/My Drive/FedPerf/MNIST/qFFL/Stragglers/0.1/'\n",
        "with open(qffl_1+'MNIST_qFFL_stragglers0_1.pkl', 'rb') as handle:\n",
        "  d = pickle.load(handle)\n",
        "l4_1 = d[\"MNIST MLP on IID\"][\"test_accuracy\"][0][-1]\n",
        "\n",
        "\n",
        "print(l1_1,l1_2,l1_3,l1_4)\n",
        "\n",
        "mlpiid = []\n",
        "mlpiid.append(l1_1)\n",
        "mlpiid.append(l2_1)\n",
        "mlpiid.append(l3_1)\n",
        "mlpiid.append(l4_1)\n",
        "\n",
        "\n",
        "fedavg_1 = '/gdrive/My Drive/FedPerf/MNIST/FedAvg/Stragglers/0.1/'\n",
        "with open(fedavg_1+'MNIST_FedAvg_stragglers0_1.pkl', 'rb') as handle:\n",
        "  a = pickle.load(handle)\n",
        "l1_2 = a[\"MNIST MLP on Non IID\"][\"test_accuracy\"][0][-1]\n",
        "\n",
        "\n",
        "fedmed_1 = '/gdrive/My Drive/FedPerf/MNIST/FedMed/Stragglers/0.1/'\n",
        "with open(fedmed_1+'MNIST_FedMed_stragglers0_1.pkl', 'rb') as handle:\n",
        "  b = pickle.load(handle)\n",
        "l2_2 = b[\"MNIST MLP on Non IID\"][\"test_accuracy\"][0][-1]\n",
        "\n",
        "\n",
        "fedprox_1 = '/gdrive/My Drive/FedPerf/MNIST/FedProx/Stragglers/0.1/'\n",
        "with open(fedprox_1+'MNIST_FedProx_stragglers0_1.pkl', 'rb') as handle:\n",
        "  c = pickle.load(handle)\n",
        "l3_2 = c[\"MNIST MLP on Non IID\"][\"test_accuracy\"][0][-1]\n",
        "\n",
        "\n",
        "qffl_1 = '/gdrive/My Drive/FedPerf/MNIST/qFFL/Stragglers/0.1/'\n",
        "with open(qffl_1+'MNIST_qFFL_stragglers0_1.pkl', 'rb') as handle:\n",
        "  d = pickle.load(handle)\n",
        "l4_2 = d[\"MNIST MLP on Non IID\"][\"test_accuracy\"][0][-1]\n",
        "\n",
        "\n",
        "print(l1_1,l1_2,l1_3,l1_4)\n",
        "\n",
        "mlpnoniid = []\n",
        "mlpnoniid.append(l1_1)\n",
        "mlpnoniid.append(l2_1)\n",
        "mlpnoniid.append(l3_1)\n",
        "mlpnoniid.append(l4_1)\n",
        "\n",
        "fedavg_1 = '/gdrive/My Drive/FedPerf/MNIST/FedAvg/Stragglers/0.9/'\n",
        "with open(fedavg_1+'MNIST_FedAvg_0_1clientfraction.pkl', 'rb') as handle:\n",
        "  a = pickle.load(handle)\n",
        "l1_3 = a[\"MNIST CNN on IID\"][\"test_accuracy\"][0][-1]\n",
        "\n",
        "fedmed_1 = '/gdrive/My Drive/FedPerf/MNIST/FedMed/Stragglers/0.1/'\n",
        "with open(fedmed_1+'MNIST_FedMed_stragglers0_1.pkl', 'rb') as handle:\n",
        "  b = pickle.load(handle)\n",
        "l2_3 = b[\"MNIST CNN on IID\"][\"test_accuracy\"][0][-1]\n",
        "\n",
        "\n",
        "l3_3 = 98.734177215\n",
        "\n",
        "\n",
        "qffl_1 = '/gdrive/My Drive/FedPerf/MNIST/qFFL/Stragglers/0.9/'\n",
        "with open(qffl_1+'MNIST_qFFL_stragglers0_9.pkl', 'rb') as handle:\n",
        "  d = pickle.load(handle)\n",
        "l4_3 = d[\"MNIST CNN on IID\"][\"test_accuracy\"][0][-1]\n",
        "\n",
        "\n",
        "print(l1_1,l1_2,l1_3,l1_4)\n",
        "\n",
        "cnniid = []\n",
        "cnniid.append(l1_3)\n",
        "cnniid.append(l2_3)\n",
        "cnniid.append(l3_3)\n",
        "cnniid.append(l4_3)\n",
        "\n",
        "\n",
        "fedavg_1 = '/gdrive/My Drive/FedPerf/MNIST/FedAvg/Stragglers/0.9/'\n",
        "with open(fedavg_1+'MNIST_FedAvg_stragglers0_9_CNNNonIID.pkl', 'rb') as handle:\n",
        "  a = pickle.load(handle)\n",
        "l1_4 = a[\"MNIST CNN on Non IID\"][\"test_accuracy\"][0][-1]\n",
        "\n",
        "fedmed_1 = '/gdrive/My Drive/FedPerf/MNIST/FedMed/Stragglers/0.1/'\n",
        "with open(fedmed_1+'MNIST_FedMed_stragglers0_1.pkl', 'rb') as handle:\n",
        "  b = pickle.load(handle)\n",
        "l2_4 = b[\"MNIST CNN on Non IID\"][\"test_accuracy\"][0][-1]\n",
        "\n",
        "\n",
        "l3_4 = 91.0126582278481\n",
        "\n",
        "qffl_1 = '/gdrive/My Drive/FedPerf/MNIST/qFFL/Stragglers/0.9/'\n",
        "with open(qffl_1+'MNIST_qFFL_stragglers0_9.pkl', 'rb') as handle:\n",
        "  d = pickle.load(handle)\n",
        "l4_4 = d[\"MNIST CNN on Non IID\"][\"test_accuracy\"][0][-1]\n",
        "\n",
        "\n",
        "print(l1_1,l1_2,l1_3,l1_4)\n",
        "\n",
        "cnnnoniid = []\n",
        "cnnnoniid.append(l1_4)\n",
        "cnnnoniid.append(l2_4)\n",
        "cnnnoniid.append(l3_4)\n",
        "cnnnoniid.append(l4_4)\n",
        "\n",
        "\n",
        "mlpiid = [x / 4 for x in mlpiid]\n",
        "mlpnoniid = [x / 4 for x in mlpnoniid]\n",
        "cnniid = [x / 4 for x in cnniid]\n",
        "cnnnoniid = [x / 4 for x in cnnnoniid]\n",
        "\n",
        "\n",
        "\n",
        "X = [\"FedAvg\", \"FedMed\", \"FedProx\", \"qFedAvg\"]\n",
        "\n",
        "\n",
        "\n",
        "'''\n",
        "plt.bar(X, mlpiid, color = 'b', label=\"MNIST MLP on IID\")\n",
        "plt.bar(X, mlpnoniid, color = 'r', bottom = mlpiid, label=\"MNIST MLP on Non IID\")\n",
        "plt.bar(X, cnniid, color = 'g', bottom = mlpiid + mlpnoniid, label=\"MNIST CNN on IID\")\n",
        "plt.legend(bbox_to_anchor=(1.0, 1.0))\n",
        "plt.show()\n",
        "'''\n",
        "data = np.array([mlpiid,mlpnoniid,cnniid,cnnnoniid])\n",
        "\n",
        "color_list = ['b', 'g', 'r', 'y']\n",
        "label_list = [\"MNIST MLP on IID\", \"MNIST MLP on Non IID\", \"MNIST CNN on IID\", \"MNIST CNN on Non IID\"]\n",
        "\n",
        "fig = plt.figure(figsize=(5,5))\n",
        "ax  = fig.add_subplot(111)\n",
        "\n",
        "for i in range(data.shape[0]):\n",
        "  ax.bar(X, data[i],\n",
        "    bottom = np.sum(data[:i], axis = 0),\n",
        "    color = color_list[i % len(color_list)],\n",
        "    label = label_list[i % len(label_list)])\n",
        "#lgd = ax.legend(bbox_to_anchor=(0.305, 1), loc='best')\n",
        "\n",
        "#ax.set(xlabel='', ylabel='', fontsize=13)\n",
        "       #title=\"90% Stragglers\")\n",
        "ax.set_xlabel('Algorithms', fontsize=15)\n",
        "#ax.set_ylabel('Normalized Test Accuracies', fontsize=20)\n",
        "ax.tick_params(labelsize=15)\n",
        "\n",
        "fig.savefig(\"../MNIST_Stragglers_10.png\", format='png')\n",
        "#files.download(\"../MNIST_Stragglers_10.png\")\n",
        "plt.show()"
      ],
      "execution_count": null,
      "outputs": [
        {
          "output_type": "stream",
          "text": [
            "91.26582278481013 36.075949367088604 97.0886075949367 31.89873417721519\n",
            "91.26582278481013 9.620253164556962 97.0886075949367 31.89873417721519\n",
            "91.26582278481013 9.620253164556962 98.9873417721519 31.89873417721519\n",
            "91.26582278481013 9.620253164556962 98.9873417721519 94.9367088607595\n",
            "76.3132911392405\n",
            "79.73101265822785\n",
            "79.16930379742088\n",
            "77.61500000000001\n"
          ],
          "name": "stdout"
        },
        {
          "output_type": "display_data",
          "data": {
            "image/png": "[encoded data removed]",
            "text/plain": [
              "<Figure size 360x360 with 1 Axes>"
            ]
          },
          "metadata": {
            "tags": [],
            "needs_background": "light"
          }
        }
      ]
    },
    {
      "cell_type": "code",
      "metadata": {
        "id": "mReGT7YL58BM"
      },
      "source": [
        "import numpy as np\n",
        "from google.colab import files\n",
        "import matplotlib.pyplot as plt"
      ],
      "execution_count": null,
      "outputs": []
    },
    {
      "cell_type": "code",
      "metadata": {
        "id": "d3ES-KscCV4D"
      },
      "source": [
        ""
      ],
      "execution_count": null,
      "outputs": []
    },
    {
      "cell_type": "code",
      "metadata": {
        "id": "5uw1hrdPShx7",
        "colab": {
          "base_uri": "https://localhost:8080/",
          "height": 344
        },
        "outputId": "db89ee8c-baf6-4555-e031-532fda807dcd"
      },
      "source": [
        "l1_1 = 48.52\n",
        "\n",
        "\n",
        "l2_1 = 48.68\n",
        "\n",
        "\n",
        "l3_1 = 49.02\n",
        "\n",
        "\n",
        "l4_1 = 41.4\n",
        "\n",
        "mlpiid = []\n",
        "mlpiid.append(l1_1)\n",
        "mlpiid.append(l2_1)\n",
        "mlpiid.append(l3_1)\n",
        "mlpiid.append(l4_1)\n",
        "\n",
        "\n",
        "l1_1 = 47.56\n",
        "\n",
        "\n",
        "l2_1 = 47.16\n",
        "\n",
        "\n",
        "l3_1 = 49.21\n",
        "\n",
        "\n",
        "l4_1 = 51.73\n",
        "\n",
        "mlpnoniid = []\n",
        "mlpnoniid.append(l1_1)\n",
        "mlpnoniid.append(l2_1)\n",
        "mlpnoniid.append(l3_1)\n",
        "mlpnoniid.append(l4_1)\n",
        "\n",
        "\n",
        "for i in range(4):\n",
        "  print(mlpiid[i]+mlpnoniid[i]/2)\n",
        "\n",
        "mlpiid = [x / 2 for x in mlpiid]\n",
        "mlpnoniid = [x / 2 for x in mlpnoniid]\n",
        "\n",
        "\n",
        "X = [\"FedAvg\", \"FedMed\", \"FedProx\", \"qFedAvg\"]\n",
        "'''\n",
        "plt.bar(X, mlpiid, color = 'b', label=\"MNIST MLP on IID\")\n",
        "plt.bar(X, mlpnoniid, color = 'r', bottom = mlpiid, label=\"MNIST MLP on Non IID\")\n",
        "plt.bar(X, cnniid, color = 'g', bottom = mlpiid + mlpnoniid, label=\"MNIST CNN on IID\")\n",
        "plt.legend(bbox_to_anchor=(1.0, 1.0))\n",
        "plt.show()\n",
        "'''\n",
        "data = np.array([mlpiid,mlpnoniid])\n",
        "\n",
        "color_list = ['b', 'g', 'r', 'y']\n",
        "label_list = [\"LSTM on IID\", \"LSTM on Non IID\"]\n",
        "\n",
        "fig = plt.figure(figsize=(5,5))\n",
        "ax  = fig.add_subplot(111)\n",
        "\n",
        "for i in range(data.shape[0]):\n",
        "  ax.bar(X, data[i],\n",
        "    bottom = np.sum(data[:i], axis = 0),\n",
        "    color = color_list[i % len(color_list)],\n",
        "    label = label_list[i % len(label_list)])\n",
        "#lgd = ax.legend(bbox_to_anchor=(1.0, 1.0))\n",
        "\n",
        "#ax.set(xlabel='Algorithms', ylabel='Normalized Test Accuracies',\n",
        "       #title=\"10% Stragglers\")\n",
        "\n",
        "\n",
        "ax.set_xlabel('Algorithms', fontsize=15)\n",
        "#ax.set_ylabel('Normalized Test Accuracies', fontsize=20)\n",
        "ax.tick_params(labelsize=15)\n",
        "'''\n",
        "ax.title(\"90% Stragglers\")\n",
        "ax.xlabel('Algorithms')\n",
        "ax.ylabel('Normalized Test Accuracies')\n",
        "'''\n",
        "fig.savefig(\"../Shakespeare_Stragglers_10.png\", format='png')\n",
        "files.download(\"../Shakespeare_Stragglers_10.png\")\n",
        "plt.show()"
      ],
      "execution_count": null,
      "outputs": [
        {
          "output_type": "display_data",
          "data": {
            "application/javascript": [
              "\n",
              "    async function download(id, filename, size) {\n",
              "      if (!google.colab.kernel.accessAllowed) {\n",
              "        return;\n",
              "      }\n",
              "      const div = document.createElement('div');\n",
              "      const label = document.createElement('label');\n",
              "      label.textContent = `Downloading \"${filename}\": `;\n",
              "      div.appendChild(label);\n",
              "      const progress = document.createElement('progress');\n",
              "      progress.max = size;\n",
              "      div.appendChild(progress);\n",
              "      document.body.appendChild(div);\n",
              "\n",
              "      const buffers = [];\n",
              "      let downloaded = 0;\n",
              "\n",
              "      const channel = await google.colab.kernel.comms.open(id);\n",
              "      // Send a message to notify the kernel that we're ready.\n",
              "      channel.send({})\n",
              "\n",
              "      for await (const message of channel.messages) {\n",
              "        // Send a message to notify the kernel that we're ready.\n",
              "        channel.send({})\n",
              "        if (message.buffers) {\n",
              "          for (const buffer of message.buffers) {\n",
              "            buffers.push(buffer);\n",
              "            downloaded += buffer.byteLength;\n",
              "            progress.value = downloaded;\n",
              "          }\n",
              "        }\n",
              "      }\n",
              "      const blob = new Blob(buffers, {type: 'application/binary'});\n",
              "      const a = document.createElement('a');\n",
              "      a.href = window.URL.createObjectURL(blob);\n",
              "      a.download = filename;\n",
              "      div.appendChild(a);\n",
              "      a.click();\n",
              "      div.remove();\n",
              "    }\n",
              "  "
            ],
            "text/plain": [
              "<IPython.core.display.Javascript object>"
            ]
          },
          "metadata": {
            "tags": []
          }
        },
        {
          "output_type": "display_data",
          "data": {
            "application/javascript": [
              "download(\"download_addf07e7-2e2a-4c6c-80e6-90d3c163c929\", \"Shakespeare_Stragglers_10.png\", 10342)"
            ],
            "text/plain": [
              "<IPython.core.display.Javascript object>"
            ]
          },
          "metadata": {
            "tags": []
          }
        },
        {
          "output_type": "display_data",
          "data": {
            "image/png": "[encoded data removed]",
            "text/plain": [
              "<Figure size 360x360 with 1 Axes>"
            ]
          },
          "metadata": {
            "tags": [],
            "needs_background": "light"
          }
        }
      ]
    },
    {
      "cell_type": "code",
      "metadata": {
        "id": "fM0h351-07O8",
        "colab": {
          "base_uri": "https://localhost:8080/",
          "height": 396
        },
        "outputId": "2f0c8bfc-ad90-481c-dc1f-3394928a44e5"
      },
      "source": [
        "## 50% STRAGGLERS SHAKES\n",
        "\n",
        "l1_1 = 37.48\n",
        "\n",
        "\n",
        "l2_1 = 46.63\n",
        "\n",
        "\n",
        "l3_1 = 48.17\n",
        "\n",
        "\n",
        "l4_1 = 47.86\n",
        "\n",
        "mlpiid = []\n",
        "mlpiid.append(l1_1)\n",
        "mlpiid.append(l2_1)\n",
        "mlpiid.append(l3_1)\n",
        "mlpiid.append(l4_1)\n",
        "\n",
        "\n",
        "l1_1 = 25.83\n",
        "\n",
        "\n",
        "l2_1 = 45.98\n",
        "\n",
        "\n",
        "l3_1 = 50.39\n",
        "\n",
        "\n",
        "l4_1 = 51.93\n",
        "\n",
        "mlpnoniid = []\n",
        "mlpnoniid.append(l1_1)\n",
        "mlpnoniid.append(l2_1)\n",
        "mlpnoniid.append(l3_1)\n",
        "mlpnoniid.append(l4_1)\n",
        "\n",
        "\n",
        "\n",
        "mlpiid = [x / 2 for x in mlpiid]\n",
        "mlpnoniid = [x / 2 for x in mlpnoniid]\n",
        "\n",
        "\n",
        "X = [\"FedAvg\", \"FedMed\", \"FedProx\", \"qFedAvg\"]\n",
        "'''\n",
        "plt.bar(X, mlpiid, color = 'b', label=\"MNIST MLP on IID\")\n",
        "plt.bar(X, mlpnoniid, color = 'r', bottom = mlpiid, label=\"MNIST MLP on Non IID\")\n",
        "plt.bar(X, cnniid, color = 'g', bottom = mlpiid + mlpnoniid, label=\"MNIST CNN on IID\")\n",
        "plt.legend(bbox_to_anchor=(1.0, 1.0))\n",
        "plt.show()\n",
        "'''\n",
        "data = np.array([mlpiid,mlpnoniid])\n",
        "\n",
        "color_list = ['b', 'g', 'r', 'y']\n",
        "label_list = [\"LSTM on IID\", \"LSTM on Non IID\"]\n",
        "\n",
        "fig = plt.figure(figsize=(5,5))\n",
        "ax  = fig.add_subplot(111)\n",
        "\n",
        "for i in range(data.shape[0]):\n",
        "  ax.bar(X, data[i],\n",
        "    bottom = np.sum(data[:i], axis = 0),\n",
        "    color = color_list[i % len(color_list)],\n",
        "    label = label_list[i % len(label_list)])\n",
        "lgd = ax.legend(bbox_to_anchor=(0.5, 1.1), loc='center',fontsize=15)\n",
        "\n",
        "#ax.set(xlabel='Algorithms', ylabel='Normalized Test Accuracies',\n",
        "#       title=\"50% Stragglers\")\n",
        "\n",
        "\n",
        "ax.set_xlabel('Algorithms', fontsize=15)\n",
        "ax.set_ylabel('Normalized Test Accuracies', fontsize=15)\n",
        "ax.tick_params(labelsize=15)\n",
        "\n",
        "'''\n",
        "ax.title(\"90% Stragglers\")\n",
        "ax.xlabel('Algorithms')\n",
        "ax.ylabel('Normalized Test Accuracies')\n",
        "'''\n",
        "fig.savefig(\"../Shakespeare_Stragglers_50.png\", format='png', bbox_extra_artists=(lgd,),\n",
        "            bbox_inches='tight')\n",
        "files.download(\"../Shakespeare_Stragglers_50.png\")\n",
        "plt.show()"
      ],
      "execution_count": null,
      "outputs": [
        {
          "output_type": "display_data",
          "data": {
            "application/javascript": [
              "\n",
              "    async function download(id, filename, size) {\n",
              "      if (!google.colab.kernel.accessAllowed) {\n",
              "        return;\n",
              "      }\n",
              "      const div = document.createElement('div');\n",
              "      const label = document.createElement('label');\n",
              "      label.textContent = `Downloading \"${filename}\": `;\n",
              "      div.appendChild(label);\n",
              "      const progress = document.createElement('progress');\n",
              "      progress.max = size;\n",
              "      div.appendChild(progress);\n",
              "      document.body.appendChild(div);\n",
              "\n",
              "      const buffers = [];\n",
              "      let downloaded = 0;\n",
              "\n",
              "      const channel = await google.colab.kernel.comms.open(id);\n",
              "      // Send a message to notify the kernel that we're ready.\n",
              "      channel.send({})\n",
              "\n",
              "      for await (const message of channel.messages) {\n",
              "        // Send a message to notify the kernel that we're ready.\n",
              "        channel.send({})\n",
              "        if (message.buffers) {\n",
              "          for (const buffer of message.buffers) {\n",
              "            buffers.push(buffer);\n",
              "            downloaded += buffer.byteLength;\n",
              "            progress.value = downloaded;\n",
              "          }\n",
              "        }\n",
              "      }\n",
              "      const blob = new Blob(buffers, {type: 'application/binary'});\n",
              "      const a = document.createElement('a');\n",
              "      a.href = window.URL.createObjectURL(blob);\n",
              "      a.download = filename;\n",
              "      div.appendChild(a);\n",
              "      a.click();\n",
              "      div.remove();\n",
              "    }\n",
              "  "
            ],
            "text/plain": [
              "<IPython.core.display.Javascript object>"
            ]
          },
          "metadata": {
            "tags": []
          }
        },
        {
          "output_type": "display_data",
          "data": {
            "application/javascript": [
              "download(\"download_2d8503ca-fb34-4f59-97e3-53e24d0fca2f\", \"Shakespeare_Stragglers_50.png\", 17069)"
            ],
            "text/plain": [
              "<IPython.core.display.Javascript object>"
            ]
          },
          "metadata": {
            "tags": []
          }
        },
        {
          "output_type": "display_data",
          "data": {
            "image/png": "[encoded data removed]",
            "text/plain": [
              "<Figure size 360x360 with 1 Axes>"
            ]
          },
          "metadata": {
            "tags": [],
            "needs_background": "light"
          }
        }
      ]
    },
    {
      "cell_type": "code",
      "metadata": {
        "id": "0DAfDWEO07He",
        "colab": {
          "base_uri": "https://localhost:8080/",
          "height": 350
        },
        "outputId": "e7af28fe-aca1-4ed9-9551-38b1cc580595"
      },
      "source": [
        "## 90% STRAGGLERS SHAKES\n",
        "\n",
        "l1_1 = 18.5\n",
        "\n",
        "\n",
        "l2_1 = 38.45\n",
        "\n",
        "\n",
        "l3_1 = 39.71\n",
        "\n",
        "\n",
        "l4_1 = 41.99\n",
        "\n",
        "\n",
        "mlpiid = []\n",
        "mlpiid.append(l1_1)\n",
        "mlpiid.append(l2_1)\n",
        "mlpiid.append(l3_1)\n",
        "mlpiid.append(l4_1)\n",
        "\n",
        "\n",
        "l1_1 = 37.76\n",
        "\n",
        "\n",
        "l2_1 = 34.45\n",
        "\n",
        "\n",
        "l3_1 = 41.96\n",
        "\n",
        "\n",
        "l4_1 = 42.71\n",
        "\n",
        "mlpnoniid = []\n",
        "mlpnoniid.append(l1_1)\n",
        "mlpnoniid.append(l2_1)\n",
        "mlpnoniid.append(l3_1)\n",
        "mlpnoniid.append(l4_1)\n",
        "\n",
        "\n",
        "\n",
        "mlpiid = [x / 2 for x in mlpiid]\n",
        "mlpnoniid = [x / 2 for x in mlpnoniid]\n",
        "\n",
        "\n",
        "X = [\"FedAvg\", \"FedMed\", \"FedProx\", \"qFedAvg\"]\n",
        "'''\n",
        "plt.bar(X, mlpiid, color = 'b', label=\"MNIST MLP on IID\")\n",
        "plt.bar(X, mlpnoniid, color = 'r', bottom = mlpiid, label=\"MNIST MLP on Non IID\")\n",
        "plt.bar(X, cnniid, color = 'g', bottom = mlpiid + mlpnoniid, label=\"MNIST CNN on IID\")\n",
        "plt.legend(bbox_to_anchor=(1.0, 1.0))\n",
        "plt.show()\n",
        "'''\n",
        "data = np.array([mlpiid,mlpnoniid])\n",
        "\n",
        "color_list = ['b', 'g', 'r', 'y']\n",
        "label_list = [\"LSTM on IID\", \"LSTM on Non IID\"]\n",
        "\n",
        "fig = plt.figure(figsize=(5,5))\n",
        "ax  = fig.add_subplot(111)\n",
        "\n",
        "for i in range(data.shape[0]):\n",
        "  ax.bar(X, data[i],\n",
        "    bottom = np.sum(data[:i], axis = 0),\n",
        "    color = color_list[i % len(color_list)],\n",
        "    label = label_list[i % len(label_list)])\n",
        "#lgd = ax.legend(bbox_to_anchor=(1.0, 1.0))\n",
        "\n",
        "ax.set_xlabel('Algorithms', fontsize=15)\n",
        "#ax.set_ylabel('Normalized Test Accuracies', fontsize=20)\n",
        "ax.tick_params(labelsize=15)\n",
        "ax.set_yticks(np.arange(0, 51, 10))\n",
        "\n",
        "'''\n",
        "ax.title(\"90% Stragglers\")\n",
        "ax.xlabel('Algorithms')\n",
        "ax.ylabel('Normalized Test Accuracies')\n",
        "'''\n",
        "fig.savefig(\"../Shakespeare_Stragglers_90.png\", format='png')\n",
        "files.download(\"../Shakespeare_Stragglers_90.png\")\n",
        "plt.show()"
      ],
      "execution_count": null,
      "outputs": [
        {
          "output_type": "display_data",
          "data": {
            "application/javascript": [
              "\n",
              "    async function download(id, filename, size) {\n",
              "      if (!google.colab.kernel.accessAllowed) {\n",
              "        return;\n",
              "      }\n",
              "      const div = document.createElement('div');\n",
              "      const label = document.createElement('label');\n",
              "      label.textContent = `Downloading \"${filename}\": `;\n",
              "      div.appendChild(label);\n",
              "      const progress = document.createElement('progress');\n",
              "      progress.max = size;\n",
              "      div.appendChild(progress);\n",
              "      document.body.appendChild(div);\n",
              "\n",
              "      const buffers = [];\n",
              "      let downloaded = 0;\n",
              "\n",
              "      const channel = await google.colab.kernel.comms.open(id);\n",
              "      // Send a message to notify the kernel that we're ready.\n",
              "      channel.send({})\n",
              "\n",
              "      for await (const message of channel.messages) {\n",
              "        // Send a message to notify the kernel that we're ready.\n",
              "        channel.send({})\n",
              "        if (message.buffers) {\n",
              "          for (const buffer of message.buffers) {\n",
              "            buffers.push(buffer);\n",
              "            downloaded += buffer.byteLength;\n",
              "            progress.value = downloaded;\n",
              "          }\n",
              "        }\n",
              "      }\n",
              "      const blob = new Blob(buffers, {type: 'application/binary'});\n",
              "      const a = document.createElement('a');\n",
              "      a.href = window.URL.createObjectURL(blob);\n",
              "      a.download = filename;\n",
              "      div.appendChild(a);\n",
              "      a.click();\n",
              "      div.remove();\n",
              "    }\n",
              "  "
            ],
            "text/plain": [
              "<IPython.core.display.Javascript object>"
            ]
          },
          "metadata": {
            "tags": []
          }
        },
        {
          "output_type": "display_data",
          "data": {
            "application/javascript": [
              "download(\"download_4f3bc61d-bca8-441a-bb30-83e90d51359a\", \"Shakespeare_Stragglers_90.png\", 10338)"
            ],
            "text/plain": [
              "<IPython.core.display.Javascript object>"
            ]
          },
          "metadata": {
            "tags": []
          }
        },
        {
          "output_type": "display_data",
          "data": {
            "image/png": "[encoded data removed]",
            "text/plain": [
              "<Figure size 360x360 with 1 Axes>"
            ]
          },
          "metadata": {
            "tags": [],
            "needs_background": "light"
          }
        }
      ]
    },
    {
      "cell_type": "code",
      "metadata": {
        "id": "xyD8xDFO1jt1"
      },
      "source": [
        ""
      ],
      "execution_count": null,
      "outputs": []
    },
    {
      "cell_type": "code",
      "metadata": {
        "id": "h0lFcFhi1jqY"
      },
      "source": [
        ""
      ],
      "execution_count": null,
      "outputs": []
    },
    {
      "cell_type": "code",
      "metadata": {
        "colab": {
          "base_uri": "https://localhost:8080/",
          "height": 344
        },
        "id": "B5YYGbttGUNT",
        "outputId": "297bdc03-dd9b-4681-a499-fe7fdcb68bad"
      },
      "source": [
        "## MNIST ROBUSTNESS MLP IID\n",
        "\n",
        "l1 = [96.71, 96.84,\t96.58,\t96.49]\n",
        "l2 = [93.54,97.09,93.67, 19.4]\n",
        "l3 = [93.92,97.09,94.30,9.8]\n",
        "l4 = [24.94,97.22,24.43,9.8]\n",
        "\n",
        "#l_1 = [l1[0],l2[0],l3[0],l4[0]]\n",
        "#l_2 = [l1[1],l2[1],l3[1],l4[1]]\n",
        "#l_3 = [l1[2],l2[2],l3[2],l4[2]]\n",
        "#l_4 = [l1[3],l2[3],l3[3],l4[3]]\n",
        "\n",
        "\n",
        "l_1 = [x / 4 for x in l1]\n",
        "l_2 = [x / 4 for x in l2]\n",
        "l_3 = [x / 4 for x in l3]\n",
        "l_4 = [x / 4 for x in l4]\n",
        "\n",
        "X = [\"FedAvg\", \"FedMed\", \"FedProx\", \"qFedAvg\"]\n",
        "\n",
        "data = np.array([l_1,l_2,l_3,l_4])\n",
        "\n",
        "color_list = ['b', 'g', 'r', 'y']\n",
        "label_list = [\"M=0.01,n=0.1\", \"M=0.01,n=1\",\"M=0.1,n=0.1\",\"M=0.1,n=1\"]\n",
        "\n",
        "fig = plt.figure(figsize=(5,5))\n",
        "ax  = fig.add_subplot(111)\n",
        "\n",
        "for i in range(data.shape[0]):\n",
        "  ax.barh(X, data[i],\n",
        "    left = np.sum(data[:i], axis = 0),\n",
        "    color = color_list[i % len(color_list)],\n",
        "    label = label_list[i % len(label_list)])\n",
        "#lgd = ax.legend()#bbox_to_anchor=(1.0, 1.0))\n",
        "\n",
        "#ax.set(xlabel='Normalized Test Accuracies', ylabel='Algorithms')\n",
        "ax.set_xlabel('Normalized Test Accuracies', fontsize=15)\n",
        "ax.set_ylabel('Algorithms', fontsize=15)\n",
        "ax.tick_params(labelsize=15)\n",
        "#ax.set_yticks(np.arange(0, 51, 10))\n",
        "\n",
        "fig.savefig(\"../Robustness_MNISTMLPIID.png\", format='png', bbox_extra_artists=(lgd,),\n",
        "            bbox_inches='tight')\n",
        "files.download(\"../Robustness_MNISTMLPIID.png\")\n",
        "plt.show()"
      ],
      "execution_count": null,
      "outputs": [
        {
          "output_type": "display_data",
          "data": {
            "application/javascript": [
              "\n",
              "    async function download(id, filename, size) {\n",
              "      if (!google.colab.kernel.accessAllowed) {\n",
              "        return;\n",
              "      }\n",
              "      const div = document.createElement('div');\n",
              "      const label = document.createElement('label');\n",
              "      label.textContent = `Downloading \"${filename}\": `;\n",
              "      div.appendChild(label);\n",
              "      const progress = document.createElement('progress');\n",
              "      progress.max = size;\n",
              "      div.appendChild(progress);\n",
              "      document.body.appendChild(div);\n",
              "\n",
              "      const buffers = [];\n",
              "      let downloaded = 0;\n",
              "\n",
              "      const channel = await google.colab.kernel.comms.open(id);\n",
              "      // Send a message to notify the kernel that we're ready.\n",
              "      channel.send({})\n",
              "\n",
              "      for await (const message of channel.messages) {\n",
              "        // Send a message to notify the kernel that we're ready.\n",
              "        channel.send({})\n",
              "        if (message.buffers) {\n",
              "          for (const buffer of message.buffers) {\n",
              "            buffers.push(buffer);\n",
              "            downloaded += buffer.byteLength;\n",
              "            progress.value = downloaded;\n",
              "          }\n",
              "        }\n",
              "      }\n",
              "      const blob = new Blob(buffers, {type: 'application/binary'});\n",
              "      const a = document.createElement('a');\n",
              "      a.href = window.URL.createObjectURL(blob);\n",
              "      a.download = filename;\n",
              "      div.appendChild(a);\n",
              "      a.click();\n",
              "      div.remove();\n",
              "    }\n",
              "  "
            ],
            "text/plain": [
              "<IPython.core.display.Javascript object>"
            ]
          },
          "metadata": {
            "tags": []
          }
        },
        {
          "output_type": "display_data",
          "data": {
            "application/javascript": [
              "download(\"download_be141119-c5a6-4ae7-b92c-7c87fbe3f053\", \"Robustness_MNISTMLPIID.png\", 15195)"
            ],
            "text/plain": [
              "<IPython.core.display.Javascript object>"
            ]
          },
          "metadata": {
            "tags": []
          }
        },
        {
          "output_type": "display_data",
          "data": {
            "image/png": "[encoded data removed]",
            "text/plain": [
              "<Figure size 360x360 with 1 Axes>"
            ]
          },
          "metadata": {
            "tags": [],
            "needs_background": "light"
          }
        }
      ]
    },
    {
      "cell_type": "code",
      "metadata": {
        "id": "uLUc_dMBB-VU"
      },
      "source": [
        "import numpy as np\n",
        "from google.colab import files"
      ],
      "execution_count": null,
      "outputs": []
    },
    {
      "cell_type": "code",
      "metadata": {
        "colab": {
          "base_uri": "https://localhost:8080/",
          "height": 344
        },
        "id": "ccjBNnZyAO20",
        "outputId": "b626da02-70e7-4861-acd9-5bc166b7e93f"
      },
      "source": [
        "## MNIST MLP ROBUSTNESS M = 0.01\n",
        "\n",
        "l1 = [96.71,96.84,96.58,96.49] # n = 0.1, IID\n",
        "l2 = [93.54,97.09,93.67,19.4] # n = 1, IID\n",
        "l3 = [92.28,82.91,92.78,91.3] # n = 0.1, NON IID\n",
        "l4 = [69.62,84.18,65.67,19.4] # n = 1, NON IID\n",
        "\n",
        "\n",
        "\n",
        "#l_1 = [l1[0],l2[0],l3[0],l4[0]]\n",
        "#l_2 = [l1[1],l2[1],l3[1],l4[1]]\n",
        "#l_3 = [l1[2],l2[2],l3[2],l4[2]]\n",
        "#l_4 = [l1[3],l2[3],l3[3],l4[3]]\n",
        "\n",
        "\n",
        "l_1 = [x / 4 for x in l1]\n",
        "l_2 = [x / 4 for x in l2]\n",
        "l_3 = [x / 4 for x in l3]\n",
        "l_4 = [x / 4 for x in l4]\n",
        "\n",
        "X = [\"FedAvg\", \"FedMed\", \"FedProx\", \"qFedAvg\"]\n",
        "\n",
        "data = np.array([l_1,l_2,l_3,l_4])\n",
        "\n",
        "color_list = ['b','g','r', 'y']\n",
        "label_list = [\"IID, n=0.1\",\"Non-IID, n=0.1\",\"IID, n=1\", \"Non-IID, n=1\"]\n",
        "\n",
        "fig = plt.figure(figsize=(5,5))\n",
        "ax  = fig.add_subplot(111)\n",
        "\n",
        "for i in range(data.shape[0]):\n",
        "  ax.barh(X, data[i],\n",
        "    left = np.sum(data[:i], axis = 0),\n",
        "    color = color_list[i % len(color_list)],\n",
        "    label = label_list[i % len(label_list)])\n",
        "#lgd = ax.legend(bbox_to_anchor=(1.0, 1.0))\n",
        "\n",
        "ax.set_xlabel('Normalized Test Accuracies', fontsize=15)\n",
        "#ax.set_ylabel('Normalized Test Accuracies', fontsize=20)\n",
        "ax.set_ylabel('Algorithms', fontsize=15)\n",
        "ax.tick_params(labelsize=15)\n",
        "#ax.set_yticks(np.arange(0, 51, 10))\n",
        "\n",
        "fig.savefig(\"../Robustness_MNISTMLPM0_01.png\", format='png', bbox_extra_artists=(lgd,),\n",
        "            bbox_inches='tight')\n",
        "files.download(\"../Robustness_MNISTMLPM0_01.png\")\n",
        "plt.show()"
      ],
      "execution_count": null,
      "outputs": [
        {
          "output_type": "display_data",
          "data": {
            "application/javascript": [
              "\n",
              "    async function download(id, filename, size) {\n",
              "      if (!google.colab.kernel.accessAllowed) {\n",
              "        return;\n",
              "      }\n",
              "      const div = document.createElement('div');\n",
              "      const label = document.createElement('label');\n",
              "      label.textContent = `Downloading \"${filename}\": `;\n",
              "      div.appendChild(label);\n",
              "      const progress = document.createElement('progress');\n",
              "      progress.max = size;\n",
              "      div.appendChild(progress);\n",
              "      document.body.appendChild(div);\n",
              "\n",
              "      const buffers = [];\n",
              "      let downloaded = 0;\n",
              "\n",
              "      const channel = await google.colab.kernel.comms.open(id);\n",
              "      // Send a message to notify the kernel that we're ready.\n",
              "      channel.send({})\n",
              "\n",
              "      for await (const message of channel.messages) {\n",
              "        // Send a message to notify the kernel that we're ready.\n",
              "        channel.send({})\n",
              "        if (message.buffers) {\n",
              "          for (const buffer of message.buffers) {\n",
              "            buffers.push(buffer);\n",
              "            downloaded += buffer.byteLength;\n",
              "            progress.value = downloaded;\n",
              "          }\n",
              "        }\n",
              "      }\n",
              "      const blob = new Blob(buffers, {type: 'application/binary'});\n",
              "      const a = document.createElement('a');\n",
              "      a.href = window.URL.createObjectURL(blob);\n",
              "      a.download = filename;\n",
              "      div.appendChild(a);\n",
              "      a.click();\n",
              "      div.remove();\n",
              "    }\n",
              "  "
            ],
            "text/plain": [
              "<IPython.core.display.Javascript object>"
            ]
          },
          "metadata": {
            "tags": []
          }
        },
        {
          "output_type": "display_data",
          "data": {
            "application/javascript": [
              "download(\"download_6a78b0c3-4762-4594-8acf-02e46279b119\", \"Robustness_MNISTMLPM0_01.png\", 14999)"
            ],
            "text/plain": [
              "<IPython.core.display.Javascript object>"
            ]
          },
          "metadata": {
            "tags": []
          }
        },
        {
          "output_type": "display_data",
          "data": {
            "image/png": "[encoded data removed]",
            "text/plain": [
              "<Figure size 360x360 with 1 Axes>"
            ]
          },
          "metadata": {
            "tags": [],
            "needs_background": "light"
          }
        }
      ]
    },
    {
      "cell_type": "code",
      "metadata": {
        "id": "Ro9moy-6AOvc"
      },
      "source": [
        ""
      ],
      "execution_count": null,
      "outputs": []
    },
    {
      "cell_type": "code",
      "metadata": {
        "id": "BJ9WmPx2_WfV"
      },
      "source": [
        ""
      ],
      "execution_count": null,
      "outputs": []
    },
    {
      "cell_type": "code",
      "metadata": {
        "colab": {
          "base_uri": "https://localhost:8080/",
          "height": 344
        },
        "id": "cY9IkqKGGUEY",
        "outputId": "4c47124b-ffc9-480d-9710-47156c653c4f"
      },
      "source": [
        "## MNIST ROBUSTNESS MLP NON IID\n",
        "\n",
        "l1 = [92.28,82.91,92.78,91.3]\n",
        "l2 = [69.62,84.18,65.67,19.4]\n",
        "l3 = [59.49,84.05,66.96,9.8]\n",
        "l4 = [25.32,83.8,24.81,9.8]\n",
        "\n",
        "#l_1 = [l1[0],l2[0],l3[0],l4[0]]\n",
        "#l_2 = [l1[1],l2[1],l3[1],l4[1]]\n",
        "#l_3 = [l1[2],l2[2],l3[2],l4[2]]\n",
        "#l_4 = [l1[3],l2[3],l3[3],l4[3]]\n",
        "\n",
        "\n",
        "l_1 = [x / 4 for x in l1]\n",
        "l_2 = [x / 4 for x in l2]\n",
        "l_3 = [x / 4 for x in l3]\n",
        "l_4 = [x / 4 for x in l4]\n",
        "\n",
        "X = [\"FedAvg\", \"FedMed\", \"FedProx\", \"qFedAvg\"]\n",
        "\n",
        "data = np.array([l_1,l_2,l_3,l_4])\n",
        "\n",
        "color_list = ['b', 'g', 'r', 'y']\n",
        "label_list = [\"M=0.01,n=0.1\", \"M=0.01,n=1\",\"M=0.1,n=0.1\",\"M=0.1,n=1\"]\n",
        "\n",
        "fig = plt.figure(figsize=(5,5))\n",
        "ax  = fig.add_subplot(111)\n",
        "\n",
        "for i in range(data.shape[0]):\n",
        "  ax.barh(X, data[i],\n",
        "    left = np.sum(data[:i], axis = 0),\n",
        "    color = color_list[i % len(color_list)],\n",
        "    label = label_list[i % len(label_list)])\n",
        "#lgd = ax.legend()#bbox_to_anchor=(1.0, 1.0))\n",
        "\n",
        "#ax.set(xlabel='Normalized Test Accuracies', ylabel='Algorithms',\n",
        "#       title=\"MNIST MLP on Non IID\")\n",
        "\n",
        "ax.set_xlabel('Normalized Test Accuracies', fontsize=15)\n",
        "#ax.set_ylabel('Normalized Test Accuracies', fontsize=20)\n",
        "ax.set_ylabel('Algorithms', fontsize=15)\n",
        "ax.tick_params(labelsize=15)\n",
        "ax.set_xticks(np.arange(0, 101, 20))\n",
        "\n",
        "\n",
        "fig.savefig(\"../Robustness_MNISTMLPNonIID.png\", format='png', bbox_extra_artists=(lgd,),\n",
        "            bbox_inches='tight')\n",
        "files.download(\"../Robustness_MNISTMLPNonIID.png\")\n",
        "plt.show()"
      ],
      "execution_count": null,
      "outputs": [
        {
          "output_type": "display_data",
          "data": {
            "application/javascript": [
              "\n",
              "    async function download(id, filename, size) {\n",
              "      if (!google.colab.kernel.accessAllowed) {\n",
              "        return;\n",
              "      }\n",
              "      const div = document.createElement('div');\n",
              "      const label = document.createElement('label');\n",
              "      label.textContent = `Downloading \"${filename}\": `;\n",
              "      div.appendChild(label);\n",
              "      const progress = document.createElement('progress');\n",
              "      progress.max = size;\n",
              "      div.appendChild(progress);\n",
              "      document.body.appendChild(div);\n",
              "\n",
              "      const buffers = [];\n",
              "      let downloaded = 0;\n",
              "\n",
              "      const channel = await google.colab.kernel.comms.open(id);\n",
              "      // Send a message to notify the kernel that we're ready.\n",
              "      channel.send({})\n",
              "\n",
              "      for await (const message of channel.messages) {\n",
              "        // Send a message to notify the kernel that we're ready.\n",
              "        channel.send({})\n",
              "        if (message.buffers) {\n",
              "          for (const buffer of message.buffers) {\n",
              "            buffers.push(buffer);\n",
              "            downloaded += buffer.byteLength;\n",
              "            progress.value = downloaded;\n",
              "          }\n",
              "        }\n",
              "      }\n",
              "      const blob = new Blob(buffers, {type: 'application/binary'});\n",
              "      const a = document.createElement('a');\n",
              "      a.href = window.URL.createObjectURL(blob);\n",
              "      a.download = filename;\n",
              "      div.appendChild(a);\n",
              "      a.click();\n",
              "      div.remove();\n",
              "    }\n",
              "  "
            ],
            "text/plain": [
              "<IPython.core.display.Javascript object>"
            ]
          },
          "metadata": {
            "tags": []
          }
        },
        {
          "output_type": "display_data",
          "data": {
            "application/javascript": [
              "download(\"download_2f65af9a-29ea-4804-b4e0-17a4cc273762\", \"Robustness_MNISTMLPNonIID.png\", 15215)"
            ],
            "text/plain": [
              "<IPython.core.display.Javascript object>"
            ]
          },
          "metadata": {
            "tags": []
          }
        },
        {
          "output_type": "display_data",
          "data": {
            "image/png": "[encoded data removed]",
            "text/plain": [
              "<Figure size 360x360 with 1 Axes>"
            ]
          },
          "metadata": {
            "tags": [],
            "needs_background": "light"
          }
        }
      ]
    },
    {
      "cell_type": "code",
      "metadata": {
        "colab": {
          "base_uri": "https://localhost:8080/",
          "height": 344
        },
        "id": "MzEl8YHRDO3m",
        "outputId": "1b3c4251-41bd-41d8-9e0c-dbbdd7b9d066"
      },
      "source": [
        "## MNIST CNN ROBUSTNESS M = 0.01\n",
        "\n",
        "l1 = [99.24,98.99,98.99,98.9] # n = 0.1, IID\n",
        "l2 = [11.39,99.37,11.39,9.8] # n = 1, IID\n",
        "l3 = [96.71,90.38,94.81,96.56] # n = 0.1, NON IID\n",
        "l4 = [11.39,88.99,11.27,9.8] # n = 1, NON IID\n",
        "\n",
        "\n",
        "\n",
        "#l_1 = [l1[0],l2[0],l3[0],l4[0]]\n",
        "#l_2 = [l1[1],l2[1],l3[1],l4[1]]\n",
        "#l_3 = [l1[2],l2[2],l3[2],l4[2]]\n",
        "#l_4 = [l1[3],l2[3],l3[3],l4[3]]\n",
        "\n",
        "\n",
        "l_1 = [x / 4 for x in l1]\n",
        "l_2 = [x / 4 for x in l2]\n",
        "l_3 = [x / 4 for x in l3]\n",
        "l_4 = [x / 4 for x in l4]\n",
        "\n",
        "X = [\"FedAvg\", \"FedMed\", \"FedProx\", \"qFedAvg\"]\n",
        "\n",
        "data = np.array([l_1,l_2,l_3,l_4])\n",
        "\n",
        "color_list = ['b','g','r', 'y']\n",
        "label_list = [\"IID, n=0.1\",\"Non-IID, n=0.1\",\"IID, n=1\", \"Non-IID, n=1\"]\n",
        "\n",
        "fig = plt.figure(figsize=(5,5))\n",
        "ax  = fig.add_subplot(111)\n",
        "\n",
        "for i in range(data.shape[0]):\n",
        "  ax.barh(X, data[i],\n",
        "    left = np.sum(data[:i], axis = 0),\n",
        "    color = color_list[i % len(color_list)],\n",
        "    label = label_list[i % len(label_list)])\n",
        "#lgd = ax.legend(bbox_to_anchor=(1.0, 1.0))\n",
        "\n",
        "ax.set_xlabel('Normalized Test Accuracies', fontsize=15)\n",
        "#ax.set_ylabel('Normalized Test Accuracies', fontsize=20)\n",
        "ax.set_ylabel('Algorithms', fontsize=15)\n",
        "ax.tick_params(labelsize=15)\n",
        "ax.set_xticks(np.arange(0, 101, 20))\n",
        "\n",
        "fig.savefig(\"../Robustness_MNISTCNNM0_01.png\", format='png', bbox_extra_artists=(lgd,),\n",
        "            bbox_inches='tight')\n",
        "files.download(\"../Robustness_MNISTCNNM0_01.png\")\n",
        "plt.show()"
      ],
      "execution_count": null,
      "outputs": [
        {
          "output_type": "display_data",
          "data": {
            "application/javascript": [
              "\n",
              "    async function download(id, filename, size) {\n",
              "      if (!google.colab.kernel.accessAllowed) {\n",
              "        return;\n",
              "      }\n",
              "      const div = document.createElement('div');\n",
              "      const label = document.createElement('label');\n",
              "      label.textContent = `Downloading \"${filename}\": `;\n",
              "      div.appendChild(label);\n",
              "      const progress = document.createElement('progress');\n",
              "      progress.max = size;\n",
              "      div.appendChild(progress);\n",
              "      document.body.appendChild(div);\n",
              "\n",
              "      const buffers = [];\n",
              "      let downloaded = 0;\n",
              "\n",
              "      const channel = await google.colab.kernel.comms.open(id);\n",
              "      // Send a message to notify the kernel that we're ready.\n",
              "      channel.send({})\n",
              "\n",
              "      for await (const message of channel.messages) {\n",
              "        // Send a message to notify the kernel that we're ready.\n",
              "        channel.send({})\n",
              "        if (message.buffers) {\n",
              "          for (const buffer of message.buffers) {\n",
              "            buffers.push(buffer);\n",
              "            downloaded += buffer.byteLength;\n",
              "            progress.value = downloaded;\n",
              "          }\n",
              "        }\n",
              "      }\n",
              "      const blob = new Blob(buffers, {type: 'application/binary'});\n",
              "      const a = document.createElement('a');\n",
              "      a.href = window.URL.createObjectURL(blob);\n",
              "      a.download = filename;\n",
              "      div.appendChild(a);\n",
              "      a.click();\n",
              "      div.remove();\n",
              "    }\n",
              "  "
            ],
            "text/plain": [
              "<IPython.core.display.Javascript object>"
            ]
          },
          "metadata": {
            "tags": []
          }
        },
        {
          "output_type": "display_data",
          "data": {
            "application/javascript": [
              "download(\"download_a8f31f9f-06f0-40c4-9bd7-908146dbefdd\", \"Robustness_MNISTCNNM0_01.png\", 15221)"
            ],
            "text/plain": [
              "<IPython.core.display.Javascript object>"
            ]
          },
          "metadata": {
            "tags": []
          }
        },
        {
          "output_type": "display_data",
          "data": {
            "image/png": "[encoded data removed]",
            "text/plain": [
              "<Figure size 360x360 with 1 Axes>"
            ]
          },
          "metadata": {
            "tags": [],
            "needs_background": "light"
          }
        }
      ]
    },
    {
      "cell_type": "code",
      "metadata": {
        "id": "B9BINsj1DO0q"
      },
      "source": [
        ""
      ],
      "execution_count": null,
      "outputs": []
    },
    {
      "cell_type": "code",
      "metadata": {
        "colab": {
          "base_uri": "https://localhost:8080/",
          "height": 344
        },
        "id": "Toaq5gF_JmzS",
        "outputId": "329ce6ac-4f55-40c8-bfa5-6ba5eaba0adb"
      },
      "source": [
        "## MNIST ROBUSTNESS CNN IID\n",
        "\n",
        "l1 = [99.24,98.99,98.99,98.89]\n",
        "l2 = [11.39,99.37,11.39,9.8]\n",
        "l3 = [11.39,99.37,9.62,9.8]\n",
        "l4 = [11.39,99.37,11.39,9.8]\n",
        "\n",
        "#l_1 = [l1[0],l2[0],l3[0],l4[0]]\n",
        "#l_2 = [l1[1],l2[1],l3[1],l4[1]]\n",
        "#l_3 = [l1[2],l2[2],l3[2],l4[2]]\n",
        "#l_4 = [l1[3],l2[3],l3[3],l4[3]]\n",
        "\n",
        "\n",
        "l_1 = [x / 4 for x in l1]\n",
        "l_2 = [x / 4 for x in l2]\n",
        "l_3 = [x / 4 for x in l3]\n",
        "l_4 = [x / 4 for x in l4]\n",
        "\n",
        "X = [\"FedAvg\", \"FedMed\", \"FedProx\", \"qFedAvg\"]\n",
        "\n",
        "data = np.array([l_1,l_2,l_3,l_4])\n",
        "\n",
        "color_list = ['b', 'g', 'r', 'y']\n",
        "label_list = [\"M=0.01,n=0.1\", \"M=0.01,n=1\",\"M=0.1,n=0.1\",\"M=0.1,n=1\"]\n",
        "\n",
        "fig = plt.figure(figsize=(5,5))\n",
        "ax  = fig.add_subplot(111)\n",
        "\n",
        "for i in range(data.shape[0]):\n",
        "  ax.barh(X, data[i],\n",
        "    left = np.sum(data[:i], axis = 0),\n",
        "    color = color_list[i % len(color_list)],\n",
        "    label = label_list[i % len(label_list)])\n",
        "lgd = ax.legend(fontsize=15)#bbox_to_anchor=(1.0, 1.0))\n",
        "\n",
        "\n",
        "ax.set_xlabel('Normalized Test Accuracies', fontsize=15)\n",
        "#ax.set_ylabel('Normalized Test Accuracies', fontsize=20)\n",
        "ax.set_ylabel('Algorithms', fontsize=15)\n",
        "ax.tick_params(labelsize=15)\n",
        "ax.set_xticks(np.arange(0, 101, 20))\n",
        "\n",
        "fig.savefig(\"../Robustness_MNISTCNNIID.png\", format='png', bbox_extra_artists=(lgd,),\n",
        "            bbox_inches='tight')\n",
        "files.download(\"../Robustness_MNISTCNNIID.png\")\n",
        "plt.show()"
      ],
      "execution_count": null,
      "outputs": [
        {
          "output_type": "display_data",
          "data": {
            "application/javascript": [
              "\n",
              "    async function download(id, filename, size) {\n",
              "      if (!google.colab.kernel.accessAllowed) {\n",
              "        return;\n",
              "      }\n",
              "      const div = document.createElement('div');\n",
              "      const label = document.createElement('label');\n",
              "      label.textContent = `Downloading \"${filename}\": `;\n",
              "      div.appendChild(label);\n",
              "      const progress = document.createElement('progress');\n",
              "      progress.max = size;\n",
              "      div.appendChild(progress);\n",
              "      document.body.appendChild(div);\n",
              "\n",
              "      const buffers = [];\n",
              "      let downloaded = 0;\n",
              "\n",
              "      const channel = await google.colab.kernel.comms.open(id);\n",
              "      // Send a message to notify the kernel that we're ready.\n",
              "      channel.send({})\n",
              "\n",
              "      for await (const message of channel.messages) {\n",
              "        // Send a message to notify the kernel that we're ready.\n",
              "        channel.send({})\n",
              "        if (message.buffers) {\n",
              "          for (const buffer of message.buffers) {\n",
              "            buffers.push(buffer);\n",
              "            downloaded += buffer.byteLength;\n",
              "            progress.value = downloaded;\n",
              "          }\n",
              "        }\n",
              "      }\n",
              "      const blob = new Blob(buffers, {type: 'application/binary'});\n",
              "      const a = document.createElement('a');\n",
              "      a.href = window.URL.createObjectURL(blob);\n",
              "      a.download = filename;\n",
              "      div.appendChild(a);\n",
              "      a.click();\n",
              "      div.remove();\n",
              "    }\n",
              "  "
            ],
            "text/plain": [
              "<IPython.core.display.Javascript object>"
            ]
          },
          "metadata": {
            "tags": []
          }
        },
        {
          "output_type": "display_data",
          "data": {
            "application/javascript": [
              "download(\"download_5c95d708-1eb9-463a-9e5a-06b4d46d8cd9\", \"Robustness_MNISTCNNIID.png\", 19684)"
            ],
            "text/plain": [
              "<IPython.core.display.Javascript object>"
            ]
          },
          "metadata": {
            "tags": []
          }
        },
        {
          "output_type": "display_data",
          "data": {
            "image/png": "[encoded data removed]",
            "text/plain": [
              "<Figure size 360x360 with 1 Axes>"
            ]
          },
          "metadata": {
            "tags": [],
            "needs_background": "light"
          }
        }
      ]
    },
    {
      "cell_type": "code",
      "metadata": {
        "colab": {
          "base_uri": "https://localhost:8080/",
          "height": 344
        },
        "id": "oAnE6CqZEnFL",
        "outputId": "4264f5d3-18b4-4046-9f2c-679d8beb203e"
      },
      "source": [
        "## MNIST MLP ROBUSTNESS M = 0.1\n",
        "\n",
        "l1 = [93.92,97.09,94.3,\t9.8] # n = 0.1, IID\n",
        "l2 = [24.94,97.22,24.43,9.8] # n = 1, IID\n",
        "l3 = [59.49,84.05,66.96,9.8] # n = 0.1, NON IID\n",
        "l4 = [25.32,83.8,24.81,9.8] # n = 1, NON IID\n",
        "\n",
        "\n",
        "\n",
        "#l_1 = [l1[0],l2[0],l3[0],l4[0]]\n",
        "#l_2 = [l1[1],l2[1],l3[1],l4[1]]\n",
        "#l_3 = [l1[2],l2[2],l3[2],l4[2]]\n",
        "#l_4 = [l1[3],l2[3],l3[3],l4[3]]\n",
        "\n",
        "\n",
        "l_1 = [x / 4 for x in l1]\n",
        "l_2 = [x / 4 for x in l2]\n",
        "l_3 = [x / 4 for x in l3]\n",
        "l_4 = [x / 4 for x in l4]\n",
        "\n",
        "X = [\"FedAvg\", \"FedMed\", \"FedProx\", \"qFedAvg\"]\n",
        "\n",
        "data = np.array([l_1,l_2,l_3,l_4])\n",
        "\n",
        "color_list = ['b','g','r', 'y']\n",
        "label_list = [\"IID, n=0.1\",\"Non-IID, n=0.1\",\"IID, n=1\", \"Non-IID, n=1\"]\n",
        "\n",
        "fig = plt.figure(figsize=(5,5))\n",
        "ax  = fig.add_subplot(111)\n",
        "\n",
        "for i in range(data.shape[0]):\n",
        "  ax.barh(X, data[i],\n",
        "    left = np.sum(data[:i], axis = 0),\n",
        "    color = color_list[i % len(color_list)],\n",
        "    label = label_list[i % len(label_list)])\n",
        "#lgd = ax.legend(bbox_to_anchor=(1.0, 1.0))\n",
        "\n",
        "ax.set_xlabel('Normalized Test Accuracies', fontsize=15)\n",
        "#ax.set_ylabel('Normalized Test Accuracies', fontsize=20)\n",
        "ax.set_ylabel('Algorithms', fontsize=15)\n",
        "ax.tick_params(labelsize=15)\n",
        "ax.set_xticks(np.arange(0, 101, 20))\n",
        "\n",
        "fig.savefig(\"../Robustness_MNISTMLPM0_1.png\", format='png', bbox_extra_artists=(lgd,),\n",
        "            bbox_inches='tight')\n",
        "files.download(\"../Robustness_MNISTMLPM0_1.png\")\n",
        "plt.show()"
      ],
      "execution_count": null,
      "outputs": [
        {
          "output_type": "display_data",
          "data": {
            "application/javascript": [
              "\n",
              "    async function download(id, filename, size) {\n",
              "      if (!google.colab.kernel.accessAllowed) {\n",
              "        return;\n",
              "      }\n",
              "      const div = document.createElement('div');\n",
              "      const label = document.createElement('label');\n",
              "      label.textContent = `Downloading \"${filename}\": `;\n",
              "      div.appendChild(label);\n",
              "      const progress = document.createElement('progress');\n",
              "      progress.max = size;\n",
              "      div.appendChild(progress);\n",
              "      document.body.appendChild(div);\n",
              "\n",
              "      const buffers = [];\n",
              "      let downloaded = 0;\n",
              "\n",
              "      const channel = await google.colab.kernel.comms.open(id);\n",
              "      // Send a message to notify the kernel that we're ready.\n",
              "      channel.send({})\n",
              "\n",
              "      for await (const message of channel.messages) {\n",
              "        // Send a message to notify the kernel that we're ready.\n",
              "        channel.send({})\n",
              "        if (message.buffers) {\n",
              "          for (const buffer of message.buffers) {\n",
              "            buffers.push(buffer);\n",
              "            downloaded += buffer.byteLength;\n",
              "            progress.value = downloaded;\n",
              "          }\n",
              "        }\n",
              "      }\n",
              "      const blob = new Blob(buffers, {type: 'application/binary'});\n",
              "      const a = document.createElement('a');\n",
              "      a.href = window.URL.createObjectURL(blob);\n",
              "      a.download = filename;\n",
              "      div.appendChild(a);\n",
              "      a.click();\n",
              "      div.remove();\n",
              "    }\n",
              "  "
            ],
            "text/plain": [
              "<IPython.core.display.Javascript object>"
            ]
          },
          "metadata": {
            "tags": []
          }
        },
        {
          "output_type": "display_data",
          "data": {
            "application/javascript": [
              "download(\"download_37b73d72-8e31-4a17-b578-d194fcc1c16c\", \"Robustness_MNISTMLPM0_1.png\", 14917)"
            ],
            "text/plain": [
              "<IPython.core.display.Javascript object>"
            ]
          },
          "metadata": {
            "tags": []
          }
        },
        {
          "output_type": "display_data",
          "data": {
            "image/png": "[encoded data removed]",
            "text/plain": [
              "<Figure size 360x360 with 1 Axes>"
            ]
          },
          "metadata": {
            "tags": [],
            "needs_background": "light"
          }
        }
      ]
    },
    {
      "cell_type": "code",
      "metadata": {
        "id": "uooVqat8EnAY"
      },
      "source": [
        ""
      ],
      "execution_count": null,
      "outputs": []
    },
    {
      "cell_type": "code",
      "metadata": {
        "id": "pcc5sZ2gMhWd"
      },
      "source": [
        ""
      ],
      "execution_count": null,
      "outputs": []
    },
    {
      "cell_type": "code",
      "metadata": {
        "colab": {
          "base_uri": "https://localhost:8080/",
          "height": 344
        },
        "id": "ltLLJMGNKKdy",
        "outputId": "992d60a9-3396-48c9-db27-e9c961fd79ce"
      },
      "source": [
        "## MNIST ROBUSTNESS CNN NON IID\n",
        "\n",
        "l1 = [96.71,90.38,94.81,96.56]\n",
        "l2 = [11.39,88.99,11.27,9.8]\n",
        "l3 = [11.52,90.38,9.24,9.8]\n",
        "l4 = [11.27,90.63,11.39,9.8]\n",
        "\n",
        "#l_1 = [l1[0],l2[0],l3[0],l4[0]]\n",
        "#l_2 = [l1[1],l2[1],l3[1],l4[1]]\n",
        "#l_3 = [l1[2],l2[2],l3[2],l4[2]]\n",
        "#l_4 = [l1[3],l2[3],l3[3],l4[3]]\n",
        "\n",
        "\n",
        "l_1 = [x / 4 for x in l1]\n",
        "l_2 = [x / 4 for x in l2]\n",
        "l_3 = [x / 4 for x in l3]\n",
        "l_4 = [x / 4 for x in l4]\n",
        "\n",
        "X = [\"FedAvg\", \"FedMed\", \"FedProx\", \"qFedAvg\"]\n",
        "\n",
        "data = np.array([l_1,l_2,l_3,l_4])\n",
        "\n",
        "color_list = ['b', 'g', 'r', 'y']\n",
        "label_list = [\"M=0.01,n=0.1\", \"M=0.01,n=1\",\"M=0.1,n=0.1\",\"M=0.1,n=1\"]\n",
        "\n",
        "fig = plt.figure(figsize=(5,5))\n",
        "ax  = fig.add_subplot(111)\n",
        "\n",
        "for i in range(data.shape[0]):\n",
        "  ax.barh(X, data[i],\n",
        "    left = np.sum(data[:i], axis = 0),\n",
        "    color = color_list[i % len(color_list)],\n",
        "    label = label_list[i % len(label_list)])\n",
        "#lgd = ax.legend()#bbox_to_anchor=(1.0, 1.0))\n",
        "\n",
        "ax.set_xlabel('Normalized Test Accuracies', fontsize=15)\n",
        "#ax.set_ylabel('Normalized Test Accuracies', fontsize=20)\n",
        "ax.set_ylabel('Algorithms', fontsize=15)\n",
        "ax.tick_params(labelsize=15)\n",
        "ax.set_xticks(np.arange(0, 101, 20))\n",
        "\n",
        "\n",
        "fig.savefig(\"../Robustness_MNISTCNNNonIID.png\", format='png', bbox_extra_artists=(lgd,),\n",
        "            bbox_inches='tight')\n",
        "files.download(\"../Robustness_MNISTCNNNonIID.png\")\n",
        "plt.show()"
      ],
      "execution_count": null,
      "outputs": [
        {
          "output_type": "display_data",
          "data": {
            "application/javascript": [
              "\n",
              "    async function download(id, filename, size) {\n",
              "      if (!google.colab.kernel.accessAllowed) {\n",
              "        return;\n",
              "      }\n",
              "      const div = document.createElement('div');\n",
              "      const label = document.createElement('label');\n",
              "      label.textContent = `Downloading \"${filename}\": `;\n",
              "      div.appendChild(label);\n",
              "      const progress = document.createElement('progress');\n",
              "      progress.max = size;\n",
              "      div.appendChild(progress);\n",
              "      document.body.appendChild(div);\n",
              "\n",
              "      const buffers = [];\n",
              "      let downloaded = 0;\n",
              "\n",
              "      const channel = await google.colab.kernel.comms.open(id);\n",
              "      // Send a message to notify the kernel that we're ready.\n",
              "      channel.send({})\n",
              "\n",
              "      for await (const message of channel.messages) {\n",
              "        // Send a message to notify the kernel that we're ready.\n",
              "        channel.send({})\n",
              "        if (message.buffers) {\n",
              "          for (const buffer of message.buffers) {\n",
              "            buffers.push(buffer);\n",
              "            downloaded += buffer.byteLength;\n",
              "            progress.value = downloaded;\n",
              "          }\n",
              "        }\n",
              "      }\n",
              "      const blob = new Blob(buffers, {type: 'application/binary'});\n",
              "      const a = document.createElement('a');\n",
              "      a.href = window.URL.createObjectURL(blob);\n",
              "      a.download = filename;\n",
              "      div.appendChild(a);\n",
              "      a.click();\n",
              "      div.remove();\n",
              "    }\n",
              "  "
            ],
            "text/plain": [
              "<IPython.core.display.Javascript object>"
            ]
          },
          "metadata": {
            "tags": []
          }
        },
        {
          "output_type": "display_data",
          "data": {
            "application/javascript": [
              "download(\"download_c6e29573-0c14-440a-9362-577b624d695c\", \"Robustness_MNISTCNNNonIID.png\", 14910)"
            ],
            "text/plain": [
              "<IPython.core.display.Javascript object>"
            ]
          },
          "metadata": {
            "tags": []
          }
        },
        {
          "output_type": "display_data",
          "data": {
            "image/png": "[encoded data removed]",
            "text/plain": [
              "<Figure size 360x360 with 1 Axes>"
            ]
          },
          "metadata": {
            "tags": [],
            "needs_background": "light"
          }
        }
      ]
    },
    {
      "cell_type": "code",
      "metadata": {
        "colab": {
          "base_uri": "https://localhost:8080/",
          "height": 344
        },
        "id": "zuNztziaFaCI",
        "outputId": "490d6240-54ec-4be1-ff1f-32d3a74d5295"
      },
      "source": [
        "## MNIST CNN ROBUSTNESS M = 0.1\n",
        "\n",
        "l1 = [11.39,99.37,9.62,9.8] # n = 0.1, IID\n",
        "l2 = [11.39,99.37,11.39,9.8] # n = 1, IID\n",
        "l3 = [11.52,90.38,9.24,9.8] # n = 0.1, NON IID\n",
        "l4 = [11.27,90.63,11.39,9.8] # n = 1, NON IID\n",
        "\n",
        "\n",
        "\n",
        "#l_1 = [l1[0],l2[0],l3[0],l4[0]]\n",
        "#l_2 = [l1[1],l2[1],l3[1],l4[1]]\n",
        "#l_3 = [l1[2],l2[2],l3[2],l4[2]]\n",
        "#l_4 = [l1[3],l2[3],l3[3],l4[3]]\n",
        "\n",
        "\n",
        "l_1 = [x / 4 for x in l1]\n",
        "l_2 = [x / 4 for x in l2]\n",
        "l_3 = [x / 4 for x in l3]\n",
        "l_4 = [x / 4 for x in l4]\n",
        "\n",
        "X = [\"FedAvg\", \"FedMed\", \"FedProx\", \"qFedAvg\"]\n",
        "\n",
        "data = np.array([l_1,l_2,l_3,l_4])\n",
        "\n",
        "color_list = ['b','g','r', 'y']\n",
        "label_list = [\"IID, n=0.1\",\"Non-IID, n=0.1\",\"IID, n=1\", \"Non-IID, n=1\"]\n",
        "\n",
        "fig = plt.figure(figsize=(5,5))\n",
        "ax  = fig.add_subplot(111)\n",
        "\n",
        "for i in range(data.shape[0]):\n",
        "  ax.barh(X, data[i],\n",
        "    left = np.sum(data[:i], axis = 0),\n",
        "    color = color_list[i % len(color_list)],\n",
        "    label = label_list[i % len(label_list)])\n",
        "\n",
        "lgd = ax.legend(fontsize=15)\n",
        "\n",
        "ax.set_xlabel('Normalized Test Accuracies', fontsize=15)\n",
        "#ax.set_ylabel('Normalized Test Accuracies', fontsize=20)\n",
        "ax.set_ylabel('Algorithms', fontsize=15)\n",
        "ax.tick_params(labelsize=15)\n",
        "ax.set_xticks(np.arange(0, 101, 20))\n",
        "\n",
        "fig.savefig(\"../Robustness_MNISTCNNM0_1.png\", format='png', bbox_extra_artists=(lgd,),\n",
        "            bbox_inches='tight')\n",
        "files.download(\"../Robustness_MNISTCNNM0_1.png\")\n",
        "plt.show()"
      ],
      "execution_count": null,
      "outputs": [
        {
          "output_type": "display_data",
          "data": {
            "application/javascript": [
              "\n",
              "    async function download(id, filename, size) {\n",
              "      if (!google.colab.kernel.accessAllowed) {\n",
              "        return;\n",
              "      }\n",
              "      const div = document.createElement('div');\n",
              "      const label = document.createElement('label');\n",
              "      label.textContent = `Downloading \"${filename}\": `;\n",
              "      div.appendChild(label);\n",
              "      const progress = document.createElement('progress');\n",
              "      progress.max = size;\n",
              "      div.appendChild(progress);\n",
              "      document.body.appendChild(div);\n",
              "\n",
              "      const buffers = [];\n",
              "      let downloaded = 0;\n",
              "\n",
              "      const channel = await google.colab.kernel.comms.open(id);\n",
              "      // Send a message to notify the kernel that we're ready.\n",
              "      channel.send({})\n",
              "\n",
              "      for await (const message of channel.messages) {\n",
              "        // Send a message to notify the kernel that we're ready.\n",
              "        channel.send({})\n",
              "        if (message.buffers) {\n",
              "          for (const buffer of message.buffers) {\n",
              "            buffers.push(buffer);\n",
              "            downloaded += buffer.byteLength;\n",
              "            progress.value = downloaded;\n",
              "          }\n",
              "        }\n",
              "      }\n",
              "      const blob = new Blob(buffers, {type: 'application/binary'});\n",
              "      const a = document.createElement('a');\n",
              "      a.href = window.URL.createObjectURL(blob);\n",
              "      a.download = filename;\n",
              "      div.appendChild(a);\n",
              "      a.click();\n",
              "      div.remove();\n",
              "    }\n",
              "  "
            ],
            "text/plain": [
              "<IPython.core.display.Javascript object>"
            ]
          },
          "metadata": {
            "tags": []
          }
        },
        {
          "output_type": "display_data",
          "data": {
            "application/javascript": [
              "download(\"download_9b770a33-58d9-4892-bd73-b0196a19fbb8\", \"Robustness_MNISTCNNM0_1.png\", 18882)"
            ],
            "text/plain": [
              "<IPython.core.display.Javascript object>"
            ]
          },
          "metadata": {
            "tags": []
          }
        },
        {
          "output_type": "display_data",
          "data": {
            "image/png": "[encoded data removed]",
            "text/plain": [
              "<Figure size 360x360 with 1 Axes>"
            ]
          },
          "metadata": {
            "tags": [],
            "needs_background": "light"
          }
        }
      ]
    },
    {
      "cell_type": "code",
      "metadata": {
        "id": "BucQEfAXKoIH"
      },
      "source": [
        ""
      ],
      "execution_count": null,
      "outputs": []
    },
    {
      "cell_type": "code",
      "metadata": {
        "id": "J4LpwPugSqYx"
      },
      "source": [
        ""
      ],
      "execution_count": null,
      "outputs": []
    },
    {
      "cell_type": "code",
      "metadata": {
        "colab": {
          "base_uri": "https://localhost:8080/",
          "height": 344
        },
        "id": "tXnghPJtSqtI",
        "outputId": "9fa5d7a7-f206-4847-bdfd-a769d46332d8"
      },
      "source": [
        "## SHAKESPEARE ROBUSTNESS LSTM IID\n",
        "\n",
        "l1 = [45.73,45.58,0.14,44.89]\n",
        "l2 = [17.58,45.3,0,11.96]\n",
        "\n",
        "#l_1 = [l1[0],l2[0],l3[0],l4[0]]\n",
        "#l_2 = [l1[1],l2[1],l3[1],l4[1]]\n",
        "#l_3 = [l1[2],l2[2],l3[2],l4[2]]\n",
        "#l_4 = [l1[3],l2[3],l3[3],l4[3]]\n",
        "\n",
        "\n",
        "l_1 = [x for x in l1]\n",
        "l_2 = [x for x in l2]\n",
        "\n",
        "X = [\"FedAvg\", \"FedMed\", \"FedProx\", \"qFedAvg\"]\n",
        "\n",
        "data = np.array([l_1,l_2])\n",
        "\n",
        "color_list = ['b', 'g']\n",
        "label_list = [\"M=0.1,n=0.1\",\"M=0.1,n=1\"]\n",
        "\n",
        "fig = plt.figure(figsize=(5,5))\n",
        "ax  = fig.add_subplot(111)\n",
        "\n",
        "for i in range(data.shape[0]):\n",
        "  ax.barh(X, data[i],\n",
        "    left = np.sum(data[:i], axis = 0),\n",
        "    color = color_list[i % len(color_list)],\n",
        "    label = label_list[i % len(label_list)])\n",
        "lgd = ax.legend(loc='center right', bbox_to_anchor=(1, 0.65), fontsize=15)\n",
        "\n",
        "\n",
        "ax.set_xlabel('Normalized Test Accuracies', fontsize=15)\n",
        "ax.set_ylabel('Algorithms', fontsize=15)\n",
        "ax.tick_params(labelsize=15)\n",
        "ax.set_xticks(np.arange(0, 101, 20))\n",
        "\n",
        "fig.savefig(\"../Robustness_ShakespeareLSTMIID.png\", format='png', bbox_extra_artists=(lgd,),\n",
        "            bbox_inches='tight')\n",
        "files.download(\"../Robustness_ShakespeareLSTMIID.png\")\n",
        "plt.show()"
      ],
      "execution_count": null,
      "outputs": [
        {
          "output_type": "display_data",
          "data": {
            "application/javascript": [
              "\n",
              "    async function download(id, filename, size) {\n",
              "      if (!google.colab.kernel.accessAllowed) {\n",
              "        return;\n",
              "      }\n",
              "      const div = document.createElement('div');\n",
              "      const label = document.createElement('label');\n",
              "      label.textContent = `Downloading \"${filename}\": `;\n",
              "      div.appendChild(label);\n",
              "      const progress = document.createElement('progress');\n",
              "      progress.max = size;\n",
              "      div.appendChild(progress);\n",
              "      document.body.appendChild(div);\n",
              "\n",
              "      const buffers = [];\n",
              "      let downloaded = 0;\n",
              "\n",
              "      const channel = await google.colab.kernel.comms.open(id);\n",
              "      // Send a message to notify the kernel that we're ready.\n",
              "      channel.send({})\n",
              "\n",
              "      for await (const message of channel.messages) {\n",
              "        // Send a message to notify the kernel that we're ready.\n",
              "        channel.send({})\n",
              "        if (message.buffers) {\n",
              "          for (const buffer of message.buffers) {\n",
              "            buffers.push(buffer);\n",
              "            downloaded += buffer.byteLength;\n",
              "            progress.value = downloaded;\n",
              "          }\n",
              "        }\n",
              "      }\n",
              "      const blob = new Blob(buffers, {type: 'application/binary'});\n",
              "      const a = document.createElement('a');\n",
              "      a.href = window.URL.createObjectURL(blob);\n",
              "      a.download = filename;\n",
              "      div.appendChild(a);\n",
              "      a.click();\n",
              "      div.remove();\n",
              "    }\n",
              "  "
            ],
            "text/plain": [
              "<IPython.core.display.Javascript object>"
            ]
          },
          "metadata": {
            "tags": []
          }
        },
        {
          "output_type": "display_data",
          "data": {
            "application/javascript": [
              "download(\"download_c799d99c-d82d-445b-825c-3aff7e0e3b08\", \"Robustness_ShakespeareLSTMIID.png\", 17311)"
            ],
            "text/plain": [
              "<IPython.core.display.Javascript object>"
            ]
          },
          "metadata": {
            "tags": []
          }
        },
        {
          "output_type": "display_data",
          "data": {
            "image/png": "[encoded data removed]",
            "text/plain": [
              "<Figure size 360x360 with 1 Axes>"
            ]
          },
          "metadata": {
            "tags": [],
            "needs_background": "light"
          }
        }
      ]
    },
    {
      "cell_type": "code",
      "metadata": {
        "colab": {
          "base_uri": "https://localhost:8080/",
          "height": 344
        },
        "id": "_NoX88P2SqtM",
        "outputId": "92d6987a-5e7b-403f-c6ec-9ff1d549faec"
      },
      "source": [
        "## SHAKESPEARE ROBUSTNESS LSTM NON IID\n",
        "\n",
        "l1 = [39.27,42.37,0.17,46.31]\n",
        "l2 = [12.63,43.06,0,10]\n",
        "\n",
        "#l_1 = [l1[0],l2[0],l3[0],l4[0]]\n",
        "#l_2 = [l1[1],l2[1],l3[1],l4[1]]\n",
        "#l_3 = [l1[2],l2[2],l3[2],l4[2]]\n",
        "#l_4 = [l1[3],l2[3],l3[3],l4[3]]\n",
        "\n",
        "\n",
        "l_1 = [x for x in l1]\n",
        "l_2 = [x for x in l2]\n",
        "\n",
        "X = [\"FedAvg\", \"FedMed\", \"FedProx\", \"qFedAvg\"]\n",
        "\n",
        "data = np.array([l_1,l_2])\n",
        "\n",
        "color_list = ['b', 'g']\n",
        "label_list = [\"M=0.1,n=0.1\",\"M=0.1,n=1\"]\n",
        "\n",
        "fig = plt.figure(figsize=(5,5))\n",
        "ax  = fig.add_subplot(111)\n",
        "\n",
        "for i in range(data.shape[0]):\n",
        "  ax.barh(X, data[i],\n",
        "    left = np.sum(data[:i], axis = 0),\n",
        "    color = color_list[i % len(color_list)],\n",
        "    label = label_list[i % len(label_list)])\n",
        "#lgd = ax.legend()#bbox_to_anchor=(1.0, 1.0))\n",
        "\n",
        "\n",
        "ax.set_xlabel('Normalized Test Accuracies', fontsize=15)\n",
        "#ax.set_ylabel('Algorithms', fontsize=15)\n",
        "ax.set_ylabel('Algorithms', fontsize=15)\n",
        "ax.tick_params(labelsize=15)\n",
        "ax.set_xticks(np.arange(0, 101, 20))\n",
        "\n",
        "fig.savefig(\"../Robustness_ShakespeareLSTMNonIID.png\", format='png', bbox_extra_artists=(lgd,),\n",
        "            bbox_inches='tight')\n",
        "files.download(\"../Robustness_ShakespeareLSTMNonIID.png\")\n",
        "plt.show()"
      ],
      "execution_count": null,
      "outputs": [
        {
          "output_type": "display_data",
          "data": {
            "application/javascript": [
              "\n",
              "    async function download(id, filename, size) {\n",
              "      if (!google.colab.kernel.accessAllowed) {\n",
              "        return;\n",
              "      }\n",
              "      const div = document.createElement('div');\n",
              "      const label = document.createElement('label');\n",
              "      label.textContent = `Downloading \"${filename}\": `;\n",
              "      div.appendChild(label);\n",
              "      const progress = document.createElement('progress');\n",
              "      progress.max = size;\n",
              "      div.appendChild(progress);\n",
              "      document.body.appendChild(div);\n",
              "\n",
              "      const buffers = [];\n",
              "      let downloaded = 0;\n",
              "\n",
              "      const channel = await google.colab.kernel.comms.open(id);\n",
              "      // Send a message to notify the kernel that we're ready.\n",
              "      channel.send({})\n",
              "\n",
              "      for await (const message of channel.messages) {\n",
              "        // Send a message to notify the kernel that we're ready.\n",
              "        channel.send({})\n",
              "        if (message.buffers) {\n",
              "          for (const buffer of message.buffers) {\n",
              "            buffers.push(buffer);\n",
              "            downloaded += buffer.byteLength;\n",
              "            progress.value = downloaded;\n",
              "          }\n",
              "        }\n",
              "      }\n",
              "      const blob = new Blob(buffers, {type: 'application/binary'});\n",
              "      const a = document.createElement('a');\n",
              "      a.href = window.URL.createObjectURL(blob);\n",
              "      a.download = filename;\n",
              "      div.appendChild(a);\n",
              "      a.click();\n",
              "      div.remove();\n",
              "    }\n",
              "  "
            ],
            "text/plain": [
              "<IPython.core.display.Javascript object>"
            ]
          },
          "metadata": {
            "tags": []
          }
        },
        {
          "output_type": "display_data",
          "data": {
            "application/javascript": [
              "download(\"download_54f321bd-94bb-4f1a-b1aa-5d57e92341f1\", \"Robustness_ShakespeareLSTMNonIID.png\", 14731)"
            ],
            "text/plain": [
              "<IPython.core.display.Javascript object>"
            ]
          },
          "metadata": {
            "tags": []
          }
        },
        {
          "output_type": "display_data",
          "data": {
            "image/png": "[encoded data removed]",
            "text/plain": [
              "<Figure size 360x360 with 1 Axes>"
            ]
          },
          "metadata": {
            "tags": [],
            "needs_background": "light"
          }
        }
      ]
    },
    {
      "cell_type": "code",
      "metadata": {
        "id": "FH0rauNqSqWS"
      },
      "source": [
        ""
      ],
      "execution_count": null,
      "outputs": []
    },
    {
      "cell_type": "code",
      "metadata": {
        "id": "kolooyJuVVp6"
      },
      "source": [
        ""
      ],
      "execution_count": null,
      "outputs": []
    },
    {
      "cell_type": "code",
      "metadata": {
        "id": "45By7wpOVVnU"
      },
      "source": [
        ""
      ],
      "execution_count": null,
      "outputs": []
    },
    {
      "cell_type": "code",
      "metadata": {
        "colab": {
          "base_uri": "https://localhost:8080/",
          "height": 405
        },
        "id": "oAxhkkQIVWMi",
        "outputId": "9e0d65f8-9d9b-4b42-a42a-c90bd3b96aa2"
      },
      "source": [
        "## CIFar ROBUSTNESS CNN IID\n",
        "\n",
        "l1 = [9.11,9.24]\n",
        "l2 = [54.3,54.68]\n",
        "l3 = [89.75, 9.11]\n",
        "l4 = [10,10]\n",
        "\n",
        "x_ax1 = [0.1, 1]\n",
        "\n",
        "plt.plot(x_ax1,l1,'-o',color='b')\n",
        "plt.plot(x_ax1,l2,'-s',color='g')\n",
        "plt.plot(x_ax1,l3,'-x',color='r')\n",
        "plt.plot(x_ax1,l4,'-P',color='y')\n",
        "\n",
        "#plt.plot(x_ax1, l1, \"o\")\n",
        "plt.xlabel(\"Noise parameter (n)\")\n",
        "plt.ylabel(\"Test accuracies\")\n",
        "#plt.plot(x_ax2, l2, \"s\")\n",
        "plt.title(\"CIFAR CNN on IID\")\n",
        "plt.show()\n",
        "\n",
        "#l_1 = [l1[0],l2[0],l3[0],l4[0]]\n",
        "#l_2 = [l1[1],l2[1],l3[1],l4[1]]\n",
        "#l_3 = [l1[2],l2[2],l3[2],l4[2]]\n",
        "#l_4 = [l1[3],l2[3],l3[3],l4[3]]\n",
        "\n",
        "'''\n",
        "l_1 = [x for x in l1]\n",
        "l_2 = [x for x in l2]\n",
        "\n",
        "X = [\"FedAvg\", \"FedMed\", \"FedProx\", \"qFFL\"]\n",
        "\n",
        "data = np.array([l_1,l_2])\n",
        "\n",
        "color_list = ['r', 'y']\n",
        "label_list = [\"M=0.1,n=0.1\",\"M=0.1,n=1\"]\n",
        "\n",
        "fig = plt.figure(figsize=(5,5))\n",
        "ax  = fig.add_subplot(111)\n",
        "\n",
        "for i in range(data.shape[0]):\n",
        "  ax.barh(X, data[i],\n",
        "    left = np.sum(data[:i], axis = 0),\n",
        "    color = color_list[i % len(color_list)],\n",
        "    label = label_list[i % len(label_list)])\n",
        "lgd = ax.legend()#bbox_to_anchor=(1.0, 1.0))\n",
        "\n",
        "ax.set(xlabel='Normalized Test Accuracies', ylabel='Algorithms',\n",
        "       title=\"LSTM on IID\")\n",
        "\n",
        "fig.savefig(\"../Robustness_ShakespeareLSTMIID.png\", format='png')\n",
        "files.download(\"../Robustness_ShakespeareLSTMIID.png\")\n",
        "plt.show()\n",
        "'''"
      ],
      "execution_count": null,
      "outputs": [
        {
          "output_type": "display_data",
          "data": {
            "image/png": "[encoded data removed]",
            "text/plain": [
              "<Figure size 432x288 with 1 Axes>"
            ]
          },
          "metadata": {
            "tags": [],
            "needs_background": "light"
          }
        },
        {
          "output_type": "execute_result",
          "data": {
            "application/vnd.google.colaboratory.intrinsic+json": {
              "type": "string"
            },
            "text/plain": [
              "'\\nl_1 = [x for x in l1]\\nl_2 = [x for x in l2]\\n\\nX = [\"FedAvg\", \"FedMed\", \"FedProx\", \"qFFL\"]\\n\\ndata = np.array([l_1,l_2])\\n\\ncolor_list = [\\'r\\', \\'y\\']\\nlabel_list = [\"M=0.1,n=0.1\",\"M=0.1,n=1\"]\\n\\nfig = plt.figure(figsize=(5,5))\\nax  = fig.add_subplot(111)\\n\\nfor i in range(data.shape[0]):\\n  ax.barh(X, data[i],\\n    left = np.sum(data[:i], axis = 0),\\n    color = color_list[i % len(color_list)],\\n    label = label_list[i % len(label_list)])\\nlgd = ax.legend()#bbox_to_anchor=(1.0, 1.0))\\n\\nax.set(xlabel=\\'Normalized Test Accuracies\\', ylabel=\\'Algorithms\\',\\n       title=\"LSTM on IID\")\\n\\nfig.savefig(\"../Robustness_ShakespeareLSTMIID.png\", format=\\'png\\')\\nfiles.download(\"../Robustness_ShakespeareLSTMIID.png\")\\nplt.show()\\n'"
            ]
          },
          "metadata": {
            "tags": []
          },
          "execution_count": 52
        }
      ]
    },
    {
      "cell_type": "code",
      "metadata": {
        "colab": {
          "base_uri": "https://localhost:8080/",
          "height": 344
        },
        "id": "-G480rx3ZaWy",
        "outputId": "1ede531f-5751-4c59-fe33-e1ae18fdad78"
      },
      "source": [
        "## CIFAR ROBUSTNESS M = 0.01\n",
        "\n",
        "l1 = [9.11,54.3,89.75,10]\n",
        "l2 = [9.87,22.66,74.3,10]\n",
        "l3 = [10.89,54.68,9.87,10]\n",
        "l4 = [9.49,22.79,9.11,10]\n",
        "\n",
        "#l_1 = [l1[0],l2[0],l3[0],l4[0]]\n",
        "#l_2 = [l1[1],l2[1],l3[1],l4[1]]\n",
        "#l_3 = [l1[2],l2[2],l3[2],l4[2]]\n",
        "#l_4 = [l1[3],l2[3],l3[3],l4[3]]\n",
        "\n",
        "\n",
        "l_1 = [x / 4 for x in l1]\n",
        "l_2 = [x / 4 for x in l2]\n",
        "l_3 = [x / 4 for x in l3]\n",
        "l_4 = [x / 4 for x in l4]\n",
        "\n",
        "X = [\"FedAvg\", \"FedMed\", \"FedProx\", \"qFedAvg\"]\n",
        "\n",
        "data = np.array([l_1,l_2,l_3,l_4])\n",
        "\n",
        "color_list = ['b','g','r', 'y']\n",
        "label_list = [\"IID, n=0.1\",\"Non-IID, n=0.1\",\"IID, n=1\", \"Non-IID, n=1\"]\n",
        "\n",
        "fig = plt.figure(figsize=(5,5))\n",
        "ax  = fig.add_subplot(111)\n",
        "\n",
        "for i in range(data.shape[0]):\n",
        "  ax.barh(X, data[i],\n",
        "    left = np.sum(data[:i], axis = 0),\n",
        "    color = color_list[i % len(color_list)],\n",
        "    label = label_list[i % len(label_list)])\n",
        "#lgd = ax.legend(fontsize=15)#bbox_to_anchor=(1.0, 1.0))\n",
        "\n",
        "\n",
        "ax.set_xlabel('Normalized Test Accuracies', fontsize=15)\n",
        "#ax.set_ylabel('Algorithms', fontsize=15)\n",
        "ax.set_ylabel('Algorithms', fontsize=15)\n",
        "ax.tick_params(labelsize=15)\n",
        "ax.set_xticks(np.arange(0, 51, 10))\n",
        "\n",
        "fig.savefig(\"../Robustness_CIFARM0_01.png\", format='png', bbox_extra_artists=(lgd,),\n",
        "            bbox_inches='tight')\n",
        "files.download(\"../Robustness_CIFARM0_01.png\")\n",
        "plt.show()"
      ],
      "execution_count": null,
      "outputs": [
        {
          "output_type": "display_data",
          "data": {
            "application/javascript": [
              "\n",
              "    async function download(id, filename, size) {\n",
              "      if (!google.colab.kernel.accessAllowed) {\n",
              "        return;\n",
              "      }\n",
              "      const div = document.createElement('div');\n",
              "      const label = document.createElement('label');\n",
              "      label.textContent = `Downloading \"${filename}\": `;\n",
              "      div.appendChild(label);\n",
              "      const progress = document.createElement('progress');\n",
              "      progress.max = size;\n",
              "      div.appendChild(progress);\n",
              "      document.body.appendChild(div);\n",
              "\n",
              "      const buffers = [];\n",
              "      let downloaded = 0;\n",
              "\n",
              "      const channel = await google.colab.kernel.comms.open(id);\n",
              "      // Send a message to notify the kernel that we're ready.\n",
              "      channel.send({})\n",
              "\n",
              "      for await (const message of channel.messages) {\n",
              "        // Send a message to notify the kernel that we're ready.\n",
              "        channel.send({})\n",
              "        if (message.buffers) {\n",
              "          for (const buffer of message.buffers) {\n",
              "            buffers.push(buffer);\n",
              "            downloaded += buffer.byteLength;\n",
              "            progress.value = downloaded;\n",
              "          }\n",
              "        }\n",
              "      }\n",
              "      const blob = new Blob(buffers, {type: 'application/binary'});\n",
              "      const a = document.createElement('a');\n",
              "      a.href = window.URL.createObjectURL(blob);\n",
              "      a.download = filename;\n",
              "      div.appendChild(a);\n",
              "      a.click();\n",
              "      div.remove();\n",
              "    }\n",
              "  "
            ],
            "text/plain": [
              "<IPython.core.display.Javascript object>"
            ]
          },
          "metadata": {
            "tags": []
          }
        },
        {
          "output_type": "display_data",
          "data": {
            "application/javascript": [
              "download(\"download_951cc36f-1fa3-4078-aa43-46aee899c266\", \"Robustness_CIFARM0_01.png\", 14777)"
            ],
            "text/plain": [
              "<IPython.core.display.Javascript object>"
            ]
          },
          "metadata": {
            "tags": []
          }
        },
        {
          "output_type": "display_data",
          "data": {
            "image/png": "[encoded data removed]",
            "text/plain": [
              "<Figure size 360x360 with 1 Axes>"
            ]
          },
          "metadata": {
            "tags": [],
            "needs_background": "light"
          }
        }
      ]
    },
    {
      "cell_type": "code",
      "metadata": {
        "colab": {
          "base_uri": "https://localhost:8080/",
          "height": 404
        },
        "id": "TnjxQou_QhB_",
        "outputId": "b06229c3-76c3-4f49-d839-651faa857578"
      },
      "source": [
        "## CIFAR CNN IID ROBUSTNESS  \n",
        "\n",
        "l1 = [9.11,54.3,89.75,10]\n",
        "l2 = [10.89,54.68,9.87,10]\n",
        "l3 = [9.24,54.68,9.11,10]\n",
        "l4 = [9.24,54.68,9.87,10]\n",
        "\n",
        "#l_1 = [l1[0],l2[0],l3[0],l4[0]]\n",
        "#l_2 = [l1[1],l2[1],l3[1],l4[1]]\n",
        "#l_3 = [l1[2],l2[2],l3[2],l4[2]]\n",
        "#l_4 = [l1[3],l2[3],l3[3],l4[3]]\n",
        "\n",
        "\n",
        "l_1 = [x / 4 for x in l1]\n",
        "l_2 = [x / 4 for x in l2]\n",
        "l_3 = [x / 4 for x in l3]\n",
        "l_4 = [x / 4 for x in l4]\n",
        "\n",
        "X = [\"FedAvg\", \"FedMed\", \"FedProx\", \"qFedAvg\"]\n",
        "\n",
        "data = np.array([l_1,l_2,l_3,l_4])\n",
        "\n",
        "color_list = ['b','g','r', 'y']\n",
        "label_list = [\"M=0.01,n=0.1\", \"M=0.01,n=1\",\"M=0.1,n=0.1\",\"M=0.1,n=1\"]\n",
        "\n",
        "fig = plt.figure(figsize=(6,6))\n",
        "ax  = fig.add_subplot(111)\n",
        "\n",
        "for i in range(data.shape[0]):\n",
        "  ax.barh(X, data[i],\n",
        "    left = np.sum(data[:i], axis = 0),\n",
        "    color = color_list[i % len(color_list)],\n",
        "    label = label_list[i % len(label_list)])\n",
        "#lgd = ax.legend(fontsize=15, loc='upper right')#bbox_to_anchor=(1.0, 1.0))\n",
        "\n",
        "\n",
        "ax.set_xlabel('Normalized Test Accuracies', fontsize=18)\n",
        "#ax.set_ylabel('Algorithms', fontsize=17)\n",
        "ax.set_ylabel('Algorithms', fontsize=18)\n",
        "ax.tick_params(labelsize=18)\n",
        "ax.set_xticks(np.arange(0, 61, 10))\n",
        "\n",
        "\n",
        "fig.savefig(\"../Robustness_CIFARCNNIID.png\", format='png', bbox_extra_artists=(lgd,),\n",
        "            bbox_inches='tight')\n",
        "files.download(\"../Robustness_CIFARCNNIID.png\")\n",
        "plt.show()"
      ],
      "execution_count": null,
      "outputs": [
        {
          "output_type": "display_data",
          "data": {
            "application/javascript": [
              "\n",
              "    async function download(id, filename, size) {\n",
              "      if (!google.colab.kernel.accessAllowed) {\n",
              "        return;\n",
              "      }\n",
              "      const div = document.createElement('div');\n",
              "      const label = document.createElement('label');\n",
              "      label.textContent = `Downloading \"${filename}\": `;\n",
              "      div.appendChild(label);\n",
              "      const progress = document.createElement('progress');\n",
              "      progress.max = size;\n",
              "      div.appendChild(progress);\n",
              "      document.body.appendChild(div);\n",
              "\n",
              "      const buffers = [];\n",
              "      let downloaded = 0;\n",
              "\n",
              "      const channel = await google.colab.kernel.comms.open(id);\n",
              "      // Send a message to notify the kernel that we're ready.\n",
              "      channel.send({})\n",
              "\n",
              "      for await (const message of channel.messages) {\n",
              "        // Send a message to notify the kernel that we're ready.\n",
              "        channel.send({})\n",
              "        if (message.buffers) {\n",
              "          for (const buffer of message.buffers) {\n",
              "            buffers.push(buffer);\n",
              "            downloaded += buffer.byteLength;\n",
              "            progress.value = downloaded;\n",
              "          }\n",
              "        }\n",
              "      }\n",
              "      const blob = new Blob(buffers, {type: 'application/binary'});\n",
              "      const a = document.createElement('a');\n",
              "      a.href = window.URL.createObjectURL(blob);\n",
              "      a.download = filename;\n",
              "      div.appendChild(a);\n",
              "      a.click();\n",
              "      div.remove();\n",
              "    }\n",
              "  "
            ],
            "text/plain": [
              "<IPython.core.display.Javascript object>"
            ]
          },
          "metadata": {
            "tags": []
          }
        },
        {
          "output_type": "display_data",
          "data": {
            "application/javascript": [
              "download(\"download_2172cb28-6b65-43ea-9cee-9caae3cd9837\", \"Robustness_CIFARCNNIID.png\", 17003)"
            ],
            "text/plain": [
              "<IPython.core.display.Javascript object>"
            ]
          },
          "metadata": {
            "tags": []
          }
        },
        {
          "output_type": "display_data",
          "data": {
            "image/png": "[encoded data removed]",
            "text/plain": [
              "<Figure size 432x432 with 1 Axes>"
            ]
          },
          "metadata": {
            "tags": [],
            "needs_background": "light"
          }
        }
      ]
    },
    {
      "cell_type": "code",
      "metadata": {
        "id": "RpW6BmoSQg-C"
      },
      "source": [
        ""
      ],
      "execution_count": null,
      "outputs": []
    },
    {
      "cell_type": "code",
      "metadata": {
        "id": "fnU7Q1iSQBsx"
      },
      "source": [
        ""
      ],
      "execution_count": null,
      "outputs": []
    },
    {
      "cell_type": "code",
      "metadata": {
        "colab": {
          "base_uri": "https://localhost:8080/",
          "height": 404
        },
        "id": "merjIz1BfVok",
        "outputId": "70a4a8b7-05b4-444c-96b2-eeafb967d58e"
      },
      "source": [
        "## CIFAR CNN NON IID ROBUSTNESS\n",
        "\n",
        "l1 = [9.87,22.66,74.3,10]\n",
        "l2 = [9.49,22.79,9.11,10]\n",
        "l3 = [9.87,24.94,9.11,10]\n",
        "l4 = [9.87,16.08,9.11,10]\n",
        "\n",
        "#l_1 = [l1[0],l2[0],l3[0],l4[0]]\n",
        "#l_2 = [l1[1],l2[1],l3[1],l4[1]]\n",
        "#l_3 = [l1[2],l2[2],l3[2],l4[2]]\n",
        "#l_4 = [l1[3],l2[3],l3[3],l4[3]]\n",
        "\n",
        "\n",
        "l_1 = [x / 4 for x in l1]\n",
        "l_2 = [x / 4 for x in l2]\n",
        "l_3 = [x / 4 for x in l3]\n",
        "l_4 = [x / 4 for x in l4]\n",
        "\n",
        "X = [\"FedAvg\", \"FedMed\", \"FedProx\", \"qFedAvg\"]\n",
        "\n",
        "data = np.array([l_1,l_2,l_3,l_4])\n",
        "\n",
        "color_list = ['b','g','r', 'y']\n",
        "label_list = [\"M=0.01,n=0.1\", \"M=0.01,n=1\",\"M=0.1,n=0.1\",\"M=0.1,n=1\"]\n",
        "\n",
        "fig = plt.figure(figsize=(6,6))\n",
        "ax  = fig.add_subplot(111)\n",
        "\n",
        "for i in range(data.shape[0]):\n",
        "  ax.barh(X, data[i],\n",
        "    left = np.sum(data[:i], axis = 0),\n",
        "    color = color_list[i % len(color_list)],\n",
        "    label = label_list[i % len(label_list)])\n",
        "lgd = ax.legend(fontsize=16, loc='lower right')#bbox_to_anchor=(1.0, 1.0))\n",
        "\n",
        "\n",
        "ax.set_xlabel('Normalized Test Accuracies', fontsize=18)\n",
        "#ax.set_ylabel('Algorithms', fontsize=20)\n",
        "ax.set_ylabel('Algorithms', fontsize=18)\n",
        "ax.tick_params(labelsize=18)\n",
        "ax.set_xticks(np.arange(0, 51, 10))\n",
        "\n",
        "fig.savefig(\"../Robustness_CIFARNONIID.png\", format='png', bbox_extra_artists=(lgd,),\n",
        "            bbox_inches='tight')\n",
        "files.download(\"../Robustness_CIFARNONIID.png\")\n",
        "plt.show()"
      ],
      "execution_count": null,
      "outputs": [
        {
          "output_type": "display_data",
          "data": {
            "application/javascript": [
              "\n",
              "    async function download(id, filename, size) {\n",
              "      if (!google.colab.kernel.accessAllowed) {\n",
              "        return;\n",
              "      }\n",
              "      const div = document.createElement('div');\n",
              "      const label = document.createElement('label');\n",
              "      label.textContent = `Downloading \"${filename}\": `;\n",
              "      div.appendChild(label);\n",
              "      const progress = document.createElement('progress');\n",
              "      progress.max = size;\n",
              "      div.appendChild(progress);\n",
              "      document.body.appendChild(div);\n",
              "\n",
              "      const buffers = [];\n",
              "      let downloaded = 0;\n",
              "\n",
              "      const channel = await google.colab.kernel.comms.open(id);\n",
              "      // Send a message to notify the kernel that we're ready.\n",
              "      channel.send({})\n",
              "\n",
              "      for await (const message of channel.messages) {\n",
              "        // Send a message to notify the kernel that we're ready.\n",
              "        channel.send({})\n",
              "        if (message.buffers) {\n",
              "          for (const buffer of message.buffers) {\n",
              "            buffers.push(buffer);\n",
              "            downloaded += buffer.byteLength;\n",
              "            progress.value = downloaded;\n",
              "          }\n",
              "        }\n",
              "      }\n",
              "      const blob = new Blob(buffers, {type: 'application/binary'});\n",
              "      const a = document.createElement('a');\n",
              "      a.href = window.URL.createObjectURL(blob);\n",
              "      a.download = filename;\n",
              "      div.appendChild(a);\n",
              "      a.click();\n",
              "      div.remove();\n",
              "    }\n",
              "  "
            ],
            "text/plain": [
              "<IPython.core.display.Javascript object>"
            ]
          },
          "metadata": {
            "tags": []
          }
        },
        {
          "output_type": "display_data",
          "data": {
            "application/javascript": [
              "download(\"download_20869ced-1987-4c37-8c97-a8381bdd3682\", \"Robustness_CIFARNONIID.png\", 22195)"
            ],
            "text/plain": [
              "<IPython.core.display.Javascript object>"
            ]
          },
          "metadata": {
            "tags": []
          }
        },
        {
          "output_type": "display_data",
          "data": {
            "image/png": "[encoded data removed]",
            "text/plain": [
              "<Figure size 432x432 with 1 Axes>"
            ]
          },
          "metadata": {
            "tags": [],
            "needs_background": "light"
          }
        }
      ]
    },
    {
      "cell_type": "code",
      "metadata": {
        "colab": {
          "base_uri": "https://localhost:8080/",
          "height": 344
        },
        "id": "7SD8mlB4VWMn",
        "outputId": "c062cdae-e955-4903-e7ef-4e15bbe52d77"
      },
      "source": [
        "## CIFAR ROBUSTNESS M = 0.01\n",
        "\n",
        "l1 = [9.24,54.68,9.11,10]\n",
        "l2 = [9.87,24.94,9.11,10]\n",
        "l3 = [9.24,54.68,9.87,10]\n",
        "l4 = [9.87,16.08,9.11,10]\n",
        "\n",
        "#l_1 = [l1[0],l2[0],l3[0],l4[0]]\n",
        "#l_2 = [l1[1],l2[1],l3[1],l4[1]]\n",
        "#l_3 = [l1[2],l2[2],l3[2],l4[2]]\n",
        "#l_4 = [l1[3],l2[3],l3[3],l4[3]]\n",
        "\n",
        "\n",
        "l_1 = [x / 4 for x in l1]\n",
        "l_2 = [x / 4 for x in l2]\n",
        "l_3 = [x / 4 for x in l3]\n",
        "l_4 = [x / 4 for x in l4]\n",
        "\n",
        "X = [\"FedAvg\", \"FedMed\", \"FedProx\", \"qFedAvg\"]\n",
        "\n",
        "data = np.array([l_1,l_2,l_3,l_4])\n",
        "\n",
        "color_list = ['b','g','r', 'y']\n",
        "label_list = [\"IID, n=0.1\",\"Non-IID, n=0.1\",\"IID, n=1\", \"Non-IID, n=1\"]\n",
        "\n",
        "fig = plt.figure(figsize=(5,5))\n",
        "ax  = fig.add_subplot(111)\n",
        "\n",
        "for i in range(data.shape[0]):\n",
        "  ax.barh(X, data[i],\n",
        "    left = np.sum(data[:i], axis = 0),\n",
        "    color = color_list[i % len(color_list)],\n",
        "    label = label_list[i % len(label_list)])\n",
        "lgd = ax.legend(fontsize=15)#bbox_to_anchor=(1.0, 1.0))\n",
        "\n",
        "\n",
        "\n",
        "ax.set_xlabel('Normalized Test Accuracies', fontsize=15)\n",
        "#ax.set_ylabel('Algorithms', fontsize=15)\n",
        "ax.set_ylabel('Algorithms', fontsize=15)\n",
        "ax.tick_params(labelsize=15)\n",
        "ax.set_xticks(np.arange(0, 41, 10))\n",
        "\n",
        "fig.savefig(\"../Robustness_CIFARM0_1.png\", format='png', bbox_extra_artists=(lgd,),\n",
        "            bbox_inches='tight')\n",
        "files.download(\"../Robustness_CIFARM0_1.png\")\n",
        "plt.show()"
      ],
      "execution_count": null,
      "outputs": [
        {
          "output_type": "display_data",
          "data": {
            "application/javascript": [
              "\n",
              "    async function download(id, filename, size) {\n",
              "      if (!google.colab.kernel.accessAllowed) {\n",
              "        return;\n",
              "      }\n",
              "      const div = document.createElement('div');\n",
              "      const label = document.createElement('label');\n",
              "      label.textContent = `Downloading \"${filename}\": `;\n",
              "      div.appendChild(label);\n",
              "      const progress = document.createElement('progress');\n",
              "      progress.max = size;\n",
              "      div.appendChild(progress);\n",
              "      document.body.appendChild(div);\n",
              "\n",
              "      const buffers = [];\n",
              "      let downloaded = 0;\n",
              "\n",
              "      const channel = await google.colab.kernel.comms.open(id);\n",
              "      // Send a message to notify the kernel that we're ready.\n",
              "      channel.send({})\n",
              "\n",
              "      for await (const message of channel.messages) {\n",
              "        // Send a message to notify the kernel that we're ready.\n",
              "        channel.send({})\n",
              "        if (message.buffers) {\n",
              "          for (const buffer of message.buffers) {\n",
              "            buffers.push(buffer);\n",
              "            downloaded += buffer.byteLength;\n",
              "            progress.value = downloaded;\n",
              "          }\n",
              "        }\n",
              "      }\n",
              "      const blob = new Blob(buffers, {type: 'application/binary'});\n",
              "      const a = document.createElement('a');\n",
              "      a.href = window.URL.createObjectURL(blob);\n",
              "      a.download = filename;\n",
              "      div.appendChild(a);\n",
              "      a.click();\n",
              "      div.remove();\n",
              "    }\n",
              "  "
            ],
            "text/plain": [
              "<IPython.core.display.Javascript object>"
            ]
          },
          "metadata": {
            "tags": []
          }
        },
        {
          "output_type": "display_data",
          "data": {
            "application/javascript": [
              "download(\"download_1dd446a7-4642-4a43-b12c-4ad8903db2a5\", \"Robustness_CIFARM0_1.png\", 18557)"
            ],
            "text/plain": [
              "<IPython.core.display.Javascript object>"
            ]
          },
          "metadata": {
            "tags": []
          }
        },
        {
          "output_type": "display_data",
          "data": {
            "image/png": "[encoded data removed]",
            "text/plain": [
              "<Figure size 360x360 with 1 Axes>"
            ]
          },
          "metadata": {
            "tags": [],
            "needs_background": "light"
          }
        }
      ]
    },
    {
      "cell_type": "code",
      "metadata": {
        "id": "Vs3UkFKUVVj_"
      },
      "source": [
        ""
      ],
      "execution_count": null,
      "outputs": []
    },
    {
      "cell_type": "code",
      "metadata": {
        "id": "QemnRVVHb-ky"
      },
      "source": [
        ""
      ],
      "execution_count": null,
      "outputs": []
    },
    {
      "cell_type": "code",
      "metadata": {
        "colab": {
          "base_uri": "https://localhost:8080/",
          "height": 346
        },
        "id": "6oiBo-cDnObK",
        "outputId": "845ce764-7c3a-4e21-dae0-ca9e92ae46a1"
      },
      "source": [
        "## 90% STRAGGLERS CIFAR\n",
        "\n",
        "l1_1 = 79.87\n",
        "\n",
        "\t\t\t\n",
        "\n",
        "l2_1 = 57.47\n",
        "\n",
        "\n",
        "l3_1 = 78.35\n",
        "\n",
        "\n",
        "l4_1 = 74.17\n",
        "\n",
        "mlpiid = []\n",
        "mlpiid.append(l1_1)\n",
        "mlpiid.append(l2_1)\n",
        "mlpiid.append(l3_1)\n",
        "mlpiid.append(l4_1)\n",
        "\n",
        "\n",
        "l1_1 = 55.06\n",
        "\t\t\t\n",
        "\n",
        "l2_1 = 19.49\n",
        "\n",
        "\n",
        "l3_1 = 52.91\n",
        "\n",
        "\n",
        "l4_1 = 57.57\n",
        "\n",
        "mlpnoniid = []\n",
        "mlpnoniid.append(l1_1)\n",
        "mlpnoniid.append(l2_1)\n",
        "mlpnoniid.append(l3_1)\n",
        "mlpnoniid.append(l4_1)\n",
        "\n",
        "\n",
        "\n",
        "mlpiid = [x / 2 for x in mlpiid]\n",
        "mlpnoniid = [x / 2 for x in mlpnoniid]\n",
        "\n",
        "\n",
        "X = [\"FedAvg\", \"FedMed\", \"FedProx\", \"qFedAvg\"]\n",
        "'''\n",
        "plt.bar(X, mlpiid, color = 'b', label=\"MNIST MLP on IID\")\n",
        "plt.bar(X, mlpnoniid, color = 'r', bottom = mlpiid, label=\"MNIST MLP on Non IID\")\n",
        "plt.bar(X, cnniid, color = 'g', bottom = mlpiid + mlpnoniid, label=\"MNIST CNN on IID\")\n",
        "plt.legend(bbox_to_anchor=(1.0, 1.0))\n",
        "plt.show()\n",
        "'''\n",
        "data = np.array([mlpiid,mlpnoniid])\n",
        "\n",
        "color_list = ['m', 'k']\n",
        "label_list = [\"CIFAR CNN on IID\", \"CIFAR CNN on Non IID\"]\n",
        "\n",
        "fig = plt.figure(figsize=(5,5))\n",
        "ax  = fig.add_subplot(111)\n",
        "\n",
        "for i in range(data.shape[0]):\n",
        "  ax.bar(X, data[i],\n",
        "    bottom = np.sum(data[:i], axis = 0),\n",
        "    color = color_list[i % len(color_list)],\n",
        "    label = label_list[i % len(label_list)])\n",
        "#lgd = ax.legend(bbox_to_anchor=(0.5, 1.1), loc='center',fontsize=15)\n",
        "\n",
        "#ax.set(xlabel='Algorithms', ylabel='Normalized Test Accuracies',\n",
        "#       title=\"50% Stragglers\")\n",
        "\n",
        "\n",
        "ax.set_xlabel('Algorithms', fontsize=15)\n",
        "ax.set_ylabel('Normalized Test Accuracies', fontsize=15)\n",
        "ax.tick_params(labelsize=15)\n",
        "\n",
        "'''\n",
        "ax.title(\"90% Stragglers\")\n",
        "ax.xlabel('Algorithms')\n",
        "ax.ylabel('Normalized Test Accuracies')\n",
        "'''\n",
        "fig.savefig(\"../CIFAR_Stragglers_90.png\", format='png', bbox_inches='tight')\n",
        "files.download(\"../CIFAR_Stragglers_90.png\")\n",
        "plt.show()"
      ],
      "execution_count": null,
      "outputs": [
        {
          "output_type": "display_data",
          "data": {
            "application/javascript": [
              "\n",
              "    async function download(id, filename, size) {\n",
              "      if (!google.colab.kernel.accessAllowed) {\n",
              "        return;\n",
              "      }\n",
              "      const div = document.createElement('div');\n",
              "      const label = document.createElement('label');\n",
              "      label.textContent = `Downloading \"${filename}\": `;\n",
              "      div.appendChild(label);\n",
              "      const progress = document.createElement('progress');\n",
              "      progress.max = size;\n",
              "      div.appendChild(progress);\n",
              "      document.body.appendChild(div);\n",
              "\n",
              "      const buffers = [];\n",
              "      let downloaded = 0;\n",
              "\n",
              "      const channel = await google.colab.kernel.comms.open(id);\n",
              "      // Send a message to notify the kernel that we're ready.\n",
              "      channel.send({})\n",
              "\n",
              "      for await (const message of channel.messages) {\n",
              "        // Send a message to notify the kernel that we're ready.\n",
              "        channel.send({})\n",
              "        if (message.buffers) {\n",
              "          for (const buffer of message.buffers) {\n",
              "            buffers.push(buffer);\n",
              "            downloaded += buffer.byteLength;\n",
              "            progress.value = downloaded;\n",
              "          }\n",
              "        }\n",
              "      }\n",
              "      const blob = new Blob(buffers, {type: 'application/binary'});\n",
              "      const a = document.createElement('a');\n",
              "      a.href = window.URL.createObjectURL(blob);\n",
              "      a.download = filename;\n",
              "      div.appendChild(a);\n",
              "      a.click();\n",
              "      div.remove();\n",
              "    }\n",
              "  "
            ],
            "text/plain": [
              "<IPython.core.display.Javascript object>"
            ]
          },
          "metadata": {
            "tags": []
          }
        },
        {
          "output_type": "display_data",
          "data": {
            "application/javascript": [
              "download(\"download_f05cc1e1-5cb5-40ec-9d9e-3a65f56052b2\", \"CIFAR_Stragglers_90.png\", 15660)"
            ],
            "text/plain": [
              "<IPython.core.display.Javascript object>"
            ]
          },
          "metadata": {
            "tags": []
          }
        },
        {
          "output_type": "display_data",
          "data": {
            "image/png": "[encoded data removed]",
            "text/plain": [
              "<Figure size 360x360 with 1 Axes>"
            ]
          },
          "metadata": {
            "tags": [],
            "needs_background": "light"
          }
        }
      ]
    },
    {
      "cell_type": "code",
      "metadata": {
        "colab": {
          "base_uri": "https://localhost:8080/",
          "height": 396
        },
        "id": "5JIgNurWnOXR",
        "outputId": "be9fa677-244c-4d48-8bf1-0e5011eb20a7"
      },
      "source": [
        "## 50% STRAGGLERS CIFAR\n",
        "\n",
        "l1_1 = 83.67\n",
        "\n",
        "\t\t\t\n",
        "\n",
        "l2_1 = 57.47\n",
        "\n",
        "\n",
        "l3_1 = 81.39\n",
        "\n",
        "\n",
        "l4_1 = 71.49\n",
        "\n",
        "mlpiid = []\n",
        "mlpiid.append(l1_1)\n",
        "mlpiid.append(l2_1)\n",
        "mlpiid.append(l3_1)\n",
        "mlpiid.append(l4_1)\n",
        "\n",
        "\n",
        "l1_1 = 66.46\n",
        "\t\t\t\n",
        "\t\t\t\n",
        "l2_1 = 21.39\n",
        "\n",
        "\n",
        "l3_1 = 63.42\n",
        "\n",
        "\n",
        "l4_1 = 67.92\n",
        "\n",
        "mlpnoniid = []\n",
        "mlpnoniid.append(l1_1)\n",
        "mlpnoniid.append(l2_1)\n",
        "mlpnoniid.append(l3_1)\n",
        "mlpnoniid.append(l4_1)\n",
        "\n",
        "\n",
        "\n",
        "mlpiid = [x / 2 for x in mlpiid]\n",
        "mlpnoniid = [x / 2 for x in mlpnoniid]\n",
        "\n",
        "\n",
        "X = [\"FedAvg\", \"FedMed\", \"FedProx\", \"qFedAvg\"]\n",
        "'''\n",
        "plt.bar(X, mlpiid, color = 'b', label=\"MNIST MLP on IID\")\n",
        "plt.bar(X, mlpnoniid, color = 'r', bottom = mlpiid, label=\"MNIST MLP on Non IID\")\n",
        "plt.bar(X, cnniid, color = 'g', bottom = mlpiid + mlpnoniid, label=\"MNIST CNN on IID\")\n",
        "plt.legend(bbox_to_anchor=(1.0, 1.0))\n",
        "plt.show()\n",
        "'''\n",
        "data = np.array([mlpiid,mlpnoniid])\n",
        "\n",
        "color_list = ['m', 'k']\n",
        "label_list = [\"CIFAR CNN on IID\", \"CIFAR CNN on Non IID\"]\n",
        "\n",
        "fig = plt.figure(figsize=(5,5))\n",
        "ax  = fig.add_subplot(111)\n",
        "\n",
        "for i in range(data.shape[0]):\n",
        "  ax.bar(X, data[i],\n",
        "    bottom = np.sum(data[:i], axis = 0),\n",
        "    color = color_list[i % len(color_list)],\n",
        "    label = label_list[i % len(label_list)])\n",
        "lgd = ax.legend(bbox_to_anchor=(0.5, 1.1), loc='center',fontsize=15)\n",
        "\n",
        "#ax.set(xlabel='Algorithms', ylabel='Normalized Test Accuracies',\n",
        "#       title=\"50% Stragglers\")\n",
        "\n",
        "\n",
        "ax.set_xlabel('Algorithms', fontsize=15)\n",
        "ax.set_ylabel('Normalized Test Accuracies', fontsize=15)\n",
        "ax.tick_params(labelsize=15)\n",
        "\n",
        "'''\n",
        "ax.title(\"90% Stragglers\")\n",
        "ax.xlabel('Algorithms')\n",
        "ax.ylabel('Normalized Test Accuracies')\n",
        "'''\n",
        "fig.savefig(\"../CIFAR_Stragglers_50.png\", format='png', bbox_inches='tight',bbox_extra_artists=(lgd,),)\n",
        "files.download(\"../CIFAR_Stragglers_50.png\")\n",
        "plt.show()"
      ],
      "execution_count": null,
      "outputs": [
        {
          "output_type": "display_data",
          "data": {
            "application/javascript": [
              "\n",
              "    async function download(id, filename, size) {\n",
              "      if (!google.colab.kernel.accessAllowed) {\n",
              "        return;\n",
              "      }\n",
              "      const div = document.createElement('div');\n",
              "      const label = document.createElement('label');\n",
              "      label.textContent = `Downloading \"${filename}\": `;\n",
              "      div.appendChild(label);\n",
              "      const progress = document.createElement('progress');\n",
              "      progress.max = size;\n",
              "      div.appendChild(progress);\n",
              "      document.body.appendChild(div);\n",
              "\n",
              "      const buffers = [];\n",
              "      let downloaded = 0;\n",
              "\n",
              "      const channel = await google.colab.kernel.comms.open(id);\n",
              "      // Send a message to notify the kernel that we're ready.\n",
              "      channel.send({})\n",
              "\n",
              "      for await (const message of channel.messages) {\n",
              "        // Send a message to notify the kernel that we're ready.\n",
              "        channel.send({})\n",
              "        if (message.buffers) {\n",
              "          for (const buffer of message.buffers) {\n",
              "            buffers.push(buffer);\n",
              "            downloaded += buffer.byteLength;\n",
              "            progress.value = downloaded;\n",
              "          }\n",
              "        }\n",
              "      }\n",
              "      const blob = new Blob(buffers, {type: 'application/binary'});\n",
              "      const a = document.createElement('a');\n",
              "      a.href = window.URL.createObjectURL(blob);\n",
              "      a.download = filename;\n",
              "      div.appendChild(a);\n",
              "      a.click();\n",
              "      div.remove();\n",
              "    }\n",
              "  "
            ],
            "text/plain": [
              "<IPython.core.display.Javascript object>"
            ]
          },
          "metadata": {
            "tags": []
          }
        },
        {
          "output_type": "display_data",
          "data": {
            "application/javascript": [
              "download(\"download_a2de6de6-9fe0-400a-b70a-3ac74e7d356d\", \"CIFAR_Stragglers_50.png\", 19055)"
            ],
            "text/plain": [
              "<IPython.core.display.Javascript object>"
            ]
          },
          "metadata": {
            "tags": []
          }
        },
        {
          "output_type": "display_data",
          "data": {
            "image/png": "[encoded data removed]",
            "text/plain": [
              "<Figure size 360x360 with 1 Axes>"
            ]
          },
          "metadata": {
            "tags": [],
            "needs_background": "light"
          }
        }
      ]
    },
    {
      "cell_type": "code",
      "metadata": {
        "colab": {
          "base_uri": "https://localhost:8080/",
          "height": 344
        },
        "id": "DqctUKlLZxnY",
        "outputId": "9a6aafd3-4ba1-482c-9272-0095bad7e8f3"
      },
      "source": [
        "## 50% STRAGGLERS CIFAR\n",
        "\n",
        "l1_1 = 83.17\n",
        "\n",
        "\t\t\t\n",
        "\n",
        "l2_1 = 66.582\n",
        "\n",
        "\n",
        "l3_1 = 82.15\n",
        "\n",
        "\n",
        "l4_1 = 71.47\t\t\t\n",
        "\n",
        "mlpiid = []\n",
        "mlpiid.append(l1_1)\n",
        "mlpiid.append(l2_1)\n",
        "mlpiid.append(l3_1)\n",
        "mlpiid.append(l4_1)\n",
        "\n",
        "\n",
        "l1_1 = 65.19\n",
        "\t\t\t\n",
        "\t\t\t\n",
        "\n",
        "l2_1 = 17.85\n",
        "\n",
        "\n",
        "l3_1 = 63.92\n",
        "\n",
        "\n",
        "l4_1 = 66.76\n",
        "\n",
        "mlpnoniid = []\n",
        "mlpnoniid.append(l1_1)\n",
        "mlpnoniid.append(l2_1)\n",
        "mlpnoniid.append(l3_1)\n",
        "mlpnoniid.append(l4_1)\n",
        "\n",
        "\n",
        "\n",
        "mlpiid = [x / 2 for x in mlpiid]\n",
        "mlpnoniid = [x / 2 for x in mlpnoniid]\n",
        "\n",
        "\n",
        "X = [\"FedAvg\", \"FedMed\", \"FedProx\", \"qFedAvg\"]\n",
        "'''\n",
        "plt.bar(X, mlpiid, color = 'b', label=\"MNIST MLP on IID\")\n",
        "plt.bar(X, mlpnoniid, color = 'r', bottom = mlpiid, label=\"MNIST MLP on Non IID\")\n",
        "plt.bar(X, cnniid, color = 'g', bottom = mlpiid + mlpnoniid, label=\"MNIST CNN on IID\")\n",
        "plt.legend(bbox_to_anchor=(1.0, 1.0))\n",
        "plt.show()\n",
        "'''\n",
        "data = np.array([mlpiid,mlpnoniid])\n",
        "\n",
        "color_list = ['m', 'k']\n",
        "label_list = [\"CIFAR CNN on IID\", \"CIFAR CNN on Non IID\"]\n",
        "\n",
        "fig = plt.figure(figsize=(5,5))\n",
        "ax  = fig.add_subplot(111)\n",
        "\n",
        "for i in range(data.shape[0]):\n",
        "  ax.bar(X, data[i],\n",
        "    bottom = np.sum(data[:i], axis = 0),\n",
        "    color = color_list[i % len(color_list)],\n",
        "    label = label_list[i % len(label_list)])\n",
        "#lgd = ax.legend(bbox_to_anchor=(0.5, 1.1), loc='center',fontsize=15)\n",
        "\n",
        "#ax.set(xlabel='Algorithms', ylabel='Normalized Test Accuracies',\n",
        "#       title=\"50% Stragglers\")\n",
        "\n",
        "\n",
        "ax.set_xlabel('Algorithms', fontsize=15)\n",
        "ax.set_ylabel('Normalized Test Accuracies', fontsize=15)\n",
        "ax.tick_params(labelsize=15)\n",
        "\n",
        "'''\n",
        "ax.title(\"90% Stragglers\")\n",
        "ax.xlabel('Algorithms')\n",
        "ax.ylabel('Normalized Test Accuracies')\n",
        "'''\n",
        "fig.savefig(\"../CIFAR_Stragglers_10.png\", format='png', bbox_inches='tight')\n",
        "files.download(\"../CIFAR_Stragglers_10.png\")\n",
        "plt.show()"
      ],
      "execution_count": null,
      "outputs": [
        {
          "output_type": "display_data",
          "data": {
            "application/javascript": [
              "\n",
              "    async function download(id, filename, size) {\n",
              "      if (!google.colab.kernel.accessAllowed) {\n",
              "        return;\n",
              "      }\n",
              "      const div = document.createElement('div');\n",
              "      const label = document.createElement('label');\n",
              "      label.textContent = `Downloading \"${filename}\": `;\n",
              "      div.appendChild(label);\n",
              "      const progress = document.createElement('progress');\n",
              "      progress.max = size;\n",
              "      div.appendChild(progress);\n",
              "      document.body.appendChild(div);\n",
              "\n",
              "      const buffers = [];\n",
              "      let downloaded = 0;\n",
              "\n",
              "      const channel = await google.colab.kernel.comms.open(id);\n",
              "      // Send a message to notify the kernel that we're ready.\n",
              "      channel.send({})\n",
              "\n",
              "      for await (const message of channel.messages) {\n",
              "        // Send a message to notify the kernel that we're ready.\n",
              "        channel.send({})\n",
              "        if (message.buffers) {\n",
              "          for (const buffer of message.buffers) {\n",
              "            buffers.push(buffer);\n",
              "            downloaded += buffer.byteLength;\n",
              "            progress.value = downloaded;\n",
              "          }\n",
              "        }\n",
              "      }\n",
              "      const blob = new Blob(buffers, {type: 'application/binary'});\n",
              "      const a = document.createElement('a');\n",
              "      a.href = window.URL.createObjectURL(blob);\n",
              "      a.download = filename;\n",
              "      div.appendChild(a);\n",
              "      a.click();\n",
              "      div.remove();\n",
              "    }\n",
              "  "
            ],
            "text/plain": [
              "<IPython.core.display.Javascript object>"
            ]
          },
          "metadata": {
            "tags": []
          }
        },
        {
          "output_type": "display_data",
          "data": {
            "application/javascript": [
              "download(\"download_c433464b-5466-4c34-982b-8a174695be9d\", \"CIFAR_Stragglers_10.png\", 15693)"
            ],
            "text/plain": [
              "<IPython.core.display.Javascript object>"
            ]
          },
          "metadata": {
            "tags": []
          }
        },
        {
          "output_type": "display_data",
          "data": {
            "image/png": "[encoded data removed]",
            "text/plain": [
              "<Figure size 360x360 with 1 Axes>"
            ]
          },
          "metadata": {
            "tags": [],
            "needs_background": "light"
          }
        }
      ]
    },
    {
      "cell_type": "code",
      "metadata": {
        "id": "Upe-gg1wahl4"
      },
      "source": [
        ""
      ],
      "execution_count": null,
      "outputs": []
    },
    {
      "cell_type": "code",
      "metadata": {
        "id": "gAAlxcUjbGnF"
      },
      "source": [
        ""
      ],
      "execution_count": null,
      "outputs": []
    },
    {
      "cell_type": "code",
      "metadata": {
        "id": "EeqCSU_ibGjf"
      },
      "source": [
        "import numpy as np\n",
        "\n",
        "import matplotlib.pyplot as plt\n",
        "from matplotlib.patches import Circle, RegularPolygon\n",
        "from matplotlib.path import Path\n",
        "from matplotlib.projections.polar import PolarAxes\n",
        "from matplotlib.projections import register_projection\n",
        "from matplotlib.spines import Spine\n",
        "from matplotlib.transforms import Affine2D\n",
        "\n",
        "\n",
        "def radar_factory(num_vars, frame='circle'):\n",
        "    \"\"\"\n",
        "    Create a radar chart with `num_vars` axes.\n",
        "\n",
        "    This function creates a RadarAxes projection and registers it.\n",
        "\n",
        "    Parameters\n",
        "    ----------\n",
        "    num_vars : int\n",
        "        Number of variables for radar chart.\n",
        "    frame : {'circle', 'polygon'}\n",
        "        Shape of frame surrounding axes.\n",
        "\n",
        "    \"\"\"\n",
        "    # calculate evenly-spaced axis angles\n",
        "    theta = np.linspace(0, 2*np.pi, num_vars, endpoint=False)\n",
        "\n",
        "    class RadarAxes(PolarAxes):\n",
        "\n",
        "        name = 'radar'\n",
        "        # use 1 line segment to connect specified points\n",
        "        RESOLUTION = 1\n",
        "\n",
        "        def __init__(self, *args, **kwargs):\n",
        "            super().__init__(*args, **kwargs)\n",
        "            # rotate plot such that the first axis is at the top\n",
        "            self.set_theta_zero_location('N')\n",
        "\n",
        "        def fill(self, *args, closed=True, **kwargs):\n",
        "            \"\"\"Override fill so that line is closed by default\"\"\"\n",
        "            return super().fill(closed=closed, *args, **kwargs)\n",
        "\n",
        "        def plot(self, *args, **kwargs):\n",
        "            \"\"\"Override plot so that line is closed by default\"\"\"\n",
        "            lines = super().plot(*args, **kwargs)\n",
        "            for line in lines:\n",
        "                self._close_line(line)\n",
        "\n",
        "        def _close_line(self, line):\n",
        "            x, y = line.get_data()\n",
        "            # FIXME: markers at x[0], y[0] get doubled-up\n",
        "            if x[0] != x[-1]:\n",
        "                x = np.append(x, x[0])\n",
        "                y = np.append(y, y[0])\n",
        "                line.set_data(x, y)\n",
        "\n",
        "        def set_varlabels(self, labels):\n",
        "            self.set_thetagrids(np.degrees(theta), labels)\n",
        "\n",
        "        def _gen_axes_patch(self):\n",
        "            # The Axes patch must be centered at (0.5, 0.5) and of radius 0.5\n",
        "            # in axes coordinates.\n",
        "            if frame == 'circle':\n",
        "                return Circle((0.5, 0.5), 0.5)\n",
        "            elif frame == 'polygon':\n",
        "                return RegularPolygon((0.5, 0.5), num_vars,\n",
        "                                      radius=.5, edgecolor=\"k\")\n",
        "            else:\n",
        "                raise ValueError(\"Unknown value for 'frame': %s\" % frame)\n",
        "\n",
        "        def _gen_axes_spines(self):\n",
        "            if frame == 'circle':\n",
        "                return super()._gen_axes_spines()\n",
        "            elif frame == 'polygon':\n",
        "                # spine_type must be 'left'/'right'/'top'/'bottom'/'circle'.\n",
        "                spine = Spine(axes=self,\n",
        "                              spine_type='circle',\n",
        "                              path=Path.unit_regular_polygon(num_vars))\n",
        "                # unit_regular_polygon gives a polygon of radius 1 centered at\n",
        "                # (0, 0) but we want a polygon of radius 0.5 centered at (0.5,\n",
        "                # 0.5) in axes coordinates.\n",
        "                spine.set_transform(Affine2D().scale(.5).translate(.5, .5)\n",
        "                                    + self.transAxes)\n",
        "                return {'polar': spine}\n",
        "            else:\n",
        "                raise ValueError(\"Unknown value for 'frame': %s\" % frame)\n",
        "\n",
        "    register_projection(RadarAxes)\n",
        "    return theta\n",
        "\n",
        "\n",
        "def example_data():\n",
        "    # The following data is from the Denver Aerosol Sources and Health study.\n",
        "    # See doi:10.1016/j.atmosenv.2008.12.017\n",
        "    #\n",
        "    # The data are pollution source profile estimates for five modeled\n",
        "    # pollution sources (e.g., cars, wood-burning, etc) that emit 7-9 chemical\n",
        "    # species. The radar charts are experimented with here to see if we can\n",
        "    # nicely visualize how the modeled source profiles change across four\n",
        "    # scenarios:\n",
        "    #  1) No gas-phase species present, just seven particulate counts on\n",
        "    #     Sulfate\n",
        "    #     Nitrate\n",
        "    #     Elemental Carbon (EC)\n",
        "    #     Organic Carbon fraction 1 (OC)\n",
        "    #     Organic Carbon fraction 2 (OC2)\n",
        "    #     Organic Carbon fraction 3 (OC3)\n",
        "    #     Pyrolized Organic Carbon (OP)\n",
        "    #  2)Inclusion of gas-phase specie carbon monoxide (CO)\n",
        "    #  3)Inclusion of gas-phase specie ozone (O3).\n",
        "    #  4)Inclusion of both gas-phase species is present...\n",
        "    data = [\n",
        "        ['Fairness', 'Number of clients', 'Stragglers', 'Skewness', 'Robustness', 'Local rounds'],\n",
        "        ('FedAvg', [\n",
        "            [0.88, 0.01, 0.03, 0.03, 0.00, 0.06, 0.01, 0.00, 0.00],\n",
        "            [0.07, 0.95, 0.04, 0.05, 0.00, 0.02, 0.01, 0.00, 0.00],\n",
        "            [0.01, 0.02, 0.85, 0.19, 0.05, 0.10, 0.00, 0.00, 0.00],\n",
        "            [0.02, 0.01, 0.07, 0.01, 0.21, 0.12, 0.98, 0.00, 0.00],\n",
        "            [],\n",
        "            [0.8]]),\n",
        "        ('FedMed', [\n",
        "            [0.88, 0.02, 0.02, 0.02, 0.00, 0.05, 0.00, 0.05, 0.00],\n",
        "            [0.08, 0.94, 0.04, 0.02, 0.00, 0.01, 0.12, 0.04, 0.00],\n",
        "            [0.01, 0.01, 0.79, 0.10, 0.00, 0.05, 0.00, 0.31, 0.00],\n",
        "            [0.00, 0.02, 0.03, 0.38, 0.31, 0.31, 0.00, 0.59, 0.00],\n",
        "            [0.02, 0.02, 0.11, 0.47, 0.69, 0.58, 0.88, 0.00, 0.00]]),\n",
        "        ('FedProx', [\n",
        "            [0.89, 0.01, 0.07, 0.00, 0.00, 0.05, 0.00, 0.00, 0.03],\n",
        "            [0.07, 0.95, 0.05, 0.04, 0.00, 0.02, 0.12, 0.00, 0.00],\n",
        "            [0.01, 0.02, 0.86, 0.27, 0.16, 0.19, 0.00, 0.00, 0.00],\n",
        "            [0.01, 0.03, 0.00, 0.32, 0.29, 0.27, 0.00, 0.00, 0.95],\n",
        "            [0.02, 0.00, 0.03, 0.37, 0.56, 0.47, 0.87, 0.00, 0.00]]),\n",
        "        ('qFedAvg', [\n",
        "            [1],\n",
        "            [0.5],\n",
        "            [0.5],\n",
        "            [0.5],\n",
        "            [0.5]])\n",
        "    ]\n",
        "    return data\n",
        "\n",
        "\n",
        "if __name__ == '__main__':\n",
        "    N = 9\n",
        "    theta = radar_factory(N, frame='polygon')\n",
        "\n",
        "    data = example_data()\n",
        "    spoke_labels = data.pop(0)\n",
        "\n",
        "    fig, axs = plt.subplots(figsize=(9, 9), nrows=2, ncols=2,\n",
        "                            subplot_kw=dict(projection='radar'))\n",
        "    fig.subplots_adjust(wspace=0.25, hspace=0.20, top=0.85, bottom=0.05)\n",
        "\n",
        "    colors = ['b', 'r', 'g', 'm', 'y']\n",
        "    # Plot the four cases from the example data on separate axes\n",
        "    for ax, (title, case_data) in zip(axs.flat, data):\n",
        "        ax.set_rgrids([0.2, 0.4, 0.6, 0.8])\n",
        "        ax.set_title(title, weight='bold', size='medium', position=(0.5, 1.1),\n",
        "                     horizontalalignment='center', verticalalignment='center')\n",
        "        for d, color in zip(case_data, colors):\n",
        "            ax.plot(theta, d, color=color)\n",
        "            ax.fill(theta, d, facecolor=color, alpha=0.25)\n",
        "        ax.set_varlabels(spoke_labels)\n",
        "\n",
        "    # add legend relative to top-left plot\n",
        "    labels = ('Factor 1', 'Factor 2', 'Factor 3', 'Factor 4', 'Factor 5')\n",
        "    legend = axs[0, 0].legend(labels, loc=(0.9, .95),\n",
        "                              labelspacing=0.1, fontsize='small')\n",
        "\n",
        "    fig.text(0.5, 0.965, '5-Factor Solution Profiles Across Four Scenarios',\n",
        "             horizontalalignment='center', color='black', weight='bold',\n",
        "             size='large')\n",
        "\n",
        "    plt.show()"
      ],
      "execution_count": null,
      "outputs": []
    }
  ]
}